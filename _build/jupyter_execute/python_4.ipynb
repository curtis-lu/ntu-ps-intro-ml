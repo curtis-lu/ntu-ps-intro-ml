{
 "cells": [
  {
   "cell_type": "markdown",
   "id": "610d4778",
   "metadata": {},
   "source": [
    "# 4.流程控制\n",
    "\n",
    "之前的內容主要在介紹python的資料型態和相關操作，接下來介紹的內容是讓程式動起來的基礎：邏輯判斷以及流程控制。\n",
    "\n",
    "## if, elif, else\n",
    "\n",
    "### 基本結構\n",
    "\n",
    "if 陳述式的最簡單結構如下方。\n",
    "\n",
    "當if陳述句的條件判斷為True的話就會做if區塊指定的事情，\n",
    "\n",
    "如果不為True，就接著判斷elif敘述，\n",
    "\n",
    "如果都不為True就會跑到else敘述，做else區塊的事情。\n",
    "\n",
    "if, elif, else句子的最後方都需要冒號。\n",
    "\n",
    "冒號下面的區塊必須縮排(indentation)，且必須有相同的格數。通常是用4個空格，而非tab鍵。\n",
    "\n",
    "Python利用縮排來判斷程式結構，所以不能弄亂縮排的格數。"
   ]
  },
  {
   "cell_type": "code",
   "execution_count": 1,
   "id": "e25bd3fd",
   "metadata": {},
   "outputs": [
    {
     "name": "stdout",
     "output_type": "stream",
     "text": [
      "do task 1\n"
     ]
    }
   ],
   "source": [
    "score = 88\n",
    "\n",
    "if score >= 85:\n",
    "    print('do task 1')\n",
    "elif score >= 70:\n",
    "    print('do task 2')\n",
    "else:\n",
    "    print('do task 3')"
   ]
  },
  {
   "cell_type": "markdown",
   "id": "fa5cb088",
   "metadata": {},
   "source": [
    "**elif 敘述可以有多個**"
   ]
  },
  {
   "cell_type": "code",
   "execution_count": 2,
   "id": "1705f2a6",
   "metadata": {},
   "outputs": [
    {
     "name": "stdout",
     "output_type": "stream",
     "text": [
      "do task 2\n"
     ]
    }
   ],
   "source": [
    "score = 88\n",
    "\n",
    "if score >= 90:\n",
    "    print('do task 1')\n",
    "elif score >= 80:\n",
    "    print('do task 2')\n",
    "elif score >= 70:\n",
    "    print('do task 3')\n",
    "else:\n",
    "    print('do task 4')"
   ]
  },
  {
   "cell_type": "markdown",
   "id": "0d42ee4a",
   "metadata": {},
   "source": [
    "**elif & else 都是非必要的**"
   ]
  },
  {
   "cell_type": "code",
   "execution_count": 3,
   "id": "fe32d83d",
   "metadata": {},
   "outputs": [
    {
     "name": "stdout",
     "output_type": "stream",
     "text": [
      "do something\n"
     ]
    }
   ],
   "source": [
    "score = 88\n",
    "\n",
    "if score >= 70:\n",
    "    print('do something')"
   ]
  },
  {
   "cell_type": "markdown",
   "id": "8d8467f5",
   "metadata": {},
   "source": [
    "### 條件判斷的形式\n",
    "\n",
    "陳述句中的條件判斷可以放很多種形式，不只```>=```, ```==```等比較運算子。\n",
    "\n",
    "基本上只要能產生布林值的都可以：\n",
    "\n",
    "**布林值本身：**\n",
    "\n",
    "```True```\n",
    "\n",
    "**比較運算子：**\n",
    "\n",
    "```==```, ```!=```, ```<```, ```<=```, ```>```, ```>=```\n",
    "\n",
    "**邏輯運算子**\n",
    "\n",
    "```and```, ```or```, ```not```\n",
    "\n",
    "**成員運算子**\n",
    "\n",
    "```in``` ,  ```not in``` \n",
    "\n",
    "使用方式如下："
   ]
  },
  {
   "cell_type": "code",
   "execution_count": 4,
   "id": "8688efc2",
   "metadata": {},
   "outputs": [
    {
     "name": "stdout",
     "output_type": "stream",
     "text": [
      "There is no o\n",
      "There is no f\n"
     ]
    }
   ],
   "source": [
    "sentence = 'I am a sentence'\n",
    "\n",
    "if 'o' in sentence:\n",
    "    print('There is an o')\n",
    "else:\n",
    "    print('There is no o')\n",
    "\n",
    "a_list = [1, 2, 3, 5, 6]\n",
    "\n",
    "if 4 in a_list:\n",
    "    print('There is a 4')\n",
    "\n",
    "a_set = ['a', 'b', 'c', 'd', 'e']\n",
    "\n",
    "if 'f' not in a_set:\n",
    "    print('There is no f')\n"
   ]
  },
  {
   "cell_type": "markdown",
   "id": "1ff8d10b",
   "metadata": {},
   "source": [
    "**以下東西都會被視為False：**\n",
    "\n",
    "布林值 False\n",
    "\n",
    "空值 None\n",
    "\n",
    "整數 0\n",
    "\n",
    "浮點數 0.0\n",
    "\n",
    "空字串 ‘’\n",
    "\n",
    "空list []\n",
    "\n",
    "空tuple ()\n",
    "\n",
    "空dict {}\n",
    "\n",
    "空set set()"
   ]
  },
  {
   "cell_type": "code",
   "execution_count": 5,
   "id": "e7daf107",
   "metadata": {},
   "outputs": [
    {
     "name": "stdout",
     "output_type": "stream",
     "text": [
      "the list is empty\n"
     ]
    }
   ],
   "source": [
    "a_list = []\n",
    "\n",
    "if a_list:\n",
    "    print('do something')\n",
    "else:\n",
    "    print('the list is empty')"
   ]
  },
  {
   "cell_type": "markdown",
   "id": "ad0c30b7",
   "metadata": {},
   "source": [
    "### ****Conditional**** expression\n",
    "\n",
    "通常用在變數賦值，而非流程控制。語法結構如下："
   ]
  },
  {
   "cell_type": "code",
   "execution_count": 6,
   "id": "21bf6534",
   "metadata": {},
   "outputs": [
    {
     "ename": "TypeError",
     "evalue": "'>=' not supported between instances of 'str' and 'int'",
     "output_type": "error",
     "traceback": [
      "\u001b[0;31m---------------------------------------------------------------------------\u001b[0m",
      "\u001b[0;31mTypeError\u001b[0m                                 Traceback (most recent call last)",
      "Cell \u001b[0;32mIn[6], line 3\u001b[0m\n\u001b[1;32m      1\u001b[0m age \u001b[38;5;241m=\u001b[39m \u001b[38;5;124m'\u001b[39m\u001b[38;5;124m18\u001b[39m\u001b[38;5;124m'\u001b[39m\n\u001b[0;32m----> 3\u001b[0m is_can_vote \u001b[38;5;241m=\u001b[39m \u001b[38;5;28;01mTrue\u001b[39;00m \u001b[38;5;28;01mif\u001b[39;00m \u001b[43mage\u001b[49m\u001b[38;5;241;43m>\u001b[39;49m\u001b[38;5;241;43m=\u001b[39;49m\u001b[38;5;241;43m18\u001b[39;49m \u001b[38;5;28;01melse\u001b[39;00m \u001b[38;5;28;01mFalse\u001b[39;00m\n\u001b[1;32m      4\u001b[0m \u001b[38;5;28mprint\u001b[39m(is_can_vote)\n",
      "\u001b[0;31mTypeError\u001b[0m: '>=' not supported between instances of 'str' and 'int'"
     ]
    }
   ],
   "source": [
    "age = '18'\n",
    "\n",
    "is_can_vote = True if age>=18 else False\n",
    "print(is_can_vote)"
   ]
  },
  {
   "cell_type": "markdown",
   "id": "d17ce9d3",
   "metadata": {},
   "source": [
    "## for loop\n",
    "\n",
    "在python中，很多東西都可以拿來迭代：\n",
    "\n",
    "list, tuple, set, dict, range, enumerate, zip等等這些東西統稱為**可迭代物(iterable)**。\n",
    "\n",
    "### 以list做迭代\n",
    "\n",
    "以list做迭代的用法範例如下："
   ]
  },
  {
   "cell_type": "code",
   "execution_count": 7,
   "id": "2bf1f0c6",
   "metadata": {},
   "outputs": [
    {
     "name": "stdout",
     "output_type": "stream",
     "text": [
      "1\n",
      "2\n",
      "3\n",
      "4\n",
      "5\n"
     ]
    }
   ],
   "source": [
    "a_list = [1, 2, 3, 4, 5]\n",
    "\n",
    "for i in a_list:\n",
    "    print(i)"
   ]
  },
  {
   "cell_type": "markdown",
   "id": "b665ebcd",
   "metadata": {},
   "source": [
    "上面的i可以取任何名稱，通常會取一個好辨認的名稱，增加程式的可讀性。例如："
   ]
  },
  {
   "cell_type": "code",
   "execution_count": 8,
   "id": "26805688",
   "metadata": {},
   "outputs": [
    {
     "name": "stdout",
     "output_type": "stream",
     "text": [
      "Sun\n",
      "Mon\n",
      "Tue\n",
      "Wed\n",
      "Thu\n",
      "Fri\n",
      "Sat\n"
     ]
    }
   ],
   "source": [
    "weekdays = ['Sun', 'Mon', 'Tue', 'Wed', 'Thu', 'Fri', 'Sat']\n",
    "\n",
    "for weekday in weekdays:\n",
    "    print(weekday)"
   ]
  },
  {
   "cell_type": "markdown",
   "id": "00967c2d",
   "metadata": {},
   "source": [
    " tuple, set跟list做迭代的方式很像，就不贅述了。\n",
    "\n",
    "特別值得一提的是，依資料結構的不同特性，會適合不同的使用情境。\n",
    "\n",
    "list有順序，但可變。\n",
    "\n",
    "tuple有順序，但不可變。\n",
    "\n",
    "set無順序，且元素不重複。\n",
    "\n",
    "### 以dict做迭代\n",
    "\n",
    "dict的迭代方法如下：\n",
    "\n",
    "**根據key迭代**"
   ]
  },
  {
   "cell_type": "code",
   "execution_count": 9,
   "id": "39c75c85",
   "metadata": {},
   "outputs": [
    {
     "name": "stdout",
     "output_type": "stream",
     "text": [
      "a\n",
      "b\n",
      "c\n"
     ]
    }
   ],
   "source": [
    "a_dict = {'a':1, 'b':2, 'c':3}\n",
    "\n",
    "for k in a_dict.keys():\n",
    "   print(k)"
   ]
  },
  {
   "cell_type": "markdown",
   "id": "d0714a10",
   "metadata": {},
   "source": [
    "**根據value迭代**"
   ]
  },
  {
   "cell_type": "code",
   "execution_count": 10,
   "id": "05a67a51",
   "metadata": {},
   "outputs": [
    {
     "name": "stdout",
     "output_type": "stream",
     "text": [
      "1\n",
      "2\n",
      "3\n"
     ]
    }
   ],
   "source": [
    "a_dict = {'a':1, 'b':2, 'c':3}\n",
    "\n",
    "for v in a_dict.values():\n",
    "   print(v)"
   ]
  },
  {
   "cell_type": "markdown",
   "id": "95a01a48",
   "metadata": {},
   "source": [
    "**key & value 同時**"
   ]
  },
  {
   "cell_type": "code",
   "execution_count": 11,
   "id": "119529d3",
   "metadata": {},
   "outputs": [
    {
     "name": "stdout",
     "output_type": "stream",
     "text": [
      "a 1\n",
      "b 2\n",
      "c 3\n"
     ]
    }
   ],
   "source": [
    "a_dict = {'a':1, 'b':2, 'c':3}\n",
    "\n",
    "for k, v in a_dict.items():\n",
    "   print(k, v)"
   ]
  },
  {
   "cell_type": "markdown",
   "id": "0a7130d6",
   "metadata": {},
   "source": [
    "### 以enumerate做迭代\n",
    "\n",
    "enumerate做迭代的方式其實跟list, set, tuple差不多，但使用enumerate可以多輸出index，有時候會比較方便。\n",
    "\n",
    "enumerate裡面可以放任何iterable進去。"
   ]
  },
  {
   "cell_type": "code",
   "execution_count": 12,
   "id": "d4b46ae5",
   "metadata": {},
   "outputs": [
    {
     "name": "stdout",
     "output_type": "stream",
     "text": [
      "0 c\n",
      "1 b\n",
      "2 a\n"
     ]
    },
    {
     "ename": "ValueError",
     "evalue": "not enough values to unpack (expected 2, got 1)",
     "output_type": "error",
     "traceback": [
      "\u001b[0;31m---------------------------------------------------------------------------\u001b[0m",
      "\u001b[0;31mValueError\u001b[0m                                Traceback (most recent call last)",
      "Cell \u001b[0;32mIn[12], line 8\u001b[0m\n\u001b[1;32m      4\u001b[0m     \u001b[38;5;28mprint\u001b[39m(idx, e)\n\u001b[1;32m      6\u001b[0m a_dict \u001b[38;5;241m=\u001b[39m {\u001b[38;5;124m'\u001b[39m\u001b[38;5;124ma\u001b[39m\u001b[38;5;124m'\u001b[39m:\u001b[38;5;241m1\u001b[39m, \u001b[38;5;124m'\u001b[39m\u001b[38;5;124mb\u001b[39m\u001b[38;5;124m'\u001b[39m:\u001b[38;5;241m2\u001b[39m, \u001b[38;5;124m'\u001b[39m\u001b[38;5;124mc\u001b[39m\u001b[38;5;124m'\u001b[39m:\u001b[38;5;241m3\u001b[39m}\n\u001b[0;32m----> 8\u001b[0m \u001b[38;5;28;01mfor\u001b[39;00m idx, (k, v) \u001b[38;5;129;01min\u001b[39;00m \u001b[38;5;28menumerate\u001b[39m(a_set):\n\u001b[1;32m      9\u001b[0m     \u001b[38;5;28mprint\u001b[39m(idx, k, v)\n",
      "\u001b[0;31mValueError\u001b[0m: not enough values to unpack (expected 2, got 1)"
     ]
    }
   ],
   "source": [
    "a_set = set(['a', 'b', 'c'])\n",
    "\n",
    "for idx, e in enumerate(a_set):\n",
    "    print(idx, e)\n",
    "\n",
    "a_dict = {'a':1, 'b':2, 'c':3}\n",
    "\n",
    "for idx, (k, v) in enumerate(a_set):\n",
    "    print(idx, k, v)"
   ]
  },
  {
   "cell_type": "markdown",
   "id": "0bf680ed",
   "metadata": {},
   "source": [
    "### **以range做迭代**\n",
    "\n",
    "range是一個專門用來做迭代的iterable，可以很方便地去迭代一個等差數列。\n",
    "\n",
    "最簡單的使用方法如下，第一個參數是start，第二個參數是end："
   ]
  },
  {
   "cell_type": "code",
   "execution_count": 13,
   "id": "c48646e8",
   "metadata": {},
   "outputs": [
    {
     "name": "stdout",
     "output_type": "stream",
     "text": [
      "1\n",
      "2\n",
      "3\n",
      "4\n",
      "5\n",
      "6\n",
      "7\n",
      "8\n",
      "9\n"
     ]
    }
   ],
   "source": [
    "for i in range(1, 10):\n",
    "    print(i)"
   ]
  },
  {
   "cell_type": "markdown",
   "id": "ed470b1e",
   "metadata": {},
   "source": [
    "注意到，不會print出10，因為range的序列不會包含最後一個元素。\n",
    "\n",
    "參數也可以省略start，但start的預設值就會是0"
   ]
  },
  {
   "cell_type": "code",
   "execution_count": 14,
   "id": "cf1e7632",
   "metadata": {},
   "outputs": [
    {
     "name": "stdout",
     "output_type": "stream",
     "text": [
      "0\n",
      "1\n",
      "2\n",
      "3\n",
      "4\n",
      "5\n",
      "6\n",
      "7\n",
      "8\n",
      "9\n"
     ]
    }
   ],
   "source": [
    "for i in range(10):\n",
    "    print(i)"
   ]
  },
  {
   "cell_type": "markdown",
   "id": "fab4fac2",
   "metadata": {},
   "source": [
    "range也可以指定步伐(step)，當指定step時，就必須指定start。"
   ]
  },
  {
   "cell_type": "code",
   "execution_count": 15,
   "id": "86c299f1",
   "metadata": {},
   "outputs": [
    {
     "name": "stdout",
     "output_type": "stream",
     "text": [
      "0\n",
      "3\n",
      "6\n",
      "9\n",
      "12\n",
      "15\n",
      "18\n"
     ]
    }
   ],
   "source": [
    "for i in range(0, 20, 3):\n",
    "    print(i)"
   ]
  },
  {
   "cell_type": "markdown",
   "id": "614fc74a",
   "metadata": {},
   "source": [
    "step可以是負數，但若step為負數，stop須小於start"
   ]
  },
  {
   "cell_type": "code",
   "execution_count": 16,
   "id": "14a1f974",
   "metadata": {},
   "outputs": [
    {
     "name": "stdout",
     "output_type": "stream",
     "text": [
      "10\n",
      "7\n",
      "4\n"
     ]
    }
   ],
   "source": [
    "for i in range(10, 1, -3):\n",
    "    print(i)"
   ]
  },
  {
   "cell_type": "markdown",
   "id": "15c28cbf",
   "metadata": {},
   "source": [
    "### 利用zip迭代多個序列\n",
    "\n",
    "若有多個序列想要一起做迭代，可以使用zip："
   ]
  },
  {
   "cell_type": "code",
   "execution_count": 17,
   "id": "85af2ede",
   "metadata": {},
   "outputs": [
    {
     "name": "stdout",
     "output_type": "stream",
     "text": [
      "a 1\n",
      "b 2\n",
      "c 3\n"
     ]
    }
   ],
   "source": [
    "x_list = ['a', 'b', 'c']\n",
    "y_list = [1, 2, 3]\n",
    "\n",
    "for x, y in zip(x_list, y_list):\n",
    "    print(x, y)"
   ]
  },
  {
   "cell_type": "markdown",
   "id": "19e498ce",
   "metadata": {},
   "source": [
    "當zip起來的多個序列長短不一，會迭代短的元素結束為止："
   ]
  },
  {
   "cell_type": "code",
   "execution_count": 18,
   "id": "5506837f",
   "metadata": {},
   "outputs": [
    {
     "name": "stdout",
     "output_type": "stream",
     "text": [
      "a a\n",
      "b b\n",
      "c c\n"
     ]
    }
   ],
   "source": [
    "longer = ['a', 'b', 'c', 'd', 'e']\n",
    "shorter = ['a', 'b', 'c']\n",
    "\n",
    "for l, s in zip(longer, shorter):\n",
    "    print(l, s)"
   ]
  },
  {
   "cell_type": "markdown",
   "id": "32848c55",
   "metadata": {},
   "source": [
    "## break, continue 陳述式\n",
    "\n",
    "### **break**\n",
    "\n",
    "當你想要迴圈符合某個條件時，就馬上跳出迴圈，就可以使用break。"
   ]
  },
  {
   "cell_type": "code",
   "execution_count": 19,
   "id": "f5d4b698",
   "metadata": {},
   "outputs": [
    {
     "name": "stdout",
     "output_type": "stream",
     "text": [
      "0\n",
      "---\n",
      "1\n",
      "---\n",
      "2\n",
      "---\n"
     ]
    }
   ],
   "source": [
    "for i in range(0,5):\n",
    "    if i == 3:\n",
    "        break\n",
    "    else:\n",
    "        print(i)\n",
    "    print('---')"
   ]
  },
  {
   "cell_type": "markdown",
   "id": "49e8e908",
   "metadata": {},
   "source": [
    "**continue**\n",
    "\n",
    "則是當想要迴圈符合某個條件時，就馬上跳到「下一個迴圈」時使用。"
   ]
  },
  {
   "cell_type": "code",
   "execution_count": 20,
   "id": "cf695ddf",
   "metadata": {},
   "outputs": [
    {
     "name": "stdout",
     "output_type": "stream",
     "text": [
      "0\n",
      "---\n",
      "1\n",
      "---\n",
      "2\n",
      "---\n",
      "4\n",
      "---\n"
     ]
    }
   ],
   "source": [
    "for i in range(0,5):\n",
    "    if i == 3:\n",
    "        continue\n",
    "    else:\n",
    "        print(i)\n",
    "    print('---')"
   ]
  },
  {
   "cell_type": "markdown",
   "id": "f21e7c6c",
   "metadata": {},
   "source": [
    "## while loop\n",
    "\n",
    "當條件為True時就繼續執行迴圈，跟for loop一樣需有冒號和縮排。"
   ]
  },
  {
   "cell_type": "code",
   "execution_count": 21,
   "id": "0ae8ddf4",
   "metadata": {},
   "outputs": [
    {
     "name": "stdout",
     "output_type": "stream",
     "text": [
      "0\n",
      "1\n",
      "2\n",
      "3\n",
      "4\n",
      "5\n"
     ]
    }
   ],
   "source": [
    "count = 0\n",
    "while count <= 5:\n",
    "    print(count)\n",
    "    count += 1 # 也可以寫成count = count + 1"
   ]
  },
  {
   "cell_type": "markdown",
   "id": "902d3872",
   "metadata": {},
   "source": [
    "**while loop中的else子句**\n",
    "\n",
    "while loop中的else子句只有在loop正常結束完成時，才會執行："
   ]
  },
  {
   "cell_type": "code",
   "execution_count": 22,
   "id": "ab16c51b",
   "metadata": {},
   "outputs": [
    {
     "name": "stdout",
     "output_type": "stream",
     "text": [
      "finished\n"
     ]
    }
   ],
   "source": [
    "numbers = [3,6,9,12,15]\n",
    "i = 0\n",
    "\n",
    "while i < len(numbers):\n",
    "    number = numbers[i]\n",
    "    if number % 3 != 0:\n",
    "        print(f'found strange number: {number}.')\n",
    "        break\n",
    "    i += 1\n",
    "else:\n",
    "    print('finished')"
   ]
  },
  {
   "cell_type": "markdown",
   "id": "9884de6b",
   "metadata": {},
   "source": [
    "這邊else的概念跟if, else中的else，有點不一樣，可以把這邊的else當作break的檢查器，只有當迴圈正常結束，沒有呼叫break時才會執行。\n",
    "\n",
    "## try, except, finally陳述句\n",
    "\n",
    "try與except主要的功能是做例外處理。\n",
    "\n",
    "例如兩個數字相除，若分母為0，python會丟出錯誤。"
   ]
  },
  {
   "cell_type": "code",
   "execution_count": 23,
   "id": "85afd0e9",
   "metadata": {},
   "outputs": [
    {
     "ename": "ZeroDivisionError",
     "evalue": "division by zero",
     "output_type": "error",
     "traceback": [
      "\u001b[0;31m---------------------------------------------------------------------------\u001b[0m",
      "\u001b[0;31mZeroDivisionError\u001b[0m                         Traceback (most recent call last)",
      "Cell \u001b[0;32mIn[23], line 4\u001b[0m\n\u001b[1;32m      1\u001b[0m a \u001b[38;5;241m=\u001b[39m \u001b[38;5;241m42\u001b[39m\n\u001b[1;32m      2\u001b[0m b \u001b[38;5;241m=\u001b[39m \u001b[38;5;241m0\u001b[39m\n\u001b[0;32m----> 4\u001b[0m \u001b[38;5;28mprint\u001b[39m(\u001b[43ma\u001b[49m\u001b[38;5;241;43m/\u001b[39;49m\u001b[43mb\u001b[49m) \u001b[38;5;66;03m# ZeroDivisionError: division by zero\u001b[39;00m\n",
      "\u001b[0;31mZeroDivisionError\u001b[0m: division by zero"
     ]
    }
   ],
   "source": [
    "a = 42\n",
    "b = 0\n",
    "\n",
    "print(a/b) # ZeroDivisionError: division by zero"
   ]
  },
  {
   "cell_type": "markdown",
   "id": "254c1519",
   "metadata": {},
   "source": [
    "可以使用except來捕捉錯誤做例外處理："
   ]
  },
  {
   "cell_type": "code",
   "execution_count": 24,
   "id": "5d1be1fb",
   "metadata": {},
   "outputs": [
    {
     "name": "stdout",
     "output_type": "stream",
     "text": [
      "infinite\n"
     ]
    }
   ],
   "source": [
    "a = 42\n",
    "b = 0\n",
    "\n",
    "try:\n",
    "    print(a/b)\n",
    "except:\n",
    "    print('infinite')"
   ]
  },
  {
   "cell_type": "markdown",
   "id": "f60047c5",
   "metadata": {},
   "source": [
    "通常比較好的做法是會指定錯誤類型。"
   ]
  },
  {
   "cell_type": "code",
   "execution_count": 25,
   "id": "26446478",
   "metadata": {},
   "outputs": [
    {
     "name": "stdout",
     "output_type": "stream",
     "text": [
      "infinite\n"
     ]
    }
   ],
   "source": [
    "a = 42\n",
    "b = 0\n",
    "\n",
    "try:\n",
    "    print(a/b)\n",
    "except ZeroDivisionError:\n",
    "    print('infinite')"
   ]
  },
  {
   "cell_type": "markdown",
   "id": "6c26496a",
   "metadata": {},
   "source": [
    "然後根據不同可能的例外情境去使用不同的except敘述。"
   ]
  },
  {
   "cell_type": "code",
   "execution_count": 26,
   "id": "e2cff35f",
   "metadata": {},
   "outputs": [
    {
     "name": "stdout",
     "output_type": "stream",
     "text": [
      "0.0\n",
      "illegal number for log\n"
     ]
    }
   ],
   "source": [
    "import math\n",
    "\n",
    "a = 0\n",
    "b = 42\n",
    "\n",
    "try:\n",
    "    print(a/b)\n",
    "    print(math.log(a/b))\n",
    "except ZeroDivisionError:\n",
    "    print('infinite')\n",
    "except ValueError:\n",
    "    print('illegal number for log')"
   ]
  },
  {
   "cell_type": "markdown",
   "id": "36eca606",
   "metadata": {},
   "source": [
    "最後，finally敘述則無論程式是否丟出例外，都會執行。"
   ]
  },
  {
   "cell_type": "code",
   "execution_count": 27,
   "id": "2c4fdc6e",
   "metadata": {},
   "outputs": [
    {
     "name": "stdout",
     "output_type": "stream",
     "text": [
      "infinite\n",
      "run this no matter what.\n"
     ]
    }
   ],
   "source": [
    "a = 42\n",
    "b = 0\n",
    "\n",
    "try:\n",
    "    print(a/b)\n",
    "except ZeroDivisionError:\n",
    "    print('infinite')\n",
    "finally:\n",
    "    print('run this no matter what.')"
   ]
  }
 ],
 "metadata": {
  "jupytext": {
   "formats": "md:myst",
   "text_representation": {
    "extension": ".md",
    "format_name": "myst",
    "format_version": 0.13,
    "jupytext_version": "1.16.0"
   }
  },
  "kernelspec": {
   "display_name": "Python 3",
   "language": "python",
   "name": "python3"
  },
  "language_info": {
   "codemirror_mode": {
    "name": "ipython",
    "version": 3
   },
   "file_extension": ".py",
   "mimetype": "text/x-python",
   "name": "python",
   "nbconvert_exporter": "python",
   "pygments_lexer": "ipython3",
   "version": "3.11.0"
  },
  "source_map": [
   13,
   37,
   46,
   50,
   61,
   65,
   70,
   96,
   114,
   136,
   143,
   149,
   154,
   166,
   171,
   175,
   180,
   198,
   203,
   207,
   212,
   216,
   221,
   229,
   239,
   247,
   250,
   256,
   259,
   263,
   266,
   270,
   273,
   279,
   285,
   289,
   295,
   303,
   310,
   316,
   323,
   329,
   334,
   340,
   352,
   362,
   367,
   371,
   379,
   383,
   391,
   395,
   408,
   412
  ]
 },
 "nbformat": 4,
 "nbformat_minor": 5
}