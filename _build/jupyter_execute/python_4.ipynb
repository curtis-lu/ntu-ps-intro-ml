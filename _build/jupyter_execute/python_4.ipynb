{
 "cells": [
  {
   "cell_type": "markdown",
   "id": "41f4a69e",
   "metadata": {},
   "source": [
    "# 4.流程控制\n",
    "\n",
    "之前的內容主要在介紹python的資料型態和相關操作，\n",
    "接下來的章節介紹的內容是讓程式動起來的基礎：邏輯判斷以及流程控制。\n",
    "瞭解這些後就可以進入實戰，做到很多事情！\n",
    "\n",
    "## if, elif, else\n",
    "\n",
    "### 基本結構\n",
    "\n",
    "if 陳述式的最簡單結構如下方。\n",
    "- 當if陳述句的條件判斷為True的話就會做if區塊指定的事情，\n",
    "- 如果不為```True```，就接著判斷```elif```敘述，由上而下照順序判斷。\n",
    "- 如果都不為```True```就會跑到```else```敘述，做else區塊的事情。\n",
    "- if, elif, else句子的最後方都需要冒號。\n",
    "- 冒號下面的區塊必須縮排(indentation)，且必須有相同的格數。通常是用4個空格，而非tab鍵。\n",
    "- Python利用縮排來判斷程式結構，所以不能弄亂縮排的格數。"
   ]
  },
  {
   "cell_type": "code",
   "execution_count": 1,
   "id": "9a8bfe99",
   "metadata": {},
   "outputs": [
    {
     "name": "stdout",
     "output_type": "stream",
     "text": [
      "do task 1\n"
     ]
    }
   ],
   "source": [
    "score = 88\n",
    "\n",
    "if score >= 85:\n",
    "    print('do task 1')\n",
    "elif score >= 70:\n",
    "    print('do task 2')\n",
    "else:\n",
    "    print('do task 3')"
   ]
  },
  {
   "cell_type": "markdown",
   "id": "abd29808",
   "metadata": {},
   "source": [
    "**elif 敘述可以有多個**"
   ]
  },
  {
   "cell_type": "code",
   "execution_count": 2,
   "id": "8e76bfad",
   "metadata": {},
   "outputs": [
    {
     "name": "stdout",
     "output_type": "stream",
     "text": [
      "do task 2\n"
     ]
    }
   ],
   "source": [
    "score = 88\n",
    "\n",
    "if score >= 90:\n",
    "    print('do task 1')\n",
    "elif score >= 80:\n",
    "    print('do task 2')\n",
    "elif score >= 70:\n",
    "    print('do task 3')\n",
    "else:\n",
    "    print('do task 4')"
   ]
  },
  {
   "cell_type": "markdown",
   "id": "ea39c8e6",
   "metadata": {},
   "source": [
    "**elif & else 都是非必要的**"
   ]
  },
  {
   "cell_type": "code",
   "execution_count": 3,
   "id": "e4bb2e9a",
   "metadata": {},
   "outputs": [
    {
     "name": "stdout",
     "output_type": "stream",
     "text": [
      "do something\n"
     ]
    }
   ],
   "source": [
    "score = 88\n",
    "\n",
    "if score >= 70:\n",
    "    print('do something')"
   ]
  },
  {
   "cell_type": "markdown",
   "id": "1178b908",
   "metadata": {},
   "source": [
    "### 條件判斷的形式\n",
    "\n",
    "陳述句中的條件判斷可以放很多種形式，\n",
    "不只```>=```, ```==```等比較運算子。\n",
    "基本上只要能產生布林值的都可以：\n",
    "\n",
    "**布林值本身：**\n",
    "\n",
    "```True```\n",
    "\n",
    "**比較運算子：**\n",
    "\n",
    "```==```, ```!=```, ```<```, ```<=```, ```>```, ```>=```\n",
    "\n",
    "**邏輯運算子**\n",
    "\n",
    "```and```, ```or```, ```not```\n",
    "\n",
    "**成員運算子**\n",
    "\n",
    "```in``` ,  ```not in```\n",
    "\n",
    "成員運算子的使用方式如下："
   ]
  },
  {
   "cell_type": "code",
   "execution_count": 4,
   "id": "16f526dd",
   "metadata": {},
   "outputs": [
    {
     "name": "stdout",
     "output_type": "stream",
     "text": [
      "There is no o\n"
     ]
    }
   ],
   "source": [
    "sentence = 'I am a sentence'\n",
    "\n",
    "if 'o' in sentence:\n",
    "    print('There is an o')\n",
    "else:\n",
    "    print('There is no o')"
   ]
  },
  {
   "cell_type": "code",
   "execution_count": 5,
   "id": "aa8041f7",
   "metadata": {},
   "outputs": [],
   "source": [
    "a_list = [1, 2, 3, 5, 6]\n",
    "\n",
    "if 4 in a_list:\n",
    "    print('There is a 4')"
   ]
  },
  {
   "cell_type": "code",
   "execution_count": 6,
   "id": "bab2445b",
   "metadata": {},
   "outputs": [
    {
     "name": "stdout",
     "output_type": "stream",
     "text": [
      "There is no f\n"
     ]
    }
   ],
   "source": [
    "a_set = ['a', 'b', 'c', 'd', 'e']\n",
    "\n",
    "if 'f' not in a_set:\n",
    "    print('There is no f')\n"
   ]
  },
  {
   "cell_type": "markdown",
   "id": "d92ee7a9",
   "metadata": {},
   "source": [
    "**以下東西都會被視為False：**\n",
    "\n",
    "- 布林值 ```False```\n",
    "- 空值 ```None```\n",
    "- 整數 ```0```\n",
    "- 浮點數 ```0.0```\n",
    "- 空字串 ```‘’```\n",
    "- 空list ```[]```\n",
    "- 空tuple ```()```\n",
    "- 空dict ```{}```\n",
    "- 空set ```set()```"
   ]
  },
  {
   "cell_type": "code",
   "execution_count": 7,
   "id": "b4891c54",
   "metadata": {},
   "outputs": [
    {
     "name": "stdout",
     "output_type": "stream",
     "text": [
      "the list is empty\n"
     ]
    }
   ],
   "source": [
    "a_list = []\n",
    "\n",
    "if a_list:\n",
    "    print('do something')\n",
    "else:\n",
    "    print('the list is empty')"
   ]
  },
  {
   "cell_type": "markdown",
   "id": "afd64aec",
   "metadata": {},
   "source": [
    "### Conditional expression\n",
    "\n",
    "通常用在變數賦值，而非流程控制。語法結構如下："
   ]
  },
  {
   "cell_type": "code",
   "execution_count": 8,
   "id": "a74616a0",
   "metadata": {},
   "outputs": [
    {
     "name": "stdout",
     "output_type": "stream",
     "text": [
      "True\n"
     ]
    }
   ],
   "source": [
    "age = 18\n",
    "\n",
    "is_can_vote = True if age >= 18 else False\n",
    "print(is_can_vote)"
   ]
  },
  {
   "cell_type": "markdown",
   "id": "6a3fe6cd",
   "metadata": {},
   "source": [
    "## for loop\n",
    "\n",
    "在python中，很多東西都可以拿來迭代：\n",
    "```list```, ```tuple```, ```set```, ```dict```, ```range```, ```enumerate```, ```zip```等等這些東西統稱為**可迭代物(iterable)**。\n",
    "\n",
    "### 以list做迭代\n",
    "\n",
    "以list做迭代的用法範例如下："
   ]
  },
  {
   "cell_type": "code",
   "execution_count": 9,
   "id": "1327d196",
   "metadata": {},
   "outputs": [
    {
     "name": "stdout",
     "output_type": "stream",
     "text": [
      "1\n",
      "2\n",
      "3\n",
      "4\n",
      "5\n"
     ]
    }
   ],
   "source": [
    "a_list = [1, 2, 3, 4, 5]\n",
    "\n",
    "for i in a_list:\n",
    "    print(i)"
   ]
  },
  {
   "cell_type": "markdown",
   "id": "dd4cfe0f",
   "metadata": {},
   "source": [
    "上面的```i```可以取任何名稱，通常會取一個好辨認的名稱，增加程式的可讀性。例如："
   ]
  },
  {
   "cell_type": "code",
   "execution_count": 10,
   "id": "d216fc92",
   "metadata": {},
   "outputs": [
    {
     "name": "stdout",
     "output_type": "stream",
     "text": [
      "Sun\n",
      "Mon\n",
      "Tue\n",
      "Wed\n",
      "Thu\n",
      "Fri\n",
      "Sat\n"
     ]
    }
   ],
   "source": [
    "weekdays = ['Sun', 'Mon', 'Tue', 'Wed', 'Thu', 'Fri', 'Sat']\n",
    "\n",
    "for weekday in weekdays:\n",
    "    print(weekday)"
   ]
  },
  {
   "cell_type": "markdown",
   "id": "eac8f31b",
   "metadata": {},
   "source": [
    "tuple, set跟list做迭代的方式很像，就不贅述了。\n",
    "\n",
    "特別值得一提的是，依資料結構的不同特性，會適合不同的使用情境。\n",
    "\n",
    "- list有順序，但可變。\n",
    "- tuple有順序，但不可變。\n",
    "- set無順序，且元素不重複。\n",
    "\n",
    "### 以dict做迭代\n",
    "\n",
    "dict的迭代方法如下：\n",
    "\n",
    "**根據key迭代**"
   ]
  },
  {
   "cell_type": "code",
   "execution_count": 11,
   "id": "0fedda7d",
   "metadata": {},
   "outputs": [
    {
     "name": "stdout",
     "output_type": "stream",
     "text": [
      "a\n",
      "b\n",
      "c\n"
     ]
    }
   ],
   "source": [
    "a_dict = {'a':1, 'b':2, 'c':3}\n",
    "\n",
    "for k in a_dict.keys():\n",
    "   print(k)"
   ]
  },
  {
   "cell_type": "markdown",
   "id": "48485fe0",
   "metadata": {},
   "source": [
    "**根據value迭代**"
   ]
  },
  {
   "cell_type": "code",
   "execution_count": 12,
   "id": "e730a785",
   "metadata": {},
   "outputs": [
    {
     "name": "stdout",
     "output_type": "stream",
     "text": [
      "1\n",
      "2\n",
      "3\n"
     ]
    }
   ],
   "source": [
    "a_dict = {'a':1, 'b':2, 'c':3}\n",
    "\n",
    "for v in a_dict.values():\n",
    "   print(v)"
   ]
  },
  {
   "cell_type": "markdown",
   "id": "a4608212",
   "metadata": {},
   "source": [
    "**key & value 同時**"
   ]
  },
  {
   "cell_type": "code",
   "execution_count": 13,
   "id": "2ea0aa55",
   "metadata": {},
   "outputs": [
    {
     "name": "stdout",
     "output_type": "stream",
     "text": [
      "a 1\n",
      "b 2\n",
      "c 3\n"
     ]
    }
   ],
   "source": [
    "a_dict = {'a':1, 'b':2, 'c':3}\n",
    "\n",
    "for k, v in a_dict.items():\n",
    "   print(k, v)"
   ]
  },
  {
   "cell_type": "markdown",
   "id": "14a34c0e",
   "metadata": {},
   "source": [
    "### 以enumerate做迭代\n",
    "\n",
    "enumerate做迭代的方式其實跟list, set, tuple差不多，但使用enumerate可以多輸出index，有時候會比較方便。\n",
    "\n",
    "enumerate裡面可以放任何iterable進去。"
   ]
  },
  {
   "cell_type": "code",
   "execution_count": 14,
   "id": "e705a342",
   "metadata": {},
   "outputs": [
    {
     "name": "stdout",
     "output_type": "stream",
     "text": [
      "0 a\n",
      "1 c\n",
      "2 b\n",
      "0 a 1\n",
      "1 b 2\n",
      "2 c 3\n"
     ]
    }
   ],
   "source": [
    "a_set = set(['a', 'b', 'c'])\n",
    "\n",
    "for idx, e in enumerate(a_set):\n",
    "    print(idx, e)\n",
    "\n",
    "a_dict = {'a':1, 'b':2, 'c':3}\n",
    "\n",
    "for idx, (k, v) in enumerate(a_dict.items()):\n",
    "    print(idx, k, v)"
   ]
  },
  {
   "cell_type": "markdown",
   "id": "42017e0e",
   "metadata": {},
   "source": [
    "### 以range做迭代\n",
    "\n",
    "range是一個專門用來做迭代的iterable，可以很方便地去迭代一個等差數列。\n",
    "最簡單的使用方法如下，第一個參數是```start```，第二個參數是```end```："
   ]
  },
  {
   "cell_type": "code",
   "execution_count": 15,
   "id": "3336acc6",
   "metadata": {},
   "outputs": [
    {
     "name": "stdout",
     "output_type": "stream",
     "text": [
      "1\n",
      "2\n",
      "3\n",
      "4\n",
      "5\n",
      "6\n",
      "7\n",
      "8\n",
      "9\n"
     ]
    }
   ],
   "source": [
    "for i in range(1, 10):\n",
    "    print(i)"
   ]
  },
  {
   "cell_type": "markdown",
   "id": "f13d7438",
   "metadata": {},
   "source": [
    "注意到，不會印出10，因為range的序列不會包含```end```(第二個參數)。\n",
    "\n",
    "參數也可以省略```start```，但```start```的預設值就會是0"
   ]
  },
  {
   "cell_type": "code",
   "execution_count": 16,
   "id": "2a345302",
   "metadata": {},
   "outputs": [
    {
     "name": "stdout",
     "output_type": "stream",
     "text": [
      "0\n",
      "1\n",
      "2\n",
      "3\n",
      "4\n",
      "5\n",
      "6\n",
      "7\n",
      "8\n",
      "9\n"
     ]
    }
   ],
   "source": [
    "for i in range(10):\n",
    "    print(i)"
   ]
  },
  {
   "cell_type": "markdown",
   "id": "333ba128",
   "metadata": {},
   "source": [
    "range也可以指定步伐(```step```)，當指定```step```時，就必須指定```start```。"
   ]
  },
  {
   "cell_type": "code",
   "execution_count": 17,
   "id": "f3db7daf",
   "metadata": {},
   "outputs": [
    {
     "name": "stdout",
     "output_type": "stream",
     "text": [
      "0\n",
      "3\n",
      "6\n",
      "9\n",
      "12\n",
      "15\n",
      "18\n"
     ]
    }
   ],
   "source": [
    "for i in range(0, 20, 3):\n",
    "    print(i)"
   ]
  },
  {
   "cell_type": "markdown",
   "id": "6f31718f",
   "metadata": {},
   "source": [
    "```step```可以是負數，但若```step```為負數，```stop```須小於```start```。"
   ]
  },
  {
   "cell_type": "code",
   "execution_count": 18,
   "id": "1dc489ec",
   "metadata": {},
   "outputs": [
    {
     "name": "stdout",
     "output_type": "stream",
     "text": [
      "10\n",
      "7\n",
      "4\n"
     ]
    }
   ],
   "source": [
    "for i in range(10, 1, -3):\n",
    "    print(i)"
   ]
  },
  {
   "cell_type": "markdown",
   "id": "f11a6128",
   "metadata": {},
   "source": [
    "### 利用zip迭代多個序列\n",
    "\n",
    "若有多個序列想要一起做迭代，可以使用```zip```："
   ]
  },
  {
   "cell_type": "code",
   "execution_count": 19,
   "id": "9f9db4dc",
   "metadata": {},
   "outputs": [
    {
     "name": "stdout",
     "output_type": "stream",
     "text": [
      "a 1\n",
      "b 2\n",
      "c 3\n"
     ]
    }
   ],
   "source": [
    "x_list = ['a', 'b', 'c']\n",
    "y_list = [1, 2, 3]\n",
    "\n",
    "for x, y in zip(x_list, y_list):\n",
    "    print(x, y)"
   ]
  },
  {
   "cell_type": "markdown",
   "id": "16c7663b",
   "metadata": {},
   "source": [
    "當```zip```起來的多個序列長短不一，會迭代短的元素結束為止："
   ]
  },
  {
   "cell_type": "code",
   "execution_count": 20,
   "id": "bd97829b",
   "metadata": {},
   "outputs": [
    {
     "name": "stdout",
     "output_type": "stream",
     "text": [
      "a a\n",
      "b b\n",
      "c c\n"
     ]
    }
   ],
   "source": [
    "longer = ['a', 'b', 'c', 'd', 'e']\n",
    "shorter = ['a', 'b', 'c']\n",
    "\n",
    "for l, s in zip(longer, shorter):\n",
    "    print(l, s)"
   ]
  },
  {
   "cell_type": "markdown",
   "id": "2c551eb6",
   "metadata": {},
   "source": [
    "## break, continue 陳述式\n",
    "\n",
    "**break**\n",
    "\n",
    "當你想要迴圈符合某個條件時，馬上跳出迴圈，就可以使用```break```。"
   ]
  },
  {
   "cell_type": "code",
   "execution_count": 21,
   "id": "9616a1a8",
   "metadata": {},
   "outputs": [
    {
     "name": "stdout",
     "output_type": "stream",
     "text": [
      "0\n",
      "---\n",
      "1\n",
      "---\n",
      "2\n",
      "---\n"
     ]
    }
   ],
   "source": [
    "for i in range(0,5):\n",
    "    if i == 3:\n",
    "        break\n",
    "    else:\n",
    "        print(i)\n",
    "    print('---')"
   ]
  },
  {
   "cell_type": "markdown",
   "id": "67fa7282",
   "metadata": {},
   "source": [
    "**continue**\n",
    "\n",
    "則是當想要迴圈符合某個條件時，就馬上跳到「下一個迴圈」時使用。"
   ]
  },
  {
   "cell_type": "code",
   "execution_count": 22,
   "id": "31fe81d9",
   "metadata": {},
   "outputs": [
    {
     "name": "stdout",
     "output_type": "stream",
     "text": [
      "0\n",
      "---\n",
      "1\n",
      "---\n",
      "2\n",
      "---\n",
      "4\n",
      "---\n"
     ]
    }
   ],
   "source": [
    "for i in range(0,5):\n",
    "    if i == 3:\n",
    "        continue\n",
    "    else:\n",
    "        print(i)\n",
    "    print('---')"
   ]
  },
  {
   "cell_type": "markdown",
   "id": "d163b0b2",
   "metadata": {},
   "source": [
    "## while loop\n",
    "\n",
    "當條件為```True```時就繼續執行迴圈，跟for loop一樣需有冒號和縮排。\n",
    "千萬要記得設定好停止條件，\n",
    "例如下方的```count <= 5```以及```count += 1```，\n",
    "否則會導致無限迴圈。"
   ]
  },
  {
   "cell_type": "code",
   "execution_count": 23,
   "id": "261458f1",
   "metadata": {},
   "outputs": [
    {
     "name": "stdout",
     "output_type": "stream",
     "text": [
      "0\n",
      "1\n",
      "2\n",
      "3\n",
      "4\n",
      "5\n"
     ]
    }
   ],
   "source": [
    "count = 0\n",
    "while count <= 5:\n",
    "    print(count)\n",
    "    count += 1 # 也可以寫成count = count + 1"
   ]
  },
  {
   "cell_type": "markdown",
   "id": "693edb61",
   "metadata": {},
   "source": [
    "**while loop中的else子句**\n",
    "\n",
    "while loop中的```else```子句只有在loop正常結束完成時，才會執行。\n",
    "例如以下程式，會去判斷```numbers```中是否有不被3整除的數字，\n",
    "若有的話就會因為```break```而停止程式，\n",
    "若沒有的話就會執行最後的```else```。"
   ]
  },
  {
   "cell_type": "code",
   "execution_count": 24,
   "id": "cacebd9b",
   "metadata": {},
   "outputs": [
    {
     "name": "stdout",
     "output_type": "stream",
     "text": [
      "finished\n"
     ]
    }
   ],
   "source": [
    "numbers = [3,6,9,12,15]\n",
    "i = 0\n",
    "\n",
    "while i < len(numbers):\n",
    "    number = numbers[i]\n",
    "    if number % 3 != 0:\n",
    "        print(f'found strange number: {number}.')\n",
    "        break\n",
    "    i += 1\n",
    "else:\n",
    "    print('finished')"
   ]
  },
  {
   "cell_type": "markdown",
   "id": "3d6af875",
   "metadata": {},
   "source": [
    "這邊```else```的概念跟```if, else```中的```else```，有點不一樣，\n",
    "可以把這邊的```else```當作```break```的檢查器，只有當迴圈正常結束，沒有呼叫```break```時才會執行。\n",
    "\n",
    "## try, except, finally陳述句\n",
    "\n",
    "```try```與```except```主要的功能是做例外處理。\n",
    "\n",
    "例如兩個數字相除，若分母為0，python會丟出錯誤。"
   ]
  },
  {
   "cell_type": "code",
   "execution_count": 25,
   "id": "4787e828",
   "metadata": {},
   "outputs": [
    {
     "ename": "ZeroDivisionError",
     "evalue": "division by zero",
     "output_type": "error",
     "traceback": [
      "\u001b[0;31m---------------------------------------------------------------------------\u001b[0m",
      "\u001b[0;31mZeroDivisionError\u001b[0m                         Traceback (most recent call last)",
      "Cell \u001b[0;32mIn[25], line 4\u001b[0m\n\u001b[1;32m      1\u001b[0m a \u001b[38;5;241m=\u001b[39m \u001b[38;5;241m42\u001b[39m\n\u001b[1;32m      2\u001b[0m b \u001b[38;5;241m=\u001b[39m \u001b[38;5;241m0\u001b[39m\n\u001b[0;32m----> 4\u001b[0m \u001b[38;5;28mprint\u001b[39m(\u001b[43ma\u001b[49m\u001b[38;5;241;43m/\u001b[39;49m\u001b[43mb\u001b[49m) \u001b[38;5;66;03m# ZeroDivisionError: division by zero\u001b[39;00m\n",
      "\u001b[0;31mZeroDivisionError\u001b[0m: division by zero"
     ]
    }
   ],
   "source": [
    "a = 42\n",
    "b = 0\n",
    "\n",
    "print(a/b) # ZeroDivisionError: division by zero"
   ]
  },
  {
   "cell_type": "markdown",
   "id": "4acebfa8",
   "metadata": {},
   "source": [
    "可以使用```except```來捕捉錯誤做例外處理："
   ]
  },
  {
   "cell_type": "code",
   "execution_count": 26,
   "id": "b1ac153e",
   "metadata": {},
   "outputs": [
    {
     "name": "stdout",
     "output_type": "stream",
     "text": [
      "infinite\n"
     ]
    }
   ],
   "source": [
    "a = 42\n",
    "b = 0\n",
    "\n",
    "try:\n",
    "    print(a/b)\n",
    "except:\n",
    "    print('infinite')"
   ]
  },
  {
   "cell_type": "markdown",
   "id": "6bb47402",
   "metadata": {},
   "source": [
    "通常比較好的做法是會指定錯誤類型。"
   ]
  },
  {
   "cell_type": "code",
   "execution_count": 27,
   "id": "e8357846",
   "metadata": {},
   "outputs": [
    {
     "name": "stdout",
     "output_type": "stream",
     "text": [
      "infinite\n"
     ]
    }
   ],
   "source": [
    "a = 42\n",
    "b = 0\n",
    "\n",
    "try:\n",
    "    print(a/b)\n",
    "except ZeroDivisionError:\n",
    "    print('infinite')"
   ]
  },
  {
   "cell_type": "markdown",
   "id": "d7e2c47a",
   "metadata": {},
   "source": [
    "然後根據不同可能的例外情境去使用不同的except敘述。"
   ]
  },
  {
   "cell_type": "code",
   "execution_count": 28,
   "id": "383ec01e",
   "metadata": {},
   "outputs": [
    {
     "name": "stdout",
     "output_type": "stream",
     "text": [
      "0.0\n",
      "illegal number for log\n"
     ]
    }
   ],
   "source": [
    "import math\n",
    "\n",
    "a = 0\n",
    "b = 42\n",
    "\n",
    "try:\n",
    "    print(a/b)\n",
    "    print(math.log(a/b))\n",
    "except ZeroDivisionError:\n",
    "    print('infinite')\n",
    "except ValueError:\n",
    "    print('illegal number for log')"
   ]
  },
  {
   "cell_type": "markdown",
   "id": "8465fb44",
   "metadata": {},
   "source": [
    "最後，finally敘述則無論程式是否丟出例外，都會執行。"
   ]
  },
  {
   "cell_type": "code",
   "execution_count": 29,
   "id": "3ae5386e",
   "metadata": {},
   "outputs": [
    {
     "name": "stdout",
     "output_type": "stream",
     "text": [
      "infinite\n",
      "run this no matter what.\n"
     ]
    }
   ],
   "source": [
    "a = 42\n",
    "b = 0\n",
    "\n",
    "try:\n",
    "    print(a/b)\n",
    "except ZeroDivisionError:\n",
    "    print('infinite')\n",
    "finally:\n",
    "    print('run this no matter what.')"
   ]
  }
 ],
 "metadata": {
  "jupytext": {
   "formats": "md:myst",
   "text_representation": {
    "extension": ".md",
    "format_name": "myst",
    "format_version": 0.13,
    "jupytext_version": "1.16.0"
   }
  },
  "kernelspec": {
   "display_name": "Python 3",
   "language": "python",
   "name": "python3"
  },
  "language_info": {
   "codemirror_mode": {
    "name": "ipython",
    "version": 3
   },
   "file_extension": ".py",
   "mimetype": "text/x-python",
   "name": "python",
   "nbconvert_exporter": "python",
   "pygments_lexer": "ipython3",
   "version": "3.11.0"
  },
  "source_map": [
   13,
   33,
   42,
   46,
   57,
   61,
   66,
   92,
   101,
   108,
   114,
   128,
   135,
   141,
   146,
   157,
   162,
   166,
   171,
   187,
   192,
   196,
   201,
   205,
   210,
   218,
   228,
   235,
   238,
   244,
   247,
   251,
   254,
   258,
   261,
   267,
   273,
   277,
   283,
   291,
   298,
   304,
   311,
   320,
   325,
   334,
   346,
   357,
   362,
   366,
   374,
   378,
   386,
   390,
   403,
   407
  ]
 },
 "nbformat": 4,
 "nbformat_minor": 5
}