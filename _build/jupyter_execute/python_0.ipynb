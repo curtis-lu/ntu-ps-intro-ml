{
 "cells": [
  {
   "cell_type": "markdown",
   "metadata": {},
   "source": [
    "# python - variables and data types\n",
    "\n",
    "## **Python的基本資料型態**\n",
    "\n",
    "Python常用的資料型態基本上就如下表列這幾種。\n",
    "\n",
    "其中bool、int、float、str是最基本的資料型態。\n",
    "\n",
    "而list, tuple, dict, set可以理解成用不同方式來組織**\"物件\"**的資料型態，各有各的特點和使用情境。\n",
    "\n",
    "後面會說明list, tuple, dict, set的使用方式。\n",
    "\n",
    "| type | example |\n",
    "| --- | --- |\n",
    "| bool | True, False |\n",
    "| int | 42, 19, 112 |\n",
    "| float | 3.14, 0.13 |\n",
    "| str | 'Hi', \"Hello\", '''Bye!''', \"\"\"Bye!\"\"\" |\n",
    "| list | ['a', 'b', 'c', 'd', 'a'] |\n",
    "| tuple | ('a', 'b') |\n",
    "| dict | {'a': 1, 'b': 2} |\n",
    "| set | {'a', 'b', 'c'} |"
   ]
  },
  {
   "cell_type": "code",
   "execution_count": 1,
   "metadata": {},
   "outputs": [
    {
     "data": {
      "text/plain": [
       "bool"
      ]
     },
     "execution_count": 1,
     "metadata": {},
     "output_type": "execute_result"
    }
   ],
   "source": [
    "# \"type()\" -> function ; \"True\" -> function input (or argument)\n",
    "# type() 可以用來檢查資料型別\n",
    "type(True)"
   ]
  },
  {
   "cell_type": "code",
   "execution_count": 2,
   "metadata": {},
   "outputs": [
    {
     "data": {
      "text/plain": [
       "int"
      ]
     },
     "execution_count": 2,
     "metadata": {},
     "output_type": "execute_result"
    }
   ],
   "source": [
    "type(42)"
   ]
  },
  {
   "cell_type": "code",
   "execution_count": 3,
   "metadata": {},
   "outputs": [
    {
     "data": {
      "text/plain": [
       "float"
      ]
     },
     "execution_count": 3,
     "metadata": {},
     "output_type": "execute_result"
    }
   ],
   "source": [
    "type(3.14)"
   ]
  },
  {
   "cell_type": "markdown",
   "metadata": {},
   "source": [
    "**變數名稱的規則**\n",
    "\n",
    "- a-z, A-Z, 0-9, _\n",
    "- 區分大小寫，apple ≠ APPLE ≠ Apple\n",
    "- 開頭不能使用數字。\n",
    "- 以底線開頭的變數有特殊意義。\n",
    "- 不能是python保留字。（可參考[Python Keywords: An Introduction – Real Python](https://realpython.com/python-keywords/)）"
   ]
  },
  {
   "cell_type": "code",
   "execution_count": 4,
   "metadata": {},
   "outputs": [
    {
     "name": "stdout",
     "output_type": "stream",
     "text": [
      "\n",
      "Here is a list of the Python keywords.  Enter any keyword to get more help.\n",
      "\n",
      "False               class               from                or\n",
      "None                continue            global              pass\n",
      "True                def                 if                  raise\n",
      "and                 del                 import              return\n",
      "as                  elif                in                  try\n",
      "assert              else                is                  while\n",
      "async               except              lambda              with\n",
      "await               finally             nonlocal            yield\n",
      "break               for                 not                 \n",
      "\n"
     ]
    }
   ],
   "source": [
    "# 以下為python保留字\n",
    "help(\"keywords\")"
   ]
  },
  {
   "cell_type": "code",
   "execution_count": null,
   "metadata": {},
   "outputs": [],
   "source": []
  }
 ],
 "metadata": {
  "kernelspec": {
   "display_name": "ntu-ps-intro-ml-GyDE60mE-py3.11",
   "language": "python",
   "name": "python3"
  },
  "language_info": {
   "codemirror_mode": {
    "name": "ipython",
    "version": 3
   },
   "file_extension": ".py",
   "mimetype": "text/x-python",
   "name": "python",
   "nbconvert_exporter": "python",
   "pygments_lexer": "ipython3",
   "version": "3.11.0"
  }
 },
 "nbformat": 4,
 "nbformat_minor": 2
}