{
 "cells": [
  {
   "cell_type": "markdown",
   "id": "ff68636b",
   "metadata": {},
   "source": [
    "# Python - 資料型態與變數(1)\n",
    "\n",
    "## Python的基本資料型態\n",
    "\n",
    "Python常用的資料型態基本上就如下表列這幾種：\n",
    "\n",
    "| type | example |\n",
    "| --- | --- |\n",
    "| bool | True, False |\n",
    "| int | 42, 19, 112 |\n",
    "| float | 3.14, 0.13 |\n",
    "| str | 'Hi', \"Hello\", '''Bye!''', \"\"\"Bye!\"\"\" |\n",
    "| list | ['a', 'b', 'c', 'd', 'a'] |\n",
    "| tuple | ('a', 'b') |\n",
    "| dict | {'a': 1, 'b': 2} |\n",
    "| set | {'a', 'b', 'c'} |\n",
    "\n",
    "其中bool、int、float、str是最基本的資料型態。\n",
    "\n",
    "而list, tuple, dict, set可以理解成用不同方式來組織**物件**的資料型態，各有各的特點和使用情境。\n",
    "\n",
    "後面會說明list, tuple, dict, set的使用方式。"
   ]
  },
  {
   "cell_type": "code",
   "execution_count": 1,
   "id": "aa7ce35e",
   "metadata": {},
   "outputs": [
    {
     "data": {
      "text/plain": [
       "bool"
      ]
     },
     "execution_count": 1,
     "metadata": {},
     "output_type": "execute_result"
    }
   ],
   "source": [
    "# type() 是一個可以用來檢查資料型別的function。\n",
    "# 所謂function就是丟input進去，會有output跑出來。\n",
    "# \"type\"是這個function的名稱，\n",
    "# \"True\"是這個function的input，而function跑出來的output會列在下方。\n",
    "\n",
    "type(True)"
   ]
  },
  {
   "cell_type": "code",
   "execution_count": 2,
   "id": "8eeb3726",
   "metadata": {},
   "outputs": [
    {
     "data": {
      "text/plain": [
       "int"
      ]
     },
     "execution_count": 2,
     "metadata": {},
     "output_type": "execute_result"
    }
   ],
   "source": [
    "type(42)"
   ]
  },
  {
   "cell_type": "code",
   "execution_count": 3,
   "id": "6df74cda",
   "metadata": {},
   "outputs": [
    {
     "data": {
      "text/plain": [
       "float"
      ]
     },
     "execution_count": 3,
     "metadata": {},
     "output_type": "execute_result"
    }
   ],
   "source": [
    "type(3.14)"
   ]
  },
  {
   "cell_type": "markdown",
   "id": "702d31f7",
   "metadata": {},
   "source": [
    "## Python的資料 = 物件\n",
    "\n",
    "在python中，所有資料都是「**物件(object)**」。\n",
    "\n",
    "物件佔用記憶體的一部分位置，儲存了以下元素：\n",
    "\n",
    "- 物件的**id**，也就是唯一識別碼，指出了在倉庫中的位置。\n",
    "- 物件的**型態(type)**，說明物件可以做什麼。\n",
    "- 物件的**值**，也就是物件的內容。\n",
    "\n",
    "如果把電腦的記憶體想像成很多排架子的倉庫，每排架子裡有很多個格子，\n",
    "\n",
    "```{figure} ./images/rack.jpg\n",
    "---\n",
    "scale: 30%\n",
    "---\n",
    "<a href=\"https://www.freepik.com/free-ai-image/futuristic-library-with-shelves-symmetry-generated-by-ai_41283616.htm#fromView=search&term=warehouse&page=1&position=9&track=ais_ai_generated&regularType=ai&uuid=65da5c56-20aa-4bd1-8206-2c73a350cecc\">Image By vecstock</a>\n",
    "```\n",
    "\n",
    "我們可以把一個物件當作是一個盒子，佔用了倉庫中某些格子的位置。\n",
    "\n",
    "有些盒子比較大，佔用比較多格子，有些盒子比較小，只佔用一些格子。\n",
    "\n",
    "**變數(variable)** 則是物件的名稱，可以想像是盒子的標籤。\n",
    "\n",
    "標籤貼著盒子，幫助我們利用標籤去找出我們要的資料。\n",
    "\n",
    "\n",
    "```{figure} ./images/package_with_tag.jpg\n",
    "---\n",
    "scale: 30%\n",
    "---\n",
    "<a href=\"https://www.freepik.com/free-photo/mail-package-with-label_859014.htm#query=Rectangle%20carton%20box%20with%20tags&position=3&from_view=search&track=ais&uuid=af514f95-961e-46ba-909d-cffeb7c9ebc6\">Image by kstudio</a> on Freepik\n",
    "```\n",
    "\n",
    "例如我想把一串數字用一個簡單的名字來命名，其中\"=\"代表賦值："
   ]
  },
  {
   "cell_type": "code",
   "execution_count": 4,
   "id": "ec887652",
   "metadata": {},
   "outputs": [],
   "source": [
    "my_number = 20221130"
   ]
  },
  {
   "cell_type": "markdown",
   "id": "d9ae2a71",
   "metadata": {},
   "source": [
    "然後就可以呼叫變數名稱來使用它："
   ]
  },
  {
   "cell_type": "code",
   "execution_count": 5,
   "id": "9b94ee7c",
   "metadata": {},
   "outputs": [
    {
     "name": "stdout",
     "output_type": "stream",
     "text": [
      "20221130\n"
     ]
    }
   ],
   "source": [
    "print(my_number)"
   ]
  },
  {
   "cell_type": "markdown",
   "id": "ba7594ed",
   "metadata": {},
   "source": [
    "**變數名稱的規則**\n",
    "\n",
    "- a-z, A-Z, 0-9, _\n",
    "- 區分大小寫，apple ≠ APPLE ≠ Apple\n",
    "- 開頭不能使用數字。\n",
    "- 以底線開頭的變數有特殊意義。\n",
    "- 不能是python保留字。"
   ]
  },
  {
   "cell_type": "code",
   "execution_count": 6,
   "id": "c9e7271f",
   "metadata": {},
   "outputs": [
    {
     "name": "stdout",
     "output_type": "stream",
     "text": [
      "id:  4383245064\n",
      "type:  <class 'bool'>\n",
      "value:  True\n"
     ]
    }
   ],
   "source": [
    "print(\"id: \", id(True))\n",
    "print(\"type: \", type(True))\n",
    "print(\"value: \", True)"
   ]
  },
  {
   "cell_type": "markdown",
   "id": "32649601",
   "metadata": {},
   "source": [
    "以下為python保留字，也可參考：[Python Keywords: An Introduction – Real Python](https://realpython.com/python-keywords/)"
   ]
  },
  {
   "cell_type": "code",
   "execution_count": 7,
   "id": "d9e389b6",
   "metadata": {},
   "outputs": [
    {
     "name": "stdout",
     "output_type": "stream",
     "text": [
      "\n",
      "Here is a list of the Python keywords.  Enter any keyword to get more help.\n",
      "\n",
      "False               class               from                or\n",
      "None                continue            global              pass\n",
      "True                def                 if                  raise\n",
      "and                 del                 import              return\n",
      "as                  elif                in                  try\n",
      "assert              else                is                  while\n",
      "async               except              lambda              with\n",
      "await               finally             nonlocal            yield\n",
      "break               for                 not                 \n",
      "\n"
     ]
    }
   ],
   "source": [
    "help(\"keywords\")"
   ]
  },
  {
   "cell_type": "markdown",
   "id": "4ddbf202",
   "metadata": {},
   "source": [
    "python的合法賦值方法："
   ]
  },
  {
   "cell_type": "code",
   "execution_count": 8,
   "id": "d341bd81",
   "metadata": {},
   "outputs": [
    {
     "name": "stdout",
     "output_type": "stream",
     "text": [
      "0\n",
      "0\n",
      "0\n"
     ]
    }
   ],
   "source": [
    "a = b = c = 0\n",
    "\n",
    "print(a)\n",
    "print(b)\n",
    "print(c)"
   ]
  },
  {
   "cell_type": "code",
   "execution_count": 9,
   "id": "ed266668",
   "metadata": {},
   "outputs": [
    {
     "name": "stdout",
     "output_type": "stream",
     "text": [
      "1\n",
      "2\n"
     ]
    }
   ],
   "source": [
    "a, b = 1, 2\n",
    "\n",
    "print(a)\n",
    "print(b)"
   ]
  },
  {
   "cell_type": "markdown",
   "id": "08e0f0ae",
   "metadata": {},
   "source": [
    "## 基礎資料型別：布林\n",
    "\n",
    "bool型態就只有兩種：True & False，可以透過bool()將其他資料轉換為布林型態。"
   ]
  },
  {
   "cell_type": "code",
   "execution_count": 10,
   "id": "e9be92b7",
   "metadata": {},
   "outputs": [
    {
     "name": "stdout",
     "output_type": "stream",
     "text": [
      "True\n",
      "True\n",
      "True\n",
      "True\n",
      "True\n"
     ]
    }
   ],
   "source": [
    "# 以下這些都是True\n",
    "\n",
    "print(bool(1))\n",
    "print(bool(1.0))\n",
    "print(bool(100.001))\n",
    "print(bool(-1))\n",
    "print(bool('a'))"
   ]
  },
  {
   "cell_type": "code",
   "execution_count": 11,
   "id": "765165ca",
   "metadata": {},
   "outputs": [
    {
     "name": "stdout",
     "output_type": "stream",
     "text": [
      "False\n",
      "False\n"
     ]
    }
   ],
   "source": [
    "# False\n",
    "\n",
    "print(bool(0))\n",
    "print(bool(0.0))"
   ]
  },
  {
   "cell_type": "markdown",
   "id": "a187b6c6",
   "metadata": {},
   "source": [
    "布林邏輯運算使用and和or關鍵字。"
   ]
  },
  {
   "cell_type": "code",
   "execution_count": 12,
   "id": "62360def",
   "metadata": {},
   "outputs": [
    {
     "name": "stdout",
     "output_type": "stream",
     "text": [
      "True\n",
      "False\n",
      "True\n",
      "True\n",
      "False\n",
      "False\n"
     ]
    }
   ],
   "source": [
    "print(True and True)\n",
    "print(True and False)\n",
    "print(True or True)\n",
    "print(True or False)\n",
    "print(False and False)\n",
    "print(False or False)"
   ]
  },
  {
   "cell_type": "markdown",
   "id": "801bcb88",
   "metadata": {},
   "source": [
    "## 基礎資料型別：整數與浮點數\n",
    "\n",
    "可以透過int()和float()做資料型別轉換。"
   ]
  },
  {
   "cell_type": "code",
   "execution_count": 13,
   "id": "43137d27",
   "metadata": {},
   "outputs": [
    {
     "data": {
      "text/plain": [
       "1"
      ]
     },
     "execution_count": 13,
     "metadata": {},
     "output_type": "execute_result"
    }
   ],
   "source": [
    "int(True)"
   ]
  },
  {
   "cell_type": "code",
   "execution_count": 14,
   "id": "9100153e",
   "metadata": {},
   "outputs": [
    {
     "data": {
      "text/plain": [
       "1.0"
      ]
     },
     "execution_count": 14,
     "metadata": {},
     "output_type": "execute_result"
    }
   ],
   "source": [
    "float(True)"
   ]
  },
  {
   "cell_type": "code",
   "execution_count": 15,
   "id": "e7f6cddc",
   "metadata": {},
   "outputs": [
    {
     "data": {
      "text/plain": [
       "1.0"
      ]
     },
     "execution_count": 15,
     "metadata": {},
     "output_type": "execute_result"
    }
   ],
   "source": [
    "float('1')"
   ]
  },
  {
   "cell_type": "markdown",
   "id": "2fc1bd1d",
   "metadata": {},
   "source": [
    "**python的運算子**如下列表：\n",
    "\n",
    "| 運算子 | 說明 | 範例 | 結果 |\n",
    "| --- | --- | --- | --- |\n",
    "| + | 加法 | 1+1 | 2 |\n",
    "| - | 減法 | 100 - 1 | 99 |\n",
    "| * | 乘法 | 3 * 2 | 6 |\n",
    "| / | 除法 | 9 / 2 | 4.5 |\n",
    "| // | 取商數 | 9 // 2 | 4 |\n",
    "| % | 取餘數 | 9 % 2 | 1 |\n",
    "| ** | 次方 | 2 ** 3 | 8 |\n",
    "\n",
    "## 基礎資料型別：字串\n",
    "\n",
    "用''、\"\"、''''''、\"\"\"\"\"\"括起來的資料就是str。\n",
    "也可以透過str()來將資料轉換為字串。"
   ]
  },
  {
   "cell_type": "code",
   "execution_count": 16,
   "id": "f0c6888a",
   "metadata": {},
   "outputs": [
    {
     "data": {
      "text/plain": [
       "'42.0'"
      ]
     },
     "execution_count": 16,
     "metadata": {},
     "output_type": "execute_result"
    }
   ],
   "source": [
    "str(42.0)"
   ]
  },
  {
   "cell_type": "code",
   "execution_count": 17,
   "id": "3b36ab3c",
   "metadata": {},
   "outputs": [
    {
     "data": {
      "text/plain": [
       "'True'"
      ]
     },
     "execution_count": 17,
     "metadata": {},
     "output_type": "execute_result"
    }
   ],
   "source": [
    "str(True)"
   ]
  },
  {
   "cell_type": "markdown",
   "id": "b023d078",
   "metadata": {},
   "source": [
    "### \"\\\\\"轉譯\n",
    "\n",
    "在python中\"\\\\\"是一個特殊的符號，後面接不同字母代表不同意思：\n",
    "\n",
    "\"\\n\"代表換行；\"\\t\"代表tab；\"\\\\\\\\\"則代表\"\\\\\""
   ]
  },
  {
   "cell_type": "code",
   "execution_count": 18,
   "id": "91d5e503",
   "metadata": {},
   "outputs": [
    {
     "name": "stdout",
     "output_type": "stream",
     "text": [
      "a\n",
      "bc\n"
     ]
    }
   ],
   "source": [
    "print('a\\nbc')"
   ]
  },
  {
   "cell_type": "code",
   "execution_count": 19,
   "id": "de91f750",
   "metadata": {},
   "outputs": [
    {
     "name": "stdout",
     "output_type": "stream",
     "text": [
      "a\tbc\n"
     ]
    }
   ],
   "source": [
    "print('a\\tbc')"
   ]
  },
  {
   "cell_type": "code",
   "execution_count": 20,
   "id": "6763c9b7",
   "metadata": {},
   "outputs": [
    {
     "name": "stdout",
     "output_type": "stream",
     "text": [
      "a\\bc\n"
     ]
    }
   ],
   "source": [
    "print('a\\\\bc')"
   ]
  },
  {
   "cell_type": "markdown",
   "id": "7baf2f95",
   "metadata": {},
   "source": [
    "在字串前多加一個r，會取消\"\\\\\\\"轉譯。\n",
    "\n",
    "這種字串稱作原始字串，常用於表示window作業系統的路徑。"
   ]
  },
  {
   "cell_type": "code",
   "execution_count": 21,
   "id": "de848a63",
   "metadata": {},
   "outputs": [
    {
     "name": "stdout",
     "output_type": "stream",
     "text": [
      "a\\nbc\n"
     ]
    }
   ],
   "source": [
    "print(r'a\\nbc')"
   ]
  },
  {
   "cell_type": "markdown",
   "id": "84365ca8",
   "metadata": {},
   "source": [
    "### f-strings\n",
    "\n",
    "f-strings可以將變數值帶入字串，或是用來格式化。\n",
    "\n",
    "使用方法是在字串前加一個字母f，然後想要置換的東西要用\"{}\"包起來。\n",
    "\n",
    "可參考：[Guide to String Formatting in Python Using F-strings | Built In](https://builtin.com/data-science/python-f-string)"
   ]
  },
  {
   "cell_type": "code",
   "execution_count": 22,
   "id": "a3acf9b3",
   "metadata": {},
   "outputs": [
    {
     "name": "stdout",
     "output_type": "stream",
     "text": [
      "Hi, Curtis!\n"
     ]
    }
   ],
   "source": [
    "name = 'Curtis'\n",
    "print(f'Hi, {name}!')"
   ]
  },
  {
   "cell_type": "code",
   "execution_count": 23,
   "id": "2ca30006",
   "metadata": {},
   "outputs": [
    {
     "name": "stdout",
     "output_type": "stream",
     "text": [
      "12.35\n",
      "1234.567890%\n",
      "1,234.567890%\n",
      "1,234.57%\n"
     ]
    }
   ],
   "source": [
    "number = 12.3456789\n",
    "\n",
    "print( f'{number:.2f}')\n",
    "print( f'{number:%}')\n",
    "print( f'{number:,%}')\n",
    "print( f'{number:,.2%}')"
   ]
  },
  {
   "cell_type": "code",
   "execution_count": 24,
   "id": "054d90f8",
   "metadata": {},
   "outputs": [
    {
     "name": "stdout",
     "output_type": "stream",
     "text": [
      "CurtisLu\n"
     ]
    }
   ],
   "source": [
    "# {} 內也可以做運算\n",
    "\n",
    "first_name = 'Curtis'\n",
    "last_name = 'Lu'\n",
    "\n",
    "print(f'{first_name + last_name}')"
   ]
  },
  {
   "cell_type": "markdown",
   "id": "c24f6c6a",
   "metadata": {},
   "source": [
    "### 字串的其他基本用法\n",
    "\n",
    "#### 字串的切片"
   ]
  },
  {
   "cell_type": "code",
   "execution_count": 25,
   "id": "0bbebc00",
   "metadata": {},
   "outputs": [
    {
     "name": "stdout",
     "output_type": "stream",
     "text": [
      "a\n",
      "z\n",
      "ab\n",
      "yz\n",
      "ace\n",
      "zyxwvutsrqponmlkjihgfedcba\n"
     ]
    }
   ],
   "source": [
    "letters = 'abcdefghijklmnopqrstuvwxyz'\n",
    "\n",
    "print(letters[0])\n",
    "print(letters[-1])\n",
    "print(letters[0:2])\n",
    "print(letters[-2:])\n",
    "print(letters[0:6:2])\n",
    "print(letters[::-1])"
   ]
  },
  {
   "cell_type": "markdown",
   "id": "08004a1d",
   "metadata": {},
   "source": [
    "#### 判斷字串是否包含字串"
   ]
  },
  {
   "cell_type": "code",
   "execution_count": 26,
   "id": "5d684c61",
   "metadata": {},
   "outputs": [
    {
     "data": {
      "text/plain": [
       "True"
      ]
     },
     "execution_count": 26,
     "metadata": {},
     "output_type": "execute_result"
    }
   ],
   "source": [
    "'a' in 'apple'"
   ]
  },
  {
   "cell_type": "markdown",
   "id": "0c38f2de",
   "metadata": {},
   "source": [
    "#### 字串的加法與乘法運算"
   ]
  },
  {
   "cell_type": "code",
   "execution_count": 27,
   "id": "a1092b02",
   "metadata": {},
   "outputs": [
    {
     "name": "stdout",
     "output_type": "stream",
     "text": [
      "12\n",
      "11111\n",
      "122222\n"
     ]
    }
   ],
   "source": [
    "print('1' + '2')\n",
    "print('1' * 5)\n",
    "print('1' + '2' * 5)"
   ]
  },
  {
   "cell_type": "markdown",
   "id": "40a5a88e",
   "metadata": {},
   "source": [
    "#### 字串的拆分.split()\n",
    "\n",
    "這邊用到一個新的物件操作方法，即在一個字串型別的變數後面加上\".”然後用呼叫方法名稱。\n",
    "\n",
    "例如一個拆分字串的方法\".split()”："
   ]
  },
  {
   "cell_type": "code",
   "execution_count": 28,
   "id": "919e8b49",
   "metadata": {},
   "outputs": [
    {
     "name": "stdout",
     "output_type": "stream",
     "text": [
      "['National', 'Taiwan', 'University']\n"
     ]
    }
   ],
   "source": [
    "name = 'National Taiwan University'\n",
    "\n",
    "print(name.split())"
   ]
  },
  {
   "cell_type": "markdown",
   "id": "524d90bc",
   "metadata": {},
   "source": [
    "其中括弧內也可以輸入引數(argument)來指定要使用的切割字元（不輸入的話預設就是一個空白鍵）："
   ]
  },
  {
   "cell_type": "code",
   "execution_count": 29,
   "id": "af47abb7",
   "metadata": {},
   "outputs": [
    {
     "name": "stdout",
     "output_type": "stream",
     "text": [
      "['N', 'tion', 'l T', 'iw', 'n University']\n"
     ]
    }
   ],
   "source": [
    "name = 'National Taiwan University'\n",
    "\n",
    "print(name.split('a'))"
   ]
  },
  {
   "cell_type": "markdown",
   "id": "fb020b7a",
   "metadata": {},
   "source": [
    "#### 字串的剝除str.strip()"
   ]
  },
  {
   "cell_type": "code",
   "execution_count": 30,
   "id": "3eb8e45c",
   "metadata": {},
   "outputs": [
    {
     "data": {
      "text/plain": [
       "'Curtis Lu'"
      ]
     },
     "execution_count": 30,
     "metadata": {},
     "output_type": "execute_result"
    }
   ],
   "source": [
    "name = '    Curtis Lu    '\n",
    "name.strip()"
   ]
  },
  {
   "cell_type": "code",
   "execution_count": 31,
   "id": "805d5e34",
   "metadata": {},
   "outputs": [
    {
     "data": {
      "text/plain": [
       "'Curtis Lu'"
      ]
     },
     "execution_count": 31,
     "metadata": {},
     "output_type": "execute_result"
    }
   ],
   "source": [
    "name = '    Curtis Lu....!!!    '\n",
    "name.strip(' .!')"
   ]
  },
  {
   "cell_type": "markdown",
   "id": "1cdebdd5",
   "metadata": {},
   "source": [
    "#### 其他字串操作"
   ]
  },
  {
   "cell_type": "code",
   "execution_count": 32,
   "id": "1915c3b3",
   "metadata": {},
   "outputs": [
    {
     "name": "stdout",
     "output_type": "stream",
     "text": [
      "Curtis lu\n",
      "Curtis Lu\n",
      "CURTIS LU\n",
      "curtis lu\n",
      "CURTIS LU\n"
     ]
    }
   ],
   "source": [
    "name = 'curtis lu'\n",
    "\n",
    "print(name.capitalize())\n",
    "print(name.title())\n",
    "print(name.upper())\n",
    "print(name.lower())\n",
    "print(name.swapcase())"
   ]
  }
 ],
 "metadata": {
  "jupytext": {
   "formats": "md:myst",
   "text_representation": {
    "extension": ".md",
    "format_name": "myst",
    "format_version": 0.13,
    "jupytext_version": "1.16.0"
   }
  },
  "kernelspec": {
   "display_name": "Python 3",
   "language": "python",
   "name": "python3"
  },
  "language_info": {
   "codemirror_mode": {
    "name": "ipython",
    "version": 3
   },
   "file_extension": ".py",
   "mimetype": "text/x-python",
   "name": "python",
   "nbconvert_exporter": "python",
   "pygments_lexer": "ipython3",
   "version": "3.11.0"
  },
  "source_map": [
   13,
   38,
   47,
   51,
   53,
   92,
   94,
   98,
   100,
   110,
   114,
   118,
   120,
   124,
   132,
   137,
   143,
   153,
   158,
   162,
   169,
   175,
   179,
   183,
   185,
   204,
   208,
   210,
   218,
   222,
   226,
   228,
   234,
   236,
   247,
   252,
   261,
   268,
   274,
   283,
   287,
   289,
   293,
   297,
   305,
   309,
   313,
   317,
   322,
   327,
   330,
   334
  ]
 },
 "nbformat": 4,
 "nbformat_minor": 5
}