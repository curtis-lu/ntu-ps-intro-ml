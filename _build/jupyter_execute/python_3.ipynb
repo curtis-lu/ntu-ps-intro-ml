{
 "cells": [
  {
   "cell_type": "markdown",
   "id": "452c8d7b",
   "metadata": {},
   "source": [
    "# 進階主題\n",
    "\n",
    "## 資料型別的可變與不可變\n",
    "\n",
    "**資料型態與是否可變**\n",
    "\n",
    "| type | example | immutable |\n",
    "| --- | --- | --- |\n",
    "| bool | True, False | immutable |\n",
    "| int | 42, 19, 112 | immutable |\n",
    "| float | 3.14, 0.13 | immutable |\n",
    "| str | 'Hi', \"Hello\", '''Bye!''', \"\"\"Bye!\"\"\" | immutable |\n",
    "| list | ['a', 'b', 'c', 'd', 'a'] | mutable |\n",
    "| tuple | ('a', 'b') | immutable |\n",
    "| dict | {'a': 1, 'b': 2} | mutable |\n",
    "| set | {'a', 'b', 'c'} | mutable |\n",
    "\n",
    "**不可變**"
   ]
  },
  {
   "cell_type": "code",
   "execution_count": 1,
   "id": "a0b594ff",
   "metadata": {},
   "outputs": [
    {
     "name": "stdout",
     "output_type": "stream",
     "text": [
      "5\n",
      "5\n",
      "29\n",
      "5\n"
     ]
    }
   ],
   "source": [
    "x = 5\n",
    "print(x)\n",
    "\n",
    "y = x\n",
    "print(y)\n",
    "\n",
    "x = 29\n",
    "print(x)\n",
    "\n",
    "print(y)"
   ]
  },
  {
   "cell_type": "code",
   "execution_count": 2,
   "id": "2c5e0726",
   "metadata": {},
   "outputs": [
    {
     "ename": "TypeError",
     "evalue": "'str' object does not support item assignment",
     "output_type": "error",
     "traceback": [
      "\u001b[0;31m---------------------------------------------------------------------------\u001b[0m",
      "\u001b[0;31mTypeError\u001b[0m                                 Traceback (most recent call last)",
      "Cell \u001b[0;32mIn[2], line 2\u001b[0m\n\u001b[1;32m      1\u001b[0m name \u001b[38;5;241m=\u001b[39m \u001b[38;5;124m'\u001b[39m\u001b[38;5;124mCurtis\u001b[39m\u001b[38;5;124m'\u001b[39m\n\u001b[0;32m----> 2\u001b[0m \u001b[43mname\u001b[49m\u001b[43m[\u001b[49m\u001b[38;5;241;43m0\u001b[39;49m\u001b[43m]\u001b[49m \u001b[38;5;241m=\u001b[39m \u001b[38;5;124m'\u001b[39m\u001b[38;5;124mK\u001b[39m\u001b[38;5;124m'\u001b[39m\n",
      "\u001b[0;31mTypeError\u001b[0m: 'str' object does not support item assignment"
     ]
    }
   ],
   "source": [
    "name = 'Curtis'\n",
    "name[0] = 'K'"
   ]
  },
  {
   "cell_type": "markdown",
   "id": "e3c2092a",
   "metadata": {},
   "source": [
    "**可變**"
   ]
  },
  {
   "cell_type": "code",
   "execution_count": 3,
   "id": "4edc838a",
   "metadata": {},
   "outputs": [
    {
     "name": "stdout",
     "output_type": "stream",
     "text": [
      "['a', 2, 3]\n"
     ]
    }
   ],
   "source": [
    "x = [1, 2, 3]\n",
    "y = x\n",
    "x[0] = 'a'\n",
    "\n",
    "print(y)"
   ]
  },
  {
   "cell_type": "markdown",
   "id": "e88fe1a6",
   "metadata": {},
   "source": [
    "## 資料型態統整\n",
    "\n",
    "參考資料\n",
    "\n",
    "introducing python: modern computing in simple packages"
   ]
  }
 ],
 "metadata": {
  "jupytext": {
   "formats": "md:myst",
   "text_representation": {
    "extension": ".md",
    "format_name": "myst",
    "format_version": 0.13,
    "jupytext_version": "1.16.0"
   }
  },
  "kernelspec": {
   "display_name": "Python 3",
   "language": "python",
   "name": "python3"
  },
  "language_info": {
   "codemirror_mode": {
    "name": "ipython",
    "version": 3
   },
   "file_extension": ".py",
   "mimetype": "text/x-python",
   "name": "python",
   "nbconvert_exporter": "python",
   "pygments_lexer": "ipython3",
   "version": "3.11.0"
  },
  "source_map": [
   13,
   34,
   47,
   50,
   54,
   60
  ]
 },
 "nbformat": 4,
 "nbformat_minor": 5
}