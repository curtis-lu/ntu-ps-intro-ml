{
 "cells": [
  {
   "cell_type": "markdown",
   "id": "11d94d62",
   "metadata": {},
   "source": [
    "# 5.function\n",
    "\n",
    "## function\n",
    "\n",
    "所謂function是接收一些輸入，然後做一些事情，最後吐出輸出。\n",
    "\n",
    "自定義function，對於資料分析來說非常實用。\n",
    "不僅在資料處理與分析的過程中，可以避免一直重複複製貼上同一段語法。\n",
    "也可以有效地組織你的程式，讓程式的結構更清楚，更好維護。\n",
    "\n",
    "### 定義function\n",
    "\n",
    "- 要使用```def```關鍵字\n",
    "- 為function命名\n",
    "- function名稱後面接著一個```()```，裡面放「參數(parameter)」，也就是function的輸入。\n",
    "- ```()```後面接著一個冒號\n",
    "- 下方縮排4個空格，就是function中處理邏輯的區塊。\n",
    "- 最後一行是```return```關鍵字，設定要輸出的東西。"
   ]
  },
  {
   "cell_type": "code",
   "execution_count": 1,
   "id": "3f458985",
   "metadata": {},
   "outputs": [],
   "source": [
    "def my_sum(a, b, c):\n",
    "    result = a + b + c\n",
    "    return result"
   ]
  },
  {
   "cell_type": "markdown",
   "id": "df4f67db",
   "metadata": {},
   "source": [
    "### 使用function\n",
    "\n",
    "- 實際呼叫function時，只要在function的```()```中放入function需要的輸入，就可以執行了。\n",
    "- 呼叫時傳入的東西稱作**引數(argument)**，在定義時則稱作**參數(parameter)**。\n",
    "\n",
    "**位置引數(positional argument)**\n",
    "\n",
    "不指定參數名稱直接呼叫函數的話，稱作位置引數(positional argument)："
   ]
  },
  {
   "cell_type": "code",
   "execution_count": 2,
   "id": "4430bfc7",
   "metadata": {},
   "outputs": [
    {
     "data": {
      "text/plain": [
       "6"
      ]
     },
     "execution_count": 2,
     "metadata": {},
     "output_type": "execute_result"
    }
   ],
   "source": [
    "my_sum(1, 2, 3)"
   ]
  },
  {
   "cell_type": "markdown",
   "id": "4ed2a69d",
   "metadata": {},
   "source": [
    "**關鍵字引數(keyword argument)**\n",
    "\n",
    "如果指定參數名稱的話，稱作關鍵字引數(keyword argument)："
   ]
  },
  {
   "cell_type": "code",
   "execution_count": 3,
   "id": "84de3242",
   "metadata": {},
   "outputs": [
    {
     "data": {
      "text/plain": [
       "6"
      ]
     },
     "execution_count": 3,
     "metadata": {},
     "output_type": "execute_result"
    }
   ],
   "source": [
    "my_sum(a=1, b=2, c=3)"
   ]
  },
  {
   "cell_type": "markdown",
   "id": "47bc4d37",
   "metadata": {},
   "source": [
    "位置引數跟關鍵字引數可以混用，但**位置引數必須在關鍵字引數**前面："
   ]
  },
  {
   "cell_type": "code",
   "execution_count": 4,
   "id": "f9c50a85",
   "metadata": {},
   "outputs": [
    {
     "ename": "SyntaxError",
     "evalue": "positional argument follows keyword argument (1171529065.py, line 5)",
     "output_type": "error",
     "traceback": [
      "\u001b[0;36m  Cell \u001b[0;32mIn[4], line 5\u001b[0;36m\u001b[0m\n\u001b[0;31m    my_sum(a=1, 2, 3)\u001b[0m\n\u001b[0m                    ^\u001b[0m\n\u001b[0;31mSyntaxError\u001b[0m\u001b[0;31m:\u001b[0m positional argument follows keyword argument\n"
     ]
    }
   ],
   "source": [
    "# 合法\n",
    "my_sum(1, 2, c=3)\n",
    "\n",
    "# 不合法\n",
    "my_sum(a=1, 2, 3)"
   ]
  },
  {
   "cell_type": "markdown",
   "id": "f880a8b0",
   "metadata": {},
   "source": [
    "**任意引數：```*args``` & ```＊*kwargs```**\n",
    "\n",
    "當想要function可以傳入不固定的參數數量時，可以使用可變動參數。\n",
    "\n",
    "其中```*args```代表位置引數，```**kwargs```代表關鍵字引數。\n",
    "\n",
    "**```*args```用法範例如下：**"
   ]
  },
  {
   "cell_type": "code",
   "execution_count": 5,
   "id": "868c79f5",
   "metadata": {},
   "outputs": [
    {
     "data": {
      "text/plain": [
       "15"
      ]
     },
     "execution_count": 5,
     "metadata": {},
     "output_type": "execute_result"
    }
   ],
   "source": [
    "def my_sum(*args):\n",
    "    result = 0\n",
    "    for number in args:\n",
    "        result += number\n",
    "    return result\n",
    "\n",
    "my_sum(1,2,3,4,5)"
   ]
  },
  {
   "cell_type": "code",
   "execution_count": 6,
   "id": "f29f1ca2",
   "metadata": {},
   "outputs": [
    {
     "data": {
      "text/plain": [
       "55"
      ]
     },
     "execution_count": 6,
     "metadata": {},
     "output_type": "execute_result"
    }
   ],
   "source": [
    "my_sum(1,2,3,4,5,6,7,8,9,10)"
   ]
  },
  {
   "cell_type": "markdown",
   "id": "b509d0b3",
   "metadata": {},
   "source": [
    "**```**kwargs```用法範例如下：**"
   ]
  },
  {
   "cell_type": "code",
   "execution_count": 7,
   "id": "074d7c8a",
   "metadata": {},
   "outputs": [
    {
     "ename": "ValueError",
     "evalue": "not enough values to unpack (expected 2, got 1)",
     "output_type": "error",
     "traceback": [
      "\u001b[0;31m---------------------------------------------------------------------------\u001b[0m",
      "\u001b[0;31mValueError\u001b[0m                                Traceback (most recent call last)",
      "Cell \u001b[0;32mIn[7], line 6\u001b[0m\n\u001b[1;32m      3\u001b[0m         \u001b[38;5;28mprint\u001b[39m(\u001b[38;5;124mf\u001b[39m\u001b[38;5;124m'\u001b[39m\u001b[38;5;132;01m{\u001b[39;00mk\u001b[38;5;132;01m}\u001b[39;00m\u001b[38;5;124m -> \u001b[39m\u001b[38;5;132;01m{\u001b[39;00mv\u001b[38;5;132;01m}\u001b[39;00m\u001b[38;5;124m'\u001b[39m)\n\u001b[1;32m      4\u001b[0m     \u001b[38;5;28;01mreturn\u001b[39;00m \u001b[38;5;28;01mNone\u001b[39;00m\n\u001b[0;32m----> 6\u001b[0m \u001b[43mmy_func\u001b[49m\u001b[43m(\u001b[49m\u001b[43ma\u001b[49m\u001b[38;5;241;43m=\u001b[39;49m\u001b[38;5;241;43m1\u001b[39;49m\u001b[43m,\u001b[49m\u001b[43m \u001b[49m\u001b[43mb\u001b[49m\u001b[38;5;241;43m=\u001b[39;49m\u001b[38;5;241;43m2\u001b[39;49m\u001b[43m,\u001b[49m\u001b[43m \u001b[49m\u001b[43mc\u001b[49m\u001b[38;5;241;43m=\u001b[39;49m\u001b[38;5;241;43m3\u001b[39;49m\u001b[43m)\u001b[49m\n",
      "Cell \u001b[0;32mIn[7], line 2\u001b[0m, in \u001b[0;36mmy_func\u001b[0;34m(**kwargs)\u001b[0m\n\u001b[1;32m      1\u001b[0m \u001b[38;5;28;01mdef\u001b[39;00m \u001b[38;5;21mmy_func\u001b[39m(\u001b[38;5;241m*\u001b[39m\u001b[38;5;241m*\u001b[39mkwargs):\n\u001b[0;32m----> 2\u001b[0m     \u001b[38;5;28;01mfor\u001b[39;00m k, v \u001b[38;5;129;01min\u001b[39;00m kwargs:\n\u001b[1;32m      3\u001b[0m         \u001b[38;5;28mprint\u001b[39m(\u001b[38;5;124mf\u001b[39m\u001b[38;5;124m'\u001b[39m\u001b[38;5;132;01m{\u001b[39;00mk\u001b[38;5;132;01m}\u001b[39;00m\u001b[38;5;124m -> \u001b[39m\u001b[38;5;132;01m{\u001b[39;00mv\u001b[38;5;132;01m}\u001b[39;00m\u001b[38;5;124m'\u001b[39m)\n\u001b[1;32m      4\u001b[0m     \u001b[38;5;28;01mreturn\u001b[39;00m \u001b[38;5;28;01mNone\u001b[39;00m\n",
      "\u001b[0;31mValueError\u001b[0m: not enough values to unpack (expected 2, got 1)"
     ]
    }
   ],
   "source": [
    "def my_func(**kwargs):\n",
    "    for k, v in kwargs:\n",
    "        print(f'{k} -> {v}')\n",
    "    return None\n",
    "\n",
    "my_func(a=1, b=2, c=3)"
   ]
  },
  {
   "cell_type": "code",
   "execution_count": 8,
   "id": "0a87660c",
   "metadata": {},
   "outputs": [
    {
     "ename": "ValueError",
     "evalue": "not enough values to unpack (expected 2, got 1)",
     "output_type": "error",
     "traceback": [
      "\u001b[0;31m---------------------------------------------------------------------------\u001b[0m",
      "\u001b[0;31mValueError\u001b[0m                                Traceback (most recent call last)",
      "Cell \u001b[0;32mIn[8], line 1\u001b[0m\n\u001b[0;32m----> 1\u001b[0m \u001b[43mmy_func\u001b[49m\u001b[43m(\u001b[49m\u001b[43ma\u001b[49m\u001b[38;5;241;43m=\u001b[39;49m\u001b[38;5;241;43m1\u001b[39;49m\u001b[43m,\u001b[49m\u001b[43m \u001b[49m\u001b[43mb\u001b[49m\u001b[38;5;241;43m=\u001b[39;49m\u001b[38;5;241;43m2\u001b[39;49m\u001b[43m,\u001b[49m\u001b[43m \u001b[49m\u001b[43mc\u001b[49m\u001b[38;5;241;43m=\u001b[39;49m\u001b[38;5;241;43m3\u001b[39;49m\u001b[43m,\u001b[49m\u001b[43m \u001b[49m\u001b[43md\u001b[49m\u001b[38;5;241;43m=\u001b[39;49m\u001b[38;5;241;43m4\u001b[39;49m\u001b[43m,\u001b[49m\u001b[43m \u001b[49m\u001b[43me\u001b[49m\u001b[38;5;241;43m=\u001b[39;49m\u001b[38;5;241;43m5\u001b[39;49m\u001b[43m)\u001b[49m\n",
      "Cell \u001b[0;32mIn[7], line 2\u001b[0m, in \u001b[0;36mmy_func\u001b[0;34m(**kwargs)\u001b[0m\n\u001b[1;32m      1\u001b[0m \u001b[38;5;28;01mdef\u001b[39;00m \u001b[38;5;21mmy_func\u001b[39m(\u001b[38;5;241m*\u001b[39m\u001b[38;5;241m*\u001b[39mkwargs):\n\u001b[0;32m----> 2\u001b[0m     \u001b[38;5;28;01mfor\u001b[39;00m k, v \u001b[38;5;129;01min\u001b[39;00m kwargs:\n\u001b[1;32m      3\u001b[0m         \u001b[38;5;28mprint\u001b[39m(\u001b[38;5;124mf\u001b[39m\u001b[38;5;124m'\u001b[39m\u001b[38;5;132;01m{\u001b[39;00mk\u001b[38;5;132;01m}\u001b[39;00m\u001b[38;5;124m -> \u001b[39m\u001b[38;5;132;01m{\u001b[39;00mv\u001b[38;5;132;01m}\u001b[39;00m\u001b[38;5;124m'\u001b[39m)\n\u001b[1;32m      4\u001b[0m     \u001b[38;5;28;01mreturn\u001b[39;00m \u001b[38;5;28;01mNone\u001b[39;00m\n",
      "\u001b[0;31mValueError\u001b[0m: not enough values to unpack (expected 2, got 1)"
     ]
    }
   ],
   "source": [
    "my_func(a=1, b=2, c=3, d=4, e=5)"
   ]
  },
  {
   "cell_type": "markdown",
   "id": "4f5b6058",
   "metadata": {},
   "source": [
    "多種參數可以混用："
   ]
  },
  {
   "cell_type": "code",
   "execution_count": 9,
   "id": "5223c32e",
   "metadata": {},
   "outputs": [],
   "source": [
    "def my_func(a, b, *args, **kwargs):\n",
    "    print(f'I am standard arg: {a} & {b}')\n",
    "    print(f'I am positional arg: {args}')\n",
    "    print(f'I am keyword arg: {kwargs}')\n",
    "    return None"
   ]
  },
  {
   "cell_type": "code",
   "execution_count": 10,
   "id": "7a551c58",
   "metadata": {},
   "outputs": [
    {
     "name": "stdout",
     "output_type": "stream",
     "text": [
      "I am standard arg: 1 & 2\n",
      "I am positional arg: ()\n",
      "I am keyword arg: {'c': 3}\n"
     ]
    }
   ],
   "source": [
    "my_func(1, 2, c=3)"
   ]
  },
  {
   "cell_type": "code",
   "execution_count": 11,
   "id": "3b47b6e5",
   "metadata": {},
   "outputs": [
    {
     "name": "stdout",
     "output_type": "stream",
     "text": [
      "I am standard arg: 1 & 2\n",
      "I am positional arg: (3,)\n",
      "I am keyword arg: {'d': 4, 'e': 5}\n"
     ]
    }
   ],
   "source": [
    "my_func(1, 2, 3, d=4, e=5)"
   ]
  },
  {
   "cell_type": "markdown",
   "id": "240b8653",
   "metadata": {},
   "source": [
    "由上面的例子可以看到，```*args```是傳入一個tuple，```**kwargs```則是傳入一個dict。\n",
    "\n",
    "### 參數預設值(default parameter)\n",
    "\n",
    "可以在function定義時，指定參數的預設值，使用該function時就可以不必輸入引數傳入。"
   ]
  },
  {
   "cell_type": "code",
   "execution_count": 12,
   "id": "7e494c3c",
   "metadata": {},
   "outputs": [
    {
     "data": {
      "text/plain": [
       "12"
      ]
     },
     "execution_count": 12,
     "metadata": {},
     "output_type": "execute_result"
    }
   ],
   "source": [
    "def my_sum(a, b, c=3):\n",
    "    result = a + b + c\n",
    "    return result\n",
    "\n",
    "my_sum(4, 5)"
   ]
  },
  {
   "cell_type": "code",
   "execution_count": 13,
   "id": "fcf558d5",
   "metadata": {},
   "outputs": [
    {
     "data": {
      "text/plain": [
       "15"
      ]
     },
     "execution_count": 13,
     "metadata": {},
     "output_type": "execute_result"
    }
   ],
   "source": [
    "my_sum(4, 5, 6)"
   ]
  },
  {
   "cell_type": "markdown",
   "id": "b2bfee3b",
   "metadata": {},
   "source": [
    "注意，有指定預設值的參數必定是在位置引數之後，否則會搞不清楚引數傳入的順序。"
   ]
  },
  {
   "cell_type": "code",
   "execution_count": 14,
   "id": "e25e7312",
   "metadata": {},
   "outputs": [
    {
     "ename": "SyntaxError",
     "evalue": "non-default argument follows default argument (2221502773.py, line 2)",
     "output_type": "error",
     "traceback": [
      "\u001b[0;36m  Cell \u001b[0;32mIn[14], line 2\u001b[0;36m\u001b[0m\n\u001b[0;31m    def my_sum(a=1, b, c):\u001b[0m\n\u001b[0m                    ^\u001b[0m\n\u001b[0;31mSyntaxError\u001b[0m\u001b[0;31m:\u001b[0m non-default argument follows default argument\n"
     ]
    }
   ],
   "source": [
    "# 不合法\n",
    "def my_sum(a=1, b, c):\n",
    "    result = a + b + c\n",
    "    return result"
   ]
  },
  {
   "cell_type": "markdown",
   "id": "14c1e202",
   "metadata": {},
   "source": [
    "**可變物件作為參數預設值**\n",
    "\n",
    "以可變物件作為參數預設值可能會產生問題。\n",
    "例如以下程式，假設我們希望這個function當沒有指定list時就初始化一個空的list，然後就把元素append進去："
   ]
  },
  {
   "cell_type": "code",
   "execution_count": 15,
   "id": "59668de7",
   "metadata": {},
   "outputs": [],
   "source": [
    "def append_element(e, mylist=[]):\n",
    "    mylist.append(e)\n",
    "    return mylist"
   ]
  },
  {
   "cell_type": "markdown",
   "id": "a96688ed",
   "metadata": {},
   "source": [
    "執行第一次，輸出了一個具有單一元素```’a’```的list，符合預期："
   ]
  },
  {
   "cell_type": "code",
   "execution_count": 16,
   "id": "a1eb70f2",
   "metadata": {},
   "outputs": [
    {
     "data": {
      "text/plain": [
       "['a']"
      ]
     },
     "execution_count": 16,
     "metadata": {},
     "output_type": "execute_result"
    }
   ],
   "source": [
    "append_element(e='a')"
   ]
  },
  {
   "cell_type": "markdown",
   "id": "27bf6b1d",
   "metadata": {},
   "source": [
    "但執行第二次時，理論上沒有傳入一個list的話，\n",
    "我們預期這個function應該是先產生一個空的list然後再append元素。\n",
    "但實際上的結果是保留了上一次append進去的元素```’a’```："
   ]
  },
  {
   "cell_type": "code",
   "execution_count": 17,
   "id": "8eafaffe",
   "metadata": {},
   "outputs": [
    {
     "data": {
      "text/plain": [
       "['a', 'b']"
      ]
     },
     "execution_count": 17,
     "metadata": {},
     "output_type": "execute_result"
    }
   ],
   "source": [
    "append_element(e='b')"
   ]
  },
  {
   "cell_type": "markdown",
   "id": "65b673f6",
   "metadata": {},
   "source": [
    "之所以會這樣的原因是，function的預設值在定義階段就會被創建，後續使用時不會再重新創建。\n",
    "所以第一次執行function時，```mylist```就已經被建立，後續重新呼叫function並不會再重新創建。\n",
    "又因為list是一種可變物件，可以不斷把東西塞進去。\n",
    "\n",
    "可以看到以下程式，每次呼叫時，```mylist```的id都一樣，代表物件沒有被重新創建。"
   ]
  },
  {
   "cell_type": "code",
   "execution_count": 18,
   "id": "300788b5",
   "metadata": {},
   "outputs": [
    {
     "name": "stdout",
     "output_type": "stream",
     "text": [
      "4352527232\n"
     ]
    },
    {
     "data": {
      "text/plain": [
       "['a']"
      ]
     },
     "execution_count": 18,
     "metadata": {},
     "output_type": "execute_result"
    }
   ],
   "source": [
    "def append_element(e, mylist=[]):\n",
    "    mylist.append(e)\n",
    "    print(id(mylist))\n",
    "    return mylist\n",
    "\n",
    "append_element(e='a')"
   ]
  },
  {
   "cell_type": "markdown",
   "id": "0cba6949",
   "metadata": {},
   "source": [
    "兩次的id是一樣的。"
   ]
  },
  {
   "cell_type": "code",
   "execution_count": 19,
   "id": "46e18cf0",
   "metadata": {},
   "outputs": [
    {
     "name": "stdout",
     "output_type": "stream",
     "text": [
      "4352527232\n"
     ]
    },
    {
     "data": {
      "text/plain": [
       "['a', 'b']"
      ]
     },
     "execution_count": 19,
     "metadata": {},
     "output_type": "execute_result"
    }
   ],
   "source": [
    "append_element(e='b')"
   ]
  },
  {
   "cell_type": "markdown",
   "id": "518663bd",
   "metadata": {},
   "source": [
    "解決方法是用```None```代替空的可變物件。"
   ]
  },
  {
   "cell_type": "code",
   "execution_count": 20,
   "id": "85166e0c",
   "metadata": {},
   "outputs": [
    {
     "ename": "NameError",
     "evalue": "name 'my_list' is not defined",
     "output_type": "error",
     "traceback": [
      "\u001b[0;31m---------------------------------------------------------------------------\u001b[0m",
      "\u001b[0;31mNameError\u001b[0m                                 Traceback (most recent call last)",
      "Cell \u001b[0;32mIn[20], line 8\u001b[0m\n\u001b[1;32m      5\u001b[0m     \u001b[38;5;28mprint\u001b[39m(\u001b[38;5;28mid\u001b[39m(mylist))\n\u001b[1;32m      6\u001b[0m     \u001b[38;5;28;01mreturn\u001b[39;00m mylist\n\u001b[0;32m----> 8\u001b[0m \u001b[43mappend_element\u001b[49m\u001b[43m(\u001b[49m\u001b[43me\u001b[49m\u001b[38;5;241;43m=\u001b[39;49m\u001b[38;5;124;43m'\u001b[39;49m\u001b[38;5;124;43ma\u001b[39;49m\u001b[38;5;124;43m'\u001b[39;49m\u001b[43m)\u001b[49m\n",
      "Cell \u001b[0;32mIn[20], line 2\u001b[0m, in \u001b[0;36mappend_element\u001b[0;34m(e, mylist)\u001b[0m\n\u001b[1;32m      1\u001b[0m \u001b[38;5;28;01mdef\u001b[39;00m \u001b[38;5;21mappend_element\u001b[39m(e, mylist\u001b[38;5;241m=\u001b[39m\u001b[38;5;28;01mNone\u001b[39;00m):\n\u001b[0;32m----> 2\u001b[0m     \u001b[38;5;28;01mif\u001b[39;00m \u001b[43mmy_list\u001b[49m \u001b[38;5;129;01mis\u001b[39;00m \u001b[38;5;28;01mNone\u001b[39;00m:\n\u001b[1;32m      3\u001b[0m         mylist \u001b[38;5;241m=\u001b[39m []\n\u001b[1;32m      4\u001b[0m     mylist\u001b[38;5;241m.\u001b[39mappend(e)\n",
      "\u001b[0;31mNameError\u001b[0m: name 'my_list' is not defined"
     ]
    }
   ],
   "source": [
    "def append_element(e, mylist=None):\n",
    "    if my_list is None:\n",
    "        mylist = []\n",
    "    mylist.append(e)\n",
    "    print(id(mylist))\n",
    "    return mylist\n",
    "\n",
    "append_element(e='a')"
   ]
  },
  {
   "cell_type": "markdown",
   "id": "b9ba2ba3",
   "metadata": {},
   "source": [
    "可以看到不會保留上一次執行時append進去的元素了，而且兩個id是不樣的，代表物件每次呼叫時有被重新創建。"
   ]
  },
  {
   "cell_type": "code",
   "execution_count": 21,
   "id": "4dcd8b81",
   "metadata": {},
   "outputs": [
    {
     "ename": "NameError",
     "evalue": "name 'my_list' is not defined",
     "output_type": "error",
     "traceback": [
      "\u001b[0;31m---------------------------------------------------------------------------\u001b[0m",
      "\u001b[0;31mNameError\u001b[0m                                 Traceback (most recent call last)",
      "Cell \u001b[0;32mIn[21], line 1\u001b[0m\n\u001b[0;32m----> 1\u001b[0m \u001b[43mappend_element\u001b[49m\u001b[43m(\u001b[49m\u001b[43me\u001b[49m\u001b[38;5;241;43m=\u001b[39;49m\u001b[38;5;124;43m'\u001b[39;49m\u001b[38;5;124;43mb\u001b[39;49m\u001b[38;5;124;43m'\u001b[39;49m\u001b[43m)\u001b[49m\n",
      "Cell \u001b[0;32mIn[20], line 2\u001b[0m, in \u001b[0;36mappend_element\u001b[0;34m(e, mylist)\u001b[0m\n\u001b[1;32m      1\u001b[0m \u001b[38;5;28;01mdef\u001b[39;00m \u001b[38;5;21mappend_element\u001b[39m(e, mylist\u001b[38;5;241m=\u001b[39m\u001b[38;5;28;01mNone\u001b[39;00m):\n\u001b[0;32m----> 2\u001b[0m     \u001b[38;5;28;01mif\u001b[39;00m \u001b[43mmy_list\u001b[49m \u001b[38;5;129;01mis\u001b[39;00m \u001b[38;5;28;01mNone\u001b[39;00m:\n\u001b[1;32m      3\u001b[0m         mylist \u001b[38;5;241m=\u001b[39m []\n\u001b[1;32m      4\u001b[0m     mylist\u001b[38;5;241m.\u001b[39mappend(e)\n",
      "\u001b[0;31mNameError\u001b[0m: name 'my_list' is not defined"
     ]
    }
   ],
   "source": [
    "append_element(e='b')"
   ]
  },
  {
   "cell_type": "markdown",
   "id": "ef254fd3",
   "metadata": {},
   "source": [
    "### 特殊參數\n",
    "\n",
    "**僅限位置參數 (Positional-Only Parameters)**\n",
    "\n",
    "只要在參數中加入\"\\/\"就可以限制\"\\/\"前的引數都必須是位置引數。"
   ]
  },
  {
   "cell_type": "code",
   "execution_count": 22,
   "id": "3852499a",
   "metadata": {},
   "outputs": [],
   "source": [
    "def pos_only_func(a, b, c, /):\n",
    "    print(a, b, c)"
   ]
  },
  {
   "cell_type": "code",
   "execution_count": 23,
   "id": "b7b4638c",
   "metadata": {},
   "outputs": [
    {
     "name": "stdout",
     "output_type": "stream",
     "text": [
      "1 2 3\n"
     ]
    },
    {
     "ename": "TypeError",
     "evalue": "pos_only_func() got some positional-only arguments passed as keyword arguments: 'c'",
     "output_type": "error",
     "traceback": [
      "\u001b[0;31m---------------------------------------------------------------------------\u001b[0m",
      "\u001b[0;31mTypeError\u001b[0m                                 Traceback (most recent call last)",
      "Cell \u001b[0;32mIn[23], line 5\u001b[0m\n\u001b[1;32m      2\u001b[0m pos_only_func(\u001b[38;5;241m1\u001b[39m, \u001b[38;5;241m2\u001b[39m, \u001b[38;5;241m3\u001b[39m)\n\u001b[1;32m      4\u001b[0m \u001b[38;5;66;03m# 不合法\u001b[39;00m\n\u001b[0;32m----> 5\u001b[0m \u001b[43mpos_only_func\u001b[49m\u001b[43m(\u001b[49m\u001b[38;5;241;43m1\u001b[39;49m\u001b[43m,\u001b[49m\u001b[43m \u001b[49m\u001b[38;5;241;43m2\u001b[39;49m\u001b[43m,\u001b[49m\u001b[43m \u001b[49m\u001b[43mc\u001b[49m\u001b[38;5;241;43m=\u001b[39;49m\u001b[38;5;241;43m3\u001b[39;49m\u001b[43m)\u001b[49m\n",
      "\u001b[0;31mTypeError\u001b[0m: pos_only_func() got some positional-only arguments passed as keyword arguments: 'c'"
     ]
    }
   ],
   "source": [
    "# 合法\n",
    "pos_only_func(1, 2, 3)\n",
    "\n",
    "# 不合法\n",
    "pos_only_func(1, 2, c=3)"
   ]
  },
  {
   "cell_type": "markdown",
   "id": "6f45d504",
   "metadata": {},
   "source": [
    "**僅限關鍵字引數 (Keyword-Only Arguments)**\n",
    "\n",
    "只要在參數中加入\"\\*\" 就可以限制 \"\\*\"後的引數都必須是關鍵字引數。"
   ]
  },
  {
   "cell_type": "code",
   "execution_count": 24,
   "id": "db74b202",
   "metadata": {},
   "outputs": [],
   "source": [
    "def kwd_only_func(*, f, g):\n",
    "    print(f, g)"
   ]
  },
  {
   "cell_type": "code",
   "execution_count": 25,
   "id": "4d9f8e6f",
   "metadata": {},
   "outputs": [
    {
     "name": "stdout",
     "output_type": "stream",
     "text": [
      "6 7\n"
     ]
    },
    {
     "ename": "TypeError",
     "evalue": "kwd_only_func() takes 0 positional arguments but 1 positional argument (and 1 keyword-only argument) were given",
     "output_type": "error",
     "traceback": [
      "\u001b[0;31m---------------------------------------------------------------------------\u001b[0m",
      "\u001b[0;31mTypeError\u001b[0m                                 Traceback (most recent call last)",
      "Cell \u001b[0;32mIn[25], line 5\u001b[0m\n\u001b[1;32m      2\u001b[0m kwd_only_func(f\u001b[38;5;241m=\u001b[39m\u001b[38;5;241m6\u001b[39m, g\u001b[38;5;241m=\u001b[39m\u001b[38;5;241m7\u001b[39m)\n\u001b[1;32m      4\u001b[0m \u001b[38;5;66;03m# 不合法\u001b[39;00m\n\u001b[0;32m----> 5\u001b[0m \u001b[43mkwd_only_func\u001b[49m\u001b[43m(\u001b[49m\u001b[38;5;241;43m6\u001b[39;49m\u001b[43m,\u001b[49m\u001b[43m \u001b[49m\u001b[43mg\u001b[49m\u001b[38;5;241;43m=\u001b[39;49m\u001b[38;5;241;43m7\u001b[39;49m\u001b[43m)\u001b[49m\n",
      "\u001b[0;31mTypeError\u001b[0m: kwd_only_func() takes 0 positional arguments but 1 positional argument (and 1 keyword-only argument) were given"
     ]
    }
   ],
   "source": [
    "# 合法\n",
    "kwd_only_func(f=6, g=7)\n",
    "\n",
    "# 不合法\n",
    "kwd_only_func(6, g=7)"
   ]
  },
  {
   "cell_type": "markdown",
   "id": "796795f1",
   "metadata": {},
   "source": [
    "兩者可以混用："
   ]
  },
  {
   "cell_type": "code",
   "execution_count": 26,
   "id": "81ee1cd1",
   "metadata": {},
   "outputs": [],
   "source": [
    "def combined_func(a, b, c, /, d, e, *, f, g):\n",
    "    print(a, b, c, d, e, f, g)"
   ]
  },
  {
   "cell_type": "code",
   "execution_count": 27,
   "id": "8b515c79",
   "metadata": {},
   "outputs": [
    {
     "name": "stdout",
     "output_type": "stream",
     "text": [
      "1 2 3 4 5 6 7\n"
     ]
    }
   ],
   "source": [
    "combined_func(1, 2, 3, 4, e=5, f=6, g=7)"
   ]
  },
  {
   "cell_type": "markdown",
   "id": "78ac0b1a",
   "metadata": {},
   "source": [
    "此外，```*args```後面的參數也都是僅限關鍵字引數(Keyword-Only Arguments)。"
   ]
  },
  {
   "cell_type": "code",
   "execution_count": 28,
   "id": "d2d7fd48",
   "metadata": {},
   "outputs": [
    {
     "name": "stdout",
     "output_type": "stream",
     "text": [
      "(1, 2)\n",
      "3 4\n"
     ]
    }
   ],
   "source": [
    "def example_func(*args, c, d):\n",
    "    print(args)\n",
    "    print(c, d)\n",
    "\n",
    "# 合法\n",
    "example_func(1, 2, c=3, d=4)"
   ]
  },
  {
   "cell_type": "code",
   "execution_count": 29,
   "id": "8839f0cf",
   "metadata": {},
   "outputs": [
    {
     "ename": "TypeError",
     "evalue": "example_func() missing 2 required keyword-only arguments: 'c' and 'd'",
     "output_type": "error",
     "traceback": [
      "\u001b[0;31m---------------------------------------------------------------------------\u001b[0m",
      "\u001b[0;31mTypeError\u001b[0m                                 Traceback (most recent call last)",
      "Cell \u001b[0;32mIn[29], line 2\u001b[0m\n\u001b[1;32m      1\u001b[0m \u001b[38;5;66;03m# 不合法\u001b[39;00m\n\u001b[0;32m----> 2\u001b[0m \u001b[43mexample_func\u001b[49m\u001b[43m(\u001b[49m\u001b[38;5;241;43m1\u001b[39;49m\u001b[43m,\u001b[49m\u001b[43m \u001b[49m\u001b[38;5;241;43m2\u001b[39;49m\u001b[43m,\u001b[49m\u001b[43m \u001b[49m\u001b[38;5;241;43m3\u001b[39;49m\u001b[43m,\u001b[49m\u001b[43m \u001b[49m\u001b[38;5;241;43m4\u001b[39;49m\u001b[43m)\u001b[49m\n",
      "\u001b[0;31mTypeError\u001b[0m: example_func() missing 2 required keyword-only arguments: 'c' and 'd'"
     ]
    }
   ],
   "source": [
    "# 不合法\n",
    "example_func(1, 2, 3, 4)"
   ]
  },
  {
   "cell_type": "markdown",
   "id": "4c83cedf",
   "metadata": {},
   "source": [
    "## 匿名函數：lambda運算式\n",
    "\n",
    "### 基本操作\n",
    "\n",
    "之所以稱做匿名函數是因為lambda運算式不需要定義function的名稱就可以使用。\n",
    "\n",
    "例如以下是一個取平方的function："
   ]
  },
  {
   "cell_type": "code",
   "execution_count": 30,
   "id": "ce42e55f",
   "metadata": {},
   "outputs": [],
   "source": [
    "def square(x):\n",
    "    return x**2"
   ]
  },
  {
   "cell_type": "markdown",
   "id": "7dbee6a4",
   "metadata": {},
   "source": [
    "如果用lambda運算式來寫的話，如以下："
   ]
  },
  {
   "cell_type": "code",
   "execution_count": 31,
   "id": "f643adf5",
   "metadata": {},
   "outputs": [
    {
     "data": {
      "text/plain": [
       "<function __main__.<lambda>(x)>"
      ]
     },
     "execution_count": 31,
     "metadata": {},
     "output_type": "execute_result"
    }
   ],
   "source": [
    "lambda x: x**2"
   ]
  },
  {
   "cell_type": "markdown",
   "id": "8151dc6f",
   "metadata": {},
   "source": [
    "呼叫的方式："
   ]
  },
  {
   "cell_type": "code",
   "execution_count": 32,
   "id": "96b65f6e",
   "metadata": {},
   "outputs": [
    {
     "data": {
      "text/plain": [
       "9"
      ]
     },
     "execution_count": 32,
     "metadata": {},
     "output_type": "execute_result"
    }
   ],
   "source": [
    "(lambda x: x**2)(3)"
   ]
  },
  {
   "cell_type": "markdown",
   "id": "274ae386",
   "metadata": {},
   "source": [
    "### 實用的情境\n",
    "\n",
    "假設一個list如下，如何根據tuple第二位來排序？"
   ]
  },
  {
   "cell_type": "code",
   "execution_count": 33,
   "id": "3af83e1a",
   "metadata": {},
   "outputs": [],
   "source": [
    "a_list = [('b', 1), ('C', 5), ('a', 2), ('c', 4), ('B', 3), ('A', 6)]"
   ]
  },
  {
   "cell_type": "markdown",
   "id": "52a08b01",
   "metadata": {},
   "source": [
    "一般的```sorted```會根據第一個元素來排序，元素的資料型別是```str```的話，就會根據字母順序來排序（大寫在前）。"
   ]
  },
  {
   "cell_type": "code",
   "execution_count": 34,
   "id": "87640a82",
   "metadata": {},
   "outputs": [
    {
     "data": {
      "text/plain": [
       "[('A', 6), ('B', 3), ('C', 5), ('a', 2), ('b', 1), ('c', 4)]"
      ]
     },
     "execution_count": 34,
     "metadata": {},
     "output_type": "execute_result"
    }
   ],
   "source": [
    "sorted(a_list)"
   ]
  },
  {
   "cell_type": "markdown",
   "id": "1b10bb43",
   "metadata": {},
   "source": [
    "可以用```sorted()```的參數```key```搭配lambda function："
   ]
  },
  {
   "cell_type": "code",
   "execution_count": 35,
   "id": "672fa3c4",
   "metadata": {},
   "outputs": [
    {
     "data": {
      "text/plain": [
       "[('b', 1), ('a', 2), ('B', 3), ('c', 4), ('C', 5), ('A', 6)]"
      ]
     },
     "execution_count": 35,
     "metadata": {},
     "output_type": "execute_result"
    }
   ],
   "source": [
    "sorted(a_list, key=lambda e: e[1])"
   ]
  },
  {
   "cell_type": "markdown",
   "id": "b95aad63",
   "metadata": {},
   "source": [
    "不使用lambda的話就是要寫比較多的code，而且並不這麼一目了然："
   ]
  },
  {
   "cell_type": "code",
   "execution_count": 36,
   "id": "d1e55d91",
   "metadata": {},
   "outputs": [
    {
     "data": {
      "text/plain": [
       "[('b', 1), ('a', 2), ('B', 3), ('c', 4), ('C', 5), ('A', 6)]"
      ]
     },
     "execution_count": 36,
     "metadata": {},
     "output_type": "execute_result"
    }
   ],
   "source": [
    "def get_second_element(data: tuple):\n",
    "    return data[1]\n",
    "\n",
    "sorted(a_list, key=get_second_element)"
   ]
  },
  {
   "cell_type": "markdown",
   "id": "e7ca4c22",
   "metadata": {},
   "source": [
    "## 定義function的好習慣\n",
    "\n",
    "### 動態型別(dynamic types)與靜態型別(static type)\n",
    "\n",
    "在python中，變數的資料型別是 **動態型別(dynamic types)** ，意思是：\n",
    "\n",
    "1. 定義變數時不需要宣告變數的資料型別，而是直接賦值就可以了，而且，\n",
    "2. 如果要改變型別只要重新賦值即可。\n",
    "\n",
    "相反地，所謂 **靜態型別(static type)** ，就是指變數賦值前必須先宣告好資料型別，而且一旦宣告後，除非重新宣告其他型別，否則用其他型別資料賦值就會產生錯誤。"
   ]
  },
  {
   "cell_type": "code",
   "execution_count": 37,
   "id": "8065274c",
   "metadata": {},
   "outputs": [],
   "source": [
    "myvar = 1\n",
    "myvar = '1'\n",
    "myvar = True"
   ]
  },
  {
   "cell_type": "markdown",
   "id": "cd9c1f8e",
   "metadata": {},
   "source": [
    "這樣感覺起來似乎動態型別方便多了！不必像靜態型別一樣有許多限制。事實上，限制帶來的是穩定性與可預測性，比較能夠避免程式出現意料之外的錯誤。\n",
    "\n",
    "因此，雖然python是動態型別，但仍創造了所謂 **型別提示(type hint)** 的功能。使用方式如下："
   ]
  },
  {
   "cell_type": "code",
   "execution_count": 38,
   "id": "2efddeaa",
   "metadata": {},
   "outputs": [],
   "source": [
    "is_student: bool = True\n",
    "age: int = 24\n",
    "a_list: list[str] = ['a','b','c'] # python 3.9以上支援\n",
    "a_set: set[int] = {1, 2} # python 3.9以上支援"
   ]
  },
  {
   "cell_type": "markdown",
   "id": "ea779b2c",
   "metadata": {},
   "source": [
    "事實上 **型別提示(type hint)** 只是提示，python不會對type hint做任何事，所以即使用錯了型別也不會報錯。\n",
    "\n",
    "雖然python不強制，但其實有套件可以替我們做檢查（例如mypy）。\n",
    "檢查的方式例如，明明```myvar```的type hint是```str```型別，\n",
    "但卻在程式某個地方對```myvar```使用了```.append()```方法等等。\n",
    "\n",
    "總而言之，使用**型別提示(type hint)**可以讓程式更可讀也更好維護。\n",
    "\n",
    "### 在函式定義中使用型別提示(type hint)\n",
    "\n",
    "1. 直接在參數後面寫入資料型別\n",
    "2. ``` -> ``` 後面代表的是return的資料型別。"
   ]
  },
  {
   "cell_type": "code",
   "execution_count": 39,
   "id": "8d61a296",
   "metadata": {},
   "outputs": [],
   "source": [
    "def lucky_number(name: str, birthday: str = '19000101') -> int:\n",
    "    sum_n = 0\n",
    "    for n in birthday:\n",
    "        sum_n += int(n)\n",
    "\n",
    "    return sum_n + len(name)"
   ]
  },
  {
   "cell_type": "markdown",
   "id": "6d76a69e",
   "metadata": {},
   "source": [
    "詳細入門介紹請參考：\n",
    "\n",
    "[Modernize Your Sinful Python Code with Beautiful Type Hints | by Eirik Berge, PhD | Towards Data Science](https://towardsdatascience.com/modernize-your-sinful-python-code-with-beautiful-type-hints-4e72e98f6bf1)\n",
    "\n",
    "## Documentation\n",
    "\n",
    "> “Code is more often read than written.”\n",
    ">\n",
    ">\n",
    "> — *Guido van Rossum*\n",
    ">\n",
    "\n",
    "程式的易讀性是python哲學中非常重要的一部分，程式有好的文件才會有人願意使用。\n",
    "例如```pandas```和```scikit-learn```的文件都非常優秀，讓使用者可以找到清楚的說明與範例。\n",
    "好的文件同時也是為了避免未來的自己或是你的同事，陷入痛苦的困惑當中。\n",
    "\n",
    "### 為程式加入註解\n",
    "\n",
    "```'#'``` 是註解符號，符號後面的文字會忽略，不執行。\n",
    "\n",
    "以下範例來自<精通無瑕程式碼>："
   ]
  },
  {
   "cell_type": "code",
   "execution_count": 40,
   "id": "8dd84662",
   "metadata": {},
   "outputs": [
    {
     "name": "stdout",
     "output_type": "stream",
     "text": [
      "['frost', 'flower', 'field']\n",
      "['let', 'lips', 'long', 'lies', 'like']\n"
     ]
    }
   ],
   "source": [
    "import re\n",
    "\n",
    "text = '''\n",
    "    Ha! let me see her: out, alas! She's cold:\n",
    "    Her blood is settled, and her joints are stiff;\n",
    "    Life and these lips have long been separated:\n",
    "    Death lies on her like an ultimely frost\n",
    "    Upon the sweetest flower of all the field.\n",
    "'''\n",
    "\n",
    "f_words = re.findall('\\\\bf\\w+\\\\b', text)\n",
    "print(f_words)\n",
    "\n",
    "l_words = re.findall('\\\\bl\\w+\\\\b', text)\n",
    "print(l_words)"
   ]
  },
  {
   "cell_type": "markdown",
   "id": "8cbe244e",
   "metadata": {},
   "source": [
    "以上程式片段對於不熟悉正規表達式的人，會很難以理解程式碼的作用。\n",
    "但加上一些註解後就可以消除困惑："
   ]
  },
  {
   "cell_type": "code",
   "execution_count": 41,
   "id": "aaf9677a",
   "metadata": {},
   "outputs": [
    {
     "name": "stdout",
     "output_type": "stream",
     "text": [
      "['frost', 'flower', 'field']\n",
      "['let', 'lips', 'long', 'lies', 'like']\n"
     ]
    }
   ],
   "source": [
    "import re\n",
    "\n",
    "text = '''\n",
    "    Ha! let me see her: out, alas! She's cold:\n",
    "    Her blood is settled, and her joints are stiff;\n",
    "    Life and these lips have long been separated:\n",
    "    Death lies on her like an ultimely frost\n",
    "    Upon the sweetest flower of all the field.\n",
    "'''\n",
    "\n",
    "# 找出所有'f'開頭的字元\n",
    "f_words = re.findall('\\\\bf\\w+\\\\b', text)\n",
    "print(f_words)\n",
    "\n",
    "# 找出所有'l'開頭的字元\n",
    "l_words = re.findall('\\\\bl\\w+\\\\b', text)\n",
    "print(l_words)"
   ]
  },
  {
   "cell_type": "markdown",
   "id": "6265053e",
   "metadata": {},
   "source": [
    "但是也要避免不必要的註解，以下範例一樣來自<精通無瑕程式碼>："
   ]
  },
  {
   "cell_type": "code",
   "execution_count": 42,
   "id": "3c0a1658",
   "metadata": {},
   "outputs": [
    {
     "name": "stdout",
     "output_type": "stream",
     "text": [
      "10000.0\n",
      "11000.0\n",
      "12100.000000000002\n",
      "13310.000000000004\n",
      "14641.000000000004\n",
      "16105.100000000006\n",
      "17715.610000000008\n",
      "19487.171000000013\n",
      "21435.888100000015\n",
      "23579.47691000002\n"
     ]
    }
   ],
   "source": [
    "investments = 10000 # 你的投資金額，必要時可改\n",
    "yearly_return = 0.1 # 年報酬率\n",
    "years = 10 # 複利計算的年數\n",
    "\n",
    "# 逐年計算\n",
    "for year in range(years):\n",
    "    # 列印今年的投資價值\n",
    "    print(investments * (1 + yearly_return)**year)"
   ]
  },
  {
   "cell_type": "markdown",
   "id": "c0e25a03",
   "metadata": {},
   "source": [
    "因為很多東西都是顯而易見的，有意義的變數名稱就已經可以說明許多事情，就不必要再做行內註解。\n",
    "（行內註解意思是在同一行程式碼的後面直接加上註解）\n",
    "\n",
    "而且該知道的常識也沒必要註解，例如大家都知道for迴圈就是為了逐個計算，就不必註解for迴圈的功能。\n",
    "\n",
    "### Docstring\n",
    "\n",
    "```docstring```指的是function的```def```敘述句之後的說明片段。範例如下："
   ]
  },
  {
   "cell_type": "code",
   "execution_count": 43,
   "id": "cdbb4251",
   "metadata": {},
   "outputs": [],
   "source": [
    "def my_func(*args, **kwargs):\n",
    "    '''convert probability to log odds (logit).\n",
    "    '''\n",
    "    print(f'Positional args: {args}')\n",
    "    print(f'Keyword args: {kwargs}')\n"
   ]
  },
  {
   "cell_type": "markdown",
   "id": "057efd5d",
   "metadata": {},
   "source": [
    "有了docstring後，就可以使用以下方式來讀取你撰寫的說明："
   ]
  },
  {
   "cell_type": "code",
   "execution_count": 44,
   "id": "62c39c75",
   "metadata": {},
   "outputs": [
    {
     "name": "stdout",
     "output_type": "stream",
     "text": [
      "Help on function my_func in module __main__:\n",
      "\n",
      "my_func(*args, **kwargs)\n",
      "    convert probability to log odds (logit).\n",
      "\n",
      "None\n"
     ]
    }
   ],
   "source": [
    "print(help(my_func))"
   ]
  },
  {
   "cell_type": "markdown",
   "id": "1f4b9e96",
   "metadata": {},
   "source": [
    "或是："
   ]
  },
  {
   "cell_type": "code",
   "execution_count": 45,
   "id": "9c422bcb",
   "metadata": {},
   "outputs": [
    {
     "name": "stdout",
     "output_type": "stream",
     "text": [
      "convert probability to log odds (logit).\n",
      "    \n"
     ]
    }
   ],
   "source": [
    "print(my_func.__doc__)"
   ]
  },
  {
   "cell_type": "markdown",
   "id": "b3c846a5",
   "metadata": {},
   "source": [
    "參考資源：\n",
    "[Defining Your Own Python Function – Real Python](https://realpython.com/defining-your-own-python-function/#function-calls-and-definition)"
   ]
  }
 ],
 "metadata": {
  "jupytext": {
   "formats": "md:myst",
   "text_representation": {
    "extension": ".md",
    "format_name": "myst",
    "format_version": 0.13,
    "jupytext_version": "1.16.0"
   }
  },
  "kernelspec": {
   "display_name": "Python 3",
   "language": "python",
   "name": "python3"
  },
  "language_info": {
   "codemirror_mode": {
    "name": "ipython",
    "version": 3
   },
   "file_extension": ".py",
   "mimetype": "text/x-python",
   "name": "python",
   "nbconvert_exporter": "python",
   "pygments_lexer": "ipython3",
   "version": "3.11.0"
  },
  "source_map": [
   13,
   34,
   38,
   49,
   51,
   57,
   59,
   63,
   69,
   79,
   89,
   91,
   95,
   104,
   106,
   110,
   118,
   122,
   124,
   132,
   140,
   142,
   146,
   151,
   158,
   162,
   166,
   168,
   174,
   176,
   184,
   191,
   195,
   197,
   201,
   210,
   214,
   216,
   224,
   229,
   235,
   241,
   246,
   252,
   256,
   261,
   263,
   267,
   276,
   279,
   289,
   292,
   296,
   298,
   302,
   304,
   310,
   312,
   316,
   318,
   322,
   324,
   328,
   333,
   346,
   350,
   356,
   361,
   376,
   383,
   407,
   423,
   428,
   446,
   450,
   459,
   470,
   478,
   482,
   484,
   488,
   490
  ]
 },
 "nbformat": 4,
 "nbformat_minor": 5
}