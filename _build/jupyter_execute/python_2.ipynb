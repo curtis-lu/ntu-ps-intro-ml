{
 "cells": [
  {
   "cell_type": "markdown",
   "id": "b592d1c9",
   "metadata": {},
   "source": [
    "# 2.資料型態：dict與set\n",
    "\n",
    "## 群集資料型別：dict\n",
    "\n",
    "dict是dictionary的略稱，字典這種資料型態的組成是一群成對的key與value。\n",
    "\n",
    "key在字典裡不能重複，通常會使用字串或tuple來當作key。至於value則沒有什麼限制。\n",
    "\n",
    "dict跟後面等等會介紹的set一樣，都是沒有順序的，不能使用切片。\n",
    "\n",
    "**建立dict**"
   ]
  },
  {
   "cell_type": "code",
   "execution_count": 1,
   "id": "91efbeae",
   "metadata": {},
   "outputs": [],
   "source": [
    "a_dict = {'a': 1, 'b': 2, 'c':3}\n",
    "a_dict = dict(a=1, b=2, c=3)"
   ]
  },
  {
   "cell_type": "markdown",
   "id": "a280ea70",
   "metadata": {},
   "source": [
    "### dict的基本用法\n",
    "\n",
    " **dict的基本用法**"
   ]
  },
  {
   "cell_type": "code",
   "execution_count": 2,
   "id": "93848dfe",
   "metadata": {},
   "outputs": [
    {
     "data": {
      "text/plain": [
       "1"
      ]
     },
     "execution_count": 2,
     "metadata": {},
     "output_type": "execute_result"
    }
   ],
   "source": [
    "a_dict['a']"
   ]
  },
  {
   "cell_type": "code",
   "execution_count": 3,
   "id": "21c9f458",
   "metadata": {},
   "outputs": [
    {
     "data": {
      "text/plain": [
       "1"
      ]
     },
     "execution_count": 3,
     "metadata": {},
     "output_type": "execute_result"
    }
   ],
   "source": [
    "a_dict.get('a')"
   ]
  },
  {
   "cell_type": "code",
   "execution_count": 4,
   "id": "6f0b4bc3",
   "metadata": {},
   "outputs": [
    {
     "ename": "KeyError",
     "evalue": "'d'",
     "output_type": "error",
     "traceback": [
      "\u001b[0;31m---------------------------------------------------------------------------\u001b[0m",
      "\u001b[0;31mKeyError\u001b[0m                                  Traceback (most recent call last)",
      "Cell \u001b[0;32mIn[4], line 1\u001b[0m\n\u001b[0;32m----> 1\u001b[0m \u001b[43ma_dict\u001b[49m\u001b[43m[\u001b[49m\u001b[38;5;124;43m'\u001b[39;49m\u001b[38;5;124;43md\u001b[39;49m\u001b[38;5;124;43m'\u001b[39;49m\u001b[43m]\u001b[49m\n",
      "\u001b[0;31mKeyError\u001b[0m: 'd'"
     ]
    }
   ],
   "source": [
    "a_dict['d']"
   ]
  },
  {
   "cell_type": "code",
   "execution_count": 5,
   "id": "155ba700",
   "metadata": {},
   "outputs": [],
   "source": [
    "a_dict.get('d') # 不會回傳任何東西"
   ]
  },
  {
   "cell_type": "code",
   "execution_count": 6,
   "id": "6995440e",
   "metadata": {},
   "outputs": [
    {
     "data": {
      "text/plain": [
       "'missing'"
      ]
     },
     "execution_count": 6,
     "metadata": {},
     "output_type": "execute_result"
    }
   ],
   "source": [
    "a_dict.get('d', 'missing')"
   ]
  },
  {
   "cell_type": "markdown",
   "id": "9b5e205a",
   "metadata": {},
   "source": [
    "### dict 新增與刪除項目\n",
    "\n",
    "**dict新增項目**"
   ]
  },
  {
   "cell_type": "code",
   "execution_count": 7,
   "id": "9cccf233",
   "metadata": {},
   "outputs": [
    {
     "name": "stdout",
     "output_type": "stream",
     "text": [
      "{'a': 1, 'b': 2, 'c': 3, 'd': 4}\n",
      "{'a': 1, 'b': 2, 'c': 3, 'd': 4, 'e': 5}\n"
     ]
    }
   ],
   "source": [
    "a_dict = {'a': 1, 'b': 2, 'c':3}\n",
    "\n",
    "a_dict['d'] = 4\n",
    "print(a_dict)\n",
    "\n",
    "a_dict.update({'e': 5})\n",
    "print(a_dict)"
   ]
  },
  {
   "cell_type": "markdown",
   "id": "d53bcdc2",
   "metadata": {},
   "source": [
    "**dict刪除項目**"
   ]
  },
  {
   "cell_type": "code",
   "execution_count": 8,
   "id": "c445f691",
   "metadata": {},
   "outputs": [],
   "source": [
    "a_dict = {'a': 1, 'b': 2, 'c':3}"
   ]
  },
  {
   "cell_type": "markdown",
   "id": "9b457e0b",
   "metadata": {},
   "source": [
    "方法1"
   ]
  },
  {
   "cell_type": "code",
   "execution_count": 9,
   "id": "949dc59c",
   "metadata": {},
   "outputs": [
    {
     "data": {
      "text/plain": [
       "1"
      ]
     },
     "execution_count": 9,
     "metadata": {},
     "output_type": "execute_result"
    }
   ],
   "source": [
    "a_dict.pop('a')"
   ]
  },
  {
   "cell_type": "code",
   "execution_count": 10,
   "id": "8906fdf6",
   "metadata": {},
   "outputs": [
    {
     "name": "stdout",
     "output_type": "stream",
     "text": [
      "{'b': 2, 'c': 3}\n"
     ]
    }
   ],
   "source": [
    "print(a_dict)"
   ]
  },
  {
   "cell_type": "code",
   "execution_count": 11,
   "id": "ce593b3e",
   "metadata": {},
   "outputs": [
    {
     "ename": "KeyError",
     "evalue": "'d'",
     "output_type": "error",
     "traceback": [
      "\u001b[0;31m---------------------------------------------------------------------------\u001b[0m",
      "\u001b[0;31mKeyError\u001b[0m                                  Traceback (most recent call last)",
      "Cell \u001b[0;32mIn[11], line 1\u001b[0m\n\u001b[0;32m----> 1\u001b[0m \u001b[43ma_dict\u001b[49m\u001b[38;5;241;43m.\u001b[39;49m\u001b[43mpop\u001b[49m\u001b[43m(\u001b[49m\u001b[38;5;124;43m'\u001b[39;49m\u001b[38;5;124;43md\u001b[39;49m\u001b[38;5;124;43m'\u001b[39;49m\u001b[43m)\u001b[49m\n",
      "\u001b[0;31mKeyError\u001b[0m: 'd'"
     ]
    }
   ],
   "source": [
    "a_dict.pop('d')"
   ]
  },
  {
   "cell_type": "code",
   "execution_count": 12,
   "id": "4d3e737b",
   "metadata": {},
   "outputs": [
    {
     "data": {
      "text/plain": [
       "'Nothing happened'"
      ]
     },
     "execution_count": 12,
     "metadata": {},
     "output_type": "execute_result"
    }
   ],
   "source": [
    "a_dict.pop('d', 'Nothing happened')"
   ]
  },
  {
   "cell_type": "code",
   "execution_count": 13,
   "id": "ad83a161",
   "metadata": {},
   "outputs": [
    {
     "name": "stdout",
     "output_type": "stream",
     "text": [
      "{'b': 2, 'c': 3}\n"
     ]
    }
   ],
   "source": [
    "print(a_dict)"
   ]
  },
  {
   "cell_type": "markdown",
   "id": "529f9c20",
   "metadata": {},
   "source": [
    "方法2"
   ]
  },
  {
   "cell_type": "code",
   "execution_count": 14,
   "id": "5cb5616c",
   "metadata": {},
   "outputs": [
    {
     "name": "stdout",
     "output_type": "stream",
     "text": [
      "{'c': 3}\n"
     ]
    }
   ],
   "source": [
    "del a_dict['b']\n",
    "\n",
    "print(a_dict)"
   ]
  },
  {
   "cell_type": "markdown",
   "id": "5600f62a",
   "metadata": {},
   "source": [
    "**dict中的key值不能重複**\n",
    "\n",
    "當要新增項目時，dict中對應的key值若已經存在，會以新的為準。"
   ]
  },
  {
   "cell_type": "code",
   "execution_count": 15,
   "id": "02c9471d",
   "metadata": {},
   "outputs": [
    {
     "name": "stdout",
     "output_type": "stream",
     "text": [
      "{'a': 1, 'b': 'ni', 'c': 'san', 'd': 'shi'}\n"
     ]
    }
   ],
   "source": [
    "a_dict = {'a': 1, 'b': 2, 'c':3}\n",
    "b_dict = {'b': 'ni', 'c': 'san', 'd': 'shi'}\n",
    "\n",
    "a_dict.update(b_dict)\n",
    "print(a_dict)"
   ]
  },
  {
   "cell_type": "markdown",
   "id": "0d93174c",
   "metadata": {},
   "source": [
    "### dict 操作\n",
    "\n",
    "**取得dict的內容**"
   ]
  },
  {
   "cell_type": "code",
   "execution_count": 16,
   "id": "f76cf5fc",
   "metadata": {},
   "outputs": [],
   "source": [
    "a_dict = {'a': 1, 'b': 2, 'c':3}"
   ]
  },
  {
   "cell_type": "code",
   "execution_count": 17,
   "id": "78d88ffc",
   "metadata": {},
   "outputs": [
    {
     "data": {
      "text/plain": [
       "['a', 'b', 'c']"
      ]
     },
     "execution_count": 17,
     "metadata": {},
     "output_type": "execute_result"
    }
   ],
   "source": [
    "# 取得key的list\n",
    "list(a_dict.keys())"
   ]
  },
  {
   "cell_type": "code",
   "execution_count": 18,
   "id": "cb671df0",
   "metadata": {},
   "outputs": [
    {
     "data": {
      "text/plain": [
       "[1, 2, 3]"
      ]
     },
     "execution_count": 18,
     "metadata": {},
     "output_type": "execute_result"
    }
   ],
   "source": [
    "# 取得value的list\n",
    "list(a_dict.values())"
   ]
  },
  {
   "cell_type": "code",
   "execution_count": 19,
   "id": "9387fa0e",
   "metadata": {},
   "outputs": [
    {
     "data": {
      "text/plain": [
       "[('a', 1), ('b', 2), ('c', 3)]"
      ]
     },
     "execution_count": 19,
     "metadata": {},
     "output_type": "execute_result"
    }
   ],
   "source": [
    "# 取得key跟value的list，注意到其中是一個一個tuple\n",
    "list(a_dict.items())"
   ]
  },
  {
   "cell_type": "markdown",
   "id": "02f5c418",
   "metadata": {},
   "source": [
    "**取得dict長度**"
   ]
  },
  {
   "cell_type": "code",
   "execution_count": 20,
   "id": "efdba3bc",
   "metadata": {},
   "outputs": [
    {
     "data": {
      "text/plain": [
       "3"
      ]
     },
     "execution_count": 20,
     "metadata": {},
     "output_type": "execute_result"
    }
   ],
   "source": [
    "a_dict = {'a': 1, 'b': 2, 'c':3}\n",
    "\n",
    "# 長度指的是key的數量\n",
    "len(a_dict)"
   ]
  },
  {
   "cell_type": "markdown",
   "id": "36f3cebb",
   "metadata": {},
   "source": [
    "**檢查key是否存在**"
   ]
  },
  {
   "cell_type": "code",
   "execution_count": 21,
   "id": "c0ee13b7",
   "metadata": {},
   "outputs": [
    {
     "data": {
      "text/plain": [
       "True"
      ]
     },
     "execution_count": 21,
     "metadata": {},
     "output_type": "execute_result"
    }
   ],
   "source": [
    "a_dict = {'a': 1, 'b': 2, 'c':3}\n",
    "\n",
    "'c' in a_dict"
   ]
  },
  {
   "cell_type": "markdown",
   "id": "38580bc2",
   "metadata": {},
   "source": [
    "**用{\\*\\*a, \\*\\*b}結合dict**"
   ]
  },
  {
   "cell_type": "code",
   "execution_count": 22,
   "id": "e55934a1",
   "metadata": {},
   "outputs": [
    {
     "name": "stdout",
     "output_type": "stream",
     "text": [
      "{'a': 'apple', 'b': 'beach', 'c': 'cat', 'd': 'dog', 'e': 'egg', 'f': 'flower'}\n"
     ]
    }
   ],
   "source": [
    "dict_1 = {'a': 'apple', 'b': 'beach', 'c': 'cat'}\n",
    "dict_2 = {'d': 'dog', 'e': 'egg', 'f': 'flower'}\n",
    "\n",
    "dict_all = {**dict_1, **dict_2}\n",
    "print(dict_all)"
   ]
  },
  {
   "cell_type": "markdown",
   "id": "a4bafdde",
   "metadata": {},
   "source": [
    "## 群集資料型別：set\n",
    "\n",
    "set是具有不重複元素的一種資料型別。\n",
    "\n",
    "操作跟數學上的集合很像。\n",
    "\n",
    "set沒有順序的概念，因此不支援切片。\n",
    "\n",
    "**建立set**"
   ]
  },
  {
   "cell_type": "code",
   "execution_count": 23,
   "id": "ab93bc41",
   "metadata": {},
   "outputs": [],
   "source": [
    "a = {1,2,3}\n",
    "a = set([1,2,3])"
   ]
  },
  {
   "cell_type": "markdown",
   "id": "f430b3ae",
   "metadata": {},
   "source": [
    "### set元素操作\n",
    "\n",
    "**加入元素至set**"
   ]
  },
  {
   "cell_type": "code",
   "execution_count": 24,
   "id": "a8c26c25",
   "metadata": {},
   "outputs": [
    {
     "name": "stdout",
     "output_type": "stream",
     "text": [
      "{1, 2, 3, 4}\n"
     ]
    }
   ],
   "source": [
    "a = {1,2,3}\n",
    "a.add(4)\n",
    "print(a)"
   ]
  },
  {
   "cell_type": "markdown",
   "id": "eafbe1f2",
   "metadata": {},
   "source": [
    ".add()已經存在的元素不會改變set。"
   ]
  },
  {
   "cell_type": "code",
   "execution_count": 25,
   "id": "4257196f",
   "metadata": {},
   "outputs": [
    {
     "name": "stdout",
     "output_type": "stream",
     "text": [
      "{1, 2, 3, 4}\n"
     ]
    }
   ],
   "source": [
    "a.add(1)\n",
    "print(a)"
   ]
  },
  {
   "cell_type": "markdown",
   "id": "6ed5e912",
   "metadata": {},
   "source": [
    "**刪除set中的元素**"
   ]
  },
  {
   "cell_type": "code",
   "execution_count": 26,
   "id": "83e92fd7",
   "metadata": {},
   "outputs": [
    {
     "name": "stdout",
     "output_type": "stream",
     "text": [
      "{2, 3}\n"
     ]
    }
   ],
   "source": [
    "a = {1,2,3}\n",
    "a.remove(1)\n",
    "\n",
    "print(a)"
   ]
  },
  {
   "cell_type": "markdown",
   "id": "9e571429",
   "metadata": {},
   "source": [
    "### set 操作\n",
    "\n",
    "**取得set的長度**"
   ]
  },
  {
   "cell_type": "code",
   "execution_count": 27,
   "id": "7d7a5234",
   "metadata": {},
   "outputs": [
    {
     "data": {
      "text/plain": [
       "3"
      ]
     },
     "execution_count": 27,
     "metadata": {},
     "output_type": "execute_result"
    }
   ],
   "source": [
    "a = {1,2,3}\n",
    "\n",
    "len(a)"
   ]
  },
  {
   "cell_type": "markdown",
   "id": "b3faf1db",
   "metadata": {},
   "source": [
    "**set的運算**"
   ]
  },
  {
   "cell_type": "code",
   "execution_count": 28,
   "id": "82bc3ad4",
   "metadata": {},
   "outputs": [],
   "source": [
    "a = {1,2,3}\n",
    "b = {3,4,5}\n",
    "c = {1,2,3,4,5}"
   ]
  },
  {
   "cell_type": "markdown",
   "id": "d6e74f15",
   "metadata": {},
   "source": [
    "交集"
   ]
  },
  {
   "cell_type": "code",
   "execution_count": 29,
   "id": "c20586a2",
   "metadata": {},
   "outputs": [
    {
     "data": {
      "text/plain": [
       "{3}"
      ]
     },
     "execution_count": 29,
     "metadata": {},
     "output_type": "execute_result"
    }
   ],
   "source": [
    "a & b"
   ]
  },
  {
   "cell_type": "code",
   "execution_count": 30,
   "id": "c11ecb45",
   "metadata": {},
   "outputs": [
    {
     "data": {
      "text/plain": [
       "{3}"
      ]
     },
     "execution_count": 30,
     "metadata": {},
     "output_type": "execute_result"
    }
   ],
   "source": [
    "a.intersection(b)"
   ]
  },
  {
   "cell_type": "markdown",
   "id": "dbe60a27",
   "metadata": {},
   "source": [
    "聯集"
   ]
  },
  {
   "cell_type": "code",
   "execution_count": 31,
   "id": "d9096740",
   "metadata": {},
   "outputs": [
    {
     "data": {
      "text/plain": [
       "{1, 2, 3, 4, 5}"
      ]
     },
     "execution_count": 31,
     "metadata": {},
     "output_type": "execute_result"
    }
   ],
   "source": [
    "a | b"
   ]
  },
  {
   "cell_type": "code",
   "execution_count": 32,
   "id": "64d171b7",
   "metadata": {},
   "outputs": [
    {
     "data": {
      "text/plain": [
       "{1, 2, 3, 4, 5}"
      ]
     },
     "execution_count": 32,
     "metadata": {},
     "output_type": "execute_result"
    }
   ],
   "source": [
    "a.union(b)"
   ]
  },
  {
   "cell_type": "markdown",
   "id": "5c5d338b",
   "metadata": {},
   "source": [
    "差集\n",
    "\n",
    "取差集的順序會有影響。"
   ]
  },
  {
   "cell_type": "code",
   "execution_count": 33,
   "id": "6aad355f",
   "metadata": {},
   "outputs": [
    {
     "data": {
      "text/plain": [
       "{1, 2}"
      ]
     },
     "execution_count": 33,
     "metadata": {},
     "output_type": "execute_result"
    }
   ],
   "source": [
    "a - b"
   ]
  },
  {
   "cell_type": "code",
   "execution_count": 34,
   "id": "739b3b61",
   "metadata": {},
   "outputs": [
    {
     "data": {
      "text/plain": [
       "{1, 2}"
      ]
     },
     "execution_count": 34,
     "metadata": {},
     "output_type": "execute_result"
    }
   ],
   "source": [
    "a.difference(b)"
   ]
  },
  {
   "cell_type": "code",
   "execution_count": 35,
   "id": "5478423a",
   "metadata": {},
   "outputs": [
    {
     "data": {
      "text/plain": [
       "{4, 5}"
      ]
     },
     "execution_count": 35,
     "metadata": {},
     "output_type": "execute_result"
    }
   ],
   "source": [
    "b - a"
   ]
  },
  {
   "cell_type": "code",
   "execution_count": 36,
   "id": "a4f13b32",
   "metadata": {},
   "outputs": [
    {
     "data": {
      "text/plain": [
       "{4, 5}"
      ]
     },
     "execution_count": 36,
     "metadata": {},
     "output_type": "execute_result"
    }
   ],
   "source": [
    "b.difference(a)"
   ]
  },
  {
   "cell_type": "markdown",
   "id": "6960fffd",
   "metadata": {},
   "source": [
    "取互斥的元素"
   ]
  },
  {
   "cell_type": "code",
   "execution_count": 37,
   "id": "add68201",
   "metadata": {},
   "outputs": [
    {
     "data": {
      "text/plain": [
       "{1, 2, 4, 5}"
      ]
     },
     "execution_count": 37,
     "metadata": {},
     "output_type": "execute_result"
    }
   ],
   "source": [
    "a ^ b"
   ]
  },
  {
   "cell_type": "code",
   "execution_count": 38,
   "id": "c34fe949",
   "metadata": {},
   "outputs": [
    {
     "data": {
      "text/plain": [
       "{1, 2, 4, 5}"
      ]
     },
     "execution_count": 38,
     "metadata": {},
     "output_type": "execute_result"
    }
   ],
   "source": [
    "a.symmetric_difference(b)"
   ]
  },
  {
   "cell_type": "markdown",
   "id": "85cf1d16",
   "metadata": {},
   "source": [
    "判斷是否為子集合"
   ]
  },
  {
   "cell_type": "code",
   "execution_count": 39,
   "id": "75f5eaaa",
   "metadata": {},
   "outputs": [
    {
     "data": {
      "text/plain": [
       "False"
      ]
     },
     "execution_count": 39,
     "metadata": {},
     "output_type": "execute_result"
    }
   ],
   "source": [
    "a <= b"
   ]
  },
  {
   "cell_type": "code",
   "execution_count": 40,
   "id": "c47032c1",
   "metadata": {},
   "outputs": [
    {
     "data": {
      "text/plain": [
       "False"
      ]
     },
     "execution_count": 40,
     "metadata": {},
     "output_type": "execute_result"
    }
   ],
   "source": [
    "a.issubset(b)"
   ]
  },
  {
   "cell_type": "markdown",
   "id": "1bdee95f",
   "metadata": {},
   "source": [
    "判斷是否為真子集"
   ]
  },
  {
   "cell_type": "code",
   "execution_count": 41,
   "id": "98bb95b7",
   "metadata": {},
   "outputs": [
    {
     "data": {
      "text/plain": [
       "False"
      ]
     },
     "execution_count": 41,
     "metadata": {},
     "output_type": "execute_result"
    }
   ],
   "source": [
    "a < b"
   ]
  },
  {
   "cell_type": "markdown",
   "id": "158d7d11",
   "metadata": {},
   "source": [
    "判斷是否為超集合"
   ]
  },
  {
   "cell_type": "code",
   "execution_count": 42,
   "id": "4a2c8df9",
   "metadata": {},
   "outputs": [
    {
     "data": {
      "text/plain": [
       "False"
      ]
     },
     "execution_count": 42,
     "metadata": {},
     "output_type": "execute_result"
    }
   ],
   "source": [
    "a >= b"
   ]
  },
  {
   "cell_type": "code",
   "execution_count": 43,
   "id": "87f18f78",
   "metadata": {},
   "outputs": [
    {
     "ename": "AttributeError",
     "evalue": "'set' object has no attribute 'isiperset'",
     "output_type": "error",
     "traceback": [
      "\u001b[0;31m---------------------------------------------------------------------------\u001b[0m",
      "\u001b[0;31mAttributeError\u001b[0m                            Traceback (most recent call last)",
      "Cell \u001b[0;32mIn[43], line 1\u001b[0m\n\u001b[0;32m----> 1\u001b[0m \u001b[43ma\u001b[49m\u001b[38;5;241;43m.\u001b[39;49m\u001b[43misiperset\u001b[49m(b)\n",
      "\u001b[0;31mAttributeError\u001b[0m: 'set' object has no attribute 'isiperset'"
     ]
    }
   ],
   "source": [
    "a.isiperset(b)"
   ]
  },
  {
   "cell_type": "markdown",
   "id": "378e0a08",
   "metadata": {},
   "source": [
    "判斷是否為真超集"
   ]
  },
  {
   "cell_type": "code",
   "execution_count": 44,
   "id": "741ffaf0",
   "metadata": {},
   "outputs": [
    {
     "data": {
      "text/plain": [
       "False"
      ]
     },
     "execution_count": 44,
     "metadata": {},
     "output_type": "execute_result"
    }
   ],
   "source": [
    "a > b"
   ]
  }
 ],
 "metadata": {
  "jupytext": {
   "formats": "md:myst",
   "text_representation": {
    "extension": ".md",
    "format_name": "myst",
    "format_version": 0.13,
    "jupytext_version": "1.16.0"
   }
  },
  "kernelspec": {
   "display_name": "Python 3",
   "language": "python",
   "name": "python3"
  },
  "language_info": {
   "codemirror_mode": {
    "name": "ipython",
    "version": 3
   },
   "file_extension": ".py",
   "mimetype": "text/x-python",
   "name": "python",
   "nbconvert_exporter": "python",
   "pygments_lexer": "ipython3",
   "version": "3.11.0"
  },
  "source_map": [
   13,
   27,
   30,
   36,
   40,
   44,
   48,
   52,
   54,
   60,
   68,
   72,
   74,
   78,
   82,
   86,
   90,
   94,
   96,
   100,
   104,
   110,
   116,
   122,
   126,
   131,
   136,
   139,
   143,
   148,
   152,
   156,
   160,
   166,
   178,
   181,
   187,
   191,
   194,
   197,
   201,
   206,
   212,
   216,
   220,
   224,
   228,
   232,
   234,
   238,
   242,
   244,
   250,
   254,
   258,
   262,
   264,
   268,
   272,
   274,
   278,
   282,
   284,
   288,
   290,
   294,
   298,
   300,
   304
  ]
 },
 "nbformat": 4,
 "nbformat_minor": 5
}