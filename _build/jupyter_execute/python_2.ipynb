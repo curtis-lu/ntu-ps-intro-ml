{
 "cells": [
  {
   "cell_type": "markdown",
   "id": "ba278dd4",
   "metadata": {},
   "source": [
    "# Python - 資料型態與變數(3)\n",
    "\n",
    "## dict\n",
    "\n",
    "dict是dictionary的略稱，字典這種資料型態的組成是一群成對的key與value。\n",
    "\n",
    "key在字典裡不能重複，通常會使用字串或tuple來當作key。至於value則沒有什麼限制。\n",
    "\n",
    "dict跟後面等等會介紹的set一樣，都是沒有順序的，不能使用切片。\n",
    "\n",
    "**建立dict**"
   ]
  },
  {
   "cell_type": "code",
   "execution_count": 1,
   "id": "07d7f3f4",
   "metadata": {},
   "outputs": [],
   "source": [
    "a_dict = {'a': 1, 'b': 2, 'c':3}\n",
    "a_dict = dict(a=1, b=2, c=3)"
   ]
  },
  {
   "cell_type": "markdown",
   "id": "e6d251bb",
   "metadata": {},
   "source": [
    "### dict的基本用法\n",
    "\n",
    " **dict的基本用法**"
   ]
  },
  {
   "cell_type": "code",
   "execution_count": 2,
   "id": "8f45238d",
   "metadata": {},
   "outputs": [
    {
     "data": {
      "text/plain": [
       "1"
      ]
     },
     "execution_count": 2,
     "metadata": {},
     "output_type": "execute_result"
    }
   ],
   "source": [
    "a_dict['a']"
   ]
  },
  {
   "cell_type": "code",
   "execution_count": 3,
   "id": "4254a217",
   "metadata": {},
   "outputs": [
    {
     "data": {
      "text/plain": [
       "1"
      ]
     },
     "execution_count": 3,
     "metadata": {},
     "output_type": "execute_result"
    }
   ],
   "source": [
    "a_dict.get('a')"
   ]
  },
  {
   "cell_type": "code",
   "execution_count": 4,
   "id": "11ac3f41",
   "metadata": {},
   "outputs": [
    {
     "ename": "KeyError",
     "evalue": "'d'",
     "output_type": "error",
     "traceback": [
      "\u001b[0;31m---------------------------------------------------------------------------\u001b[0m",
      "\u001b[0;31mKeyError\u001b[0m                                  Traceback (most recent call last)",
      "Cell \u001b[0;32mIn[4], line 1\u001b[0m\n\u001b[0;32m----> 1\u001b[0m \u001b[43ma_dict\u001b[49m\u001b[43m[\u001b[49m\u001b[38;5;124;43m'\u001b[39;49m\u001b[38;5;124;43md\u001b[39;49m\u001b[38;5;124;43m'\u001b[39;49m\u001b[43m]\u001b[49m\n",
      "\u001b[0;31mKeyError\u001b[0m: 'd'"
     ]
    }
   ],
   "source": [
    "a_dict['d']"
   ]
  },
  {
   "cell_type": "code",
   "execution_count": 5,
   "id": "ec2752ee",
   "metadata": {},
   "outputs": [],
   "source": [
    "a_dict.get('d') # 不會回傳任何東西"
   ]
  },
  {
   "cell_type": "code",
   "execution_count": 6,
   "id": "291ac57b",
   "metadata": {},
   "outputs": [
    {
     "data": {
      "text/plain": [
       "'missing'"
      ]
     },
     "execution_count": 6,
     "metadata": {},
     "output_type": "execute_result"
    }
   ],
   "source": [
    "a_dict.get('d', 'missing')"
   ]
  },
  {
   "cell_type": "markdown",
   "id": "d258e997",
   "metadata": {},
   "source": [
    "### dict 新增與刪除項目\n",
    "\n",
    "**dict新增項目**"
   ]
  },
  {
   "cell_type": "code",
   "execution_count": 7,
   "id": "b42b92de",
   "metadata": {},
   "outputs": [
    {
     "name": "stdout",
     "output_type": "stream",
     "text": [
      "{'a': 1, 'b': 2, 'c': 3, 'd': 4}\n",
      "{'a': 1, 'b': 2, 'c': 3, 'd': 4, 'e': 5}\n"
     ]
    }
   ],
   "source": [
    "a_dict = {'a': 1, 'b': 2, 'c':3}\n",
    "\n",
    "a_dict['d'] = 4\n",
    "print(a_dict)\n",
    "\n",
    "a_dict.update({'e': 5})\n",
    "print(a_dict)"
   ]
  },
  {
   "cell_type": "markdown",
   "id": "e1b3d901",
   "metadata": {},
   "source": [
    "**dict刪除項目**"
   ]
  },
  {
   "cell_type": "code",
   "execution_count": 8,
   "id": "7cb11a4a",
   "metadata": {},
   "outputs": [],
   "source": [
    "a_dict = {'a': 1, 'b': 2, 'c':3}"
   ]
  },
  {
   "cell_type": "markdown",
   "id": "bb9d7891",
   "metadata": {},
   "source": [
    "方法1"
   ]
  },
  {
   "cell_type": "code",
   "execution_count": 9,
   "id": "eff4ec9f",
   "metadata": {},
   "outputs": [
    {
     "data": {
      "text/plain": [
       "1"
      ]
     },
     "execution_count": 9,
     "metadata": {},
     "output_type": "execute_result"
    }
   ],
   "source": [
    "a_dict.pop('a')"
   ]
  },
  {
   "cell_type": "code",
   "execution_count": 10,
   "id": "eb4b4652",
   "metadata": {},
   "outputs": [
    {
     "name": "stdout",
     "output_type": "stream",
     "text": [
      "{'b': 2, 'c': 3}\n"
     ]
    }
   ],
   "source": [
    "print(a_dict)"
   ]
  },
  {
   "cell_type": "code",
   "execution_count": 11,
   "id": "5ff3c83a",
   "metadata": {},
   "outputs": [
    {
     "ename": "KeyError",
     "evalue": "'d'",
     "output_type": "error",
     "traceback": [
      "\u001b[0;31m---------------------------------------------------------------------------\u001b[0m",
      "\u001b[0;31mKeyError\u001b[0m                                  Traceback (most recent call last)",
      "Cell \u001b[0;32mIn[11], line 1\u001b[0m\n\u001b[0;32m----> 1\u001b[0m \u001b[43ma_dict\u001b[49m\u001b[38;5;241;43m.\u001b[39;49m\u001b[43mpop\u001b[49m\u001b[43m(\u001b[49m\u001b[38;5;124;43m'\u001b[39;49m\u001b[38;5;124;43md\u001b[39;49m\u001b[38;5;124;43m'\u001b[39;49m\u001b[43m)\u001b[49m\n",
      "\u001b[0;31mKeyError\u001b[0m: 'd'"
     ]
    }
   ],
   "source": [
    "a_dict.pop('d')"
   ]
  },
  {
   "cell_type": "code",
   "execution_count": 12,
   "id": "446cc595",
   "metadata": {},
   "outputs": [
    {
     "data": {
      "text/plain": [
       "'Nothing happened'"
      ]
     },
     "execution_count": 12,
     "metadata": {},
     "output_type": "execute_result"
    }
   ],
   "source": [
    "a_dict.pop('d', 'Nothing happened')"
   ]
  },
  {
   "cell_type": "code",
   "execution_count": 13,
   "id": "c3a34770",
   "metadata": {},
   "outputs": [
    {
     "name": "stdout",
     "output_type": "stream",
     "text": [
      "{'b': 2, 'c': 3}\n"
     ]
    }
   ],
   "source": [
    "print(a_dict)"
   ]
  },
  {
   "cell_type": "markdown",
   "id": "9d1864e4",
   "metadata": {},
   "source": [
    "方法2"
   ]
  },
  {
   "cell_type": "code",
   "execution_count": 14,
   "id": "a5f4082d",
   "metadata": {},
   "outputs": [
    {
     "name": "stdout",
     "output_type": "stream",
     "text": [
      "{'c': 3}\n"
     ]
    }
   ],
   "source": [
    "del a_dict['b']\n",
    "\n",
    "print(a_dict)"
   ]
  },
  {
   "cell_type": "markdown",
   "id": "40584faa",
   "metadata": {},
   "source": [
    "**dict中的key值不能重複**\n",
    "\n",
    "當要新增項目時，dict中對應的key值若已經存在，會以新的為準。"
   ]
  },
  {
   "cell_type": "code",
   "execution_count": 15,
   "id": "f2b0c163",
   "metadata": {},
   "outputs": [
    {
     "name": "stdout",
     "output_type": "stream",
     "text": [
      "{'a': 1, 'b': 'ni', 'c': 'san', 'd': 'shi'}\n"
     ]
    }
   ],
   "source": [
    "a_dict = {'a': 1, 'b': 2, 'c':3}\n",
    "b_dict = {'b': 'ni', 'c': 'san', 'd': 'shi'}\n",
    "\n",
    "a_dict.update(b_dict)\n",
    "print(a_dict)"
   ]
  },
  {
   "cell_type": "markdown",
   "id": "fbe79349",
   "metadata": {},
   "source": [
    "### dict 操作\n",
    "\n",
    "**取得dict的內容**"
   ]
  },
  {
   "cell_type": "code",
   "execution_count": 16,
   "id": "0679f40e",
   "metadata": {},
   "outputs": [],
   "source": [
    "a_dict = {'a': 1, 'b': 2, 'c':3}"
   ]
  },
  {
   "cell_type": "code",
   "execution_count": 17,
   "id": "5e7e2ecf",
   "metadata": {},
   "outputs": [
    {
     "data": {
      "text/plain": [
       "['a', 'b', 'c']"
      ]
     },
     "execution_count": 17,
     "metadata": {},
     "output_type": "execute_result"
    }
   ],
   "source": [
    "# 取得key的list\n",
    "list(a_dict.keys())"
   ]
  },
  {
   "cell_type": "code",
   "execution_count": 18,
   "id": "0dcd5355",
   "metadata": {},
   "outputs": [
    {
     "data": {
      "text/plain": [
       "[1, 2, 3]"
      ]
     },
     "execution_count": 18,
     "metadata": {},
     "output_type": "execute_result"
    }
   ],
   "source": [
    "# 取得value的list\n",
    "list(a_dict.values())"
   ]
  },
  {
   "cell_type": "code",
   "execution_count": 19,
   "id": "33ff6262",
   "metadata": {},
   "outputs": [
    {
     "data": {
      "text/plain": [
       "[('a', 1), ('b', 2), ('c', 3)]"
      ]
     },
     "execution_count": 19,
     "metadata": {},
     "output_type": "execute_result"
    }
   ],
   "source": [
    "# 取得key跟value的list，注意到其中是一個一個tuple\n",
    "list(a_dict.items())"
   ]
  },
  {
   "cell_type": "markdown",
   "id": "d9dcf654",
   "metadata": {},
   "source": [
    "**取得dict長度**"
   ]
  },
  {
   "cell_type": "code",
   "execution_count": 20,
   "id": "9ccb8187",
   "metadata": {},
   "outputs": [
    {
     "data": {
      "text/plain": [
       "3"
      ]
     },
     "execution_count": 20,
     "metadata": {},
     "output_type": "execute_result"
    }
   ],
   "source": [
    "a_dict = {'a': 1, 'b': 2, 'c':3}\n",
    "\n",
    "# 長度指的是key的數量\n",
    "len(a_dict)"
   ]
  },
  {
   "cell_type": "markdown",
   "id": "ffe0d201",
   "metadata": {},
   "source": [
    "**檢查key是否存在**"
   ]
  },
  {
   "cell_type": "code",
   "execution_count": 21,
   "id": "cf7ee513",
   "metadata": {},
   "outputs": [
    {
     "data": {
      "text/plain": [
       "True"
      ]
     },
     "execution_count": 21,
     "metadata": {},
     "output_type": "execute_result"
    }
   ],
   "source": [
    "a_dict = {'a': 1, 'b': 2, 'c':3}\n",
    "\n",
    "'c' in a_dict"
   ]
  },
  {
   "cell_type": "markdown",
   "id": "b074b78d",
   "metadata": {},
   "source": [
    "## set\n",
    "\n",
    "set是具有不重複元素的一種資料型別。\n",
    "\n",
    "操作跟數學上的集合很像。\n",
    "\n",
    "set沒有順序的概念，因此不支援切片。\n",
    "\n",
    "**建立set**"
   ]
  },
  {
   "cell_type": "code",
   "execution_count": 22,
   "id": "9e1da0cc",
   "metadata": {},
   "outputs": [],
   "source": [
    "a = {1,2,3}\n",
    "a = set([1,2,3])"
   ]
  },
  {
   "cell_type": "markdown",
   "id": "4ef7b644",
   "metadata": {},
   "source": [
    "### set元素操作\n",
    "\n",
    "**加入元素至set**"
   ]
  },
  {
   "cell_type": "code",
   "execution_count": 23,
   "id": "ab5f3ae7",
   "metadata": {},
   "outputs": [
    {
     "name": "stdout",
     "output_type": "stream",
     "text": [
      "{1, 2, 3, 4}\n"
     ]
    }
   ],
   "source": [
    "a = {1,2,3}\n",
    "a.add(4)\n",
    "print(a)"
   ]
  },
  {
   "cell_type": "markdown",
   "id": "7c356c1a",
   "metadata": {},
   "source": [
    ".add()已經存在的元素不會改變set。"
   ]
  },
  {
   "cell_type": "code",
   "execution_count": 24,
   "id": "f7953869",
   "metadata": {},
   "outputs": [
    {
     "name": "stdout",
     "output_type": "stream",
     "text": [
      "{1, 2, 3, 4}\n"
     ]
    }
   ],
   "source": [
    "a.add(1)\n",
    "print(a)"
   ]
  },
  {
   "cell_type": "markdown",
   "id": "e8b56de5",
   "metadata": {},
   "source": [
    "**刪除set中的元素**"
   ]
  },
  {
   "cell_type": "code",
   "execution_count": 25,
   "id": "b3369c5e",
   "metadata": {},
   "outputs": [
    {
     "name": "stdout",
     "output_type": "stream",
     "text": [
      "{2, 3}\n"
     ]
    }
   ],
   "source": [
    "a = {1,2,3}\n",
    "a.remove(1)\n",
    "\n",
    "print(a)"
   ]
  },
  {
   "cell_type": "markdown",
   "id": "37ed9283",
   "metadata": {},
   "source": [
    "### set 操作\n",
    "\n",
    "**取得set的長度**"
   ]
  },
  {
   "cell_type": "code",
   "execution_count": 26,
   "id": "0fd46f51",
   "metadata": {},
   "outputs": [
    {
     "data": {
      "text/plain": [
       "3"
      ]
     },
     "execution_count": 26,
     "metadata": {},
     "output_type": "execute_result"
    }
   ],
   "source": [
    "a = {1,2,3}\n",
    "\n",
    "len(a)"
   ]
  },
  {
   "cell_type": "markdown",
   "id": "4b9ea706",
   "metadata": {},
   "source": [
    "**set的運算**"
   ]
  },
  {
   "cell_type": "code",
   "execution_count": 27,
   "id": "0d03d7dc",
   "metadata": {},
   "outputs": [],
   "source": [
    "a = {1,2,3}\n",
    "b = {3,4,5}\n",
    "c = {1,2,3,4,5}"
   ]
  },
  {
   "cell_type": "markdown",
   "id": "92d2596b",
   "metadata": {},
   "source": [
    "交集"
   ]
  },
  {
   "cell_type": "code",
   "execution_count": 28,
   "id": "47a35b25",
   "metadata": {},
   "outputs": [
    {
     "data": {
      "text/plain": [
       "{3}"
      ]
     },
     "execution_count": 28,
     "metadata": {},
     "output_type": "execute_result"
    }
   ],
   "source": [
    "a & b"
   ]
  },
  {
   "cell_type": "code",
   "execution_count": 29,
   "id": "72f4a572",
   "metadata": {},
   "outputs": [
    {
     "data": {
      "text/plain": [
       "{3}"
      ]
     },
     "execution_count": 29,
     "metadata": {},
     "output_type": "execute_result"
    }
   ],
   "source": [
    "a.intersection(b)"
   ]
  },
  {
   "cell_type": "markdown",
   "id": "276a54b9",
   "metadata": {},
   "source": [
    "聯集"
   ]
  },
  {
   "cell_type": "code",
   "execution_count": 30,
   "id": "a9228673",
   "metadata": {},
   "outputs": [
    {
     "data": {
      "text/plain": [
       "{1, 2, 3, 4, 5}"
      ]
     },
     "execution_count": 30,
     "metadata": {},
     "output_type": "execute_result"
    }
   ],
   "source": [
    "a | b"
   ]
  },
  {
   "cell_type": "code",
   "execution_count": 31,
   "id": "b88a3bbc",
   "metadata": {},
   "outputs": [
    {
     "data": {
      "text/plain": [
       "{1, 2, 3, 4, 5}"
      ]
     },
     "execution_count": 31,
     "metadata": {},
     "output_type": "execute_result"
    }
   ],
   "source": [
    "a.union(b)"
   ]
  },
  {
   "cell_type": "markdown",
   "id": "461a0cae",
   "metadata": {},
   "source": [
    "差集\n",
    "\n",
    "取差集的順序會有影響。"
   ]
  },
  {
   "cell_type": "code",
   "execution_count": 32,
   "id": "d0de40c4",
   "metadata": {},
   "outputs": [
    {
     "data": {
      "text/plain": [
       "{1, 2}"
      ]
     },
     "execution_count": 32,
     "metadata": {},
     "output_type": "execute_result"
    }
   ],
   "source": [
    "a - b"
   ]
  },
  {
   "cell_type": "code",
   "execution_count": 33,
   "id": "1c9cd875",
   "metadata": {},
   "outputs": [
    {
     "data": {
      "text/plain": [
       "{1, 2}"
      ]
     },
     "execution_count": 33,
     "metadata": {},
     "output_type": "execute_result"
    }
   ],
   "source": [
    "a.difference(b)"
   ]
  },
  {
   "cell_type": "code",
   "execution_count": 34,
   "id": "c25221b0",
   "metadata": {},
   "outputs": [
    {
     "data": {
      "text/plain": [
       "{4, 5}"
      ]
     },
     "execution_count": 34,
     "metadata": {},
     "output_type": "execute_result"
    }
   ],
   "source": [
    "b - a"
   ]
  },
  {
   "cell_type": "code",
   "execution_count": 35,
   "id": "b19f74e2",
   "metadata": {},
   "outputs": [
    {
     "data": {
      "text/plain": [
       "{4, 5}"
      ]
     },
     "execution_count": 35,
     "metadata": {},
     "output_type": "execute_result"
    }
   ],
   "source": [
    "b.difference(a)"
   ]
  },
  {
   "cell_type": "markdown",
   "id": "cb3f3777",
   "metadata": {},
   "source": [
    "取互斥的元素"
   ]
  },
  {
   "cell_type": "code",
   "execution_count": 36,
   "id": "72794262",
   "metadata": {},
   "outputs": [
    {
     "data": {
      "text/plain": [
       "{1, 2, 4, 5}"
      ]
     },
     "execution_count": 36,
     "metadata": {},
     "output_type": "execute_result"
    }
   ],
   "source": [
    "a ^ b"
   ]
  },
  {
   "cell_type": "code",
   "execution_count": 37,
   "id": "c5ae8abe",
   "metadata": {},
   "outputs": [
    {
     "data": {
      "text/plain": [
       "{1, 2, 4, 5}"
      ]
     },
     "execution_count": 37,
     "metadata": {},
     "output_type": "execute_result"
    }
   ],
   "source": [
    "a.symmetric_difference(b)"
   ]
  },
  {
   "cell_type": "markdown",
   "id": "667adffb",
   "metadata": {},
   "source": [
    "判斷是否為子集合"
   ]
  },
  {
   "cell_type": "code",
   "execution_count": 38,
   "id": "02798230",
   "metadata": {},
   "outputs": [
    {
     "data": {
      "text/plain": [
       "False"
      ]
     },
     "execution_count": 38,
     "metadata": {},
     "output_type": "execute_result"
    }
   ],
   "source": [
    "a <= b"
   ]
  },
  {
   "cell_type": "code",
   "execution_count": 39,
   "id": "438d6d39",
   "metadata": {},
   "outputs": [
    {
     "data": {
      "text/plain": [
       "False"
      ]
     },
     "execution_count": 39,
     "metadata": {},
     "output_type": "execute_result"
    }
   ],
   "source": [
    "a.issubset(b)"
   ]
  },
  {
   "cell_type": "markdown",
   "id": "1fc8ddee",
   "metadata": {},
   "source": [
    "判斷是否為真子集"
   ]
  },
  {
   "cell_type": "code",
   "execution_count": 40,
   "id": "d8f577c7",
   "metadata": {},
   "outputs": [
    {
     "data": {
      "text/plain": [
       "False"
      ]
     },
     "execution_count": 40,
     "metadata": {},
     "output_type": "execute_result"
    }
   ],
   "source": [
    "a < b"
   ]
  },
  {
   "cell_type": "markdown",
   "id": "d0c312ef",
   "metadata": {},
   "source": [
    "判斷是否為超集合"
   ]
  },
  {
   "cell_type": "code",
   "execution_count": 41,
   "id": "eeff845b",
   "metadata": {},
   "outputs": [
    {
     "data": {
      "text/plain": [
       "False"
      ]
     },
     "execution_count": 41,
     "metadata": {},
     "output_type": "execute_result"
    }
   ],
   "source": [
    "a >= b"
   ]
  },
  {
   "cell_type": "code",
   "execution_count": 42,
   "id": "83ad1488",
   "metadata": {},
   "outputs": [
    {
     "ename": "AttributeError",
     "evalue": "'set' object has no attribute 'isiperset'",
     "output_type": "error",
     "traceback": [
      "\u001b[0;31m---------------------------------------------------------------------------\u001b[0m",
      "\u001b[0;31mAttributeError\u001b[0m                            Traceback (most recent call last)",
      "Cell \u001b[0;32mIn[42], line 1\u001b[0m\n\u001b[0;32m----> 1\u001b[0m \u001b[43ma\u001b[49m\u001b[38;5;241;43m.\u001b[39;49m\u001b[43misiperset\u001b[49m(b)\n",
      "\u001b[0;31mAttributeError\u001b[0m: 'set' object has no attribute 'isiperset'"
     ]
    }
   ],
   "source": [
    "a.isiperset(b)"
   ]
  },
  {
   "cell_type": "markdown",
   "id": "36ca2bb8",
   "metadata": {},
   "source": [
    "判斷是否為真超集"
   ]
  },
  {
   "cell_type": "code",
   "execution_count": 43,
   "id": "a164f140",
   "metadata": {},
   "outputs": [
    {
     "data": {
      "text/plain": [
       "False"
      ]
     },
     "execution_count": 43,
     "metadata": {},
     "output_type": "execute_result"
    }
   ],
   "source": [
    "a > b"
   ]
  }
 ],
 "metadata": {
  "jupytext": {
   "formats": "md:myst",
   "text_representation": {
    "extension": ".md",
    "format_name": "myst",
    "format_version": 0.13,
    "jupytext_version": "1.16.0"
   }
  },
  "kernelspec": {
   "display_name": "Python 3",
   "language": "python",
   "name": "python3"
  },
  "language_info": {
   "codemirror_mode": {
    "name": "ipython",
    "version": 3
   },
   "file_extension": ".py",
   "mimetype": "text/x-python",
   "name": "python",
   "nbconvert_exporter": "python",
   "pygments_lexer": "ipython3",
   "version": "3.11.0"
  },
  "source_map": [
   13,
   27,
   30,
   36,
   40,
   44,
   48,
   52,
   54,
   60,
   68,
   72,
   74,
   78,
   82,
   86,
   90,
   94,
   96,
   100,
   104,
   110,
   116,
   122,
   126,
   131,
   136,
   139,
   143,
   148,
   152,
   156,
   168,
   171,
   177,
   181,
   184,
   187,
   191,
   196,
   202,
   206,
   210,
   214,
   218,
   222,
   224,
   228,
   232,
   234,
   240,
   244,
   248,
   252,
   254,
   258,
   262,
   264,
   268,
   272,
   274,
   278,
   280,
   284,
   288,
   290,
   294
  ]
 },
 "nbformat": 4,
 "nbformat_minor": 5
}