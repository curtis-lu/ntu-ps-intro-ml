{
 "cells": [
  {
   "cell_type": "markdown",
   "id": "75609af7",
   "metadata": {},
   "source": [
    "# 2.資料型態：dict與set\n",
    "\n",
    "## 群集資料型別：dict\n",
    "\n",
    "dict是dictionary的略稱，字典這種資料型態的組成是一群成對的key與value。\n",
    "\n",
    "key在字典裡不能重複，通常會使用字串或tuple來當作key。至於value則沒有什麼限制。\n",
    "\n",
    "dict跟後面等等會介紹的set一樣，都是沒有順序的，不能使用切片。\n",
    "\n",
    "**建立dict**"
   ]
  },
  {
   "cell_type": "code",
   "execution_count": 1,
   "id": "41108d04",
   "metadata": {},
   "outputs": [],
   "source": [
    "a_dict = {'a': 1, 'b': 2, 'c':3}\n",
    "a_dict = dict(a=1, b=2, c=3)"
   ]
  },
  {
   "cell_type": "markdown",
   "id": "b75ddde4",
   "metadata": {},
   "source": [
    "### dict的基本用法\n",
    "\n",
    " **dict的基本用法**"
   ]
  },
  {
   "cell_type": "code",
   "execution_count": 2,
   "id": "36f4fd2b",
   "metadata": {},
   "outputs": [
    {
     "data": {
      "text/plain": [
       "1"
      ]
     },
     "execution_count": 2,
     "metadata": {},
     "output_type": "execute_result"
    }
   ],
   "source": [
    "a_dict['a']"
   ]
  },
  {
   "cell_type": "code",
   "execution_count": 3,
   "id": "a9181f22",
   "metadata": {},
   "outputs": [
    {
     "data": {
      "text/plain": [
       "1"
      ]
     },
     "execution_count": 3,
     "metadata": {},
     "output_type": "execute_result"
    }
   ],
   "source": [
    "a_dict.get('a')"
   ]
  },
  {
   "cell_type": "code",
   "execution_count": 4,
   "id": "b82ded12",
   "metadata": {},
   "outputs": [
    {
     "ename": "KeyError",
     "evalue": "'d'",
     "output_type": "error",
     "traceback": [
      "\u001b[0;31m---------------------------------------------------------------------------\u001b[0m",
      "\u001b[0;31mKeyError\u001b[0m                                  Traceback (most recent call last)",
      "Cell \u001b[0;32mIn[4], line 1\u001b[0m\n\u001b[0;32m----> 1\u001b[0m \u001b[43ma_dict\u001b[49m\u001b[43m[\u001b[49m\u001b[38;5;124;43m'\u001b[39;49m\u001b[38;5;124;43md\u001b[39;49m\u001b[38;5;124;43m'\u001b[39;49m\u001b[43m]\u001b[49m\n",
      "\u001b[0;31mKeyError\u001b[0m: 'd'"
     ]
    }
   ],
   "source": [
    "a_dict['d']"
   ]
  },
  {
   "cell_type": "code",
   "execution_count": 5,
   "id": "b7dbc800",
   "metadata": {},
   "outputs": [],
   "source": [
    "a_dict.get('d') # 不會回傳任何東西"
   ]
  },
  {
   "cell_type": "code",
   "execution_count": 6,
   "id": "7cc31a17",
   "metadata": {},
   "outputs": [
    {
     "data": {
      "text/plain": [
       "'missing'"
      ]
     },
     "execution_count": 6,
     "metadata": {},
     "output_type": "execute_result"
    }
   ],
   "source": [
    "a_dict.get('d', 'missing')"
   ]
  },
  {
   "cell_type": "markdown",
   "id": "64490c86",
   "metadata": {},
   "source": [
    "### dict 新增與刪除項目\n",
    "\n",
    "**dict新增項目**"
   ]
  },
  {
   "cell_type": "code",
   "execution_count": 7,
   "id": "67c47764",
   "metadata": {},
   "outputs": [
    {
     "name": "stdout",
     "output_type": "stream",
     "text": [
      "{'a': 1, 'b': 2, 'c': 3, 'd': 4}\n",
      "{'a': 1, 'b': 2, 'c': 3, 'd': 4, 'e': 5}\n"
     ]
    }
   ],
   "source": [
    "a_dict = {'a': 1, 'b': 2, 'c':3}\n",
    "\n",
    "a_dict['d'] = 4\n",
    "print(a_dict)\n",
    "\n",
    "a_dict.update({'e': 5})\n",
    "print(a_dict)"
   ]
  },
  {
   "cell_type": "markdown",
   "id": "bf7b5aeb",
   "metadata": {},
   "source": [
    "**dict刪除項目**"
   ]
  },
  {
   "cell_type": "code",
   "execution_count": 8,
   "id": "e505ba6a",
   "metadata": {},
   "outputs": [],
   "source": [
    "a_dict = {'a': 1, 'b': 2, 'c':3}"
   ]
  },
  {
   "cell_type": "markdown",
   "id": "6bf9b25d",
   "metadata": {},
   "source": [
    "方法1"
   ]
  },
  {
   "cell_type": "code",
   "execution_count": 9,
   "id": "63358ad9",
   "metadata": {},
   "outputs": [
    {
     "data": {
      "text/plain": [
       "1"
      ]
     },
     "execution_count": 9,
     "metadata": {},
     "output_type": "execute_result"
    }
   ],
   "source": [
    "a_dict.pop('a')"
   ]
  },
  {
   "cell_type": "code",
   "execution_count": 10,
   "id": "d6050e10",
   "metadata": {},
   "outputs": [
    {
     "name": "stdout",
     "output_type": "stream",
     "text": [
      "{'b': 2, 'c': 3}\n"
     ]
    }
   ],
   "source": [
    "print(a_dict)"
   ]
  },
  {
   "cell_type": "code",
   "execution_count": 11,
   "id": "c73d48f3",
   "metadata": {},
   "outputs": [
    {
     "ename": "KeyError",
     "evalue": "'d'",
     "output_type": "error",
     "traceback": [
      "\u001b[0;31m---------------------------------------------------------------------------\u001b[0m",
      "\u001b[0;31mKeyError\u001b[0m                                  Traceback (most recent call last)",
      "Cell \u001b[0;32mIn[11], line 1\u001b[0m\n\u001b[0;32m----> 1\u001b[0m \u001b[43ma_dict\u001b[49m\u001b[38;5;241;43m.\u001b[39;49m\u001b[43mpop\u001b[49m\u001b[43m(\u001b[49m\u001b[38;5;124;43m'\u001b[39;49m\u001b[38;5;124;43md\u001b[39;49m\u001b[38;5;124;43m'\u001b[39;49m\u001b[43m)\u001b[49m\n",
      "\u001b[0;31mKeyError\u001b[0m: 'd'"
     ]
    }
   ],
   "source": [
    "a_dict.pop('d')"
   ]
  },
  {
   "cell_type": "code",
   "execution_count": 12,
   "id": "c255f246",
   "metadata": {},
   "outputs": [
    {
     "data": {
      "text/plain": [
       "'Nothing happened'"
      ]
     },
     "execution_count": 12,
     "metadata": {},
     "output_type": "execute_result"
    }
   ],
   "source": [
    "a_dict.pop('d', 'Nothing happened')"
   ]
  },
  {
   "cell_type": "code",
   "execution_count": 13,
   "id": "00cf10f5",
   "metadata": {},
   "outputs": [
    {
     "name": "stdout",
     "output_type": "stream",
     "text": [
      "{'b': 2, 'c': 3}\n"
     ]
    }
   ],
   "source": [
    "print(a_dict)"
   ]
  },
  {
   "cell_type": "markdown",
   "id": "85ad4ef3",
   "metadata": {},
   "source": [
    "方法2"
   ]
  },
  {
   "cell_type": "code",
   "execution_count": 14,
   "id": "7019589b",
   "metadata": {},
   "outputs": [
    {
     "name": "stdout",
     "output_type": "stream",
     "text": [
      "{'c': 3}\n"
     ]
    }
   ],
   "source": [
    "del a_dict['b']\n",
    "\n",
    "print(a_dict)"
   ]
  },
  {
   "cell_type": "markdown",
   "id": "9d2cc89d",
   "metadata": {},
   "source": [
    "**dict中的key值不能重複**\n",
    "\n",
    "當要新增項目時，dict中對應的key值若已經存在，會以新的為準。"
   ]
  },
  {
   "cell_type": "code",
   "execution_count": 15,
   "id": "33e2d363",
   "metadata": {},
   "outputs": [
    {
     "name": "stdout",
     "output_type": "stream",
     "text": [
      "{'a': 1, 'b': 'ni', 'c': 'san', 'd': 'shi'}\n"
     ]
    }
   ],
   "source": [
    "a_dict = {'a': 1, 'b': 2, 'c':3}\n",
    "b_dict = {'b': 'ni', 'c': 'san', 'd': 'shi'}\n",
    "\n",
    "a_dict.update(b_dict)\n",
    "print(a_dict)"
   ]
  },
  {
   "cell_type": "markdown",
   "id": "57fe08c1",
   "metadata": {},
   "source": [
    "### dict 操作\n",
    "\n",
    "**取得dict的內容**"
   ]
  },
  {
   "cell_type": "code",
   "execution_count": 16,
   "id": "0d2cdca6",
   "metadata": {},
   "outputs": [],
   "source": [
    "a_dict = {'a': 1, 'b': 2, 'c':3}"
   ]
  },
  {
   "cell_type": "code",
   "execution_count": 17,
   "id": "25fbb99b",
   "metadata": {},
   "outputs": [
    {
     "data": {
      "text/plain": [
       "['a', 'b', 'c']"
      ]
     },
     "execution_count": 17,
     "metadata": {},
     "output_type": "execute_result"
    }
   ],
   "source": [
    "# 取得key的list\n",
    "list(a_dict.keys())"
   ]
  },
  {
   "cell_type": "code",
   "execution_count": 18,
   "id": "c8ad4d19",
   "metadata": {},
   "outputs": [
    {
     "data": {
      "text/plain": [
       "[1, 2, 3]"
      ]
     },
     "execution_count": 18,
     "metadata": {},
     "output_type": "execute_result"
    }
   ],
   "source": [
    "# 取得value的list\n",
    "list(a_dict.values())"
   ]
  },
  {
   "cell_type": "code",
   "execution_count": 19,
   "id": "e364b53f",
   "metadata": {},
   "outputs": [
    {
     "data": {
      "text/plain": [
       "[('a', 1), ('b', 2), ('c', 3)]"
      ]
     },
     "execution_count": 19,
     "metadata": {},
     "output_type": "execute_result"
    }
   ],
   "source": [
    "# 取得key跟value的list，注意到其中是一個一個tuple\n",
    "list(a_dict.items())"
   ]
  },
  {
   "cell_type": "markdown",
   "id": "490817aa",
   "metadata": {},
   "source": [
    "**取得dict長度**"
   ]
  },
  {
   "cell_type": "code",
   "execution_count": 20,
   "id": "a8ed1752",
   "metadata": {},
   "outputs": [
    {
     "data": {
      "text/plain": [
       "3"
      ]
     },
     "execution_count": 20,
     "metadata": {},
     "output_type": "execute_result"
    }
   ],
   "source": [
    "a_dict = {'a': 1, 'b': 2, 'c':3}\n",
    "\n",
    "# 長度指的是key的數量\n",
    "len(a_dict)"
   ]
  },
  {
   "cell_type": "markdown",
   "id": "d5a14a80",
   "metadata": {},
   "source": [
    "**檢查key是否存在**"
   ]
  },
  {
   "cell_type": "code",
   "execution_count": 21,
   "id": "a086cb49",
   "metadata": {},
   "outputs": [
    {
     "data": {
      "text/plain": [
       "True"
      ]
     },
     "execution_count": 21,
     "metadata": {},
     "output_type": "execute_result"
    }
   ],
   "source": [
    "a_dict = {'a': 1, 'b': 2, 'c':3}\n",
    "\n",
    "'c' in a_dict"
   ]
  },
  {
   "cell_type": "markdown",
   "id": "5b253213",
   "metadata": {},
   "source": [
    "**用{\\*\\*a, \\*\\*b}結合dict**"
   ]
  },
  {
   "cell_type": "code",
   "execution_count": 22,
   "id": "7c668ab2",
   "metadata": {},
   "outputs": [
    {
     "name": "stdout",
     "output_type": "stream",
     "text": [
      "{'a': 'apple', 'b': 'beach', 'c': 'cat', 'd': 'dog', 'e': 'egg', 'f': 'flower'}\n"
     ]
    }
   ],
   "source": [
    "dict_1 = {'a': 'apple', 'b': 'beach', 'c': 'cat'}\n",
    "dict_2 = {'d': 'dog', 'e': 'egg', 'f': 'flower'}\n",
    "\n",
    "dict_all = {**dict_1, **dict_2}\n",
    "print(dict_all)"
   ]
  },
  {
   "cell_type": "markdown",
   "id": "5e200bce",
   "metadata": {},
   "source": [
    "## 群集資料型別：set\n",
    "\n",
    "set是具有不重複元素的一種資料型別。\n",
    "\n",
    "操作跟數學上的集合很像。\n",
    "\n",
    "set沒有順序的概念，因此不支援切片。\n",
    "\n",
    "**建立set**"
   ]
  },
  {
   "cell_type": "code",
   "execution_count": 23,
   "id": "7b1df264",
   "metadata": {},
   "outputs": [],
   "source": [
    "a = {1,2,3}\n",
    "a = set([1,2,3])"
   ]
  },
  {
   "cell_type": "markdown",
   "id": "4b2362c0",
   "metadata": {},
   "source": [
    "### set元素操作\n",
    "\n",
    "**加入元素至set**"
   ]
  },
  {
   "cell_type": "code",
   "execution_count": 24,
   "id": "136e1d9a",
   "metadata": {},
   "outputs": [
    {
     "name": "stdout",
     "output_type": "stream",
     "text": [
      "{1, 2, 3, 4}\n"
     ]
    }
   ],
   "source": [
    "a = {1,2,3}\n",
    "a.add(4)\n",
    "print(a)"
   ]
  },
  {
   "cell_type": "markdown",
   "id": "994cf32d",
   "metadata": {},
   "source": [
    ".add()已經存在的元素不會改變set。"
   ]
  },
  {
   "cell_type": "code",
   "execution_count": 25,
   "id": "4e321aa9",
   "metadata": {},
   "outputs": [
    {
     "name": "stdout",
     "output_type": "stream",
     "text": [
      "{1, 2, 3, 4}\n"
     ]
    }
   ],
   "source": [
    "a.add(1)\n",
    "print(a)"
   ]
  },
  {
   "cell_type": "markdown",
   "id": "b7de9dfa",
   "metadata": {},
   "source": [
    "**刪除set中的元素**"
   ]
  },
  {
   "cell_type": "code",
   "execution_count": 26,
   "id": "2889763c",
   "metadata": {},
   "outputs": [
    {
     "name": "stdout",
     "output_type": "stream",
     "text": [
      "{2, 3}\n"
     ]
    }
   ],
   "source": [
    "a = {1,2,3}\n",
    "a.remove(1)\n",
    "\n",
    "print(a)"
   ]
  },
  {
   "cell_type": "markdown",
   "id": "e87997d3",
   "metadata": {},
   "source": [
    "### set 操作\n",
    "\n",
    "**取得set的長度**"
   ]
  },
  {
   "cell_type": "code",
   "execution_count": 27,
   "id": "7162c9c9",
   "metadata": {},
   "outputs": [
    {
     "data": {
      "text/plain": [
       "3"
      ]
     },
     "execution_count": 27,
     "metadata": {},
     "output_type": "execute_result"
    }
   ],
   "source": [
    "a = {1,2,3}\n",
    "\n",
    "len(a)"
   ]
  },
  {
   "cell_type": "markdown",
   "id": "5d8cff62",
   "metadata": {},
   "source": [
    "**set的運算**"
   ]
  },
  {
   "cell_type": "code",
   "execution_count": 28,
   "id": "b762ef4f",
   "metadata": {},
   "outputs": [],
   "source": [
    "a = {1,2,3}\n",
    "b = {3,4,5}\n",
    "c = {1,2,3,4,5}"
   ]
  },
  {
   "cell_type": "markdown",
   "id": "1d4a891c",
   "metadata": {},
   "source": [
    "交集"
   ]
  },
  {
   "cell_type": "code",
   "execution_count": 29,
   "id": "236b48b1",
   "metadata": {},
   "outputs": [
    {
     "data": {
      "text/plain": [
       "{3}"
      ]
     },
     "execution_count": 29,
     "metadata": {},
     "output_type": "execute_result"
    }
   ],
   "source": [
    "a & b"
   ]
  },
  {
   "cell_type": "code",
   "execution_count": 30,
   "id": "f5a530b0",
   "metadata": {},
   "outputs": [
    {
     "data": {
      "text/plain": [
       "{3}"
      ]
     },
     "execution_count": 30,
     "metadata": {},
     "output_type": "execute_result"
    }
   ],
   "source": [
    "a.intersection(b)"
   ]
  },
  {
   "cell_type": "markdown",
   "id": "113c11bb",
   "metadata": {},
   "source": [
    "聯集"
   ]
  },
  {
   "cell_type": "code",
   "execution_count": 31,
   "id": "6118bbf6",
   "metadata": {},
   "outputs": [
    {
     "data": {
      "text/plain": [
       "{1, 2, 3, 4, 5}"
      ]
     },
     "execution_count": 31,
     "metadata": {},
     "output_type": "execute_result"
    }
   ],
   "source": [
    "a | b"
   ]
  },
  {
   "cell_type": "code",
   "execution_count": 32,
   "id": "cd3652c4",
   "metadata": {},
   "outputs": [
    {
     "data": {
      "text/plain": [
       "{1, 2, 3, 4, 5}"
      ]
     },
     "execution_count": 32,
     "metadata": {},
     "output_type": "execute_result"
    }
   ],
   "source": [
    "a.union(b)"
   ]
  },
  {
   "cell_type": "markdown",
   "id": "483f72b3",
   "metadata": {},
   "source": [
    "差集\n",
    "\n",
    "取差集的順序會有影響。"
   ]
  },
  {
   "cell_type": "code",
   "execution_count": 33,
   "id": "fa6e99cb",
   "metadata": {},
   "outputs": [
    {
     "data": {
      "text/plain": [
       "{1, 2}"
      ]
     },
     "execution_count": 33,
     "metadata": {},
     "output_type": "execute_result"
    }
   ],
   "source": [
    "a - b"
   ]
  },
  {
   "cell_type": "code",
   "execution_count": 34,
   "id": "2f27353d",
   "metadata": {},
   "outputs": [
    {
     "data": {
      "text/plain": [
       "{1, 2}"
      ]
     },
     "execution_count": 34,
     "metadata": {},
     "output_type": "execute_result"
    }
   ],
   "source": [
    "a.difference(b)"
   ]
  },
  {
   "cell_type": "code",
   "execution_count": 35,
   "id": "c4d417f8",
   "metadata": {},
   "outputs": [
    {
     "data": {
      "text/plain": [
       "{4, 5}"
      ]
     },
     "execution_count": 35,
     "metadata": {},
     "output_type": "execute_result"
    }
   ],
   "source": [
    "b - a"
   ]
  },
  {
   "cell_type": "code",
   "execution_count": 36,
   "id": "8c7d1ac6",
   "metadata": {},
   "outputs": [
    {
     "data": {
      "text/plain": [
       "{4, 5}"
      ]
     },
     "execution_count": 36,
     "metadata": {},
     "output_type": "execute_result"
    }
   ],
   "source": [
    "b.difference(a)"
   ]
  },
  {
   "cell_type": "markdown",
   "id": "d6817702",
   "metadata": {},
   "source": [
    "取互斥的元素"
   ]
  },
  {
   "cell_type": "code",
   "execution_count": 37,
   "id": "c0f0fd4c",
   "metadata": {},
   "outputs": [
    {
     "data": {
      "text/plain": [
       "{1, 2, 4, 5}"
      ]
     },
     "execution_count": 37,
     "metadata": {},
     "output_type": "execute_result"
    }
   ],
   "source": [
    "a ^ b"
   ]
  },
  {
   "cell_type": "code",
   "execution_count": 38,
   "id": "4009195d",
   "metadata": {},
   "outputs": [
    {
     "data": {
      "text/plain": [
       "{1, 2, 4, 5}"
      ]
     },
     "execution_count": 38,
     "metadata": {},
     "output_type": "execute_result"
    }
   ],
   "source": [
    "a.symmetric_difference(b)"
   ]
  },
  {
   "cell_type": "markdown",
   "id": "2cda5666",
   "metadata": {},
   "source": [
    "判斷是否為子集合"
   ]
  },
  {
   "cell_type": "code",
   "execution_count": 39,
   "id": "4fbd200b",
   "metadata": {},
   "outputs": [
    {
     "data": {
      "text/plain": [
       "False"
      ]
     },
     "execution_count": 39,
     "metadata": {},
     "output_type": "execute_result"
    }
   ],
   "source": [
    "a <= b"
   ]
  },
  {
   "cell_type": "code",
   "execution_count": 40,
   "id": "45491e8a",
   "metadata": {},
   "outputs": [
    {
     "data": {
      "text/plain": [
       "False"
      ]
     },
     "execution_count": 40,
     "metadata": {},
     "output_type": "execute_result"
    }
   ],
   "source": [
    "a.issubset(b)"
   ]
  },
  {
   "cell_type": "markdown",
   "id": "84cc7823",
   "metadata": {},
   "source": [
    "判斷是否為真子集"
   ]
  },
  {
   "cell_type": "code",
   "execution_count": 41,
   "id": "2a66f68c",
   "metadata": {},
   "outputs": [
    {
     "data": {
      "text/plain": [
       "False"
      ]
     },
     "execution_count": 41,
     "metadata": {},
     "output_type": "execute_result"
    }
   ],
   "source": [
    "a < b"
   ]
  },
  {
   "cell_type": "markdown",
   "id": "4ab13000",
   "metadata": {},
   "source": [
    "判斷是否為超集合"
   ]
  },
  {
   "cell_type": "code",
   "execution_count": 42,
   "id": "97737935",
   "metadata": {},
   "outputs": [
    {
     "data": {
      "text/plain": [
       "False"
      ]
     },
     "execution_count": 42,
     "metadata": {},
     "output_type": "execute_result"
    }
   ],
   "source": [
    "a >= b"
   ]
  },
  {
   "cell_type": "code",
   "execution_count": 43,
   "id": "d912f8cf",
   "metadata": {},
   "outputs": [
    {
     "ename": "AttributeError",
     "evalue": "'set' object has no attribute 'isiperset'",
     "output_type": "error",
     "traceback": [
      "\u001b[0;31m---------------------------------------------------------------------------\u001b[0m",
      "\u001b[0;31mAttributeError\u001b[0m                            Traceback (most recent call last)",
      "Cell \u001b[0;32mIn[43], line 1\u001b[0m\n\u001b[0;32m----> 1\u001b[0m \u001b[43ma\u001b[49m\u001b[38;5;241;43m.\u001b[39;49m\u001b[43misiperset\u001b[49m(b)\n",
      "\u001b[0;31mAttributeError\u001b[0m: 'set' object has no attribute 'isiperset'"
     ]
    }
   ],
   "source": [
    "a.isiperset(b)"
   ]
  },
  {
   "cell_type": "markdown",
   "id": "b6f04924",
   "metadata": {},
   "source": [
    "判斷是否為真超集"
   ]
  },
  {
   "cell_type": "code",
   "execution_count": 44,
   "id": "c7d3f12c",
   "metadata": {},
   "outputs": [
    {
     "data": {
      "text/plain": [
       "False"
      ]
     },
     "execution_count": 44,
     "metadata": {},
     "output_type": "execute_result"
    }
   ],
   "source": [
    "a > b"
   ]
  }
 ],
 "metadata": {
  "jupytext": {
   "formats": "md:myst",
   "text_representation": {
    "extension": ".md",
    "format_name": "myst",
    "format_version": 0.13,
    "jupytext_version": "1.16.0"
   }
  },
  "kernelspec": {
   "display_name": "Python 3",
   "language": "python",
   "name": "python3"
  },
  "language_info": {
   "codemirror_mode": {
    "name": "ipython",
    "version": 3
   },
   "file_extension": ".py",
   "mimetype": "text/x-python",
   "name": "python",
   "nbconvert_exporter": "python",
   "pygments_lexer": "ipython3",
   "version": "3.11.0"
  },
  "source_map": [
   13,
   27,
   30,
   36,
   40,
   44,
   48,
   52,
   54,
   60,
   68,
   72,
   74,
   78,
   82,
   86,
   90,
   94,
   96,
   100,
   104,
   110,
   116,
   122,
   126,
   131,
   136,
   139,
   143,
   148,
   152,
   156,
   160,
   166,
   178,
   181,
   187,
   191,
   194,
   197,
   201,
   206,
   212,
   216,
   220,
   224,
   228,
   232,
   234,
   238,
   242,
   244,
   250,
   254,
   258,
   262,
   264,
   268,
   272,
   274,
   278,
   282,
   284,
   288,
   290,
   294,
   298,
   300,
   304
  ]
 },
 "nbformat": 4,
 "nbformat_minor": 5
}