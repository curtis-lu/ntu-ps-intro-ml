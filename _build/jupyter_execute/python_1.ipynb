{
 "cells": [
  {
   "cell_type": "markdown",
   "id": "16580e4b",
   "metadata": {},
   "source": [
    "# Python - 資料型態與變數(2)\n",
    "\n",
    "## list\n",
    "\n",
    "是一種集合了多個元素且元素之間具有順序的資料型態。\n",
    "\n",
    "list中的元素可以放任何物件，bool, int, float, str都可以，甚至是 list自己本身，所以當然就還包括dict, tuple, set……其他任何物件。\n",
    "\n",
    "**建立list**"
   ]
  },
  {
   "cell_type": "code",
   "execution_count": 1,
   "id": "5379d80d",
   "metadata": {},
   "outputs": [],
   "source": [
    "# 以下兩種皆可\n",
    "\n",
    "a_list = ['a','b','c']\n",
    "a_list = list(['a','b','c'])"
   ]
  },
  {
   "cell_type": "code",
   "execution_count": 2,
   "id": "cb52e2e9",
   "metadata": {},
   "outputs": [],
   "source": [
    "# list中的list\n",
    "\n",
    "a_list = ['a', 'b', 'c', [1, 2, 3]]"
   ]
  },
  {
   "cell_type": "markdown",
   "id": "271d020f",
   "metadata": {},
   "source": [
    "**切片(slice)**"
   ]
  },
  {
   "cell_type": "code",
   "execution_count": 3,
   "id": "cbabf5f0",
   "metadata": {},
   "outputs": [
    {
     "name": "stdout",
     "output_type": "stream",
     "text": [
      "a\n",
      "c\n",
      "['b', 'c']\n",
      "['a']\n"
     ]
    },
    {
     "ename": "IndexError",
     "evalue": "list index out of range",
     "output_type": "error",
     "traceback": [
      "\u001b[0;31m---------------------------------------------------------------------------\u001b[0m",
      "\u001b[0;31mIndexError\u001b[0m                                Traceback (most recent call last)",
      "Cell \u001b[0;32mIn[3], line 6\u001b[0m\n\u001b[1;32m      4\u001b[0m \u001b[38;5;28mprint\u001b[39m(a_list[\u001b[38;5;241m1\u001b[39m:])\n\u001b[1;32m      5\u001b[0m \u001b[38;5;28mprint\u001b[39m(a_list[\u001b[38;5;241m0\u001b[39m:\u001b[38;5;241m1\u001b[39m])\n\u001b[0;32m----> 6\u001b[0m \u001b[38;5;28mprint\u001b[39m(\u001b[43ma_list\u001b[49m\u001b[43m[\u001b[49m\u001b[38;5;241;43m3\u001b[39;49m\u001b[43m]\u001b[49m)\n\u001b[1;32m      7\u001b[0m \u001b[38;5;28mprint\u001b[39m(a_list[::\u001b[38;5;241m-\u001b[39m\u001b[38;5;241m1\u001b[39m])\n\u001b[1;32m      9\u001b[0m a_list \u001b[38;5;241m=\u001b[39m [\u001b[38;5;124m'\u001b[39m\u001b[38;5;124ma\u001b[39m\u001b[38;5;124m'\u001b[39m, \u001b[38;5;124m'\u001b[39m\u001b[38;5;124mb\u001b[39m\u001b[38;5;124m'\u001b[39m, \u001b[38;5;124m'\u001b[39m\u001b[38;5;124mc\u001b[39m\u001b[38;5;124m'\u001b[39m, [\u001b[38;5;241m1\u001b[39m, \u001b[38;5;241m2\u001b[39m, \u001b[38;5;241m3\u001b[39m]]\n",
      "\u001b[0;31mIndexError\u001b[0m: list index out of range"
     ]
    }
   ],
   "source": [
    "a_list = ['a','b','c']\n",
    "print(a_list[0])\n",
    "print(a_list[-1])\n",
    "print(a_list[1:])\n",
    "print(a_list[0:1])\n",
    "print(a_list[3])\n",
    "print(a_list[::-1])\n",
    "\n",
    "a_list = ['a', 'b', 'c', [1, 2, 3]]\n",
    "a_list[3][2]"
   ]
  },
  {
   "cell_type": "markdown",
   "id": "0f1c2948",
   "metadata": {},
   "source": [
    "**利用切片為list賦值**"
   ]
  },
  {
   "cell_type": "code",
   "execution_count": null,
   "id": "ccd2d13f",
   "metadata": {},
   "outputs": [],
   "source": [
    "a_list = ['a','b','c']\n",
    "a_list[0] = 1\n",
    "print(a_list)\n",
    "\n",
    "a_list[1:] = 2, 3 # (2, 3) or [2, 3] or {2, 3} 皆可\n",
    "print(a_list)"
   ]
  },
  {
   "cell_type": "markdown",
   "id": "abb16045",
   "metadata": {},
   "source": [
    "**取得list中元素的位置(.index())**"
   ]
  },
  {
   "cell_type": "code",
   "execution_count": null,
   "id": "1b73647f",
   "metadata": {},
   "outputs": [],
   "source": [
    "a_list = ['a','b','c']\n",
    "print(a_list.index('a'))\n",
    "\n",
    "print(a_list.index('d'))"
   ]
  },
  {
   "cell_type": "markdown",
   "id": "233ae02a",
   "metadata": {},
   "source": [
    "**在尾端加入元素(.append())**"
   ]
  },
  {
   "cell_type": "code",
   "execution_count": null,
   "id": "c63f9ee7",
   "metadata": {},
   "outputs": [],
   "source": [
    "a_list = ['a','b','c']\n",
    "\n",
    "a_list.append('d')  # 直接會改變list的內容 且不回傳結果\n",
    "print(a_list)"
   ]
  },
  {
   "cell_type": "markdown",
   "id": "0f6e3aff",
   "metadata": {},
   "source": [
    "**刪除list中的元素(.remove())**"
   ]
  },
  {
   "cell_type": "code",
   "execution_count": null,
   "id": "b04f32ca",
   "metadata": {},
   "outputs": [],
   "source": [
    "a_list = ['a','b','c', 'd', 'e']\n",
    "\n",
    "a_list.remove('a') # 直接會改變list的內容 且不回傳結果"
   ]
  },
  {
   "cell_type": "code",
   "execution_count": null,
   "id": "f40925f5",
   "metadata": {},
   "outputs": [],
   "source": [
    "# 另外一種方式\n",
    "a_list.pop() # 會取出最後一個元素回傳並從list中刪除"
   ]
  },
  {
   "cell_type": "code",
   "execution_count": null,
   "id": "f6114046",
   "metadata": {},
   "outputs": [],
   "source": [
    "print(a_list)"
   ]
  },
  {
   "cell_type": "code",
   "execution_count": null,
   "id": "03c42501",
   "metadata": {},
   "outputs": [],
   "source": [
    "a_list.pop(0)"
   ]
  },
  {
   "cell_type": "code",
   "execution_count": null,
   "id": "4a6c75b7",
   "metadata": {},
   "outputs": [],
   "source": [
    "print(a_list)"
   ]
  },
  {
   "cell_type": "code",
   "execution_count": null,
   "id": "1ea4d4c7",
   "metadata": {},
   "outputs": [],
   "source": [
    "# 還有另外一種方式\n",
    "del a_list[1] # del 事實上並非是list方法，而是python內建方法，會將物件和名稱分開。"
   ]
  },
  {
   "cell_type": "code",
   "execution_count": null,
   "id": "eff39b3d",
   "metadata": {},
   "outputs": [],
   "source": [
    "print(a_list)"
   ]
  },
  {
   "cell_type": "markdown",
   "id": "d6695af7",
   "metadata": {},
   "source": [
    "**檢查元素是否存在(in)**"
   ]
  },
  {
   "cell_type": "code",
   "execution_count": null,
   "id": "91b5ee0a",
   "metadata": {},
   "outputs": [],
   "source": [
    "a_list = ['a','b','c']"
   ]
  },
  {
   "cell_type": "code",
   "execution_count": null,
   "id": "b5b76232",
   "metadata": {},
   "outputs": [],
   "source": [
    "'a' in a_list"
   ]
  },
  {
   "cell_type": "code",
   "execution_count": null,
   "id": "08332505",
   "metadata": {},
   "outputs": [],
   "source": [
    "'d' in a_list"
   ]
  },
  {
   "cell_type": "markdown",
   "id": "1f388528",
   "metadata": {},
   "source": [
    "**list中元素的排序**"
   ]
  },
  {
   "cell_type": "code",
   "execution_count": null,
   "id": "5e971a3d",
   "metadata": {},
   "outputs": [],
   "source": [
    "a_list = ['b','d','a','c','e']\n",
    "a_list.sort() # 直接會改變list的內容 且不回傳結果\n",
    "print(a_list)\n",
    "['a', 'b', 'c', 'd', 'e']\n",
    "a_list.sort(reverse=True) # 降冪排列\n",
    "print(a_list)\n",
    "['e', 'd', 'c', 'b', 'a']\n",
    "\n",
    "a_list = ['b','d','a','c','e']\n",
    "sorted(a_list) # 只會回傳資料的「副本」\n",
    "['a', 'b', 'c', 'd', 'e']\n",
    "print(a_list)\n",
    "['b','d','a','c','e']"
   ]
  },
  {
   "cell_type": "markdown",
   "id": "1ced6dbb",
   "metadata": {},
   "source": [
    "**取得list的長度**"
   ]
  },
  {
   "cell_type": "code",
   "execution_count": null,
   "id": "7b70ae61",
   "metadata": {},
   "outputs": [],
   "source": [
    "a_list = [1,2,3]\n",
    "len(a_list)\n",
    "3"
   ]
  },
  {
   "cell_type": "markdown",
   "id": "6d562c97",
   "metadata": {},
   "source": [
    "**list的加法與乘法運算**"
   ]
  },
  {
   "cell_type": "code",
   "execution_count": null,
   "id": "482227b6",
   "metadata": {},
   "outputs": [],
   "source": [
    "a_list = ['a','b','c']\n",
    "d_list = ['d','e','f']\n",
    "a_list + d_list\n",
    "['a', 'b', 'c', 'd', 'e', 'f']\n",
    "\n",
    "# 補充：用append的話，argument會被當作元素加到list最尾端\n",
    "a_list.append(d_list) # 直接會改變list的內容且不回傳結果\n",
    "print(a_list)\n",
    "['a', 'b', 'c', ['d', 'e', 'f']]\n",
    "\n",
    "a_list = ['a','b','c']\n",
    "a_list * 2\n",
    "['a', 'b', 'c', 'a', 'b', 'c']\n"
   ]
  },
  {
   "cell_type": "markdown",
   "id": "0ff52f1e",
   "metadata": {},
   "source": [
    "**list的其他方法**"
   ]
  },
  {
   "cell_type": "code",
   "execution_count": null,
   "id": "93ec1055",
   "metadata": {},
   "outputs": [],
   "source": [
    "# .reverse()\n",
    "a_list = ['a','b','c']\n",
    "a_list.reverse() # 直接會改變list的順序 且不回傳結果\n",
    "print(a_list)\n",
    "['c', 'b', 'a']\n",
    "\n",
    "# .extend()\n",
    "a_list = ['a','b','c']\n",
    "d_list = ['d','e','f']\n",
    "a_list.extend(d_list) # 直接會改變list的內容 且不回傳結果\n",
    "['a', 'b', 'c', 'd', 'e', 'f']\n",
    "\n",
    "# .clear()\n",
    "a_list = ['a','b','c']\n",
    "a_list.clear() # 直接會改變list的內容 且不回傳結果\n",
    "print(a_list)\n",
    "[]\n",
    "\n",
    "# .count()\n",
    "a_list = ['a','b','c','a']\n",
    "a_list.count('a')\n",
    "2"
   ]
  },
  {
   "cell_type": "markdown",
   "id": "f1b94d65",
   "metadata": {},
   "source": [
    "## tuple\n",
    "\n",
    "tuple是\n",
    "\n",
    "**建立tuple**"
   ]
  },
  {
   "cell_type": "code",
   "execution_count": null,
   "id": "b704ccec",
   "metadata": {},
   "outputs": [],
   "source": [
    "a_tuple = (1, 2, 3)\n",
    "a_tuple = tuple([1,2,3])\n",
    "a_tuple = 1, 2, 3"
   ]
  },
  {
   "cell_type": "markdown",
   "id": "dfc037bf",
   "metadata": {},
   "source": [
    "**切片(slice)**"
   ]
  },
  {
   "cell_type": "code",
   "execution_count": null,
   "id": "2a6d9807",
   "metadata": {},
   "outputs": [],
   "source": [
    "a_tuple = (1, 2, 3)\n",
    "a_tuple[0]\n",
    "1\n",
    "a_tuple[1:]\n",
    "(2, 3)\n",
    "a_tuple[0:1]\n",
    "(1,)"
   ]
  },
  {
   "cell_type": "markdown",
   "id": "baaf4203",
   "metadata": {},
   "source": [
    "**tuple unpacking**"
   ]
  },
  {
   "cell_type": "code",
   "execution_count": null,
   "id": "37f1aa02",
   "metadata": {},
   "outputs": [],
   "source": [
    "name = ('Frieren', 'Fern', 'Stark')\n",
    "a, b, c = name\n",
    "print(a)\n",
    "'Frieren'\n",
    "print(b)\n",
    "'Fern'\n",
    "print(c)\n",
    "'Stark'"
   ]
  },
  {
   "cell_type": "markdown",
   "id": "cc34cf39",
   "metadata": {},
   "source": [
    "**檢查元素是否存在(in)**"
   ]
  },
  {
   "cell_type": "code",
   "execution_count": null,
   "id": "e0824a37",
   "metadata": {},
   "outputs": [],
   "source": [
    "a_tuple = (1,2,3)\n",
    "4 in a_tuple\n",
    "False"
   ]
  },
  {
   "cell_type": "markdown",
   "id": "04e35ab3",
   "metadata": {},
   "source": [
    "**取得tuple的長度**"
   ]
  },
  {
   "cell_type": "code",
   "execution_count": null,
   "id": "3f5ab4be",
   "metadata": {},
   "outputs": [],
   "source": [
    "a_tuple = (1,2,3)\n",
    "len(a_tuple)\n",
    "3"
   ]
  },
  {
   "cell_type": "markdown",
   "id": "657677cc",
   "metadata": {},
   "source": [
    "**tuple的加法與乘法運算**"
   ]
  },
  {
   "cell_type": "code",
   "execution_count": null,
   "id": "41585b6a",
   "metadata": {},
   "outputs": [],
   "source": [
    "a_tuple = (1,2,3)\n",
    "b_tuple = (4,5,6)\n",
    "a_tuple + b_tuple\n",
    "(1, 2, 3, 4, 5, 6)\n",
    "\n",
    "a_tuple * 2\n",
    "(1, 2, 3, 1, 2, 3)\n"
   ]
  },
  {
   "cell_type": "markdown",
   "id": "25414ca5",
   "metadata": {},
   "source": [
    "**tuple與list的差異**\n",
    "\n",
    "不能切片後賦值。\n",
    "\n",
    "不能新增元素，沒有類似.append()或.insert()方法，要增加元素只能新建一個tuple。\n",
    "\n",
    "沒有sort方法。"
   ]
  },
  {
   "cell_type": "code",
   "execution_count": null,
   "id": "71ba1445",
   "metadata": {},
   "outputs": [],
   "source": [
    "# 不能切片後賦值\n",
    "a_list = [1,2,3]\n",
    "a_list[0] = 'a'\n",
    "\n",
    "a_tuple = (1,2,3)\n",
    "a_tuple[0] = 'a'\n",
    "TypeError\n",
    "\n",
    "# 不能新增元素，沒有append()方法，要增加元素只能新建一個tuple\n",
    "a_tuple = (1,2,3)\n",
    "id(a_tuple) # 物件的唯一識別碼\n",
    "4414453632\n",
    "a_tuple = a_tuple + (4,)\n",
    "id(a_tuple)\n",
    "4415677888\n",
    "\n",
    "a_list = [1,2,3]\n",
    "id(a_list)\n",
    "4415648320\n",
    "a_list.append(4)\n",
    "id(a_list)\n",
    "4415648320\n",
    "\n",
    "# 沒有sort方法，要排序tuple中的元素的話，可以用sorted內建函數，但回傳的是一個list\n",
    "a_tuple = (4,5,3,1,2)\n",
    "sorted(a_tuple)\n",
    "[1, 2, 3, 4, 5]\n"
   ]
  },
  {
   "cell_type": "markdown",
   "id": "d9d4d87f",
   "metadata": {},
   "source": [
    "## dict\n",
    "\n",
    "dict是dictionary的略稱，字典這種資料型態的組成是一群成對的key與value。\n",
    "\n",
    "key在字典裡不能重複，通常會使用字串或tuple來當作key。至於value則沒有什麼限制。\n",
    "\n",
    "dict跟後面等等會介紹的set一樣，都是沒有順序的，不能使用切片。\n",
    "\n",
    "**建立dict**"
   ]
  },
  {
   "cell_type": "code",
   "execution_count": null,
   "id": "31879c34",
   "metadata": {},
   "outputs": [],
   "source": [
    "a_dict = {'a': 1, 'b': 2, 'c':3}\n",
    "a_dict = dict(a=1, b=2, c=3)"
   ]
  },
  {
   "cell_type": "markdown",
   "id": "ec2a8b9b",
   "metadata": {},
   "source": [
    "**dict的基本用法**"
   ]
  },
  {
   "cell_type": "code",
   "execution_count": null,
   "id": "89b29cc5",
   "metadata": {},
   "outputs": [],
   "source": [
    "a_dict['a']\n",
    "1\n",
    "a_dict.get('a')\n",
    "1\n",
    "a_dict['d']\n",
    "KeyError\n",
    "a_dict.get('d') # 不會回傳任何東西\n",
    "a_dict.get('d', 'missing')\n",
    "'missing'"
   ]
  },
  {
   "cell_type": "markdown",
   "id": "a83ee535",
   "metadata": {},
   "source": [
    "**dict新增項目**"
   ]
  },
  {
   "cell_type": "code",
   "execution_count": null,
   "id": "6bd856d3",
   "metadata": {},
   "outputs": [],
   "source": [
    "a_dict = {'a': 1, 'b': 2, 'c':3}\n",
    "a_dict['d'] = 4\n",
    "print(a_dict)\n",
    "{'a': 1, 'b': 2, 'c': 3, 'd': 4}\n",
    "a_dict.update({'e': 5})\n",
    "print(a_dict)\n",
    "{'a': 1, 'b': 2, 'c': 3, 'd': 4, 'e': 5}"
   ]
  },
  {
   "cell_type": "markdown",
   "id": "e52f5200",
   "metadata": {},
   "source": [
    "**dict刪除項目**"
   ]
  },
  {
   "cell_type": "code",
   "execution_count": null,
   "id": "1af79c1d",
   "metadata": {},
   "outputs": [],
   "source": [
    "a_dict = {'a': 1, 'b': 2, 'c':3}\n",
    "\n",
    "# 方法1\n",
    "a_dict.pop('a')\n",
    "1\n",
    "print(a_dict)\n",
    "{'b': 2, 'c': 3}\n",
    "a_dict.pop('d')\n",
    "KeyError\n",
    "a_dict.pop('d', 'Nothing happened')\n",
    "'Nothing happened'\n",
    "print(a_dict)\n",
    "{'b': 2, 'c': 3}\n",
    "\n",
    "# 方法2\n",
    "del a_dict['b']\n",
    "print(a_dict)\n",
    "{'c': 3}"
   ]
  },
  {
   "cell_type": "markdown",
   "id": "3dec5a7d",
   "metadata": {},
   "source": [
    "**dict中的key值不能重複**\n",
    "\n",
    "當要新增項目時，dict中對應的key值若已經存在，會以新的為準。"
   ]
  },
  {
   "cell_type": "code",
   "execution_count": null,
   "id": "8012c018",
   "metadata": {},
   "outputs": [],
   "source": [
    "a_dict = {'a': 1, 'b': 2, 'c':3}\n",
    "b_dict = {'b': 'ni', 'c': 'san', 'd': 'shi'}\n",
    "a_dict.update(b_dict)\n",
    "print(a_dict)\n",
    "{'a': 1, 'b': 'ni', 'c': 'san', 'd': 'shi'}"
   ]
  },
  {
   "cell_type": "markdown",
   "id": "4ebc81de",
   "metadata": {},
   "source": [
    "**取得dict的內容**"
   ]
  },
  {
   "cell_type": "code",
   "execution_count": null,
   "id": "824b5081",
   "metadata": {},
   "outputs": [],
   "source": [
    "a_dict = {'a': 1, 'b': 2, 'c':3}\n",
    "\n",
    "# 取得key的list\n",
    "list(a_dict.keys())\n",
    "['a', 'b', 'c']\n",
    "\n",
    "# 取得value的list\n",
    "list(a_dict.values())\n",
    "[1, 2, 3]\n",
    "\n",
    "# 取得key跟value的list，注意到其中是一個一個tuple\n",
    "list(a_dict.items())\n",
    "[('a', 1), ('b', 2), ('c', 3)]"
   ]
  },
  {
   "cell_type": "markdown",
   "id": "53f6b0e8",
   "metadata": {},
   "source": [
    "**取得dict長度**"
   ]
  },
  {
   "cell_type": "code",
   "execution_count": null,
   "id": "dd148f17",
   "metadata": {},
   "outputs": [],
   "source": [
    "# 指的是key的數量\n",
    "a_dict = {'a': 1, 'b': 2, 'c':3}\n",
    "len(a_dict)\n",
    "3"
   ]
  },
  {
   "cell_type": "markdown",
   "id": "5ae01a79",
   "metadata": {},
   "source": [
    "**檢查key是否存在**"
   ]
  },
  {
   "cell_type": "code",
   "execution_count": null,
   "id": "2157f978",
   "metadata": {},
   "outputs": [],
   "source": [
    "a_dict = {'a': 1, 'b': 2, 'c':3}\n",
    "'c' in a_dict\n",
    "True"
   ]
  },
  {
   "cell_type": "markdown",
   "id": "255bb8bc",
   "metadata": {},
   "source": [
    "## set\n",
    "\n",
    "set是具有不重複元素的一種資料型別。\n",
    "\n",
    "操作跟數學上的集合很像。\n",
    "\n",
    "set沒有順序的概念，因此不支援切片。\n",
    "\n",
    "**建立set**"
   ]
  },
  {
   "cell_type": "code",
   "execution_count": null,
   "id": "2db92566",
   "metadata": {},
   "outputs": [],
   "source": [
    "a = {1,2,3}\n",
    "a = set([1,2,3])"
   ]
  },
  {
   "cell_type": "markdown",
   "id": "f76d2e26",
   "metadata": {},
   "source": [
    "**加入元素至set**"
   ]
  },
  {
   "cell_type": "code",
   "execution_count": null,
   "id": "804e6182",
   "metadata": {},
   "outputs": [],
   "source": [
    "a = {1,2,3}\n",
    "a.add(4)\n",
    "print(a)\n",
    "{1,2,3,4}\n",
    "\n",
    "# .add()已經存在的元素不會改變set。\n",
    "a.add(1) \n",
    "print(a) \n",
    "{1,2,3,4}"
   ]
  },
  {
   "cell_type": "markdown",
   "id": "8ccb30e6",
   "metadata": {},
   "source": [
    "**刪除set中的元素**"
   ]
  },
  {
   "cell_type": "code",
   "execution_count": null,
   "id": "3c169e4a",
   "metadata": {},
   "outputs": [],
   "source": [
    "a = {1,2,3}\n",
    "a.remove(1)\n",
    "print(a)\n",
    "{2, 3}"
   ]
  },
  {
   "cell_type": "markdown",
   "id": "50efb969",
   "metadata": {},
   "source": [
    "**取得set的長度**"
   ]
  },
  {
   "cell_type": "code",
   "execution_count": null,
   "id": "3b25246e",
   "metadata": {},
   "outputs": [],
   "source": [
    "a = {1,2,3}\n",
    "len(a)\n",
    "3"
   ]
  },
  {
   "cell_type": "markdown",
   "id": "eedc1a0d",
   "metadata": {},
   "source": [
    "**set的運算**"
   ]
  },
  {
   "cell_type": "code",
   "execution_count": null,
   "id": "0052c911",
   "metadata": {},
   "outputs": [],
   "source": [
    "a = {1,2,3}\n",
    "b = {3,4,5}\n",
    "c = {1,2,3,4,5}\n",
    "\n",
    "# 交集\n",
    "a & b\n",
    "{3}\n",
    "a.intersection(b)\n",
    "{3}\n",
    "\n",
    "# 聯集\n",
    "a | b\n",
    "{1, 2, 3, 4, 5}\n",
    "a.union(b)\n",
    "{1, 2, 3, 4, 5}\n",
    "\n",
    "# 差集\n",
    "a - b\n",
    "{1, 2}\n",
    "a.difference(b)\n",
    "{1, 2}\n",
    "\n",
    "b - a\n",
    "{4, 5}\n",
    "b.difference(a)\n",
    "{4, 5}\n",
    "\n",
    "# 取互斥的元素\n",
    "a ^ b\n",
    "{1, 2, 4, 5}\n",
    "a.symmetric_difference(b)\n",
    "{1, 2, 4, 5}\n",
    "\n",
    "# 判斷是否為子集合\n",
    "a <= b\n",
    "False\n",
    "a.issubset(b)\n",
    "False\n",
    "\n",
    "# 判斷是否為真子集\n",
    "a < b\n",
    "False\n",
    "\n",
    "# 判斷是否為超集合\n",
    "a >= b\n",
    "False\n",
    "a.isiperset(b)\n",
    "False\n",
    "\n",
    "# 判斷是否為真超集\n",
    "a > b\n",
    "False"
   ]
  },
  {
   "cell_type": "markdown",
   "id": "ccc1fb42",
   "metadata": {},
   "source": [
    "# 進階主題\n",
    "\n",
    "## 資料型別的可變與不可變\n",
    "\n",
    "**資料型態與是否可變**\n",
    "\n",
    "| type | example | immutable |\n",
    "| --- | --- | --- |\n",
    "| bool | True, False | immutable |\n",
    "| int | 42, 19, 112 | immutable |\n",
    "| float | 3.14, 0.13 | immutable |\n",
    "| str | 'Hi', \"Hello\", '''Bye!''', \"\"\"Bye!\"\"\" | immutable |\n",
    "| list | ['a', 'b', 'c', 'd', 'a'] | mutable |\n",
    "| tuple | ('a', 'b') | immutable |\n",
    "| dict | {'a': 1, 'b': 2} | mutable |\n",
    "| set | {'a', 'b', 'c'} | mutable |\n",
    "\n",
    "**不可變**"
   ]
  },
  {
   "cell_type": "code",
   "execution_count": null,
   "id": "ae68a9e3",
   "metadata": {},
   "outputs": [],
   "source": [
    "x = 5\n",
    "print(x)\n",
    "5\n",
    "y = x\n",
    "print(y)\n",
    "5\n",
    "x = 29\n",
    "print(x)\n",
    "29\n",
    "print(y)\n",
    "5"
   ]
  },
  {
   "cell_type": "code",
   "execution_count": null,
   "id": "ed89c1eb",
   "metadata": {},
   "outputs": [],
   "source": [
    "name = 'Curtis'\n",
    "name[0] = 'K'\n",
    "TypeError"
   ]
  },
  {
   "cell_type": "markdown",
   "id": "10d551bb",
   "metadata": {},
   "source": [
    "**可變**"
   ]
  },
  {
   "cell_type": "code",
   "execution_count": null,
   "id": "1dbeb278",
   "metadata": {},
   "outputs": [],
   "source": [
    "x = [1, 2, 3]\n",
    "y = x\n",
    "x[0] = 'a'\n",
    "print(y)\n",
    "['a', 2, 3]"
   ]
  },
  {
   "cell_type": "markdown",
   "id": "2e8ae670",
   "metadata": {},
   "source": [
    "## 資料型態統整\n",
    "\n",
    "參考資料\n",
    "\n",
    "introducing python: modern computing in simple packages"
   ]
  }
 ],
 "metadata": {
  "jupytext": {
   "formats": "md:myst",
   "text_representation": {
    "extension": ".md",
    "format_name": "myst",
    "format_version": 0.13,
    "jupytext_version": "1.16.0"
   }
  },
  "kernelspec": {
   "display_name": "Python 3",
   "language": "python",
   "name": "python3"
  },
  "language_info": {
   "codemirror_mode": {
    "name": "ipython",
    "version": 3
   },
   "file_extension": ".py",
   "mimetype": "text/x-python",
   "name": "python",
   "nbconvert_exporter": "python",
   "pygments_lexer": "ipython3",
   "version": "3.11.0"
  },
  "source_map": [
   13,
   25,
   32,
   36,
   40,
   51,
   55,
   62,
   66,
   71,
   75,
   80,
   84,
   90,
   95,
   99,
   103,
   107,
   112,
   114,
   118,
   122,
   126,
   128,
   132,
   146,
   150,
   154,
   158,
   173,
   177,
   200,
   208,
   212,
   216,
   224,
   228,
   237,
   241,
   245,
   249,
   253,
   257,
   266,
   276,
   305,
   317,
   320,
   324,
   334,
   338,
   346,
   350,
   369,
   375,
   381,
   385,
   399,
   403,
   408,
   412,
   416,
   428,
   431,
   435,
   445,
   449,
   454,
   458,
   462,
   466,
   519,
   540,
   554,
   558,
   562,
   568
  ]
 },
 "nbformat": 4,
 "nbformat_minor": 5
}