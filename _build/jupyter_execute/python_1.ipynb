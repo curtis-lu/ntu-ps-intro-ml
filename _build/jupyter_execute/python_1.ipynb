{
 "cells": [
  {
   "cell_type": "markdown",
   "id": "1af0d096",
   "metadata": {},
   "source": [
    "# Python - 資料型態與變數(2)\n",
    "\n",
    "## list\n",
    "\n",
    "是一種集合了多個元素且元素之間具有順序的資料型態。\n",
    "\n",
    "list中的元素可以放任何物件，bool, int, float, str都可以，甚至是 list自己本身，所以當然就還包括dict, tuple, set……其他任何物件。\n",
    "\n",
    "**建立list**"
   ]
  },
  {
   "cell_type": "code",
   "execution_count": 1,
   "id": "3dc838f3",
   "metadata": {},
   "outputs": [],
   "source": [
    "# 以下兩種皆可\n",
    "\n",
    "a_list = ['a','b','c']\n",
    "a_list = list(['a','b','c'])"
   ]
  },
  {
   "cell_type": "code",
   "execution_count": 2,
   "id": "e3d356f9",
   "metadata": {},
   "outputs": [],
   "source": [
    "# list中的list\n",
    "\n",
    "a_list = ['a', 'b', 'c', [1, 2, 3]]"
   ]
  },
  {
   "cell_type": "markdown",
   "id": "7f909871",
   "metadata": {},
   "source": [
    "**切片(slice)**\n",
    "\n",
    "需注意切片是從0開始。\n",
    "\n",
    "超過index會報錯：IndexError。"
   ]
  },
  {
   "cell_type": "code",
   "execution_count": 3,
   "id": "b8e45695",
   "metadata": {},
   "outputs": [
    {
     "name": "stdout",
     "output_type": "stream",
     "text": [
      "a\n",
      "c\n",
      "['b', 'c']\n",
      "['a']\n",
      "['c', 'b', 'a']\n"
     ]
    }
   ],
   "source": [
    "a_list = ['a','b','c']\n",
    "print(a_list[0])\n",
    "print(a_list[-1])\n",
    "print(a_list[1:])\n",
    "print(a_list[0:1])\n",
    "print(a_list[::-1])"
   ]
  },
  {
   "cell_type": "code",
   "execution_count": 4,
   "id": "26e55f31",
   "metadata": {},
   "outputs": [
    {
     "name": "stdout",
     "output_type": "stream",
     "text": [
      "3\n"
     ]
    }
   ],
   "source": [
    "a_list = ['a', 'b', 'c', [1, 2, 3]]\n",
    "\n",
    "print(a_list[3][2])"
   ]
  },
  {
   "cell_type": "markdown",
   "id": "628c999b",
   "metadata": {},
   "source": [
    "**利用切片為list賦值**"
   ]
  },
  {
   "cell_type": "code",
   "execution_count": 5,
   "id": "eeb5014f",
   "metadata": {},
   "outputs": [
    {
     "name": "stdout",
     "output_type": "stream",
     "text": [
      "[1, 'b', 'c']\n",
      "[1, 2, 3]\n"
     ]
    }
   ],
   "source": [
    "a_list = ['a','b','c']\n",
    "a_list[0] = 1\n",
    "print(a_list)\n",
    "\n",
    "a_list[1:] = 2, 3 # (2, 3) or [2, 3] or {2, 3} 皆可\n",
    "print(a_list)"
   ]
  },
  {
   "cell_type": "markdown",
   "id": "3247230c",
   "metadata": {},
   "source": [
    "**取得list中元素的位置(.index())**"
   ]
  },
  {
   "cell_type": "code",
   "execution_count": 6,
   "id": "55fe493c",
   "metadata": {},
   "outputs": [
    {
     "name": "stdout",
     "output_type": "stream",
     "text": [
      "0\n"
     ]
    },
    {
     "ename": "ValueError",
     "evalue": "'d' is not in list",
     "output_type": "error",
     "traceback": [
      "\u001b[0;31m---------------------------------------------------------------------------\u001b[0m",
      "\u001b[0;31mValueError\u001b[0m                                Traceback (most recent call last)",
      "Cell \u001b[0;32mIn[6], line 4\u001b[0m\n\u001b[1;32m      1\u001b[0m a_list \u001b[38;5;241m=\u001b[39m [\u001b[38;5;124m'\u001b[39m\u001b[38;5;124ma\u001b[39m\u001b[38;5;124m'\u001b[39m,\u001b[38;5;124m'\u001b[39m\u001b[38;5;124mb\u001b[39m\u001b[38;5;124m'\u001b[39m,\u001b[38;5;124m'\u001b[39m\u001b[38;5;124mc\u001b[39m\u001b[38;5;124m'\u001b[39m]\n\u001b[1;32m      2\u001b[0m \u001b[38;5;28mprint\u001b[39m(a_list\u001b[38;5;241m.\u001b[39mindex(\u001b[38;5;124m'\u001b[39m\u001b[38;5;124ma\u001b[39m\u001b[38;5;124m'\u001b[39m))\n\u001b[0;32m----> 4\u001b[0m \u001b[38;5;28mprint\u001b[39m(\u001b[43ma_list\u001b[49m\u001b[38;5;241;43m.\u001b[39;49m\u001b[43mindex\u001b[49m\u001b[43m(\u001b[49m\u001b[38;5;124;43m'\u001b[39;49m\u001b[38;5;124;43md\u001b[39;49m\u001b[38;5;124;43m'\u001b[39;49m\u001b[43m)\u001b[49m)\n",
      "\u001b[0;31mValueError\u001b[0m: 'd' is not in list"
     ]
    }
   ],
   "source": [
    "a_list = ['a','b','c']\n",
    "print(a_list.index('a'))\n",
    "\n",
    "print(a_list.index('d'))"
   ]
  },
  {
   "cell_type": "markdown",
   "id": "48bf88ad",
   "metadata": {},
   "source": [
    "**在尾端加入元素(.append())**"
   ]
  },
  {
   "cell_type": "code",
   "execution_count": null,
   "id": "01dda311",
   "metadata": {},
   "outputs": [],
   "source": [
    "a_list = ['a','b','c']\n",
    "\n",
    "a_list.append('d')  # 直接會改變list的內容 且不回傳結果\n",
    "print(a_list)"
   ]
  },
  {
   "cell_type": "markdown",
   "id": "21173ea3",
   "metadata": {},
   "source": [
    "**刪除list中的元素(.remove())**"
   ]
  },
  {
   "cell_type": "code",
   "execution_count": null,
   "id": "d949aabf",
   "metadata": {},
   "outputs": [],
   "source": [
    "a_list = ['a','b','c', 'd', 'e']\n",
    "\n",
    "a_list.remove('a') # 直接會改變list的內容 且不回傳結果"
   ]
  },
  {
   "cell_type": "code",
   "execution_count": null,
   "id": "75006774",
   "metadata": {},
   "outputs": [],
   "source": [
    "# 另外一種方式\n",
    "a_list.pop() # 會取出最後一個元素回傳並從list中刪除"
   ]
  },
  {
   "cell_type": "code",
   "execution_count": null,
   "id": "e397047d",
   "metadata": {},
   "outputs": [],
   "source": [
    "print(a_list)"
   ]
  },
  {
   "cell_type": "code",
   "execution_count": null,
   "id": "41b78850",
   "metadata": {},
   "outputs": [],
   "source": [
    "a_list.pop(0)"
   ]
  },
  {
   "cell_type": "code",
   "execution_count": null,
   "id": "c91c4acb",
   "metadata": {},
   "outputs": [],
   "source": [
    "print(a_list)"
   ]
  },
  {
   "cell_type": "code",
   "execution_count": null,
   "id": "9c9e8b3e",
   "metadata": {},
   "outputs": [],
   "source": [
    "# 還有另外一種方式\n",
    "del a_list[1] # del 事實上並非是list方法，而是python內建方法，會將物件和名稱分開。"
   ]
  },
  {
   "cell_type": "code",
   "execution_count": null,
   "id": "426fe207",
   "metadata": {},
   "outputs": [],
   "source": [
    "print(a_list)"
   ]
  },
  {
   "cell_type": "markdown",
   "id": "fefa3f1c",
   "metadata": {},
   "source": [
    "**檢查元素是否存在(in)**"
   ]
  },
  {
   "cell_type": "code",
   "execution_count": null,
   "id": "2b429c4b",
   "metadata": {},
   "outputs": [],
   "source": [
    "a_list = ['a','b','c']"
   ]
  },
  {
   "cell_type": "code",
   "execution_count": null,
   "id": "12cd878c",
   "metadata": {},
   "outputs": [],
   "source": [
    "'a' in a_list"
   ]
  },
  {
   "cell_type": "code",
   "execution_count": null,
   "id": "8247fe9b",
   "metadata": {},
   "outputs": [],
   "source": [
    "'d' in a_list"
   ]
  },
  {
   "cell_type": "markdown",
   "id": "9be75bc2",
   "metadata": {},
   "source": [
    "**list中元素的排序**"
   ]
  },
  {
   "cell_type": "code",
   "execution_count": null,
   "id": "532bad28",
   "metadata": {},
   "outputs": [],
   "source": [
    "a_list = ['b','d','a','c','e']\n",
    "a_list.sort() # 直接會改變list的內容 且不回傳結果\n",
    "print(a_list)"
   ]
  },
  {
   "cell_type": "code",
   "execution_count": null,
   "id": "fac567c5",
   "metadata": {},
   "outputs": [],
   "source": [
    "a_list.sort(reverse=True) # 降冪排列\n",
    "print(a_list)"
   ]
  },
  {
   "cell_type": "code",
   "execution_count": null,
   "id": "d0d5b043",
   "metadata": {},
   "outputs": [],
   "source": [
    "a_list = ['b','d','a','c','e']\n",
    "sorted(a_list) # 只會回傳資料的「副本」"
   ]
  },
  {
   "cell_type": "code",
   "execution_count": null,
   "id": "81180dc4",
   "metadata": {},
   "outputs": [],
   "source": [
    "print(a_list)"
   ]
  },
  {
   "cell_type": "markdown",
   "id": "5f98fbe8",
   "metadata": {},
   "source": [
    "**取得list的長度**"
   ]
  },
  {
   "cell_type": "code",
   "execution_count": null,
   "id": "4f8d5d72",
   "metadata": {},
   "outputs": [],
   "source": [
    "a_list = [1,2,3]\n",
    "\n",
    "len(a_list)"
   ]
  },
  {
   "cell_type": "markdown",
   "id": "b8078eb4",
   "metadata": {},
   "source": [
    "**list的加法與乘法運算**"
   ]
  },
  {
   "cell_type": "code",
   "execution_count": null,
   "id": "40661e66",
   "metadata": {},
   "outputs": [],
   "source": [
    "a_list = ['a','b','c']\n",
    "d_list = ['d','e','f']\n",
    "\n",
    "print(a_list + d_list)"
   ]
  },
  {
   "cell_type": "code",
   "execution_count": null,
   "id": "dc4ef2e2",
   "metadata": {},
   "outputs": [],
   "source": [
    "# 補充：用append的話，argument會被當作元素加到list最尾端\n",
    "\n",
    "a_list.append(d_list) # 直接會改變list的內容且不回傳結果\n",
    "print(a_list)"
   ]
  },
  {
   "cell_type": "code",
   "execution_count": null,
   "id": "9c81647b",
   "metadata": {},
   "outputs": [],
   "source": [
    "a_list = ['a','b','c']\n",
    "\n",
    "print(a_list * 2)"
   ]
  },
  {
   "cell_type": "markdown",
   "id": "377249ee",
   "metadata": {},
   "source": [
    "**list的其他方法**"
   ]
  },
  {
   "cell_type": "code",
   "execution_count": null,
   "id": "7d5b29af",
   "metadata": {},
   "outputs": [],
   "source": [
    "# .reverse()\n",
    "a_list = ['a','b','c']\n",
    "a_list.reverse() # 直接會改變list的順序 且不回傳結果\n",
    "print(a_list)"
   ]
  },
  {
   "cell_type": "code",
   "execution_count": null,
   "id": "71ea2ce8",
   "metadata": {},
   "outputs": [],
   "source": [
    "# .extend()\n",
    "a_list = ['a','b','c']\n",
    "d_list = ['d','e','f']\n",
    "a_list.extend(d_list) # 直接會改變list的內容 且不回傳結果"
   ]
  },
  {
   "cell_type": "code",
   "execution_count": null,
   "id": "4e0816e9",
   "metadata": {},
   "outputs": [],
   "source": [
    "# .clear()\n",
    "a_list = ['a','b','c']\n",
    "a_list.clear() # 直接會改變list的內容 且不回傳結果\n",
    "print(a_list)"
   ]
  },
  {
   "cell_type": "code",
   "execution_count": null,
   "id": "207351e7",
   "metadata": {},
   "outputs": [],
   "source": [
    "# .count()\n",
    "a_list = ['a','b','c','a']\n",
    "a_list.count('a')"
   ]
  },
  {
   "cell_type": "markdown",
   "id": "74a00a00",
   "metadata": {},
   "source": [
    "## tuple\n",
    "\n",
    "**建立tuple**"
   ]
  },
  {
   "cell_type": "code",
   "execution_count": null,
   "id": "c070a6fe",
   "metadata": {},
   "outputs": [],
   "source": [
    "a_tuple = (1, 2, 3)\n",
    "a_tuple = tuple([1,2,3])\n",
    "a_tuple = 1, 2, 3"
   ]
  },
  {
   "cell_type": "markdown",
   "id": "e56122ca",
   "metadata": {},
   "source": [
    "**切片(slice)**"
   ]
  },
  {
   "cell_type": "code",
   "execution_count": null,
   "id": "715cd70a",
   "metadata": {},
   "outputs": [],
   "source": [
    "a_tuple = (1, 2, 3)\n",
    "\n",
    "print(a_tuple[0])\n",
    "print(a_tuple[1:])\n",
    "print(a_tuple[0:1])"
   ]
  },
  {
   "cell_type": "markdown",
   "id": "b8685fe6",
   "metadata": {},
   "source": [
    "**tuple unpacking**"
   ]
  },
  {
   "cell_type": "code",
   "execution_count": null,
   "id": "6730fe19",
   "metadata": {},
   "outputs": [],
   "source": [
    "name = ('Frieren', 'Fern', 'Stark')\n",
    "a, b, c = name\n",
    "\n",
    "print(a)\n",
    "print(b)\n",
    "print(c)"
   ]
  },
  {
   "cell_type": "markdown",
   "id": "b14e6e87",
   "metadata": {},
   "source": [
    "**檢查元素是否存在(in)**"
   ]
  },
  {
   "cell_type": "code",
   "execution_count": null,
   "id": "1f70267c",
   "metadata": {},
   "outputs": [],
   "source": [
    "a_tuple = (1,2,3)\n",
    "\n",
    "4 in a_tuple"
   ]
  },
  {
   "cell_type": "markdown",
   "id": "5c7a9f64",
   "metadata": {},
   "source": [
    "**取得tuple的長度**"
   ]
  },
  {
   "cell_type": "code",
   "execution_count": null,
   "id": "6f0ee446",
   "metadata": {},
   "outputs": [],
   "source": [
    "a_tuple = (1,2,3)\n",
    "\n",
    "len(a_tuple)"
   ]
  },
  {
   "cell_type": "markdown",
   "id": "d9dd94e3",
   "metadata": {},
   "source": [
    "**tuple的加法與乘法運算**"
   ]
  },
  {
   "cell_type": "code",
   "execution_count": null,
   "id": "dd522cd3",
   "metadata": {},
   "outputs": [],
   "source": [
    "a_tuple = (1,2,3)\n",
    "b_tuple = (4,5,6)\n",
    "\n",
    "print(a_tuple + b_tuple)\n",
    "print(a_tuple * 2)"
   ]
  },
  {
   "cell_type": "markdown",
   "id": "5a234c96",
   "metadata": {},
   "source": [
    "**tuple與list的差異**\n",
    "\n",
    "不能切片後賦值。\n",
    "\n",
    "不能新增元素，沒有類似.append()或.insert()方法，要增加元素只能新建一個tuple。\n",
    "\n",
    "沒有sort方法。"
   ]
  },
  {
   "cell_type": "code",
   "execution_count": null,
   "id": "8e603bfc",
   "metadata": {},
   "outputs": [],
   "source": [
    "# 不能切片後賦值\n",
    "a_list = [1,2,3]\n",
    "a_list[0] = 'a'\n",
    "\n",
    "a_tuple = (1,2,3)\n",
    "# a_tuple[0] = 'a' -> 會報錯：TypeError"
   ]
  },
  {
   "cell_type": "code",
   "execution_count": null,
   "id": "dab68f21",
   "metadata": {},
   "outputs": [],
   "source": [
    "# 不能新增元素，沒有append()方法，要增加元素只能新建一個tuple\n",
    "a_tuple = (1,2,3)\n",
    "print(id(a_tuple)) # 物件的唯一識別碼\n",
    "\n",
    "a_tuple = a_tuple + (4,)\n",
    "print(id(a_tuple))\n",
    "\n",
    "a_list = [1,2,3]\n",
    "print(id(a_list))\n",
    "\n",
    "a_list.append(4)\n",
    "print(id(a_list))"
   ]
  },
  {
   "cell_type": "code",
   "execution_count": null,
   "id": "154a7215",
   "metadata": {},
   "outputs": [],
   "source": [
    "# 沒有sort方法，要排序tuple中的元素的話，可以用sorted內建函數，但回傳的是一個list\n",
    "a_tuple = (4,5,3,1,2)\n",
    "print(sorted(a_tuple))"
   ]
  }
 ],
 "metadata": {
  "jupytext": {
   "formats": "md:myst",
   "text_representation": {
    "extension": ".md",
    "format_name": "myst",
    "format_version": 0.13,
    "jupytext_version": "1.16.0"
   }
  },
  "kernelspec": {
   "display_name": "Python 3",
   "language": "python",
   "name": "python3"
  },
  "language_info": {
   "codemirror_mode": {
    "name": "ipython",
    "version": 3
   },
   "file_extension": ".py",
   "mimetype": "text/x-python",
   "name": "python",
   "nbconvert_exporter": "python",
   "pygments_lexer": "ipython3",
   "version": "3.11.0"
  },
  "source_map": [
   13,
   25,
   32,
   36,
   44,
   53,
   57,
   61,
   68,
   72,
   77,
   81,
   86,
   90,
   96,
   101,
   105,
   109,
   113,
   118,
   120,
   124,
   128,
   132,
   134,
   138,
   144,
   149,
   154,
   156,
   160,
   164,
   168,
   175,
   182,
   186,
   190,
   197,
   204,
   211,
   215,
   221,
   225,
   229,
   235,
   239,
   246,
   250,
   254,
   258,
   262,
   266,
   272,
   282,
   291,
   306
  ]
 },
 "nbformat": 4,
 "nbformat_minor": 5
}