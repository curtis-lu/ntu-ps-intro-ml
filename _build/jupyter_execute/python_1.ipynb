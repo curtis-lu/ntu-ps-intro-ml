{
 "cells": [
  {
   "cell_type": "markdown",
   "id": "82bc7395",
   "metadata": {},
   "source": [
    "# 1.資料型態：list與tuple\n",
    "\n",
    "## 群集資料型別：list\n",
    "\n",
    "list是一種集合了多個元素且元素之間具有順序的資料型態。\n",
    "\n",
    "list中的元素可以放任何物件，bool, int, float, str都可以，甚至是 list自己本身，所以當然就還包括dict, tuple, set……其他任何物件。\n",
    "\n",
    "**建立list**"
   ]
  },
  {
   "cell_type": "code",
   "execution_count": 1,
   "id": "15d89ce0",
   "metadata": {},
   "outputs": [],
   "source": [
    "# 以下兩種皆可\n",
    "\n",
    "a_list = ['a','b','c']\n",
    "a_list = list(['a','b','c'])"
   ]
  },
  {
   "cell_type": "code",
   "execution_count": 2,
   "id": "c9c9cdc9",
   "metadata": {},
   "outputs": [],
   "source": [
    "# list中的list\n",
    "\n",
    "a_list = ['a', 'b', 'c', [1, 2, 3]]"
   ]
  },
  {
   "cell_type": "markdown",
   "id": "22d9962b",
   "metadata": {},
   "source": [
    "### list slice\n",
    "\n",
    "**切片slice**\n",
    "\n",
    "需注意切片是從0開始。"
   ]
  },
  {
   "cell_type": "code",
   "execution_count": 3,
   "id": "718abc9c",
   "metadata": {},
   "outputs": [
    {
     "name": "stdout",
     "output_type": "stream",
     "text": [
      "a\n",
      "c\n",
      "['b', 'c']\n",
      "['a']\n",
      "['c', 'b', 'a']\n"
     ]
    }
   ],
   "source": [
    "a_list = ['a','b','c']\n",
    "\n",
    "print(a_list[0])\n",
    "print(a_list[-1])\n",
    "print(a_list[1:])\n",
    "print(a_list[0:1])\n",
    "print(a_list[::-1])"
   ]
  },
  {
   "cell_type": "markdown",
   "id": "d72b6b2e",
   "metadata": {},
   "source": [
    "超過index會報錯：IndexError。"
   ]
  },
  {
   "cell_type": "code",
   "execution_count": 4,
   "id": "5a3e5298",
   "metadata": {},
   "outputs": [
    {
     "ename": "IndexError",
     "evalue": "list index out of range",
     "output_type": "error",
     "traceback": [
      "\u001b[0;31m---------------------------------------------------------------------------\u001b[0m",
      "\u001b[0;31mIndexError\u001b[0m                                Traceback (most recent call last)",
      "Cell \u001b[0;32mIn[4], line 3\u001b[0m\n\u001b[1;32m      1\u001b[0m a_list \u001b[38;5;241m=\u001b[39m [\u001b[38;5;124m'\u001b[39m\u001b[38;5;124ma\u001b[39m\u001b[38;5;124m'\u001b[39m,\u001b[38;5;124m'\u001b[39m\u001b[38;5;124mb\u001b[39m\u001b[38;5;124m'\u001b[39m,\u001b[38;5;124m'\u001b[39m\u001b[38;5;124mc\u001b[39m\u001b[38;5;124m'\u001b[39m]\n\u001b[0;32m----> 3\u001b[0m \u001b[38;5;28mprint\u001b[39m(\u001b[43ma_list\u001b[49m\u001b[43m[\u001b[49m\u001b[38;5;241;43m3\u001b[39;49m\u001b[43m]\u001b[49m)\n",
      "\u001b[0;31mIndexError\u001b[0m: list index out of range"
     ]
    }
   ],
   "source": [
    "a_list = ['a','b','c']\n",
    "\n",
    "print(a_list[3])"
   ]
  },
  {
   "cell_type": "code",
   "execution_count": 5,
   "id": "2610a3fb",
   "metadata": {},
   "outputs": [
    {
     "name": "stdout",
     "output_type": "stream",
     "text": [
      "3\n"
     ]
    }
   ],
   "source": [
    "a_list = ['a', 'b', 'c', [1, 2, 3]]\n",
    "\n",
    "print(a_list[3][2])"
   ]
  },
  {
   "cell_type": "markdown",
   "id": "8d176db6",
   "metadata": {},
   "source": [
    "**利用切片為list賦值**"
   ]
  },
  {
   "cell_type": "code",
   "execution_count": 6,
   "id": "91be679c",
   "metadata": {},
   "outputs": [
    {
     "name": "stdout",
     "output_type": "stream",
     "text": [
      "[1, 'b', 'c']\n",
      "[1, 2, 3]\n"
     ]
    }
   ],
   "source": [
    "a_list = ['a','b','c']\n",
    "\n",
    "a_list[0] = 1\n",
    "print(a_list)\n",
    "\n",
    "a_list[1:] = 2, 3 # (2, 3) or [2, 3] or {2, 3} 皆可\n",
    "print(a_list)"
   ]
  },
  {
   "cell_type": "markdown",
   "id": "69c63a1b",
   "metadata": {},
   "source": [
    "### list index\n",
    "\n",
    "**取得list中元素的位置.index()**\n",
    "\n",
    "如果元素不存在也會報錯：IndexError。"
   ]
  },
  {
   "cell_type": "code",
   "execution_count": 7,
   "id": "50da2499",
   "metadata": {},
   "outputs": [
    {
     "name": "stdout",
     "output_type": "stream",
     "text": [
      "0\n"
     ]
    },
    {
     "ename": "ValueError",
     "evalue": "'d' is not in list",
     "output_type": "error",
     "traceback": [
      "\u001b[0;31m---------------------------------------------------------------------------\u001b[0m",
      "\u001b[0;31mValueError\u001b[0m                                Traceback (most recent call last)",
      "Cell \u001b[0;32mIn[7], line 5\u001b[0m\n\u001b[1;32m      1\u001b[0m a_list \u001b[38;5;241m=\u001b[39m [\u001b[38;5;124m'\u001b[39m\u001b[38;5;124ma\u001b[39m\u001b[38;5;124m'\u001b[39m,\u001b[38;5;124m'\u001b[39m\u001b[38;5;124mb\u001b[39m\u001b[38;5;124m'\u001b[39m,\u001b[38;5;124m'\u001b[39m\u001b[38;5;124mc\u001b[39m\u001b[38;5;124m'\u001b[39m]\n\u001b[1;32m      3\u001b[0m \u001b[38;5;28mprint\u001b[39m(a_list\u001b[38;5;241m.\u001b[39mindex(\u001b[38;5;124m'\u001b[39m\u001b[38;5;124ma\u001b[39m\u001b[38;5;124m'\u001b[39m))\n\u001b[0;32m----> 5\u001b[0m \u001b[38;5;28mprint\u001b[39m(\u001b[43ma_list\u001b[49m\u001b[38;5;241;43m.\u001b[39;49m\u001b[43mindex\u001b[49m\u001b[43m(\u001b[49m\u001b[38;5;124;43m'\u001b[39;49m\u001b[38;5;124;43md\u001b[39;49m\u001b[38;5;124;43m'\u001b[39;49m\u001b[43m)\u001b[49m)\n",
      "\u001b[0;31mValueError\u001b[0m: 'd' is not in list"
     ]
    }
   ],
   "source": [
    "a_list = ['a','b','c']\n",
    "\n",
    "print(a_list.index('a'))\n",
    "\n",
    "print(a_list.index('d'))"
   ]
  },
  {
   "cell_type": "markdown",
   "id": "77829c1e",
   "metadata": {},
   "source": [
    "### list 元素操作\n",
    "\n",
    "**在尾端加入元素.append()**"
   ]
  },
  {
   "cell_type": "code",
   "execution_count": 8,
   "id": "4d85d1fc",
   "metadata": {},
   "outputs": [
    {
     "name": "stdout",
     "output_type": "stream",
     "text": [
      "['a', 'b', 'c', 'd']\n"
     ]
    }
   ],
   "source": [
    "a_list = ['a','b','c']\n",
    "\n",
    "a_list.append('d')  # 直接會改變list的內容 且不回傳結果\n",
    "print(a_list)"
   ]
  },
  {
   "cell_type": "markdown",
   "id": "5ee78ce7",
   "metadata": {},
   "source": [
    "**刪除list中的元素.remove()**"
   ]
  },
  {
   "cell_type": "code",
   "execution_count": 9,
   "id": "f08877b8",
   "metadata": {},
   "outputs": [
    {
     "name": "stdout",
     "output_type": "stream",
     "text": [
      "['b', 'c', 'd', 'e']\n"
     ]
    }
   ],
   "source": [
    "a_list = ['a','b','c', 'd', 'e']\n",
    "\n",
    "a_list.remove('a') # 直接會改變list的內容 且不回傳結果\n",
    "print(a_list)"
   ]
  },
  {
   "cell_type": "code",
   "execution_count": 10,
   "id": "35912657",
   "metadata": {},
   "outputs": [
    {
     "name": "stdout",
     "output_type": "stream",
     "text": [
      "['b', 'c', 'd']\n",
      "['c', 'd']\n"
     ]
    }
   ],
   "source": [
    "# 另外一種方式\n",
    "a_list.pop() # 會取出最後一個元素回傳並從list中刪除\n",
    "print(a_list)\n",
    "\n",
    "a_list.pop(0) # ()中可以指定要pop的位置\n",
    "print(a_list)"
   ]
  },
  {
   "cell_type": "code",
   "execution_count": 11,
   "id": "f4bb6650",
   "metadata": {},
   "outputs": [
    {
     "name": "stdout",
     "output_type": "stream",
     "text": [
      "['c']\n"
     ]
    }
   ],
   "source": [
    "# 還有另外一種方式\n",
    "del a_list[1] # del 事實上並非是list方法，而是python內建方法，會將物件和名稱分開。\n",
    "\n",
    "print(a_list)"
   ]
  },
  {
   "cell_type": "markdown",
   "id": "b3eafab1",
   "metadata": {},
   "source": [
    "**檢查元素是否存在(in)**"
   ]
  },
  {
   "cell_type": "code",
   "execution_count": 12,
   "id": "f74543dc",
   "metadata": {},
   "outputs": [],
   "source": [
    "a_list = ['a','b','c']"
   ]
  },
  {
   "cell_type": "code",
   "execution_count": 13,
   "id": "7fcf9868",
   "metadata": {},
   "outputs": [
    {
     "data": {
      "text/plain": [
       "True"
      ]
     },
     "execution_count": 13,
     "metadata": {},
     "output_type": "execute_result"
    }
   ],
   "source": [
    "'a' in a_list"
   ]
  },
  {
   "cell_type": "code",
   "execution_count": 14,
   "id": "25053ccf",
   "metadata": {},
   "outputs": [
    {
     "data": {
      "text/plain": [
       "False"
      ]
     },
     "execution_count": 14,
     "metadata": {},
     "output_type": "execute_result"
    }
   ],
   "source": [
    "'d' in a_list"
   ]
  },
  {
   "cell_type": "markdown",
   "id": "b3121f73",
   "metadata": {},
   "source": [
    "**list中元素的排序**"
   ]
  },
  {
   "cell_type": "code",
   "execution_count": 15,
   "id": "330e4bf6",
   "metadata": {},
   "outputs": [
    {
     "name": "stdout",
     "output_type": "stream",
     "text": [
      "['a', 'b', 'c', 'd', 'e']\n",
      "['e', 'd', 'c', 'b', 'a']\n"
     ]
    }
   ],
   "source": [
    "a_list = ['b','d','a','c','e']\n",
    "\n",
    "a_list.sort() # 直接會改變list的內容 且不回傳結果\n",
    "print(a_list)\n",
    "\n",
    "a_list.sort(reverse=True) # 降冪排列\n",
    "print(a_list)"
   ]
  },
  {
   "cell_type": "code",
   "execution_count": 16,
   "id": "a6c3e60a",
   "metadata": {},
   "outputs": [
    {
     "name": "stdout",
     "output_type": "stream",
     "text": [
      "['b', 'd', 'a', 'c', 'e']\n"
     ]
    }
   ],
   "source": [
    "a_list = ['b','d','a','c','e']\n",
    "\n",
    "sorted(a_list) # 只會回傳資料的「副本」\n",
    "print(a_list)"
   ]
  },
  {
   "cell_type": "markdown",
   "id": "91db18ec",
   "metadata": {},
   "source": [
    "### list 操作\n",
    "\n",
    "**取得list的長度**"
   ]
  },
  {
   "cell_type": "code",
   "execution_count": 17,
   "id": "f6c9ee3e",
   "metadata": {},
   "outputs": [
    {
     "data": {
      "text/plain": [
       "3"
      ]
     },
     "execution_count": 17,
     "metadata": {},
     "output_type": "execute_result"
    }
   ],
   "source": [
    "a_list = [1,2,3]\n",
    "\n",
    "len(a_list)"
   ]
  },
  {
   "cell_type": "markdown",
   "id": "c07a8b32",
   "metadata": {},
   "source": [
    "**list的加法與乘法運算**"
   ]
  },
  {
   "cell_type": "code",
   "execution_count": 18,
   "id": "7dccb469",
   "metadata": {},
   "outputs": [
    {
     "name": "stdout",
     "output_type": "stream",
     "text": [
      "['a', 'b', 'c', 'd', 'e', 'f']\n"
     ]
    }
   ],
   "source": [
    "a_list = ['a','b','c']\n",
    "d_list = ['d','e','f']\n",
    "\n",
    "print(a_list + d_list)"
   ]
  },
  {
   "cell_type": "code",
   "execution_count": 19,
   "id": "e45c59f9",
   "metadata": {},
   "outputs": [
    {
     "name": "stdout",
     "output_type": "stream",
     "text": [
      "['a', 'b', 'c', ['d', 'e', 'f']]\n"
     ]
    }
   ],
   "source": [
    "# 補充：用append的話，argument會被當作元素加到list最尾端\n",
    "\n",
    "a_list.append(d_list) # 直接會改變list的內容且不回傳結果\n",
    "print(a_list)"
   ]
  },
  {
   "cell_type": "code",
   "execution_count": 20,
   "id": "b981ed7f",
   "metadata": {},
   "outputs": [
    {
     "name": "stdout",
     "output_type": "stream",
     "text": [
      "['a', 'b', 'c', 'a', 'b', 'c']\n"
     ]
    }
   ],
   "source": [
    "a_list = ['a','b','c']\n",
    "\n",
    "print(a_list * 2)"
   ]
  },
  {
   "cell_type": "markdown",
   "id": "15ddd135",
   "metadata": {},
   "source": [
    "### list的其他方法\n",
    "\n",
    ".reverse() 反序一個list"
   ]
  },
  {
   "cell_type": "code",
   "execution_count": 21,
   "id": "33095777",
   "metadata": {},
   "outputs": [
    {
     "name": "stdout",
     "output_type": "stream",
     "text": [
      "['c', 'b', 'a']\n"
     ]
    }
   ],
   "source": [
    "a_list = ['a','b','c']\n",
    "\n",
    "a_list.reverse() # 直接會改變list的順序 且不回傳結果\n",
    "print(a_list)"
   ]
  },
  {
   "cell_type": "markdown",
   "id": "74d323ac",
   "metadata": {},
   "source": [
    ".extend() 一個list延展至另一個list"
   ]
  },
  {
   "cell_type": "code",
   "execution_count": 22,
   "id": "7bbdf99e",
   "metadata": {},
   "outputs": [],
   "source": [
    "a_list = ['a','b','c']\n",
    "d_list = ['d','e','f']\n",
    "\n",
    "a_list.extend(d_list) # 直接會改變list的內容 且不回傳結果"
   ]
  },
  {
   "cell_type": "markdown",
   "id": "2d39f4d4",
   "metadata": {},
   "source": [
    ".clear() 清除一個list的內容"
   ]
  },
  {
   "cell_type": "code",
   "execution_count": 23,
   "id": "64f02cd7",
   "metadata": {},
   "outputs": [
    {
     "name": "stdout",
     "output_type": "stream",
     "text": [
      "[]\n"
     ]
    }
   ],
   "source": [
    "a_list = ['a','b','c']\n",
    "\n",
    "a_list.clear() # 直接會改變list的內容 且不回傳結果\n",
    "print(a_list)"
   ]
  },
  {
   "cell_type": "markdown",
   "id": "5820a732",
   "metadata": {},
   "source": [
    ".count() 計算指定元素的數量"
   ]
  },
  {
   "cell_type": "code",
   "execution_count": 24,
   "id": "4cc1bed3",
   "metadata": {},
   "outputs": [
    {
     "data": {
      "text/plain": [
       "2"
      ]
     },
     "execution_count": 24,
     "metadata": {},
     "output_type": "execute_result"
    }
   ],
   "source": [
    "a_list = ['a','b','c','a']\n",
    "\n",
    "a_list.count('a')"
   ]
  },
  {
   "cell_type": "markdown",
   "id": "3899a972",
   "metadata": {},
   "source": [
    "## 群集資料型別：tuple\n",
    "\n",
    "tuple也是一種集合了多個元素且元素之間具有順序的資料型態。\n",
    "但跟list有一些**使用上**的差別。\n",
    "\n",
    "**建立tuple**"
   ]
  },
  {
   "cell_type": "code",
   "execution_count": 25,
   "id": "443de2dd",
   "metadata": {},
   "outputs": [],
   "source": [
    "a_tuple = (1, 2, 3)\n",
    "a_tuple = tuple([1,2,3])\n",
    "a_tuple = 1, 2, 3"
   ]
  },
  {
   "cell_type": "markdown",
   "id": "3dfec1f1",
   "metadata": {},
   "source": [
    "### tuple slice\n",
    "\n",
    "**切片(slice)**"
   ]
  },
  {
   "cell_type": "code",
   "execution_count": 26,
   "id": "bf99c8b9",
   "metadata": {},
   "outputs": [
    {
     "name": "stdout",
     "output_type": "stream",
     "text": [
      "1\n",
      "(2, 3)\n",
      "(1,)\n"
     ]
    }
   ],
   "source": [
    "a_tuple = (1, 2, 3)\n",
    "\n",
    "print(a_tuple[0])\n",
    "print(a_tuple[1:])\n",
    "print(a_tuple[0:1])"
   ]
  },
  {
   "cell_type": "markdown",
   "id": "c9ab1ca8",
   "metadata": {},
   "source": [
    "### tuple 元素操作\n",
    "\n",
    "**tuple unpacking**\n",
    "\n",
    "以下這種做法可以拆解tuple，把元素賦值到不同變數中："
   ]
  },
  {
   "cell_type": "code",
   "execution_count": 27,
   "id": "52e68ef3",
   "metadata": {},
   "outputs": [
    {
     "name": "stdout",
     "output_type": "stream",
     "text": [
      "Frieren\n",
      "Fern\n",
      "Stark\n"
     ]
    }
   ],
   "source": [
    "name = ('Frieren', 'Fern', 'Stark')\n",
    "\n",
    "a, b, c = name\n",
    "\n",
    "print(a)\n",
    "print(b)\n",
    "print(c)"
   ]
  },
  {
   "cell_type": "markdown",
   "id": "d4fb13e8",
   "metadata": {},
   "source": [
    "**檢查元素是否存在(in)**"
   ]
  },
  {
   "cell_type": "code",
   "execution_count": 28,
   "id": "7ed17b55",
   "metadata": {},
   "outputs": [
    {
     "data": {
      "text/plain": [
       "False"
      ]
     },
     "execution_count": 28,
     "metadata": {},
     "output_type": "execute_result"
    }
   ],
   "source": [
    "a_tuple = (1,2,3)\n",
    "\n",
    "4 in a_tuple"
   ]
  },
  {
   "cell_type": "markdown",
   "id": "4fd92570",
   "metadata": {},
   "source": [
    "### tuple 操作\n",
    "\n",
    "**取得tuple的長度**"
   ]
  },
  {
   "cell_type": "code",
   "execution_count": 29,
   "id": "ce6ebcd8",
   "metadata": {},
   "outputs": [
    {
     "data": {
      "text/plain": [
       "3"
      ]
     },
     "execution_count": 29,
     "metadata": {},
     "output_type": "execute_result"
    }
   ],
   "source": [
    "a_tuple = (1,2,3)\n",
    "\n",
    "len(a_tuple)"
   ]
  },
  {
   "cell_type": "markdown",
   "id": "b0023c19",
   "metadata": {},
   "source": [
    "**tuple的加法與乘法運算**"
   ]
  },
  {
   "cell_type": "code",
   "execution_count": 30,
   "id": "d63d0836",
   "metadata": {},
   "outputs": [
    {
     "name": "stdout",
     "output_type": "stream",
     "text": [
      "(1, 2, 3, 4, 5, 6)\n",
      "(1, 2, 3, 1, 2, 3)\n"
     ]
    }
   ],
   "source": [
    "a_tuple = (1,2,3)\n",
    "b_tuple = (4,5,6)\n",
    "\n",
    "print(a_tuple + b_tuple)\n",
    "print(a_tuple * 2)"
   ]
  },
  {
   "cell_type": "markdown",
   "id": "0015f899",
   "metadata": {},
   "source": [
    "## tuple與list的差異\n",
    "\n",
    "tuple不能切片後賦值， 會報錯：TypeError。"
   ]
  },
  {
   "cell_type": "code",
   "execution_count": 31,
   "id": "51d5aca7",
   "metadata": {},
   "outputs": [
    {
     "name": "stdout",
     "output_type": "stream",
     "text": [
      "['a', 2, 3]\n"
     ]
    }
   ],
   "source": [
    "# list 可以切片後賦值\n",
    "a_list = [1,2,3]\n",
    "a_list[0] = 'a'\n",
    "print(a_list)"
   ]
  },
  {
   "cell_type": "code",
   "execution_count": 32,
   "id": "669ac510",
   "metadata": {},
   "outputs": [
    {
     "ename": "TypeError",
     "evalue": "'tuple' object does not support item assignment",
     "output_type": "error",
     "traceback": [
      "\u001b[0;31m---------------------------------------------------------------------------\u001b[0m",
      "\u001b[0;31mTypeError\u001b[0m                                 Traceback (most recent call last)",
      "Cell \u001b[0;32mIn[32], line 4\u001b[0m\n\u001b[1;32m      1\u001b[0m \u001b[38;5;66;03m# tuple不行\u001b[39;00m\n\u001b[1;32m      2\u001b[0m a_tuple \u001b[38;5;241m=\u001b[39m (\u001b[38;5;241m1\u001b[39m,\u001b[38;5;241m2\u001b[39m,\u001b[38;5;241m3\u001b[39m)\n\u001b[0;32m----> 4\u001b[0m \u001b[43ma_tuple\u001b[49m\u001b[43m[\u001b[49m\u001b[38;5;241;43m0\u001b[39;49m\u001b[43m]\u001b[49m \u001b[38;5;241m=\u001b[39m \u001b[38;5;124m'\u001b[39m\u001b[38;5;124ma\u001b[39m\u001b[38;5;124m'\u001b[39m\n",
      "\u001b[0;31mTypeError\u001b[0m: 'tuple' object does not support item assignment"
     ]
    }
   ],
   "source": [
    "# tuple不行\n",
    "a_tuple = (1,2,3)\n",
    "\n",
    "a_tuple[0] = 'a'"
   ]
  },
  {
   "cell_type": "markdown",
   "id": "40fcc011",
   "metadata": {},
   "source": [
    "tuple不能新增元素，沒有類似.append()或.insert()方法，要增加元素只能新建一個tuple。"
   ]
  },
  {
   "cell_type": "code",
   "execution_count": 33,
   "id": "47e17a90",
   "metadata": {},
   "outputs": [
    {
     "name": "stdout",
     "output_type": "stream",
     "text": [
      "4465886784\n",
      "4465785040\n",
      "4465806016\n",
      "4465806016\n"
     ]
    }
   ],
   "source": [
    "# 不能新增元素，沒有append()方法，要增加元素只能新建一個tuple\n",
    "a_tuple = (1,2,3)\n",
    "\n",
    "print(id(a_tuple)) # 物件的唯一識別碼\n",
    "\n",
    "a_tuple = a_tuple + (4,)\n",
    "print(id(a_tuple))\n",
    "\n",
    "a_list = [1,2,3]\n",
    "print(id(a_list))\n",
    "\n",
    "a_list.append(4)\n",
    "print(id(a_list))"
   ]
  },
  {
   "cell_type": "markdown",
   "id": "52e7195f",
   "metadata": {},
   "source": [
    "tuple沒有sort方法。"
   ]
  },
  {
   "cell_type": "code",
   "execution_count": 34,
   "id": "37e82544",
   "metadata": {},
   "outputs": [
    {
     "name": "stdout",
     "output_type": "stream",
     "text": [
      "[1, 2, 3, 4, 5]\n"
     ]
    }
   ],
   "source": [
    "# 沒有sort方法，要排序tuple中的元素的話，可以用sorted內建函數，但回傳的是一個list\n",
    "a_tuple = (4,5,3,1,2)\n",
    "\n",
    "print(sorted(a_tuple))"
   ]
  }
 ],
 "metadata": {
  "jupytext": {
   "formats": "md:myst",
   "text_representation": {
    "extension": ".md",
    "format_name": "myst",
    "format_version": 0.13,
    "jupytext_version": "1.16.0"
   }
  },
  "kernelspec": {
   "display_name": "Python 3",
   "language": "python",
   "name": "python3"
  },
  "language_info": {
   "codemirror_mode": {
    "name": "ipython",
    "version": 3
   },
   "file_extension": ".py",
   "mimetype": "text/x-python",
   "name": "python",
   "nbconvert_exporter": "python",
   "pygments_lexer": "ipython3",
   "version": "3.11.0"
  },
  "source_map": [
   13,
   25,
   32,
   36,
   44,
   52,
   56,
   62,
   66,
   70,
   78,
   86,
   92,
   98,
   103,
   107,
   114,
   123,
   128,
   132,
   136,
   140,
   142,
   146,
   156,
   161,
   167,
   171,
   175,
   182,
   189,
   193,
   199,
   204,
   208,
   213,
   217,
   222,
   226,
   230,
   239,
   243,
   249,
   255,
   263,
   271,
   275,
   279,
   285,
   289,
   293,
   299,
   305,
   312,
   317,
   321,
   335,
   339
  ]
 },
 "nbformat": 4,
 "nbformat_minor": 5
}