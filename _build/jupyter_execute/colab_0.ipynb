{
 "cells": [
  {
   "cell_type": "markdown",
   "metadata": {},
   "source": [
    "# Gradient Descent"
   ]
  },
  {
   "cell_type": "markdown",
   "metadata": {},
   "source": [
    "import 需要的套件。一般都會全部放在程式的最前面。"
   ]
  },
  {
   "cell_type": "code",
   "execution_count": 1,
   "metadata": {},
   "outputs": [],
   "source": [
    "import pandas as pd"
   ]
  },
  {
   "cell_type": "markdown",
   "metadata": {},
   "source": [
    "配合課程說明的案例，用python演示一次。\n",
    "\n",
    "首先定義需要的function如下："
   ]
  },
  {
   "cell_type": "markdown",
   "metadata": {},
   "source": [
    "1. 定義模型（簡單線性迴歸）：參數是截距項、斜率，及模型的input(feature)，輸出是對應的模型預測值。"
   ]
  },
  {
   "cell_type": "code",
   "execution_count": 2,
   "metadata": {},
   "outputs": [],
   "source": [
    "def model(a, b, x):\n",
    "\n",
    "    y_hat = a + b * x\n",
    "\n",
    "    return y_hat"
   ]
  },
  {
   "cell_type": "markdown",
   "metadata": {},
   "source": [
    "2. 計算損失 & gradient：計算給定參數時（即當前模型）的損失值 & gradient。"
   ]
  },
  {
   "cell_type": "code",
   "execution_count": 3,
   "metadata": {},
   "outputs": [],
   "source": [
    "def get_loss(data, a, b):\n",
    "\n",
    "    loss = 0\n",
    "\n",
    "    for i in range(0, data.shape[0]):\n",
    "        x, y = data['x'][i], data['y'][i]\n",
    "        loss += ( y - model(a, b, x))**2\n",
    "\n",
    "    return loss"
   ]
  },
  {
   "cell_type": "code",
   "execution_count": 4,
   "metadata": {},
   "outputs": [],
   "source": [
    "def get_gradient(data, a, b):\n",
    "\n",
    "    gradient = 0\n",
    "\n",
    "    for i in range(0, data.shape[0]):\n",
    "        x, y = data['x'][i], data['y'][i]\n",
    "        gradient += -2 * ( y - model(a, b, x))\n",
    "\n",
    "    return gradient"
   ]
  },
  {
   "cell_type": "markdown",
   "metadata": {},
   "source": [
    "3. 更新參數：根據輸入的gradient，以及給定的learning rate(lr)，將目前的參數值更新為新的參數值。"
   ]
  },
  {
   "cell_type": "code",
   "execution_count": 5,
   "metadata": {},
   "outputs": [],
   "source": [
    "def update_param(param, gradient, lr):\n",
    "\n",
    "    new_param = param - gradient * lr\n",
    "\n",
    "    return new_param"
   ]
  },
  {
   "cell_type": "markdown",
   "metadata": {},
   "source": [
    "定義與課程說明相同的資料如下："
   ]
  },
  {
   "cell_type": "code",
   "execution_count": 6,
   "metadata": {},
   "outputs": [],
   "source": [
    "data = pd.DataFrame({\n",
    "    'x': [0.5, 2.3, 2.9],\n",
    "    'y': [1.4, 1.9, 3.2]\n",
    "})"
   ]
  },
  {
   "cell_type": "markdown",
   "metadata": {},
   "source": [
    "## 用graident descent更新截距項\n",
    "與課程說明相同，假設僅更新截距項。"
   ]
  },
  {
   "cell_type": "code",
   "execution_count": 7,
   "metadata": {},
   "outputs": [],
   "source": [
    "# step 1: 隨機取值。\n",
    "a = 0"
   ]
  },
  {
   "cell_type": "code",
   "execution_count": 8,
   "metadata": {},
   "outputs": [
    {
     "name": "stdout",
     "output_type": "stream",
     "text": [
      ">>> iteration: 0\n",
      "gradient = -5.7040\n",
      "a = 0.5704\n",
      "loss: 0.8784\n",
      "\n",
      ">>> iteration: 1\n",
      "gradient = -2.2816\n",
      "a = 0.7986\n",
      "loss: 0.5140\n",
      "\n",
      ">>> iteration: 2\n",
      "gradient = -0.9126\n",
      "a = 0.8898\n",
      "loss: 0.4557\n",
      "\n",
      ">>> iteration: 3\n",
      "gradient = -0.3651\n",
      "a = 0.9263\n",
      "loss: 0.4464\n",
      "\n",
      ">>> iteration: 4\n",
      "gradient = -0.1460\n",
      "a = 0.9409\n",
      "loss: 0.4449\n",
      "\n",
      ">>> iteration: 5\n",
      "gradient = -0.0584\n",
      "a = 0.9468\n",
      "loss: 0.4447\n",
      "\n",
      ">>> iteration: 6\n",
      "gradient = -0.0234\n",
      "a = 0.9491\n",
      "loss: 0.4446\n",
      "\n",
      ">>> iteration: 7\n",
      "gradient = -0.0093\n",
      "a = 0.9500\n",
      "loss: 0.4446\n",
      "\n",
      ">>> iteration: 8\n",
      "gradient = -0.0037\n",
      "a = 0.9504\n",
      "loss: 0.4446\n",
      "\n",
      ">>> iteration: 9\n",
      "gradient = -0.0015\n",
      "a = 0.9506\n",
      "loss: 0.4446\n",
      "\n",
      ">>> iteration: 10\n",
      "gradient = -0.0006\n",
      "a = 0.9506\n",
      "loss: 0.4446\n",
      "\n",
      ">>> iteration: 11\n",
      "gradient = -0.0002\n",
      "a = 0.9507\n",
      "loss: 0.4446\n",
      "\n",
      ">>> iteration: 12\n",
      "gradient = -0.0001\n",
      "a = 0.9507\n",
      "loss: 0.4446\n",
      "\n",
      ">>> iteration: 13\n",
      "gradient = -0.0000\n",
      "a = 0.9507\n",
      "loss: 0.4446\n",
      "\n",
      ">>> iteration: 14\n",
      "gradient = -0.0000\n",
      "a = 0.9507\n",
      "loss: 0.4446\n",
      "\n",
      ">>> iteration: 15\n",
      "gradient = -0.0000\n",
      "a = 0.9507\n",
      "loss: 0.4446\n",
      "\n",
      ">>> iteration: 16\n",
      "gradient = -0.0000\n",
      "a = 0.9507\n",
      "loss: 0.4446\n",
      "\n",
      ">>> iteration: 17\n",
      "gradient = -0.0000\n",
      "a = 0.9507\n",
      "loss: 0.4446\n",
      "\n",
      ">>> iteration: 18\n",
      "gradient = -0.0000\n",
      "a = 0.9507\n",
      "loss: 0.4446\n",
      "\n",
      ">>> iteration: 19\n",
      "gradient = -0.0000\n",
      "a = 0.9507\n",
      "loss: 0.4446\n",
      "\n",
      ">>> iteration: 20\n",
      "gradient = -0.0000\n",
      "a = 0.9507\n",
      "loss: 0.4446\n",
      "\n",
      ">>> iteration: 21\n",
      "gradient = -0.0000\n",
      "a = 0.9507\n",
      "loss: 0.4446\n",
      "\n",
      ">>> iteration: 22\n",
      "gradient = -0.0000\n",
      "a = 0.9507\n",
      "loss: 0.4446\n",
      "\n",
      ">>> iteration: 23\n",
      "gradient = -0.0000\n",
      "a = 0.9507\n",
      "loss: 0.4446\n",
      "\n",
      ">>> iteration: 24\n",
      "gradient = -0.0000\n",
      "a = 0.9507\n",
      "loss: 0.4446\n",
      "\n",
      ">>> iteration: 25\n",
      "gradient = -0.0000\n",
      "a = 0.9507\n",
      "loss: 0.4446\n",
      "\n",
      ">>> iteration: 26\n",
      "gradient = -0.0000\n",
      "a = 0.9507\n",
      "loss: 0.4446\n",
      "\n",
      ">>> iteration: 27\n",
      "gradient = -0.0000\n",
      "a = 0.9507\n",
      "loss: 0.4446\n",
      "\n",
      ">>> iteration: 28\n",
      "gradient = -0.0000\n",
      "a = 0.9507\n",
      "loss: 0.4446\n",
      "\n",
      ">>> iteration: 29\n",
      "gradient = -0.0000\n",
      "a = 0.9507\n",
      "loss: 0.4446\n",
      "\n",
      ">>> iteration: 30\n",
      "gradient = -0.0000\n",
      "a = 0.9507\n",
      "loss: 0.4446\n",
      "\n",
      ">>> iteration: 31\n",
      "gradient = -0.0000\n",
      "a = 0.9507\n",
      "loss: 0.4446\n",
      "\n",
      ">>> iteration: 32\n",
      "gradient = -0.0000\n",
      "a = 0.9507\n",
      "loss: 0.4446\n",
      "\n",
      ">>> iteration: 33\n",
      "gradient = -0.0000\n",
      "a = 0.9507\n",
      "loss: 0.4446\n",
      "\n",
      ">>> iteration: 34\n",
      "gradient = -0.0000\n",
      "a = 0.9507\n",
      "loss: 0.4446\n",
      "\n",
      ">>> iteration: 35\n",
      "gradient = -0.0000\n",
      "a = 0.9507\n",
      "loss: 0.4446\n",
      "\n",
      ">>> iteration: 36\n",
      "gradient = -0.0000\n",
      "a = 0.9507\n",
      "loss: 0.4446\n",
      "\n",
      ">>> iteration: 37\n",
      "gradient = -0.0000\n",
      "a = 0.9507\n",
      "loss: 0.4446\n",
      "\n",
      ">>> iteration: 38\n",
      "gradient = -0.0000\n",
      "a = 0.9507\n",
      "loss: 0.4446\n",
      "\n",
      ">>> iteration: 39\n",
      "gradient = -0.0000\n",
      "a = 0.9507\n",
      "loss: 0.4446\n",
      "\n",
      ">>> iteration: 40\n",
      "gradient = 0.0000\n",
      "a = 0.9507\n",
      "loss: 0.4446\n",
      "\n",
      ">>> iteration: 41\n",
      "gradient = 0.0000\n",
      "a = 0.9507\n",
      "loss: 0.4446\n",
      "\n",
      ">>> iteration: 42\n",
      "gradient = 0.0000\n",
      "a = 0.9507\n",
      "loss: 0.4446\n",
      "\n",
      ">>> iteration: 43\n",
      "gradient = 0.0000\n",
      "a = 0.9507\n",
      "loss: 0.4446\n",
      "\n",
      ">>> iteration: 44\n",
      "gradient = 0.0000\n",
      "a = 0.9507\n",
      "loss: 0.4446\n",
      "\n",
      ">>> iteration: 45\n",
      "gradient = 0.0000\n",
      "a = 0.9507\n",
      "loss: 0.4446\n",
      "\n",
      ">>> iteration: 46\n",
      "gradient = 0.0000\n",
      "a = 0.9507\n",
      "loss: 0.4446\n",
      "\n",
      ">>> iteration: 47\n",
      "gradient = 0.0000\n",
      "a = 0.9507\n",
      "loss: 0.4446\n",
      "\n",
      ">>> iteration: 48\n",
      "gradient = 0.0000\n",
      "a = 0.9507\n",
      "loss: 0.4446\n",
      "\n",
      ">>> iteration: 49\n",
      "gradient = 0.0000\n",
      "a = 0.9507\n",
      "loss: 0.4446\n",
      "\n"
     ]
    }
   ],
   "source": [
    "# 初始化一些variable，供後續繪圖使用。\n",
    "graph_a = []\n",
    "graph_loss = []\n",
    "\n",
    "for i in range(0, 50): # 假設僅迭代50次。\n",
    "    print(f'>>> iteration: {i}')\n",
    "\n",
    "    # step 2: 計算gradient。\n",
    "    gradient = get_gradient(data=data, a=a, b=0.64)\n",
    "    print(f'gradient = {gradient:.4f}')\n",
    "\n",
    "    # step 3: 更新參數\n",
    "    a = update_param(param=a, gradient=gradient, lr=0.1)\n",
    "    print(f'a = {a:.4f}')\n",
    "\n",
    "    # 儲存每一次迭代時的截距項，供繪圖用。\n",
    "    graph_a.append(a)\n",
    "\n",
    "    # 儲存並計算每一次迭代時的損失，供繪圖用。\n",
    "    loss = get_loss(data=data, a=a, b=0.64)\n",
    "    graph_loss.append(loss)\n",
    "    print(f'loss: {loss:.4f}\\n')"
   ]
  },
  {
   "cell_type": "code",
   "execution_count": 9,
   "metadata": {},
   "outputs": [
    {
     "data": {
      "text/plain": [
       "<Axes: xlabel='a', ylabel='loss'>"
      ]
     },
     "execution_count": 9,
     "metadata": {},
     "output_type": "execute_result"
    },
    {
     "data": {
      "image/png": "[encoded data removed]",
      "text/plain": [
       "<Figure size 640x480 with 1 Axes>"
      ]
     },
     "metadata": {},
     "output_type": "display_data"
    }
   ],
   "source": [
    "graph_df = pd.DataFrame({'a': graph_a, 'loss': graph_loss})\n",
    "graph_df.plot.scatter(x='a', y='loss')"
   ]
  },
  {
   "cell_type": "markdown",
   "metadata": {},
   "source": [
    "可以看到上圖顯示，迭代了50次之後，截距項從0逐漸移動至0.95附近。"
   ]
  },
  {
   "cell_type": "markdown",
   "metadata": {},
   "source": [
    "## 用graident descent更新截距項 & 斜率"
   ]
  },
  {
   "cell_type": "markdown",
   "metadata": {},
   "source": [
    "接著，下面的程式示範了如何同時更新截距項 & 斜率。"
   ]
  },
  {
   "cell_type": "code",
   "execution_count": 10,
   "metadata": {},
   "outputs": [],
   "source": [
    "def get_gradients(data, a, b):\n",
    "\n",
    "    gradient_a = 0\n",
    "    gradient_b = 0\n",
    "\n",
    "    for i in range(0, data.shape[0]):\n",
    "        x, y = data['x'][i], data['y'][i]\n",
    "        gradient_a += -2 * ( y - model(a, b, x))\n",
    "        gradient_b += -2 * x * ( y - model(a, b, x))\n",
    "\n",
    "    return gradient_a, gradient_b"
   ]
  },
  {
   "cell_type": "code",
   "execution_count": 11,
   "metadata": {},
   "outputs": [],
   "source": [
    "# step 1: 隨機取值。\n",
    "a = 0\n",
    "b = 1"
   ]
  },
  {
   "cell_type": "code",
   "execution_count": 12,
   "metadata": {},
   "outputs": [
    {
     "name": "stdout",
     "output_type": "stream",
     "text": [
      ">>> iteration: 0\n",
      "gradient_a = -1.6000, gradient_b = -0.8000\n",
      "a = 0.0160, b = 1.0080\n",
      "loss: 1.0311\n",
      "\n",
      ">>> iteration: 10\n",
      "gradient_a = -0.9601, gradient_b = 0.3810\n",
      "a = 0.1269, b = 0.9906\n",
      "loss: 0.9005\n",
      "\n",
      ">>> iteration: 20\n",
      "gradient_a = -0.8470, gradient_b = 0.3603\n",
      "a = 0.2163, b = 0.9531\n",
      "loss: 0.8068\n",
      "\n",
      ">>> iteration: 30\n",
      "gradient_a = -0.7549, gradient_b = 0.3216\n",
      "a = 0.2958, b = 0.9192\n",
      "loss: 0.7324\n",
      "\n",
      ">>> iteration: 40\n",
      "gradient_a = -0.6729, gradient_b = 0.2867\n",
      "a = 0.3667, b = 0.8890\n",
      "loss: 0.6733\n",
      "\n",
      ">>> iteration: 50\n",
      "gradient_a = -0.5998, gradient_b = 0.2556\n",
      "a = 0.4299, b = 0.8621\n",
      "loss: 0.6263\n",
      "\n",
      ">>> iteration: 60\n",
      "gradient_a = -0.5347, gradient_b = 0.2278\n",
      "a = 0.4863, b = 0.8381\n",
      "loss: 0.5890\n",
      "\n",
      ">>> iteration: 70\n",
      "gradient_a = -0.4766, gradient_b = 0.2031\n",
      "a = 0.5365, b = 0.8167\n",
      "loss: 0.5594\n",
      "\n",
      ">>> iteration: 80\n",
      "gradient_a = -0.4249, gradient_b = 0.1810\n",
      "a = 0.5812, b = 0.7976\n",
      "loss: 0.5358\n",
      "\n",
      ">>> iteration: 90\n",
      "gradient_a = -0.3787, gradient_b = 0.1614\n",
      "a = 0.6212, b = 0.7806\n",
      "loss: 0.5171\n",
      "\n",
      ">>> iteration: 100\n",
      "gradient_a = -0.3376, gradient_b = 0.1438\n",
      "a = 0.6567, b = 0.7654\n",
      "loss: 0.5022\n",
      "\n",
      ">>> iteration: 110\n",
      "gradient_a = -0.3009, gradient_b = 0.1282\n",
      "a = 0.6884, b = 0.7519\n",
      "loss: 0.4904\n",
      "\n",
      ">>> iteration: 120\n",
      "gradient_a = -0.2683, gradient_b = 0.1143\n",
      "a = 0.7167, b = 0.7399\n",
      "loss: 0.4810\n",
      "\n",
      ">>> iteration: 130\n",
      "gradient_a = -0.2391, gradient_b = 0.1019\n",
      "a = 0.7419, b = 0.7291\n",
      "loss: 0.4735\n",
      "\n",
      ">>> iteration: 140\n",
      "gradient_a = -0.2132, gradient_b = 0.0908\n",
      "a = 0.7644, b = 0.7196\n",
      "loss: 0.4676\n",
      "\n",
      ">>> iteration: 150\n",
      "gradient_a = -0.1900, gradient_b = 0.0810\n",
      "a = 0.7844, b = 0.7110\n",
      "loss: 0.4629\n",
      "\n",
      ">>> iteration: 160\n",
      "gradient_a = -0.1694, gradient_b = 0.0722\n",
      "a = 0.8022, b = 0.7034\n",
      "loss: 0.4591\n",
      "\n",
      ">>> iteration: 170\n",
      "gradient_a = -0.1510, gradient_b = 0.0643\n",
      "a = 0.8181, b = 0.6967\n",
      "loss: 0.4561\n",
      "\n",
      ">>> iteration: 180\n",
      "gradient_a = -0.1346, gradient_b = 0.0573\n",
      "a = 0.8323, b = 0.6906\n",
      "loss: 0.4538\n",
      "\n",
      ">>> iteration: 190\n",
      "gradient_a = -0.1200, gradient_b = 0.0511\n",
      "a = 0.8450, b = 0.6852\n",
      "loss: 0.4519\n",
      "\n",
      ">>> iteration: 200\n",
      "gradient_a = -0.1069, gradient_b = 0.0456\n",
      "a = 0.8562, b = 0.6804\n",
      "loss: 0.4504\n",
      "\n",
      ">>> iteration: 210\n",
      "gradient_a = -0.0953, gradient_b = 0.0406\n",
      "a = 0.8663, b = 0.6762\n",
      "loss: 0.4492\n",
      "\n",
      ">>> iteration: 220\n",
      "gradient_a = -0.0850, gradient_b = 0.0362\n",
      "a = 0.8752, b = 0.6723\n",
      "loss: 0.4483\n",
      "\n",
      ">>> iteration: 230\n",
      "gradient_a = -0.0758, gradient_b = 0.0323\n",
      "a = 0.8832, b = 0.6689\n",
      "loss: 0.4475\n",
      "\n",
      ">>> iteration: 240\n",
      "gradient_a = -0.0675, gradient_b = 0.0288\n",
      "a = 0.8903, b = 0.6659\n",
      "loss: 0.4469\n",
      "\n",
      ">>> iteration: 250\n",
      "gradient_a = -0.0602, gradient_b = 0.0256\n",
      "a = 0.8967, b = 0.6632\n",
      "loss: 0.4464\n",
      "\n",
      ">>> iteration: 260\n",
      "gradient_a = -0.0537, gradient_b = 0.0229\n",
      "a = 0.9023, b = 0.6608\n",
      "loss: 0.4461\n",
      "\n",
      ">>> iteration: 270\n",
      "gradient_a = -0.0478, gradient_b = 0.0204\n",
      "a = 0.9073, b = 0.6587\n",
      "loss: 0.4458\n",
      "\n",
      ">>> iteration: 280\n",
      "gradient_a = -0.0426, gradient_b = 0.0182\n",
      "a = 0.9118, b = 0.6567\n",
      "loss: 0.4455\n",
      "\n",
      ">>> iteration: 290\n",
      "gradient_a = -0.0380, gradient_b = 0.0162\n",
      "a = 0.9158, b = 0.6550\n",
      "loss: 0.4453\n",
      "\n",
      ">>> iteration: 300\n",
      "gradient_a = -0.0339, gradient_b = 0.0144\n",
      "a = 0.9194, b = 0.6535\n",
      "loss: 0.4452\n",
      "\n",
      ">>> iteration: 310\n",
      "gradient_a = -0.0302, gradient_b = 0.0129\n",
      "a = 0.9226, b = 0.6522\n",
      "loss: 0.4451\n",
      "\n",
      ">>> iteration: 320\n",
      "gradient_a = -0.0269, gradient_b = 0.0115\n",
      "a = 0.9254, b = 0.6509\n",
      "loss: 0.4450\n",
      "\n",
      ">>> iteration: 330\n",
      "gradient_a = -0.0240, gradient_b = 0.0102\n",
      "a = 0.9280, b = 0.6499\n",
      "loss: 0.4449\n",
      "\n",
      ">>> iteration: 340\n",
      "gradient_a = -0.0214, gradient_b = 0.0091\n",
      "a = 0.9302, b = 0.6489\n",
      "loss: 0.4448\n",
      "\n",
      ">>> iteration: 350\n",
      "gradient_a = -0.0191, gradient_b = 0.0081\n",
      "a = 0.9322, b = 0.6481\n",
      "loss: 0.4448\n",
      "\n",
      ">>> iteration: 360\n",
      "gradient_a = -0.0170, gradient_b = 0.0072\n",
      "a = 0.9340, b = 0.6473\n",
      "loss: 0.4448\n",
      "\n",
      ">>> iteration: 370\n",
      "gradient_a = -0.0152, gradient_b = 0.0065\n",
      "a = 0.9356, b = 0.6466\n",
      "loss: 0.4447\n",
      "\n",
      ">>> iteration: 380\n",
      "gradient_a = -0.0135, gradient_b = 0.0058\n",
      "a = 0.9370, b = 0.6460\n",
      "loss: 0.4447\n",
      "\n",
      ">>> iteration: 390\n",
      "gradient_a = -0.0120, gradient_b = 0.0051\n",
      "a = 0.9383, b = 0.6455\n",
      "loss: 0.4447\n",
      "\n",
      ">>> iteration: 400\n",
      "gradient_a = -0.0107, gradient_b = 0.0046\n",
      "a = 0.9394, b = 0.6450\n",
      "loss: 0.4447\n",
      "\n",
      ">>> iteration: 410\n",
      "gradient_a = -0.0096, gradient_b = 0.0041\n",
      "a = 0.9404, b = 0.6446\n",
      "loss: 0.4447\n",
      "\n",
      ">>> iteration: 420\n",
      "gradient_a = -0.0085, gradient_b = 0.0036\n",
      "a = 0.9413, b = 0.6442\n",
      "loss: 0.4447\n",
      "\n",
      ">>> iteration: 430\n",
      "gradient_a = -0.0076, gradient_b = 0.0032\n",
      "a = 0.9421, b = 0.6438\n",
      "loss: 0.4446\n",
      "\n",
      ">>> iteration: 440\n",
      "gradient_a = -0.0068, gradient_b = 0.0029\n",
      "a = 0.9429, b = 0.6435\n",
      "loss: 0.4446\n",
      "\n",
      ">>> iteration: 450\n",
      "gradient_a = -0.0060, gradient_b = 0.0026\n",
      "a = 0.9435, b = 0.6433\n",
      "loss: 0.4446\n",
      "\n",
      ">>> iteration: 460\n",
      "gradient_a = -0.0054, gradient_b = 0.0023\n",
      "a = 0.9441, b = 0.6430\n",
      "loss: 0.4446\n",
      "\n",
      ">>> iteration: 470\n",
      "gradient_a = -0.0048, gradient_b = 0.0020\n",
      "a = 0.9446, b = 0.6428\n",
      "loss: 0.4446\n",
      "\n",
      ">>> iteration: 480\n",
      "gradient_a = -0.0043, gradient_b = 0.0018\n",
      "a = 0.9450, b = 0.6426\n",
      "loss: 0.4446\n",
      "\n",
      ">>> iteration: 490\n",
      "gradient_a = -0.0038, gradient_b = 0.0016\n",
      "a = 0.9454, b = 0.6424\n",
      "loss: 0.4446\n",
      "\n",
      ">>> iteration: 500\n",
      "gradient_a = -0.0034, gradient_b = 0.0014\n",
      "a = 0.9458, b = 0.6423\n",
      "loss: 0.4446\n",
      "\n",
      ">>> iteration: 510\n",
      "gradient_a = -0.0030, gradient_b = 0.0013\n",
      "a = 0.9461, b = 0.6421\n",
      "loss: 0.4446\n",
      "\n",
      ">>> iteration: 520\n",
      "gradient_a = -0.0027, gradient_b = 0.0012\n",
      "a = 0.9464, b = 0.6420\n",
      "loss: 0.4446\n",
      "\n",
      ">>> iteration: 530\n",
      "gradient_a = -0.0024, gradient_b = 0.0010\n",
      "a = 0.9466, b = 0.6419\n",
      "loss: 0.4446\n",
      "\n",
      ">>> iteration: 540\n",
      "gradient_a = -0.0021, gradient_b = 0.0009\n",
      "a = 0.9469, b = 0.6418\n",
      "loss: 0.4446\n",
      "\n",
      ">>> iteration: 550\n",
      "gradient_a = -0.0019, gradient_b = 0.0008\n",
      "a = 0.9471, b = 0.6417\n",
      "loss: 0.4446\n",
      "\n",
      ">>> iteration: 560\n",
      "gradient_a = -0.0017, gradient_b = 0.0007\n",
      "a = 0.9472, b = 0.6417\n",
      "loss: 0.4446\n",
      "\n",
      ">>> iteration: 570\n",
      "gradient_a = -0.0015, gradient_b = 0.0006\n",
      "a = 0.9474, b = 0.6416\n",
      "loss: 0.4446\n",
      "\n",
      ">>> iteration: 580\n",
      "gradient_a = -0.0014, gradient_b = 0.0006\n",
      "a = 0.9475, b = 0.6415\n",
      "loss: 0.4446\n",
      "\n",
      ">>> iteration: 590\n",
      "gradient_a = -0.0012, gradient_b = 0.0005\n",
      "a = 0.9477, b = 0.6415\n",
      "loss: 0.4446\n",
      "\n",
      ">>> iteration: 600\n",
      "gradient_a = -0.0011, gradient_b = 0.0005\n",
      "a = 0.9478, b = 0.6414\n",
      "loss: 0.4446\n",
      "\n",
      ">>> iteration: 610\n",
      "gradient_a = -0.0010, gradient_b = 0.0004\n",
      "a = 0.9479, b = 0.6414\n",
      "loss: 0.4446\n",
      "\n",
      ">>> iteration: 620\n",
      "gradient_a = -0.0009, gradient_b = 0.0004\n",
      "a = 0.9480, b = 0.6413\n",
      "loss: 0.4446\n",
      "\n",
      ">>> iteration: 630\n",
      "gradient_a = -0.0008, gradient_b = 0.0003\n",
      "a = 0.9481, b = 0.6413\n",
      "loss: 0.4446\n",
      "\n",
      ">>> iteration: 640\n",
      "gradient_a = -0.0007, gradient_b = 0.0003\n",
      "a = 0.9481, b = 0.6413\n",
      "loss: 0.4446\n",
      "\n",
      ">>> iteration: 650\n",
      "gradient_a = -0.0006, gradient_b = 0.0003\n",
      "a = 0.9482, b = 0.6412\n",
      "loss: 0.4446\n",
      "\n",
      ">>> iteration: 660\n",
      "gradient_a = -0.0005, gradient_b = 0.0002\n",
      "a = 0.9483, b = 0.6412\n",
      "loss: 0.4446\n",
      "\n",
      ">>> iteration: 670\n",
      "gradient_a = -0.0005, gradient_b = 0.0002\n",
      "a = 0.9483, b = 0.6412\n",
      "loss: 0.4446\n",
      "\n",
      ">>> iteration: 680\n",
      "gradient_a = -0.0004, gradient_b = 0.0002\n",
      "a = 0.9483, b = 0.6412\n",
      "loss: 0.4446\n",
      "\n",
      ">>> iteration: 690\n",
      "gradient_a = -0.0004, gradient_b = 0.0002\n",
      "a = 0.9484, b = 0.6412\n",
      "loss: 0.4446\n",
      "\n",
      ">>> iteration: 700\n",
      "gradient_a = -0.0003, gradient_b = 0.0001\n",
      "a = 0.9484, b = 0.6412\n",
      "loss: 0.4446\n",
      "\n"
     ]
    }
   ],
   "source": [
    "# 初始化一些variable，供後續繪圖使用。\n",
    "graph_a = []\n",
    "graph_b = []\n",
    "graph_loss = []\n",
    "\n",
    "for i in range(0, 701):\n",
    "    # step 2: 計算gradient。\n",
    "    gradient_a, gradient_b = get_gradients(data=data, a=a, b=b)\n",
    "\n",
    "    # step 3: 更新參數\n",
    "    a = update_param(param=a, gradient=gradient_a, lr=0.01)\n",
    "    b = update_param(param=b, gradient=gradient_b, lr=0.01)\n",
    "\n",
    "    # 儲存每一次迭代時的截距項，供繪圖用。\n",
    "    graph_a.append(a)\n",
    "    graph_b.append(b)\n",
    "\n",
    "    # 儲存並計算每一次迭代時的損失，供繪圖用。\n",
    "    loss = get_loss(data=data, a=a, b=b)\n",
    "    graph_loss.append(loss)\n",
    "\n",
    "    # 因為迭代的次數較多，讓程式每迭代10次才print內容。\n",
    "    if i % 10 == 0:\n",
    "        print(f'>>> iteration: {i}')\n",
    "        print(f'gradient_a = {gradient_a:.4f}, gradient_b = {gradient_b:.4f}')\n",
    "        print(f'a = {a:.4f}, b = {b:.4f}')\n",
    "        print(f'loss: {loss:.4f}')\n",
    "        print('')"
   ]
  },
  {
   "cell_type": "code",
   "execution_count": 13,
   "metadata": {},
   "outputs": [],
   "source": [
    "graph_df = pd.DataFrame({'a': graph_a, 'b': graph_b, 'loss': graph_loss})"
   ]
  },
  {
   "cell_type": "code",
   "execution_count": 14,
   "metadata": {},
   "outputs": [
    {
     "data": {
      "text/plain": [
       "<Axes: xlabel='a', ylabel='loss'>"
      ]
     },
     "execution_count": 14,
     "metadata": {},
     "output_type": "execute_result"
    },
    {
     "data": {
      "image/png": "[encoded data removed]",
      "text/plain": [
       "<Figure size 640x480 with 1 Axes>"
      ]
     },
     "metadata": {},
     "output_type": "display_data"
    }
   ],
   "source": [
    "graph_df.plot.scatter(x='a', y='loss')"
   ]
  },
  {
   "cell_type": "code",
   "execution_count": 15,
   "metadata": {},
   "outputs": [
    {
     "data": {
      "text/plain": [
       "<Axes: xlabel='b', ylabel='loss'>"
      ]
     },
     "execution_count": 15,
     "metadata": {},
     "output_type": "execute_result"
    },
    {
     "data": {
      "image/png": "[encoded data removed]",
      "text/plain": [
       "<Figure size 640x480 with 1 Axes>"
      ]
     },
     "metadata": {},
     "output_type": "display_data"
    }
   ],
   "source": [
    "graph_df.plot.scatter(x='b', y='loss')"
   ]
  },
  {
   "cell_type": "code",
   "execution_count": 16,
   "metadata": {},
   "outputs": [
    {
     "name": "stdout",
     "output_type": "stream",
     "text": [
      "final a: 0.9484228728799461\n",
      "final b: 0.6411513598871877\n"
     ]
    }
   ],
   "source": [
    "print(f'final a: {graph_a[-1]}')\n",
    "print(f'final b: {graph_b[-1]}')"
   ]
  },
  {
   "cell_type": "markdown",
   "metadata": {},
   "source": [
    "依照上面的結果，gradient descent方法，找到的a是接近0.95，b則是約0.64。\n",
    "\n",
    "接下來測試如果使用傳統OLS方法，估計出來的數值是否接近。"
   ]
  },
  {
   "cell_type": "markdown",
   "metadata": {},
   "source": [
    "### OLS 結果比較"
   ]
  },
  {
   "cell_type": "code",
   "execution_count": 17,
   "metadata": {},
   "outputs": [],
   "source": [
    "import statsmodels.formula.api as smf\n",
    "%matplotlib inline"
   ]
  },
  {
   "cell_type": "markdown",
   "metadata": {},
   "source": [
    "這邊使用的套件是statsmodels，可以用類似寫方程式的方法來跑統計模型。"
   ]
  },
  {
   "cell_type": "code",
   "execution_count": 18,
   "metadata": {},
   "outputs": [],
   "source": [
    "result = smf.ols('y ~ x', data=data).fit()"
   ]
  },
  {
   "cell_type": "markdown",
   "metadata": {},
   "source": [
    "結果如下：\n",
    "\n",
    "估計結果其實很接近gradient descent的估計方法。"
   ]
  },
  {
   "cell_type": "code",
   "execution_count": 19,
   "metadata": {},
   "outputs": [
    {
     "name": "stdout",
     "output_type": "stream",
     "text": [
      "                            OLS Regression Results                            \n",
      "==============================================================================\n",
      "Dep. Variable:                      y   R-squared:                       0.743\n",
      "Model:                            OLS   Adj. R-squared:                  0.485\n",
      "Method:                 Least Squares   F-statistic:                     2.884\n",
      "Date:                Mon, 18 Mar 2024   Prob (F-statistic):              0.339\n",
      "Time:                        23:22:17   Log-Likelihood:                -1.3931\n",
      "No. Observations:                   3   AIC:                             6.786\n",
      "Df Residuals:                       1   BIC:                             4.983\n",
      "Df Model:                           1                                         \n",
      "Covariance Type:            nonrobust                                         \n",
      "==============================================================================\n",
      "                 coef    std err          t      P>|t|      [0.025      0.975]\n",
      "------------------------------------------------------------------------------\n",
      "Intercept      0.9487      0.814      1.165      0.451      -9.395      11.292\n",
      "x              0.6410      0.377      1.698      0.339      -4.156       5.438\n",
      "==============================================================================\n",
      "Omnibus:                          nan   Durbin-Watson:                   2.846\n",
      "Prob(Omnibus):                    nan   Jarque-Bera (JB):                0.392\n",
      "Skew:                          -0.470   Prob(JB):                        0.822\n",
      "Kurtosis:                       1.500   Cond. No.                         5.35\n",
      "==============================================================================\n",
      "\n",
      "Notes:\n",
      "[1] Standard Errors assume that the covariance matrix of the errors is correctly specified.\n"
     ]
    },
    {
     "name": "stderr",
     "output_type": "stream",
     "text": [
      "/Users/curtislu/Library/Caches/pypoetry/virtualenvs/ntu-ps-intro-ml-GyDE60mE-py3.11/lib/python3.11/site-packages/statsmodels/stats/stattools.py:74: ValueWarning: omni_normtest is not valid with less than 8 observations; 3 samples were given.\n",
      "  warn(\"omni_normtest is not valid with less than 8 observations; %i \"\n"
     ]
    }
   ],
   "source": [
    "print(result.summary())"
   ]
  },
  {
   "cell_type": "markdown",
   "metadata": {},
   "source": [
    "也可以使用Scikit-learn套件的LinearRegression來做到一樣的結果。"
   ]
  },
  {
   "cell_type": "code",
   "execution_count": 20,
   "metadata": {},
   "outputs": [],
   "source": [
    "from sklearn.linear_model import LinearRegression\n",
    "from sklearn.metrics import mean_squared_error"
   ]
  },
  {
   "cell_type": "code",
   "execution_count": 21,
   "metadata": {},
   "outputs": [
    {
     "name": "stdout",
     "output_type": "stream",
     "text": [
      "Coefficient (slope): [0.64102564]\n",
      "Intercept: 0.9487179487179489\n"
     ]
    }
   ],
   "source": [
    "# Creating a Linear Regression model object\n",
    "model = LinearRegression()\n",
    "\n",
    "# Fitting the model to the data (data需整理成符合規格的形狀)\n",
    "model.fit(data['x'].values.reshape(-1, 1), data['y'].values)\n",
    "\n",
    "# Once fitted, you can get the coefficients and intercept of the linear regression line\n",
    "print(f\"Coefficient (slope): {model.coef_}\")\n",
    "print(f\"Intercept: {model.intercept_}\")"
   ]
  }
 ],
 "metadata": {
  "kernelspec": {
   "display_name": "ntu-ps-intro-ml-GyDE60mE-py3.11",
   "language": "python",
   "name": "python3"
  },
  "language_info": {
   "codemirror_mode": {
    "name": "ipython",
    "version": 3
   },
   "file_extension": ".py",
   "mimetype": "text/x-python",
   "name": "python",
   "nbconvert_exporter": "python",
   "pygments_lexer": "ipython3",
   "version": "3.11.0"
  }
 },
 "nbformat": 4,
 "nbformat_minor": 2
}