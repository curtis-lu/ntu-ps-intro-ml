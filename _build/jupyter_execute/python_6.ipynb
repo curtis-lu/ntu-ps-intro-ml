{
 "cells": [
  {
   "cell_type": "markdown",
   "id": "82476cfd",
   "metadata": {},
   "source": [
    "# 其他主題\n",
    "\n",
    "## comprehension\n",
    "\n",
    "### list comprehension\n",
    "\n",
    "### dict comprehension\n",
    "\n",
    "### set comprehension\n",
    "\n",
    "## 檔案操作\n",
    "\n",
    "## 類別與物件導向"
   ]
  }
 ],
 "metadata": {
  "jupytext": {
   "formats": "md:myst",
   "text_representation": {
    "extension": ".md",
    "format_name": "myst",
    "format_version": 0.13,
    "jupytext_version": "1.16.0"
   }
  },
  "kernelspec": {
   "display_name": "Python 3",
   "language": "python",
   "name": "python3"
  },
  "language_info": {
   "codemirror_mode": {
    "name": "ipython",
    "version": 3
   },
   "file_extension": ".py",
   "mimetype": "text/x-python",
   "name": "python",
   "nbconvert_exporter": "python",
   "pygments_lexer": "ipython3",
   "version": "3.11.0"
  },
  "source_map": [
   13
  ]
 },
 "nbformat": 4,
 "nbformat_minor": 5
}