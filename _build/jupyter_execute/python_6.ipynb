{
 "cells": [
  {
   "cell_type": "markdown",
   "id": "f1967616",
   "metadata": {},
   "source": [
    "# 6.進階主題\n",
    "\n",
    "## 生成式(comprehension)\n",
    "\n",
    "建立list, dict, set時，有一個十分常用的技巧稱作生成式(comprehension)。\n",
    "\n",
    "生成式的語法比起使用迴圈簡潔許多，執行速度也比使用迴圈快。\n",
    "\n",
    "### list comprehension\n",
    "\n",
    "例如想建立一個內含1~10數字元素的list，該怎麼做？\n",
    "\n",
    "可能想到的做法是先建立一個空的list，然後利用range()來append每個元素進去："
   ]
  },
  {
   "cell_type": "code",
   "execution_count": 1,
   "id": "2bc1139a",
   "metadata": {},
   "outputs": [
    {
     "name": "stdout",
     "output_type": "stream",
     "text": [
      "[1, 2, 3, 4, 5, 6, 7, 8, 9, 10]\n"
     ]
    }
   ],
   "source": [
    "a_list = []\n",
    "\n",
    "for i in range(1, 11):\n",
    "    a_list.append(i)\n",
    "\n",
    "print(a_list)"
   ]
  },
  {
   "cell_type": "markdown",
   "id": "37eb2004",
   "metadata": {},
   "source": [
    "但一個符合python風格的寫法是透過生成式："
   ]
  },
  {
   "cell_type": "code",
   "execution_count": 2,
   "id": "9f7fc5eb",
   "metadata": {},
   "outputs": [
    {
     "name": "stdout",
     "output_type": "stream",
     "text": [
      "[1, 2, 3, 4, 5, 6, 7, 8, 9, 10]\n"
     ]
    }
   ],
   "source": [
    "a_list = [i for i in range(1, 11)]\n",
    "\n",
    "print(a_list)"
   ]
  },
  {
   "cell_type": "markdown",
   "id": "6b3ae083",
   "metadata": {},
   "source": [
    "生成式有許多靈活的應用方法：\n",
    "\n",
    "例如，可以對每個元素做加工："
   ]
  },
  {
   "cell_type": "code",
   "execution_count": 3,
   "id": "ae84b959",
   "metadata": {},
   "outputs": [
    {
     "name": "stdout",
     "output_type": "stream",
     "text": [
      "[1, 4, 9, 16, 25, 36, 49, 64, 81, 100]\n"
     ]
    }
   ],
   "source": [
    "a_list = [i**2 for i in range(1, 11)]\n",
    "\n",
    "print(a_list)"
   ]
  },
  {
   "cell_type": "markdown",
   "id": "e88a7a17",
   "metadata": {},
   "source": [
    "也可以對元素做篩選："
   ]
  },
  {
   "cell_type": "code",
   "execution_count": 4,
   "id": "86784f58",
   "metadata": {},
   "outputs": [
    {
     "name": "stdout",
     "output_type": "stream",
     "text": [
      "[2, 4, 6, 8, 10]\n"
     ]
    }
   ],
   "source": [
    "a_list = [i for i in range(1, 11) if i % 2 == 0]\n",
    "\n",
    "print(a_list)"
   ]
  },
  {
   "cell_type": "markdown",
   "id": "11943eeb",
   "metadata": {},
   "source": [
    "### dictionary comprehension\n",
    "\n",
    "一個常用生成式來建立字典的時機是結合zip()："
   ]
  },
  {
   "cell_type": "code",
   "execution_count": 5,
   "id": "34c0a092",
   "metadata": {},
   "outputs": [
    {
     "name": "stdout",
     "output_type": "stream",
     "text": [
      "{'a': 1, 'b': 2, 'c': 3}\n"
     ]
    }
   ],
   "source": [
    "keys = ['a','b','c']\n",
    "values = [1, 2, 3]\n",
    "\n",
    "a_dict = {k: v for k, v in zip(keys, values)}\n",
    "\n",
    "print(a_dict) "
   ]
  },
  {
   "cell_type": "markdown",
   "id": "027cb7b7",
   "metadata": {},
   "source": [
    "或是當你想要交換key跟value的對應關係時："
   ]
  },
  {
   "cell_type": "code",
   "execution_count": 6,
   "id": "38c14760",
   "metadata": {},
   "outputs": [
    {
     "name": "stdout",
     "output_type": "stream",
     "text": [
      "{1: 'a', 2: 'b', 3: 'c'}\n"
     ]
    }
   ],
   "source": [
    "reverse_a_dict = {v: k for k, v in a_dict.items()}\n",
    "\n",
    "print(reverse_a_dict)"
   ]
  },
  {
   "cell_type": "markdown",
   "id": "abce05fe",
   "metadata": {},
   "source": [
    "### set comprehension\n",
    "\n",
    "set也有生成式，寫法如下："
   ]
  },
  {
   "cell_type": "code",
   "execution_count": 7,
   "id": "9d9a3eb9",
   "metadata": {},
   "outputs": [
    {
     "name": "stdout",
     "output_type": "stream",
     "text": [
      "{0, 1, 2, 3, 4, 5, 6, 7}\n"
     ]
    }
   ],
   "source": [
    "a_set = {i // 4 for i in range(30)}\n",
    "\n",
    "print(a_set)"
   ]
  },
  {
   "cell_type": "markdown",
   "id": "0981523b",
   "metadata": {},
   "source": [
    "## 裝飾器(decorator)\n",
    "\n",
    "裝飾器的主要作用是為了在不更動function原始程式碼的情況下，添加或改變function的行為。\n",
    "\n",
    "一個印出function執行時間的範例如下："
   ]
  },
  {
   "cell_type": "code",
   "execution_count": 8,
   "id": "7f6ce6ff",
   "metadata": {},
   "outputs": [
    {
     "ename": "SyntaxError",
     "evalue": "'(' was never closed (1695563484.py, line 10)",
     "output_type": "error",
     "traceback": [
      "\u001b[0;36m  Cell \u001b[0;32mIn[8], line 10\u001b[0;36m\u001b[0m\n\u001b[0;31m    print(f'total execution time: {end - start}'\u001b[0m\n\u001b[0m         ^\u001b[0m\n\u001b[0;31mSyntaxError\u001b[0m\u001b[0;31m:\u001b[0m '(' was never closed\n"
     ]
    }
   ],
   "source": [
    "from datetime import datetime\n",
    "\n",
    "def my_timer(func):\n",
    "    def wrapper(*args, **kwargs):\n",
    "        start = datetime.now()\n",
    "        print(f'{func.__name__} starts at {start}')\n",
    "        result = func(*args, **kwargs)\n",
    "        end = datetime.now()\n",
    "        print(f'{func.__name__} ends at {end}')\n",
    "        print(f'total execution time: {end - start}'\n",
    "        return result\n",
    "    return wrapper"
   ]
  },
  {
   "cell_type": "markdown",
   "id": "5eafa169",
   "metadata": {},
   "source": [
    "當你要使用這個裝飾器時，只要在目標function的定義陳述式上面加上”@”以及裝飾器名稱即可："
   ]
  },
  {
   "cell_type": "code",
   "execution_count": 9,
   "id": "0fdc8b24",
   "metadata": {},
   "outputs": [
    {
     "ename": "NameError",
     "evalue": "name 'my_timer' is not defined",
     "output_type": "error",
     "traceback": [
      "\u001b[0;31m---------------------------------------------------------------------------\u001b[0m",
      "\u001b[0;31mNameError\u001b[0m                                 Traceback (most recent call last)",
      "Cell \u001b[0;32mIn[9], line 3\u001b[0m\n\u001b[1;32m      1\u001b[0m \u001b[38;5;28;01mimport\u001b[39;00m \u001b[38;5;21;01mtime\u001b[39;00m\n\u001b[0;32m----> 3\u001b[0m \u001b[38;5;129m@my_timer\u001b[39m\n\u001b[1;32m      4\u001b[0m \u001b[38;5;28;01mdef\u001b[39;00m \u001b[38;5;21mlazy_square\u001b[39m(number):\n\u001b[1;32m      5\u001b[0m     time\u001b[38;5;241m.\u001b[39msleep(\u001b[38;5;241m0.5\u001b[39m)\n\u001b[1;32m      6\u001b[0m     \u001b[38;5;28;01mreturn\u001b[39;00m number\u001b[38;5;241m*\u001b[39m\u001b[38;5;241m*\u001b[39m\u001b[38;5;241m2\u001b[39m\n",
      "\u001b[0;31mNameError\u001b[0m: name 'my_timer' is not defined"
     ]
    }
   ],
   "source": [
    "import time\n",
    "\n",
    "@my_timer\n",
    "def lazy_square(number):\n",
    "    time.sleep(0.5)\n",
    "    return number**2"
   ]
  },
  {
   "cell_type": "markdown",
   "id": "c29cb9d9",
   "metadata": {},
   "source": [
    "使用該function時就會被添加該function原本沒有的功能："
   ]
  },
  {
   "cell_type": "code",
   "execution_count": 10,
   "id": "43443a6e",
   "metadata": {},
   "outputs": [
    {
     "ename": "NameError",
     "evalue": "name 'lazy_square' is not defined",
     "output_type": "error",
     "traceback": [
      "\u001b[0;31m---------------------------------------------------------------------------\u001b[0m",
      "\u001b[0;31mNameError\u001b[0m                                 Traceback (most recent call last)",
      "Cell \u001b[0;32mIn[10], line 1\u001b[0m\n\u001b[0;32m----> 1\u001b[0m \u001b[43mlazy_square\u001b[49m(\u001b[38;5;241m99\u001b[39m)\n",
      "\u001b[0;31mNameError\u001b[0m: name 'lazy_square' is not defined"
     ]
    }
   ],
   "source": [
    "lazy_square(99)"
   ]
  },
  {
   "cell_type": "markdown",
   "id": "dc34a2f6",
   "metadata": {},
   "source": [
    "裝飾器的使用時機在於當想一次對多個function添加一些行為時，如果不使用裝飾器的話就必須一個一個function去修改程式碼。除了很麻煩以外，其實也容易造成錯誤。\n",
    "\n",
    "以上就是裝飾器的基本用法，但這樣的做法會有個小問題。請看以下程式："
   ]
  },
  {
   "cell_type": "code",
   "execution_count": 11,
   "id": "7e1c5f53",
   "metadata": {},
   "outputs": [
    {
     "ename": "NameError",
     "evalue": "name 'lazy_square' is not defined",
     "output_type": "error",
     "traceback": [
      "\u001b[0;31m---------------------------------------------------------------------------\u001b[0m",
      "\u001b[0;31mNameError\u001b[0m                                 Traceback (most recent call last)",
      "Cell \u001b[0;32mIn[11], line 1\u001b[0m\n\u001b[0;32m----> 1\u001b[0m help(\u001b[43mlazy_square\u001b[49m)\n",
      "\u001b[0;31mNameError\u001b[0m: name 'lazy_square' is not defined"
     ]
    }
   ],
   "source": [
    "help(lazy_square)"
   ]
  },
  {
   "cell_type": "markdown",
   "id": "0efad493",
   "metadata": {},
   "source": [
    "印出的結果是裝飾器中的wrapper()的名稱。要解決這個問題必須使用python標準函式庫中的一個套件```functools```，在內層的wrapper上面加上一個裝飾器```@functools.wraps()```："
   ]
  },
  {
   "cell_type": "code",
   "execution_count": 12,
   "id": "c94e6618",
   "metadata": {},
   "outputs": [],
   "source": [
    "from datetime import datetime\n",
    "import functools # 加這行\n",
    "\n",
    "def my_timer(func):\n",
    "    @functools.wraps(func)\n",
    "    def wrapper(*args, **kwargs):\n",
    "        start = datetime.now()\n",
    "        print(f'{func.__name__} starts at {start}')\n",
    "        result = func(*args, **kwargs)\n",
    "        end = datetime.now()\n",
    "        print(f'{func.__name__} ends at {end}')\n",
    "        print(f'total execution time: {end - start}')\n",
    "        return result\n",
    "    return wrapper"
   ]
  },
  {
   "cell_type": "markdown",
   "id": "749c7d1f",
   "metadata": {},
   "source": [
    "重新定義一次function。"
   ]
  },
  {
   "cell_type": "code",
   "execution_count": 13,
   "id": "40b97793",
   "metadata": {},
   "outputs": [],
   "source": [
    "import time\n",
    "\n",
    "@my_timer\n",
    "def lazy_square(number):\n",
    "    time.sleep(0.5)\n",
    "    return number**2"
   ]
  },
  {
   "cell_type": "markdown",
   "id": "0a1f022f",
   "metadata": {},
   "source": [
    "檢查修改後的結果："
   ]
  },
  {
   "cell_type": "code",
   "execution_count": 14,
   "id": "5034cc08",
   "metadata": {},
   "outputs": [
    {
     "name": "stdout",
     "output_type": "stream",
     "text": [
      "Help on function lazy_square in module __main__:\n",
      "\n",
      "lazy_square(number)\n",
      "\n"
     ]
    }
   ],
   "source": [
    "help(lazy_square)"
   ]
  },
  {
   "cell_type": "markdown",
   "id": "a32e3e60",
   "metadata": {},
   "source": [
    "## 名稱空間\n",
    "\n",
    "我們知道變數名稱是一個標籤，貼在盒子（物件）上面，當我們呼叫變數時，python會去取用盒子裡面的資料。\n",
    "\n",
    "但是如果有多個一樣的變數名稱呢？到底要取用哪個物件就會造成混淆。\n",
    "\n",
    "Python透過名稱空間（namespace）去界定變數名稱的搜尋範圍，不同名稱空間有不同優先順序，在哪個空間先找到變數名稱，就去取用該變數名稱對應到的物件。\n",
    "\n",
    "名稱空間依序如下：\n",
    "\n",
    "- local\n",
    "- enclosing\n",
    "- global\n",
    "- built-in\n",
    "\n",
    "### 說明\n",
    "\n",
    "**Build-in namespace**\n",
    "\n",
    "Build-in namespace在python啟動時就會建立，直到python編譯器終止為止。\n",
    "\n",
    "以下是python內建的變數名稱："
   ]
  },
  {
   "cell_type": "code",
   "execution_count": 15,
   "id": "314186c7",
   "metadata": {},
   "outputs": [
    {
     "data": {
      "text/plain": [
       "['ArithmeticError',\n",
       " 'AssertionError',\n",
       " 'AttributeError',\n",
       " 'BaseException',\n",
       " 'BaseExceptionGroup',\n",
       " 'BlockingIOError',\n",
       " 'BrokenPipeError',\n",
       " 'BufferError',\n",
       " 'BytesWarning',\n",
       " 'ChildProcessError',\n",
       " 'ConnectionAbortedError',\n",
       " 'ConnectionError',\n",
       " 'ConnectionRefusedError',\n",
       " 'ConnectionResetError',\n",
       " 'DeprecationWarning',\n",
       " 'EOFError',\n",
       " 'Ellipsis',\n",
       " 'EncodingWarning',\n",
       " 'EnvironmentError',\n",
       " 'Exception',\n",
       " 'ExceptionGroup',\n",
       " 'False',\n",
       " 'FileExistsError',\n",
       " 'FileNotFoundError',\n",
       " 'FloatingPointError',\n",
       " 'FutureWarning',\n",
       " 'GeneratorExit',\n",
       " 'IOError',\n",
       " 'ImportError',\n",
       " 'ImportWarning',\n",
       " 'IndentationError',\n",
       " 'IndexError',\n",
       " 'InterruptedError',\n",
       " 'IsADirectoryError',\n",
       " 'KeyError',\n",
       " 'KeyboardInterrupt',\n",
       " 'LookupError',\n",
       " 'MemoryError',\n",
       " 'ModuleNotFoundError',\n",
       " 'NameError',\n",
       " 'None',\n",
       " 'NotADirectoryError',\n",
       " 'NotImplemented',\n",
       " 'NotImplementedError',\n",
       " 'OSError',\n",
       " 'OverflowError',\n",
       " 'PendingDeprecationWarning',\n",
       " 'PermissionError',\n",
       " 'ProcessLookupError',\n",
       " 'RecursionError',\n",
       " 'ReferenceError',\n",
       " 'ResourceWarning',\n",
       " 'RuntimeError',\n",
       " 'RuntimeWarning',\n",
       " 'StopAsyncIteration',\n",
       " 'StopIteration',\n",
       " 'SyntaxError',\n",
       " 'SyntaxWarning',\n",
       " 'SystemError',\n",
       " 'SystemExit',\n",
       " 'TabError',\n",
       " 'TimeoutError',\n",
       " 'True',\n",
       " 'TypeError',\n",
       " 'UnboundLocalError',\n",
       " 'UnicodeDecodeError',\n",
       " 'UnicodeEncodeError',\n",
       " 'UnicodeError',\n",
       " 'UnicodeTranslateError',\n",
       " 'UnicodeWarning',\n",
       " 'UserWarning',\n",
       " 'ValueError',\n",
       " 'Warning',\n",
       " 'ZeroDivisionError',\n",
       " '__IPYTHON__',\n",
       " '__build_class__',\n",
       " '__debug__',\n",
       " '__doc__',\n",
       " '__import__',\n",
       " '__loader__',\n",
       " '__name__',\n",
       " '__package__',\n",
       " '__spec__',\n",
       " 'abs',\n",
       " 'aiter',\n",
       " 'all',\n",
       " 'anext',\n",
       " 'any',\n",
       " 'ascii',\n",
       " 'bin',\n",
       " 'bool',\n",
       " 'breakpoint',\n",
       " 'bytearray',\n",
       " 'bytes',\n",
       " 'callable',\n",
       " 'chr',\n",
       " 'classmethod',\n",
       " 'compile',\n",
       " 'complex',\n",
       " 'copyright',\n",
       " 'credits',\n",
       " 'delattr',\n",
       " 'dict',\n",
       " 'dir',\n",
       " 'display',\n",
       " 'divmod',\n",
       " 'enumerate',\n",
       " 'eval',\n",
       " 'exec',\n",
       " 'execfile',\n",
       " 'filter',\n",
       " 'float',\n",
       " 'format',\n",
       " 'frozenset',\n",
       " 'get_ipython',\n",
       " 'getattr',\n",
       " 'globals',\n",
       " 'hasattr',\n",
       " 'hash',\n",
       " 'help',\n",
       " 'hex',\n",
       " 'id',\n",
       " 'input',\n",
       " 'int',\n",
       " 'isinstance',\n",
       " 'issubclass',\n",
       " 'iter',\n",
       " 'len',\n",
       " 'license',\n",
       " 'list',\n",
       " 'locals',\n",
       " 'map',\n",
       " 'max',\n",
       " 'memoryview',\n",
       " 'min',\n",
       " 'next',\n",
       " 'object',\n",
       " 'oct',\n",
       " 'open',\n",
       " 'ord',\n",
       " 'pow',\n",
       " 'print',\n",
       " 'property',\n",
       " 'range',\n",
       " 'repr',\n",
       " 'reversed',\n",
       " 'round',\n",
       " 'runfile',\n",
       " 'set',\n",
       " 'setattr',\n",
       " 'slice',\n",
       " 'sorted',\n",
       " 'staticmethod',\n",
       " 'str',\n",
       " 'sum',\n",
       " 'super',\n",
       " 'tuple',\n",
       " 'type',\n",
       " 'vars',\n",
       " 'zip']"
      ]
     },
     "execution_count": 15,
     "metadata": {},
     "output_type": "execute_result"
    }
   ],
   "source": [
    "dir(__builtins__)"
   ]
  },
  {
   "cell_type": "markdown",
   "id": "11b63ec7",
   "metadata": {},
   "source": [
    "在定義變數時，要小心不要使用到這些變數名稱，否則會覆蓋掉。\n",
    "\n",
    "**global namespace**\n",
    "\n",
    "global namespace包含了在主程式中定義的變數名稱，所謂主程式可以先理解成就是正在使用中的\n",
    "\n",
    "jupyter notebook。\n",
    "\n",
    "****The Local and Enclosing Namespaces****\n",
    "\n",
    "至於local namespace就是function在執行時內部的變數名稱空間。\n",
    "\n",
    "而enclosing namespace則是指當function是多層的時候，例如雙層的function，外層function的namespace就是所謂的enclosing namespace。\n",
    "\n",
    "請看下方釋例說明："
   ]
  },
  {
   "cell_type": "code",
   "execution_count": 16,
   "id": "5693af7e",
   "metadata": {},
   "outputs": [
    {
     "ename": "NameError",
     "evalue": "name 'enclosing' is not defined",
     "output_type": "error",
     "traceback": [
      "\u001b[0;31m---------------------------------------------------------------------------\u001b[0m",
      "\u001b[0;31mNameError\u001b[0m                                 Traceback (most recent call last)",
      "Cell \u001b[0;32mIn[16], line 11\u001b[0m\n\u001b[1;32m      8\u001b[0m     enclosed()\n\u001b[1;32m      9\u001b[0m     \u001b[38;5;28mprint\u001b[39m(\u001b[38;5;124m'\u001b[39m\u001b[38;5;124mend outer function\u001b[39m\u001b[38;5;124m'\u001b[39m)\n\u001b[0;32m---> 11\u001b[0m \u001b[43menclosing\u001b[49m()\n",
      "\u001b[0;31mNameError\u001b[0m: name 'enclosing' is not defined"
     ]
    }
   ],
   "source": [
    "def outer():\n",
    "    print('start outer function')\n",
    "\n",
    "    def inner():\n",
    "        print('>> start inner function')\n",
    "        print('>> end inner function')\n",
    "\n",
    "    enclosed()\n",
    "    print('end outer function')\n",
    "\n",
    "enclosing()"
   ]
  },
  {
   "cell_type": "markdown",
   "id": "590aa259",
   "metadata": {},
   "source": [
    "當我們呼叫outer()時，python會為outer建立新的namespace。\n",
    "\n",
    "當outer內部呼叫inner()時，python也會為inner建立另一個獨立的namespace。\n",
    "\n",
    "此時outer的namespace稱作enclosing namespace，而inner的namespace則是local namespace。\n",
    "\n",
    "### 範例\n",
    "\n",
    "以下範例靈感主要來自於[Namespaces and Scope in Python – Real Python](https://realpython.com/python-namespaces-scope/#variable-scope)。\n",
    "\n",
    "**範例一**\n",
    "\n",
    "```x``` 定義在```f()```和```g()```的外面，所以x定義在global namespace中。"
   ]
  },
  {
   "cell_type": "code",
   "execution_count": 17,
   "id": "a640e71f",
   "metadata": {},
   "outputs": [
    {
     "name": "stdout",
     "output_type": "stream",
     "text": [
      "global\n"
     ]
    }
   ],
   "source": [
    "x = 'global'\n",
    "\n",
    "def f():\n",
    "    def g():\n",
    "        print(x)\n",
    "    g()\n",
    "\n",
    "f()"
   ]
  },
  {
   "cell_type": "markdown",
   "id": "09ec1a9a",
   "metadata": {},
   "source": [
    "**範例二**\n",
    "\n",
    "```x``` 定義了兩次，一個定義在global namespace中，另一個則是在f()裡面，所以是enclosing namespace。"
   ]
  },
  {
   "cell_type": "code",
   "execution_count": 18,
   "id": "29e039ad",
   "metadata": {},
   "outputs": [
    {
     "name": "stdout",
     "output_type": "stream",
     "text": [
      "enclosing\n"
     ]
    }
   ],
   "source": [
    "x = 'global'\n",
    "\n",
    "def f():\n",
    "    x = 'enclosing'\n",
    "\n",
    "    def g():\n",
    "        print(x)\n",
    "    g()\n",
    "\n",
    "f()"
   ]
  },
  {
   "cell_type": "markdown",
   "id": "9fa61919",
   "metadata": {},
   "source": [
    "**範例三**\n",
    "\n",
    "```x``` 定義了三次，一個在global namespace、一個在enclosing namespace，最後一個則是在g()裡面，所以是local namespace。"
   ]
  },
  {
   "cell_type": "code",
   "execution_count": 19,
   "id": "66da6bed",
   "metadata": {},
   "outputs": [
    {
     "name": "stdout",
     "output_type": "stream",
     "text": [
      "local\n"
     ]
    }
   ],
   "source": [
    "x = 'global'\n",
    "\n",
    "def f():\n",
    "    x = 'enclosing'\n",
    "\n",
    "    def g():\n",
    "        x = 'local'\n",
    "        print(x)\n",
    "    g()\n",
    "\n",
    "f()"
   ]
  },
  {
   "cell_type": "markdown",
   "id": "2045fc99",
   "metadata": {},
   "source": [
    "**範例四**\n",
    "\n",
    "無法修改超出名稱空間範圍的變數。 \n",
    "\n",
    "例如我們定義了一個revise_x的function，裡面重新對x賦值，但這邊的賦值行為只在local namespace中生效，並不會影響到global namespace。"
   ]
  },
  {
   "cell_type": "code",
   "execution_count": 20,
   "id": "d7df38be",
   "metadata": {},
   "outputs": [
    {
     "name": "stdout",
     "output_type": "stream",
     "text": [
      "2\n",
      "1\n"
     ]
    }
   ],
   "source": [
    "x = 1\n",
    "\n",
    "def revise_x():\n",
    "    x = 2\n",
    "    print(x)\n",
    "\n",
    "revise_x()\n",
    "print(x)"
   ]
  },
  {
   "cell_type": "markdown",
   "id": "4b55560f",
   "metadata": {},
   "source": [
    "**範例五**\n",
    "\n",
    "同樣地，在雙層的function中也是一樣的概念，裡面那層的賦值行為並不會影響到外面。"
   ]
  },
  {
   "cell_type": "code",
   "execution_count": 21,
   "id": "2c5e5ae2",
   "metadata": {},
   "outputs": [
    {
     "name": "stdout",
     "output_type": "stream",
     "text": [
      "local: 3\n",
      "enclosing: 2\n",
      "global: 1\n"
     ]
    }
   ],
   "source": [
    "x = 1\n",
    "\n",
    "def revise_x_outer():\n",
    "    x = 2\n",
    "\n",
    "    def revise_x_inner():\n",
    "        x = 3\n",
    "        print('local:', x)\n",
    "\n",
    "    revise_x_inner()\n",
    "    print('enclosing:', x)\n",
    "\n",
    "revise_x_outer()\n",
    "print('global:', x)"
   ]
  },
  {
   "cell_type": "markdown",
   "id": "2b48a419",
   "metadata": {},
   "source": [
    "### 統整\n",
    "\n",
    "在取用變數時，python會從local → enclosing → global → build-in逐層搜尋變數名稱。\n",
    "\n",
    "如果變數名稱都搜尋不到的話，就會丟出```NameError```，說明變數並不存在。\n",
    "\n",
    "在修改變數時，變數只在local namespace中作用，並不會影響到外面的namespace。\n",
    "\n",
    "參考：\n",
    "\n",
    "[Namespaces and Scope in Python – Real Python](https://realpython.com/python-namespaces-scope/)"
   ]
  }
 ],
 "metadata": {
  "jupytext": {
   "formats": "md:myst",
   "text_representation": {
    "extension": ".md",
    "format_name": "myst",
    "format_version": 0.13,
    "jupytext_version": "1.16.0"
   }
  },
  "kernelspec": {
   "display_name": "Python 3",
   "language": "python",
   "name": "python3"
  },
  "language_info": {
   "codemirror_mode": {
    "name": "ipython",
    "version": 3
   },
   "file_extension": ".py",
   "mimetype": "text/x-python",
   "name": "python",
   "nbconvert_exporter": "python",
   "pygments_lexer": "ipython3",
   "version": "3.11.0"
  },
  "source_map": [
   13,
   29,
   36,
   40,
   44,
   50,
   54,
   58,
   62,
   68,
   75,
   79,
   83,
   89,
   94,
   102,
   115,
   119,
   126,
   130,
   132,
   138,
   140,
   144,
   159,
   163,
   170,
   174,
   176,
   201,
   203,
   221,
   233,
   249,
   258,
   264,
   275,
   281,
   293,
   301,
   310,
   316,
   331
  ]
 },
 "nbformat": 4,
 "nbformat_minor": 5
}