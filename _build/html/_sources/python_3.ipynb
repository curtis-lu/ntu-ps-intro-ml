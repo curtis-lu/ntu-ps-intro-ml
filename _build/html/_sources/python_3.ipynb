{
 "cells": [
  {
   "cell_type": "markdown",
   "id": "1b0274cf",
   "metadata": {},
   "source": [
    "# 3.資料型態：進階主題\n",
    "\n",
    "## 資料型別的可變與不可變\n",
    "\n",
    "之前講到在python中所有資料都是物件，而變數是物件的標籤。(請參考：[0.資料型態：bool, int, float, str]。)\n",
    "\n",
    "我們將資料賦值到一個變數的這個過程就叫做**實例化(initialization)**。\n",
    "例如：\n",
    "\n",
    "```\n",
    "pi = 3.1415926\n",
    "```\n",
    "\n",
    "我們把一個float物件實例化為pi這個變數，並把3.1415926賦值給該變數。\n",
    "而所謂資料型態的可變或不可變，就是指當資料實例化後，它的值能不能夠被改變。\n",
    "\n",
    "**資料型態與是否可變**\n",
    "\n",
    "| type | example | immutable |\n",
    "| --- | --- | --- |\n",
    "| bool | True, False | immutable |\n",
    "| int | 42, 19, 112 | immutable |\n",
    "| float | 3.14, 0.13 | immutable |\n",
    "| str | 'Hi', \"Hello\", '''Bye!''', \"\"\"Bye!\"\"\" | immutable |\n",
    "| list | ['a', 'b', 'c', 'd', 'a'] | mutable |\n",
    "| tuple | ('a', 'b') | immutable |\n",
    "| dict | {'a': 1, 'b': 2} | mutable |\n",
    "| set | {'a', 'b', 'c'} | mutable |\n",
    "\n",
    "**可變的資料型態**"
   ]
  },
  {
   "cell_type": "code",
   "execution_count": 1,
   "id": "67f9472c",
   "metadata": {},
   "outputs": [
    {
     "name": "stdout",
     "output_type": "stream",
     "text": [
      "['a', 2, 3]\n"
     ]
    }
   ],
   "source": [
    "a_list = [1, 2, 3]\n",
    "a_list[0] = 'a'\n",
    "\n",
    "print(a_list)"
   ]
  },
  {
   "cell_type": "markdown",
   "id": "1a8d76c1",
   "metadata": {},
   "source": [
    "**不可變的資料型態**"
   ]
  },
  {
   "cell_type": "code",
   "execution_count": 2,
   "id": "ed833e94",
   "metadata": {},
   "outputs": [
    {
     "ename": "TypeError",
     "evalue": "'tuple' object does not support item assignment",
     "output_type": "error",
     "traceback": [
      "\u001b[0;31m---------------------------------------------------------------------------\u001b[0m",
      "\u001b[0;31mTypeError\u001b[0m                                 Traceback (most recent call last)",
      "Cell \u001b[0;32mIn[2], line 3\u001b[0m\n\u001b[1;32m      1\u001b[0m a_tuple \u001b[38;5;241m=\u001b[39m (\u001b[38;5;241m1\u001b[39m, \u001b[38;5;241m2\u001b[39m, \u001b[38;5;241m3\u001b[39m)\n\u001b[0;32m----> 3\u001b[0m \u001b[43ma_tuple\u001b[49m\u001b[43m[\u001b[49m\u001b[38;5;241;43m0\u001b[39;49m\u001b[43m]\u001b[49m \u001b[38;5;241m=\u001b[39m \u001b[38;5;124m'\u001b[39m\u001b[38;5;124ma\u001b[39m\u001b[38;5;124m'\u001b[39m \u001b[38;5;66;03m# tuple為不可變的資料型態\u001b[39;00m\n",
      "\u001b[0;31mTypeError\u001b[0m: 'tuple' object does not support item assignment"
     ]
    }
   ],
   "source": [
    "a_tuple = (1, 2, 3)\n",
    "\n",
    "a_tuple[0] = 'a' # tuple為不可變的資料型態"
   ]
  },
  {
   "cell_type": "markdown",
   "id": "7c12da67",
   "metadata": {},
   "source": [
    "知道資料型態可不可變，so what?\n",
    "事實上這決定了一些程式的行為。\n",
    "\n",
    "請先看以下這段code："
   ]
  },
  {
   "cell_type": "code",
   "execution_count": 3,
   "id": "c25f884f",
   "metadata": {},
   "outputs": [],
   "source": [
    "x = [1, 2, 3]\n",
    "\n",
    "y = x\n",
    "\n",
    "x[0] = 'a'"
   ]
  },
  {
   "cell_type": "markdown",
   "id": "1aaa18ea",
   "metadata": {},
   "source": [
    "我們知道list是可變的，請猜猜看print(y)的話會輸出什麼？\n",
    "答案是："
   ]
  },
  {
   "cell_type": "code",
   "execution_count": 4,
   "id": "b5faada5",
   "metadata": {},
   "outputs": [
    {
     "name": "stdout",
     "output_type": "stream",
     "text": [
      "['a', 2, 3]\n"
     ]
    }
   ],
   "source": [
    "print(y)"
   ]
  },
  {
   "cell_type": "markdown",
   "id": "3aaa8b3a",
   "metadata": {},
   "source": [
    "發現到雖然我們改變的是x，但y的內容也一併被改變了！\n",
    "\n",
    "這是因為x和y都僅僅是一個list物件的標籤而已，\n",
    "x和y都指向一開始值為[1,2,3]的list物件，\n",
    "而list是可變的，\n",
    "所以當我們改變list的內容時，\n",
    "另一個貼著這個list的標籤y也就被影響了。"
   ]
  },
  {
   "cell_type": "code",
   "execution_count": 5,
   "id": "e1e98d50",
   "metadata": {},
   "outputs": [
    {
     "name": "stdout",
     "output_type": "stream",
     "text": [
      "4570078784\n",
      "4570078784\n"
     ]
    }
   ],
   "source": [
    "# x 和 y 指向同一個物件。\n",
    "\n",
    "print(id(x))\n",
    "print(id(y))"
   ]
  },
  {
   "cell_type": "markdown",
   "id": "5df3f8ee",
   "metadata": {},
   "source": [
    "最後，list是可變的，而tuple是不可變的，\n",
    "\n",
    "這也是為什麼對list做以下操作是合法的，對tuple卻不行。"
   ]
  },
  {
   "cell_type": "code",
   "execution_count": 6,
   "id": "45fca48f",
   "metadata": {},
   "outputs": [],
   "source": [
    "a_list = [1, 2, 3]\n",
    "\n",
    "# indexing後賦值\n",
    "a_list[0] ='a'\n",
    "a_list.append('d')\n"
   ]
  },
  {
   "cell_type": "markdown",
   "id": "e23ae78b",
   "metadata": {},
   "source": [
    "## 日期與時間\n",
    "\n",
    "python內建的時間與日期處理，需要引入一個datetime”模組”。\n",
    "所謂模組可以想像是一個函式庫，讓我們可以快速取用各種工具，就不用「自己造輪子了」。\n",
    "\n",
    "要取用函式庫需要先做引入(import)的動作："
   ]
  },
  {
   "cell_type": "code",
   "execution_count": 7,
   "id": "1f5a1d7a",
   "metadata": {},
   "outputs": [],
   "source": [
    "from datetime import datetime"
   ]
  },
  {
   "cell_type": "markdown",
   "id": "b050d274",
   "metadata": {},
   "source": [
    "以下語法會產生出一個datetime物件指出現在的時間，該物件儲存了年月日時分秒與毫秒。"
   ]
  },
  {
   "cell_type": "code",
   "execution_count": 8,
   "id": "df7dbd54",
   "metadata": {},
   "outputs": [
    {
     "name": "stdout",
     "output_type": "stream",
     "text": [
      "2024-01-13 12:39:06.820368\n"
     ]
    }
   ],
   "source": [
    "today = datetime.now()\n",
    "\n",
    "type(today)\n",
    "print(today)"
   ]
  },
  {
   "cell_type": "markdown",
   "id": "427401e1",
   "metadata": {},
   "source": [
    "datetime物件的相關操作方法："
   ]
  },
  {
   "cell_type": "code",
   "execution_count": 9,
   "id": "f44df05b",
   "metadata": {},
   "outputs": [
    {
     "name": "stdout",
     "output_type": "stream",
     "text": [
      "2024\n",
      "1\n",
      "13\n",
      "12\n",
      "39\n",
      "6\n",
      "5\n"
     ]
    }
   ],
   "source": [
    "print(today.year)\n",
    "print(today.month)\n",
    "print(today.day)\n",
    "print(today.hour)\n",
    "print(today.minute)\n",
    "print(today.second)\n",
    "print(today.weekday())"
   ]
  },
  {
   "cell_type": "markdown",
   "id": "fd2fbe5a",
   "metadata": {},
   "source": [
    "其他建立datetime物件的方法："
   ]
  },
  {
   "cell_type": "code",
   "execution_count": 10,
   "id": "98af3195",
   "metadata": {},
   "outputs": [
    {
     "name": "stdout",
     "output_type": "stream",
     "text": [
      "2022-11-30 00:00:00\n"
     ]
    }
   ],
   "source": [
    "birthday = datetime(2022, 11, 30)\n",
    "print(birthday)"
   ]
  },
  {
   "cell_type": "markdown",
   "id": "15b56403",
   "metadata": {},
   "source": [
    "日期的運算需要利用datetime模組中另一個物件timedelta："
   ]
  },
  {
   "cell_type": "code",
   "execution_count": 11,
   "id": "3d281c94",
   "metadata": {},
   "outputs": [
    {
     "name": "stdout",
     "output_type": "stream",
     "text": [
      "2024-07-30 00:00:00\n"
     ]
    }
   ],
   "source": [
    "from datetime import datetime, timedelta\n",
    "\n",
    "sign_on_dt = datetime(2024, 2, 1)\n",
    "\n",
    "save_dt = sign_on_dt  + timedelta(days=180)\n",
    "\n",
    "print(save_dt)"
   ]
  },
  {
   "cell_type": "markdown",
   "id": "3e688639",
   "metadata": {},
   "source": [
    "### 文字轉日期\n",
    "\n",
    "常用的操作是把文字字串轉成日期型態再去做運算"
   ]
  },
  {
   "cell_type": "code",
   "execution_count": 12,
   "id": "e01af7f8",
   "metadata": {},
   "outputs": [
    {
     "name": "stdout",
     "output_type": "stream",
     "text": [
      "1301\n"
     ]
    }
   ],
   "source": [
    "today = '20231212'\n",
    "the_big_day = '20200520'\n",
    "\n",
    "today_dt = datetime.strptime(today, '%Y%m%d')\n",
    "the_big_day_dt = datetime.strptime(the_big_day , '%Y%m%d')\n",
    "\n",
    "days_together = today_dt - the_big_day_dt \n",
    "\n",
    "type(days_together)\n",
    "print(days_together.days)"
   ]
  },
  {
   "cell_type": "markdown",
   "id": "65c44c6f",
   "metadata": {},
   "source": [
    "### 日期轉文字"
   ]
  },
  {
   "cell_type": "code",
   "execution_count": 13,
   "id": "5ad3d7d5",
   "metadata": {},
   "outputs": [
    {
     "name": "stdout",
     "output_type": "stream",
     "text": [
      "20240113\n"
     ]
    }
   ],
   "source": [
    "today = datetime.now()\n",
    "\n",
    "print(today.strftime('%Y%m%d'))\n"
   ]
  },
  {
   "cell_type": "markdown",
   "id": "384f41e6",
   "metadata": {},
   "source": [
    "### 格式列表\n",
    "\n",
    "| format | 描述 | 例子 |\n",
    "| --- | --- | --- |\n",
    "| %y | 補零后，以十進制數表示的，不帶世纪的年份。 | 00, 01, ..., 99 |\n",
    "| %Y | 十進制數表示的帶世纪的年份。 | 0001, 0002, ..., 2013, 2014, ..., 9998, 9999 |\n",
    "| %m | 以零填充的並以十進位數字表示的月份。 | 01, 02, ..., 12 |\n",
    "| %d | 補零后，以十進制數顯示的月份中的一天。 | 01, 02, ..., 31 |\n",
    "| %H | 以補零后的十進制数表示的小時（24 小時制）。 | 00, 01, ..., 23 |\n",
    "| %I | 以補零后的十進制數表示的小時（12 小時制）。 | 01, 02, ..., 12 |\n",
    "| %M | 補零后，以十進制數顯示的分鐘。 | 00, 01, ..., 59 |\n",
    "| %S | 補零后，以十進制數顯示的秒。 | 00, 01, ..., 59 |\n",
    "| %w | 以十進制數顯示的工作日，其中0表示星期日，6表示星期六。 | 0, 1, ..., 6 |\n",
    "| %W | 以補零后的十進制數表示的一年中的週序號（星期一作為每週的第一天）。 在新的一年中第一個星期一之前的所有日子都被視為是在第 0 週。 | 00, 01, ..., 53 |"
   ]
  }
 ],
 "metadata": {
  "jupytext": {
   "formats": "md:myst",
   "text_representation": {
    "extension": ".md",
    "format_name": "myst",
    "format_version": 0.13,
    "jupytext_version": "1.16.0"
   }
  },
  "kernelspec": {
   "display_name": "Python 3",
   "language": "python",
   "name": "python3"
  },
  "language_info": {
   "codemirror_mode": {
    "name": "ipython",
    "version": 3
   },
   "file_extension": ".py",
   "mimetype": "text/x-python",
   "name": "python",
   "nbconvert_exporter": "python",
   "pygments_lexer": "ipython3",
   "version": "3.11.0"
  },
  "source_map": [
   13,
   46,
   51,
   55,
   59,
   66,
   72,
   77,
   79,
   89,
   94,
   100,
   107,
   116,
   118,
   122,
   127,
   131,
   139,
   143,
   146,
   150,
   158,
   164,
   175,
   179,
   184
  ]
 },
 "nbformat": 4,
 "nbformat_minor": 5
}