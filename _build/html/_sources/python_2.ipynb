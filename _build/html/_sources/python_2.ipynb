{
 "cells": [
  {
   "cell_type": "markdown",
   "id": "869d9fcb",
   "metadata": {},
   "source": [
    "# 2.資料型態：dict與set\n",
    "\n",
    "## 群集資料型別：dict\n",
    "\n",
    "dict是dictionary的略稱，字典這種資料型態的組成是一群成對的key與value。\n",
    "\n",
    "key在字典裡不能重複，通常會使用字串或tuple來當作key。至於value則沒有什麼限制。\n",
    "\n",
    "dict跟後面等等會介紹的set一樣，都是沒有順序的，不能使用切片。\n",
    "\n",
    "**建立dict**"
   ]
  },
  {
   "cell_type": "code",
   "execution_count": 1,
   "id": "c8625e95",
   "metadata": {},
   "outputs": [],
   "source": [
    "a_dict = {'a': 1, 'b': 2, 'c':3}\n",
    "a_dict = dict(a=1, b=2, c=3)"
   ]
  },
  {
   "cell_type": "markdown",
   "id": "d8c4bb24",
   "metadata": {},
   "source": [
    "### dict的基本用法\n",
    "\n",
    " **dict的基本用法**"
   ]
  },
  {
   "cell_type": "code",
   "execution_count": 2,
   "id": "7af95d1c",
   "metadata": {},
   "outputs": [
    {
     "data": {
      "text/plain": [
       "1"
      ]
     },
     "execution_count": 2,
     "metadata": {},
     "output_type": "execute_result"
    }
   ],
   "source": [
    "a_dict['a']"
   ]
  },
  {
   "cell_type": "code",
   "execution_count": 3,
   "id": "85b3841f",
   "metadata": {},
   "outputs": [
    {
     "data": {
      "text/plain": [
       "1"
      ]
     },
     "execution_count": 3,
     "metadata": {},
     "output_type": "execute_result"
    }
   ],
   "source": [
    "a_dict.get('a')"
   ]
  },
  {
   "cell_type": "code",
   "execution_count": 4,
   "id": "937b1e59",
   "metadata": {},
   "outputs": [
    {
     "ename": "KeyError",
     "evalue": "'d'",
     "output_type": "error",
     "traceback": [
      "\u001b[0;31m---------------------------------------------------------------------------\u001b[0m",
      "\u001b[0;31mKeyError\u001b[0m                                  Traceback (most recent call last)",
      "Cell \u001b[0;32mIn[4], line 1\u001b[0m\n\u001b[0;32m----> 1\u001b[0m \u001b[43ma_dict\u001b[49m\u001b[43m[\u001b[49m\u001b[38;5;124;43m'\u001b[39;49m\u001b[38;5;124;43md\u001b[39;49m\u001b[38;5;124;43m'\u001b[39;49m\u001b[43m]\u001b[49m\n",
      "\u001b[0;31mKeyError\u001b[0m: 'd'"
     ]
    }
   ],
   "source": [
    "a_dict['d']"
   ]
  },
  {
   "cell_type": "code",
   "execution_count": 5,
   "id": "c1ac164a",
   "metadata": {},
   "outputs": [],
   "source": [
    "a_dict.get('d') # 不會回傳任何東西"
   ]
  },
  {
   "cell_type": "code",
   "execution_count": 6,
   "id": "cb8fe9f2",
   "metadata": {},
   "outputs": [
    {
     "data": {
      "text/plain": [
       "'missing'"
      ]
     },
     "execution_count": 6,
     "metadata": {},
     "output_type": "execute_result"
    }
   ],
   "source": [
    "a_dict.get('d', 'missing')"
   ]
  },
  {
   "cell_type": "markdown",
   "id": "3b8a73fc",
   "metadata": {},
   "source": [
    "### dict 新增與刪除項目\n",
    "\n",
    "**dict新增項目**"
   ]
  },
  {
   "cell_type": "code",
   "execution_count": 7,
   "id": "52482fcc",
   "metadata": {},
   "outputs": [
    {
     "name": "stdout",
     "output_type": "stream",
     "text": [
      "{'a': 1, 'b': 2, 'c': 3, 'd': 4}\n",
      "{'a': 1, 'b': 2, 'c': 3, 'd': 4, 'e': 5}\n"
     ]
    }
   ],
   "source": [
    "a_dict = {'a': 1, 'b': 2, 'c':3}\n",
    "\n",
    "a_dict['d'] = 4\n",
    "print(a_dict)\n",
    "\n",
    "a_dict.update({'e': 5})\n",
    "print(a_dict)"
   ]
  },
  {
   "cell_type": "markdown",
   "id": "9b964ba6",
   "metadata": {},
   "source": [
    "**dict刪除項目**"
   ]
  },
  {
   "cell_type": "code",
   "execution_count": 8,
   "id": "2fbac559",
   "metadata": {},
   "outputs": [],
   "source": [
    "a_dict = {'a': 1, 'b': 2, 'c':3}"
   ]
  },
  {
   "cell_type": "markdown",
   "id": "be079808",
   "metadata": {},
   "source": [
    "方法1"
   ]
  },
  {
   "cell_type": "code",
   "execution_count": 9,
   "id": "c3bcff26",
   "metadata": {},
   "outputs": [
    {
     "data": {
      "text/plain": [
       "1"
      ]
     },
     "execution_count": 9,
     "metadata": {},
     "output_type": "execute_result"
    }
   ],
   "source": [
    "a_dict.pop('a')"
   ]
  },
  {
   "cell_type": "code",
   "execution_count": 10,
   "id": "50c52882",
   "metadata": {},
   "outputs": [
    {
     "name": "stdout",
     "output_type": "stream",
     "text": [
      "{'b': 2, 'c': 3}\n"
     ]
    }
   ],
   "source": [
    "print(a_dict)"
   ]
  },
  {
   "cell_type": "code",
   "execution_count": 11,
   "id": "7a918eaa",
   "metadata": {},
   "outputs": [
    {
     "ename": "KeyError",
     "evalue": "'d'",
     "output_type": "error",
     "traceback": [
      "\u001b[0;31m---------------------------------------------------------------------------\u001b[0m",
      "\u001b[0;31mKeyError\u001b[0m                                  Traceback (most recent call last)",
      "Cell \u001b[0;32mIn[11], line 1\u001b[0m\n\u001b[0;32m----> 1\u001b[0m \u001b[43ma_dict\u001b[49m\u001b[38;5;241;43m.\u001b[39;49m\u001b[43mpop\u001b[49m\u001b[43m(\u001b[49m\u001b[38;5;124;43m'\u001b[39;49m\u001b[38;5;124;43md\u001b[39;49m\u001b[38;5;124;43m'\u001b[39;49m\u001b[43m)\u001b[49m\n",
      "\u001b[0;31mKeyError\u001b[0m: 'd'"
     ]
    }
   ],
   "source": [
    "a_dict.pop('d')"
   ]
  },
  {
   "cell_type": "code",
   "execution_count": 12,
   "id": "60cf8be9",
   "metadata": {},
   "outputs": [
    {
     "data": {
      "text/plain": [
       "'Nothing happened'"
      ]
     },
     "execution_count": 12,
     "metadata": {},
     "output_type": "execute_result"
    }
   ],
   "source": [
    "a_dict.pop('d', 'Nothing happened')"
   ]
  },
  {
   "cell_type": "code",
   "execution_count": 13,
   "id": "0ca2bed2",
   "metadata": {},
   "outputs": [
    {
     "name": "stdout",
     "output_type": "stream",
     "text": [
      "{'b': 2, 'c': 3}\n"
     ]
    }
   ],
   "source": [
    "print(a_dict)"
   ]
  },
  {
   "cell_type": "markdown",
   "id": "ec4caf7b",
   "metadata": {},
   "source": [
    "方法2"
   ]
  },
  {
   "cell_type": "code",
   "execution_count": 14,
   "id": "b83800b2",
   "metadata": {},
   "outputs": [
    {
     "name": "stdout",
     "output_type": "stream",
     "text": [
      "{'c': 3}\n"
     ]
    }
   ],
   "source": [
    "del a_dict['b']\n",
    "\n",
    "print(a_dict)"
   ]
  },
  {
   "cell_type": "markdown",
   "id": "977bf572",
   "metadata": {},
   "source": [
    "**dict中的key值不能重複**\n",
    "\n",
    "當要新增項目時，dict中對應的key值若已經存在，會以新的為準。"
   ]
  },
  {
   "cell_type": "code",
   "execution_count": 15,
   "id": "65a76589",
   "metadata": {},
   "outputs": [
    {
     "name": "stdout",
     "output_type": "stream",
     "text": [
      "{'a': 1, 'b': 'ni', 'c': 'san', 'd': 'shi'}\n"
     ]
    }
   ],
   "source": [
    "a_dict = {'a': 1, 'b': 2, 'c':3}\n",
    "b_dict = {'b': 'ni', 'c': 'san', 'd': 'shi'}\n",
    "\n",
    "a_dict.update(b_dict)\n",
    "print(a_dict)"
   ]
  },
  {
   "cell_type": "markdown",
   "id": "e631c594",
   "metadata": {},
   "source": [
    "### dict 操作\n",
    "\n",
    "**取得dict的內容**"
   ]
  },
  {
   "cell_type": "code",
   "execution_count": 16,
   "id": "ea2a2445",
   "metadata": {},
   "outputs": [],
   "source": [
    "a_dict = {'a': 1, 'b': 2, 'c':3}"
   ]
  },
  {
   "cell_type": "code",
   "execution_count": 17,
   "id": "b7e8d370",
   "metadata": {},
   "outputs": [
    {
     "data": {
      "text/plain": [
       "['a', 'b', 'c']"
      ]
     },
     "execution_count": 17,
     "metadata": {},
     "output_type": "execute_result"
    }
   ],
   "source": [
    "# 取得key的list\n",
    "list(a_dict.keys())"
   ]
  },
  {
   "cell_type": "code",
   "execution_count": 18,
   "id": "823cc6d0",
   "metadata": {},
   "outputs": [
    {
     "data": {
      "text/plain": [
       "[1, 2, 3]"
      ]
     },
     "execution_count": 18,
     "metadata": {},
     "output_type": "execute_result"
    }
   ],
   "source": [
    "# 取得value的list\n",
    "list(a_dict.values())"
   ]
  },
  {
   "cell_type": "code",
   "execution_count": 19,
   "id": "ad40d456",
   "metadata": {},
   "outputs": [
    {
     "data": {
      "text/plain": [
       "[('a', 1), ('b', 2), ('c', 3)]"
      ]
     },
     "execution_count": 19,
     "metadata": {},
     "output_type": "execute_result"
    }
   ],
   "source": [
    "# 取得key跟value的list，注意到其中是一個一個tuple\n",
    "list(a_dict.items())"
   ]
  },
  {
   "cell_type": "markdown",
   "id": "d13b0007",
   "metadata": {},
   "source": [
    "**取得dict長度**"
   ]
  },
  {
   "cell_type": "code",
   "execution_count": 20,
   "id": "0afa0fef",
   "metadata": {},
   "outputs": [
    {
     "data": {
      "text/plain": [
       "3"
      ]
     },
     "execution_count": 20,
     "metadata": {},
     "output_type": "execute_result"
    }
   ],
   "source": [
    "a_dict = {'a': 1, 'b': 2, 'c':3}\n",
    "\n",
    "# 長度指的是key的數量\n",
    "len(a_dict)"
   ]
  },
  {
   "cell_type": "markdown",
   "id": "5d8d05c1",
   "metadata": {},
   "source": [
    "**檢查key是否存在**"
   ]
  },
  {
   "cell_type": "code",
   "execution_count": 21,
   "id": "809be8bf",
   "metadata": {},
   "outputs": [
    {
     "data": {
      "text/plain": [
       "True"
      ]
     },
     "execution_count": 21,
     "metadata": {},
     "output_type": "execute_result"
    }
   ],
   "source": [
    "a_dict = {'a': 1, 'b': 2, 'c':3}\n",
    "\n",
    "'c' in a_dict"
   ]
  },
  {
   "cell_type": "markdown",
   "id": "740abe2d",
   "metadata": {},
   "source": [
    "**用{\\*\\*a, \\*\\*b}結合dict**"
   ]
  },
  {
   "cell_type": "code",
   "execution_count": 22,
   "id": "5e0cc0eb",
   "metadata": {},
   "outputs": [
    {
     "name": "stdout",
     "output_type": "stream",
     "text": [
      "{'a': 'apple', 'b': 'beach', 'c': 'cat', 'd': 'dog', 'e': 'egg', 'f': 'flower'}\n"
     ]
    }
   ],
   "source": [
    "dict_1 = {'a': 'apple', 'b': 'beach', 'c': 'cat'}\n",
    "dict_2 = {'d': 'dog', 'e': 'egg', 'f': 'flower'}\n",
    "\n",
    "dict_all = {**dict_1, **dict_2}\n",
    "print(dict_all)"
   ]
  },
  {
   "cell_type": "markdown",
   "id": "da2c9e16",
   "metadata": {},
   "source": [
    "## 群集資料型別：set\n",
    "\n",
    "set是具有不重複元素的一種資料型別。\n",
    "\n",
    "操作跟數學上的集合很像。\n",
    "\n",
    "set沒有順序的概念，因此不支援切片。\n",
    "\n",
    "**建立set**"
   ]
  },
  {
   "cell_type": "code",
   "execution_count": 23,
   "id": "88e257c4",
   "metadata": {},
   "outputs": [],
   "source": [
    "a = {1,2,3}\n",
    "a = set([1,2,3])"
   ]
  },
  {
   "cell_type": "markdown",
   "id": "459ebb45",
   "metadata": {},
   "source": [
    "### set元素操作\n",
    "\n",
    "**加入元素至set**"
   ]
  },
  {
   "cell_type": "code",
   "execution_count": 24,
   "id": "a03fd91e",
   "metadata": {},
   "outputs": [
    {
     "name": "stdout",
     "output_type": "stream",
     "text": [
      "{1, 2, 3, 4}\n"
     ]
    }
   ],
   "source": [
    "a = {1,2,3}\n",
    "a.add(4)\n",
    "print(a)"
   ]
  },
  {
   "cell_type": "markdown",
   "id": "498288b2",
   "metadata": {},
   "source": [
    ".add()已經存在的元素不會改變set。"
   ]
  },
  {
   "cell_type": "code",
   "execution_count": 25,
   "id": "33f573c8",
   "metadata": {},
   "outputs": [
    {
     "name": "stdout",
     "output_type": "stream",
     "text": [
      "{1, 2, 3, 4}\n"
     ]
    }
   ],
   "source": [
    "a.add(1)\n",
    "print(a)"
   ]
  },
  {
   "cell_type": "markdown",
   "id": "0ebaace2",
   "metadata": {},
   "source": [
    "**刪除set中的元素**"
   ]
  },
  {
   "cell_type": "code",
   "execution_count": 26,
   "id": "55369277",
   "metadata": {},
   "outputs": [
    {
     "name": "stdout",
     "output_type": "stream",
     "text": [
      "{2, 3}\n"
     ]
    }
   ],
   "source": [
    "a = {1,2,3}\n",
    "a.remove(1)\n",
    "\n",
    "print(a)"
   ]
  },
  {
   "cell_type": "markdown",
   "id": "3ac9d291",
   "metadata": {},
   "source": [
    "### set 操作\n",
    "\n",
    "**取得set的長度**"
   ]
  },
  {
   "cell_type": "code",
   "execution_count": 27,
   "id": "4142e81f",
   "metadata": {},
   "outputs": [
    {
     "data": {
      "text/plain": [
       "3"
      ]
     },
     "execution_count": 27,
     "metadata": {},
     "output_type": "execute_result"
    }
   ],
   "source": [
    "a = {1,2,3}\n",
    "\n",
    "len(a)"
   ]
  },
  {
   "cell_type": "markdown",
   "id": "b9b3a975",
   "metadata": {},
   "source": [
    "**set的運算**"
   ]
  },
  {
   "cell_type": "code",
   "execution_count": 28,
   "id": "ec25b432",
   "metadata": {},
   "outputs": [],
   "source": [
    "a = {1,2,3}\n",
    "b = {3,4,5}\n",
    "c = {1,2,3,4,5}"
   ]
  },
  {
   "cell_type": "markdown",
   "id": "0f2302d6",
   "metadata": {},
   "source": [
    "交集"
   ]
  },
  {
   "cell_type": "code",
   "execution_count": 29,
   "id": "ec2ca14c",
   "metadata": {},
   "outputs": [
    {
     "data": {
      "text/plain": [
       "{3}"
      ]
     },
     "execution_count": 29,
     "metadata": {},
     "output_type": "execute_result"
    }
   ],
   "source": [
    "a & b"
   ]
  },
  {
   "cell_type": "code",
   "execution_count": 30,
   "id": "caa90057",
   "metadata": {},
   "outputs": [
    {
     "data": {
      "text/plain": [
       "{3}"
      ]
     },
     "execution_count": 30,
     "metadata": {},
     "output_type": "execute_result"
    }
   ],
   "source": [
    "a.intersection(b)"
   ]
  },
  {
   "cell_type": "markdown",
   "id": "c75bf08f",
   "metadata": {},
   "source": [
    "聯集"
   ]
  },
  {
   "cell_type": "code",
   "execution_count": 31,
   "id": "651c5ce3",
   "metadata": {},
   "outputs": [
    {
     "data": {
      "text/plain": [
       "{1, 2, 3, 4, 5}"
      ]
     },
     "execution_count": 31,
     "metadata": {},
     "output_type": "execute_result"
    }
   ],
   "source": [
    "a | b"
   ]
  },
  {
   "cell_type": "code",
   "execution_count": 32,
   "id": "fde0833c",
   "metadata": {},
   "outputs": [
    {
     "data": {
      "text/plain": [
       "{1, 2, 3, 4, 5}"
      ]
     },
     "execution_count": 32,
     "metadata": {},
     "output_type": "execute_result"
    }
   ],
   "source": [
    "a.union(b)"
   ]
  },
  {
   "cell_type": "markdown",
   "id": "078971ad",
   "metadata": {},
   "source": [
    "差集\n",
    "\n",
    "取差集的順序會有影響。"
   ]
  },
  {
   "cell_type": "code",
   "execution_count": 33,
   "id": "6e1dddd1",
   "metadata": {},
   "outputs": [
    {
     "data": {
      "text/plain": [
       "{1, 2}"
      ]
     },
     "execution_count": 33,
     "metadata": {},
     "output_type": "execute_result"
    }
   ],
   "source": [
    "a - b"
   ]
  },
  {
   "cell_type": "code",
   "execution_count": 34,
   "id": "6365e90c",
   "metadata": {},
   "outputs": [
    {
     "data": {
      "text/plain": [
       "{1, 2}"
      ]
     },
     "execution_count": 34,
     "metadata": {},
     "output_type": "execute_result"
    }
   ],
   "source": [
    "a.difference(b)"
   ]
  },
  {
   "cell_type": "code",
   "execution_count": 35,
   "id": "9fc8f41a",
   "metadata": {},
   "outputs": [
    {
     "data": {
      "text/plain": [
       "{4, 5}"
      ]
     },
     "execution_count": 35,
     "metadata": {},
     "output_type": "execute_result"
    }
   ],
   "source": [
    "b - a"
   ]
  },
  {
   "cell_type": "code",
   "execution_count": 36,
   "id": "3b1a8605",
   "metadata": {},
   "outputs": [
    {
     "data": {
      "text/plain": [
       "{4, 5}"
      ]
     },
     "execution_count": 36,
     "metadata": {},
     "output_type": "execute_result"
    }
   ],
   "source": [
    "b.difference(a)"
   ]
  },
  {
   "cell_type": "markdown",
   "id": "dedeea28",
   "metadata": {},
   "source": [
    "取互斥的元素"
   ]
  },
  {
   "cell_type": "code",
   "execution_count": 37,
   "id": "152363cb",
   "metadata": {},
   "outputs": [
    {
     "data": {
      "text/plain": [
       "{1, 2, 4, 5}"
      ]
     },
     "execution_count": 37,
     "metadata": {},
     "output_type": "execute_result"
    }
   ],
   "source": [
    "a ^ b"
   ]
  },
  {
   "cell_type": "code",
   "execution_count": 38,
   "id": "394963d2",
   "metadata": {},
   "outputs": [
    {
     "data": {
      "text/plain": [
       "{1, 2, 4, 5}"
      ]
     },
     "execution_count": 38,
     "metadata": {},
     "output_type": "execute_result"
    }
   ],
   "source": [
    "a.symmetric_difference(b)"
   ]
  },
  {
   "cell_type": "markdown",
   "id": "fe19b1ab",
   "metadata": {},
   "source": [
    "判斷是否為子集合"
   ]
  },
  {
   "cell_type": "code",
   "execution_count": 39,
   "id": "43692b1a",
   "metadata": {},
   "outputs": [
    {
     "data": {
      "text/plain": [
       "False"
      ]
     },
     "execution_count": 39,
     "metadata": {},
     "output_type": "execute_result"
    }
   ],
   "source": [
    "a <= b"
   ]
  },
  {
   "cell_type": "code",
   "execution_count": 40,
   "id": "0562e823",
   "metadata": {},
   "outputs": [
    {
     "data": {
      "text/plain": [
       "False"
      ]
     },
     "execution_count": 40,
     "metadata": {},
     "output_type": "execute_result"
    }
   ],
   "source": [
    "a.issubset(b)"
   ]
  },
  {
   "cell_type": "markdown",
   "id": "9ec45234",
   "metadata": {},
   "source": [
    "判斷是否為真子集"
   ]
  },
  {
   "cell_type": "code",
   "execution_count": 41,
   "id": "f53aea00",
   "metadata": {},
   "outputs": [
    {
     "data": {
      "text/plain": [
       "False"
      ]
     },
     "execution_count": 41,
     "metadata": {},
     "output_type": "execute_result"
    }
   ],
   "source": [
    "a < b"
   ]
  },
  {
   "cell_type": "markdown",
   "id": "c2690581",
   "metadata": {},
   "source": [
    "判斷是否為超集合"
   ]
  },
  {
   "cell_type": "code",
   "execution_count": 42,
   "id": "737e85fe",
   "metadata": {},
   "outputs": [
    {
     "data": {
      "text/plain": [
       "False"
      ]
     },
     "execution_count": 42,
     "metadata": {},
     "output_type": "execute_result"
    }
   ],
   "source": [
    "a >= b"
   ]
  },
  {
   "cell_type": "code",
   "execution_count": 43,
   "id": "5abd941e",
   "metadata": {},
   "outputs": [
    {
     "ename": "AttributeError",
     "evalue": "'set' object has no attribute 'isiperset'",
     "output_type": "error",
     "traceback": [
      "\u001b[0;31m---------------------------------------------------------------------------\u001b[0m",
      "\u001b[0;31mAttributeError\u001b[0m                            Traceback (most recent call last)",
      "Cell \u001b[0;32mIn[43], line 1\u001b[0m\n\u001b[0;32m----> 1\u001b[0m \u001b[43ma\u001b[49m\u001b[38;5;241;43m.\u001b[39;49m\u001b[43misiperset\u001b[49m(b)\n",
      "\u001b[0;31mAttributeError\u001b[0m: 'set' object has no attribute 'isiperset'"
     ]
    }
   ],
   "source": [
    "a.isiperset(b)"
   ]
  },
  {
   "cell_type": "markdown",
   "id": "db4ce5c4",
   "metadata": {},
   "source": [
    "判斷是否為真超集"
   ]
  },
  {
   "cell_type": "code",
   "execution_count": 44,
   "id": "39700370",
   "metadata": {},
   "outputs": [
    {
     "data": {
      "text/plain": [
       "False"
      ]
     },
     "execution_count": 44,
     "metadata": {},
     "output_type": "execute_result"
    }
   ],
   "source": [
    "a > b"
   ]
  }
 ],
 "metadata": {
  "jupytext": {
   "formats": "md:myst",
   "text_representation": {
    "extension": ".md",
    "format_name": "myst",
    "format_version": 0.13,
    "jupytext_version": "1.16.0"
   }
  },
  "kernelspec": {
   "display_name": "Python 3",
   "language": "python",
   "name": "python3"
  },
  "language_info": {
   "codemirror_mode": {
    "name": "ipython",
    "version": 3
   },
   "file_extension": ".py",
   "mimetype": "text/x-python",
   "name": "python",
   "nbconvert_exporter": "python",
   "pygments_lexer": "ipython3",
   "version": "3.11.0"
  },
  "source_map": [
   13,
   27,
   30,
   36,
   40,
   44,
   48,
   52,
   54,
   60,
   68,
   72,
   74,
   78,
   82,
   86,
   90,
   94,
   96,
   100,
   104,
   110,
   116,
   122,
   126,
   131,
   136,
   139,
   143,
   148,
   152,
   156,
   160,
   166,
   178,
   181,
   187,
   191,
   194,
   197,
   201,
   206,
   212,
   216,
   220,
   224,
   228,
   232,
   234,
   238,
   242,
   244,
   250,
   254,
   258,
   262,
   264,
   268,
   272,
   274,
   278,
   282,
   284,
   288,
   290,
   294,
   298,
   300,
   304
  ]
 },
 "nbformat": 4,
 "nbformat_minor": 5
}