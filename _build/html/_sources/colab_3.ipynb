{
 "cells": [
  {
   "cell_type": "markdown",
   "metadata": {},
   "source": [
    "# Logistic Regression & classification metrics"
   ]
  },
  {
   "cell_type": "code",
   "execution_count": null,
   "metadata": {},
   "outputs": [],
   "source": [
    "import numpy as np\n",
    "import pandas as pd\n",
    "import plotly.graph_objects as go\n",
    "from sklearn.datasets import load_breast_cancer\n",
    "from sklearn.linear_model import LogisticRegression\n",
    "from sklearn.metrics import accuracy_score\n",
    "from sklearn.metrics import precision_score\n",
    "from sklearn.metrics import recall_score\n",
    "from sklearn.metrics import f1_score\n",
    "from sklearn.metrics import roc_auc_score\n",
    "from sklearn.metrics import average_precision_score\n",
    "from sklearn.metrics import confusion_matrix\n",
    "from sklearn.model_selection import train_test_split\n",
    "from sklearn.preprocessing import StandardScaler"
   ]
  },
  {
   "cell_type": "markdown",
   "metadata": {},
   "source": [
    "## Sigmoid function"
   ]
  },
  {
   "cell_type": "markdown",
   "metadata": {},
   "source": [
    "先簡單用圖形看一下 sigmoid function 與 logit 的關係。 \n",
    "\n",
    "看當我們使用 a + b * x 去 fit logit時，改變 a 的值，和改變 b 的值，分別對sigmoid function有什麼影響。"
   ]
  },
  {
   "cell_type": "code",
   "execution_count": null,
   "metadata": {},
   "outputs": [],
   "source": [
    "def sigmoid(logit: np.ndarray) -> np.ndarray:\n",
    "    \"\"\"\n",
    "    convert logit to probability\n",
    "\n",
    "    Args:\n",
    "        logit: A scalar, numpy array of any size.\n",
    "\n",
    "    Returns:\n",
    "        p: probability, with the same shape as logit\n",
    "    \"\"\"\n",
    "\n",
    "    p = 1/(1+np.exp(-logit))\n",
    "\n",
    "    return p"
   ]
  },
  {
   "cell_type": "code",
   "execution_count": null,
   "metadata": {},
   "outputs": [],
   "source": [
    "def logit(a, b, x):\n",
    "\n",
    "    return a + b * x"
   ]
  },
  {
   "cell_type": "markdown",
   "metadata": {},
   "source": [
    "### a 的影響"
   ]
  },
  {
   "cell_type": "markdown",
   "metadata": {},
   "source": [
    "利用numpy的linspace生成-10到10之間的300個資料點："
   ]
  },
  {
   "cell_type": "code",
   "execution_count": null,
   "metadata": {},
   "outputs": [],
   "source": [
    "x = np.linspace(-10, 10, 300)"
   ]
  },
  {
   "cell_type": "markdown",
   "metadata": {},
   "source": [
    "這邊繪圖使用的是plotly套件。"
   ]
  },
  {
   "cell_type": "code",
   "execution_count": null,
   "metadata": {},
   "outputs": [],
   "source": [
    "# Plot the sigmoid function\n",
    "fig = go.Figure()\n",
    "\n",
    "b = 1\n",
    "for a in [-1, 0, 1]:\n",
    "    fig.add_trace(go.Scatter(x=x, y=sigmoid(logit(a=a, b=b, x=x)), mode='markers', name=f'a={a}'))\n",
    "\n",
    "# Update layout\n",
    "fig.update_layout(\n",
    "    hovermode='y unified',\n",
    "    title=\"Sigmoid Plot\",\n",
    "    xaxis_title=\"x\",\n",
    "    yaxis_title=\"sigmoid(a + bx)\",\n",
    "    )\n",
    "\n",
    "fig.show()"
   ]
  },
  {
   "cell_type": "markdown",
   "metadata": {},
   "source": [
    "可以注意到 a 的影響是會讓sigmoid function左右移動。\n",
    "\n",
    "在這個例子中，當預測分類的門檻 = 0.5，若 a < 0，x的取值要大於0才會輸出預測分類為1；反之，若 a > 0 ，x的取值要小於0才會輸出預測分類為1。"
   ]
  },
  {
   "cell_type": "markdown",
   "metadata": {},
   "source": [
    "### b 的影響"
   ]
  },
  {
   "cell_type": "markdown",
   "metadata": {},
   "source": [
    "同樣生成300個資料點："
   ]
  },
  {
   "cell_type": "code",
   "execution_count": null,
   "metadata": {},
   "outputs": [],
   "source": [
    "x = np.linspace(-10, 10, 300)"
   ]
  },
  {
   "cell_type": "code",
   "execution_count": null,
   "metadata": {},
   "outputs": [],
   "source": [
    "# Plot the sigmoid function\n",
    "fig = go.Figure()\n",
    "\n",
    "a = 0\n",
    "for b in [-0.1, 0.3, 0.5, 1]:\n",
    "    fig.add_trace(go.Scatter(x=x, y=sigmoid(logit(a=a, b=b, x=x)), mode='markers', name=f'b={b}'))\n",
    "\n",
    "# Update layout\n",
    "fig.update_layout(\n",
    "    title=\"Sigmoid Plot\",\n",
    "    xaxis_title=\"x\",\n",
    "    yaxis_title=\"sigmoid(a + bx)\",\n",
    "    )\n",
    "\n",
    "fig.show()"
   ]
  },
  {
   "cell_type": "markdown",
   "metadata": {},
   "source": [
    "可以看到 b 會影響 sigmoid function S型的曲度。\n",
    "\n",
    "在這個例子中，當 x 接近0時，b 越大，輸出機率的變化越大。"
   ]
  },
  {
   "cell_type": "markdown",
   "metadata": {},
   "source": [
    "## Logistic Regression for classification"
   ]
  },
  {
   "cell_type": "markdown",
   "metadata": {},
   "source": [
    "本次使用scikit-learn 的 breast cancer dataset。\n",
    "\n",
    "該資料集的target紀錄的是腫瘤的分類，target=1為惡性(malignant)，target=0代表良性(benign)。\n",
    "\n",
    "因此是一個分類問題，我們先用logistic regression來訓練看看。"
   ]
  },
  {
   "cell_type": "markdown",
   "metadata": {},
   "source": [
    "首先一樣需讀入資料集。"
   ]
  },
  {
   "cell_type": "code",
   "execution_count": null,
   "metadata": {},
   "outputs": [],
   "source": [
    "# Load the breast cancer dataset\n",
    "cancer = load_breast_cancer()\n",
    "X, y = cancer.data, cancer.target"
   ]
  },
  {
   "cell_type": "markdown",
   "metadata": {},
   "source": [
    "觀察一下資料集發現feature有尺度差距過大的問題，這樣在做gradient descent的時候會比較沒有效率。\n",
    "\n",
    "所以應該要做feature scaling。"
   ]
  },
  {
   "cell_type": "code",
   "execution_count": null,
   "metadata": {},
   "outputs": [],
   "source": [
    "X.mean(axis=0)"
   ]
  },
  {
   "cell_type": "markdown",
   "metadata": {},
   "source": [
    "特別要注意的是，feature scaling必須在切割資料集之後才能執行。\n",
    "\n",
    "否則部分testing data的資訊會洩漏到training dataset之中。"
   ]
  },
  {
   "cell_type": "code",
   "execution_count": null,
   "metadata": {},
   "outputs": [],
   "source": [
    "X_train, X_test, y_train, y_test = train_test_split(X, y, test_size=0.2, random_state=42)"
   ]
  },
  {
   "cell_type": "markdown",
   "metadata": {},
   "source": [
    "借助scikit-learn的StandardScaler來做特徵的標準化。\n",
    "\n",
    "首先需要先初始化建立一個StandardScaler物件。\n",
    "\n",
    "注意我們是對training data做```.fit_transform()```，但對testing data是做```.transform()```。\n",
    "\n",
    "```.fit_transform()```代表同時做了 fit + transform 的動作，在這邊的意思是scaler物件會從資料中取得各特徵的平均值與標準差(fit)，然後才做標準化(transform)。\n",
    "\n",
    "```.transform()```，則是只做transform，在這邊的意思是利用scaler從training data中fit好的平均值與標準差來進行標準化。"
   ]
  },
  {
   "cell_type": "code",
   "execution_count": null,
   "metadata": {},
   "outputs": [],
   "source": [
    "scaler = StandardScaler()\n",
    "\n",
    "X_train_scaled = scaler.fit_transform(X_train)\n",
    "X_test_scaled = scaler.transform(X_test)\n"
   ]
  },
  {
   "cell_type": "markdown",
   "metadata": {},
   "source": [
    "建立logistic regression，方法跟之前的做法都很像。"
   ]
  },
  {
   "cell_type": "code",
   "execution_count": null,
   "metadata": {},
   "outputs": [],
   "source": [
    "# Initialize logistic regression model\n",
    "logreg = LogisticRegression()\n",
    "\n",
    "# Train the model on the scaled training data\n",
    "logreg.fit(X_train_scaled, y_train)"
   ]
  },
  {
   "cell_type": "markdown",
   "metadata": {},
   "source": [
    "使用testing data進行預測，檢驗模型表現。"
   ]
  },
  {
   "cell_type": "code",
   "execution_count": null,
   "metadata": {},
   "outputs": [],
   "source": [
    "# Predictions on the test set\n",
    "y_pred = logreg.predict(X_test_scaled)"
   ]
  },
  {
   "cell_type": "markdown",
   "metadata": {},
   "source": [
    "這邊輸出的是預測的分類，0代表預測為良性腫瘤，1代表預測為惡性腫瘤。分類的門檻預設就是0.5。"
   ]
  },
  {
   "cell_type": "code",
   "execution_count": null,
   "metadata": {},
   "outputs": [],
   "source": [
    "y_pred"
   ]
  },
  {
   "cell_type": "markdown",
   "metadata": {},
   "source": [
    "可以利用scikit-learn的```confusion_matrix()```計算confusion matrix。"
   ]
  },
  {
   "cell_type": "code",
   "execution_count": null,
   "metadata": {},
   "outputs": [],
   "source": [
    "# Generate the confusion matrix\n",
    "cm = confusion_matrix(y_test, y_pred)\n",
    "\n",
    "# Convert the confusion matrix array into a pandas DataFrame\n",
    "cm_df = pd.DataFrame(cm.T, index=['Predicted 0', 'Predicted 1'], columns=['Actual 0', 'Actual 1'])\n",
    "\n",
    "# Display the confusion matrix as a table\n",
    "print(\"Confusion Matrix:\")\n",
    "print(cm_df)"
   ]
  },
  {
   "cell_type": "markdown",
   "metadata": {},
   "source": [
    "一樣借助scikit-learn就可以計算各種分類問題的衡量指標。"
   ]
  },
  {
   "cell_type": "code",
   "execution_count": null,
   "metadata": {},
   "outputs": [],
   "source": [
    "# Calculate accuracy\n",
    "accuracy = accuracy_score(y_test, y_pred)\n",
    "\n",
    "# Calculate precision\n",
    "precision = precision_score(y_test, y_pred)\n",
    "\n",
    "# Calculate recall\n",
    "recall = recall_score(y_test, y_pred)\n",
    "\n",
    "# Calculate F1 score\n",
    "f1 = f1_score(y_test, y_pred)"
   ]
  },
  {
   "cell_type": "code",
   "execution_count": null,
   "metadata": {},
   "outputs": [],
   "source": [
    "# Print metrics\n",
    "print(\"Accuracy:\", accuracy_score(y_test, y_pred))\n",
    "print(\"Precision:\", precision)\n",
    "print(\"Recall:\", recall)\n",
    "print(\"F1 Score:\", f1)"
   ]
  },
  {
   "cell_type": "markdown",
   "metadata": {},
   "source": [
    "可以自行手動進行驗算。"
   ]
  },
  {
   "cell_type": "code",
   "execution_count": null,
   "metadata": {},
   "outputs": [],
   "source": [
    "# ravel 可以把np.ndarray攤平\n",
    "tn, fp, fn, tp = cm.ravel()"
   ]
  },
  {
   "cell_type": "code",
   "execution_count": null,
   "metadata": {},
   "outputs": [],
   "source": [
    "print('accuracy:', (tn + tp) / cm.sum())\n",
    "print('precision:', tp / (tp + fp))\n",
    "print('recall:', tp / (tp + fn))"
   ]
  },
  {
   "cell_type": "markdown",
   "metadata": {},
   "source": [
    "若要計算AUCROC以及AUCPR，必須要有預測機率。\n",
    "\n",
    "所以這邊利用```.predict_proba()```方法來進行預測。\n",
    "\n",
    "注意到，使用```.predict_proba()```會分別輸出分類為0的預測機率，以及分類為1的預測機率。所以必須取第二欄。"
   ]
  },
  {
   "cell_type": "code",
   "execution_count": null,
   "metadata": {},
   "outputs": [],
   "source": [
    "# Assuming logreg is your logistic regression model\n",
    "y_score = logreg.predict_proba(X_test_scaled)[:, 1]  # Probability of positive class"
   ]
  },
  {
   "cell_type": "markdown",
   "metadata": {},
   "source": [
    "計算 AUCROC 以及 AUCPR 。"
   ]
  },
  {
   "cell_type": "code",
   "execution_count": null,
   "metadata": {},
   "outputs": [],
   "source": [
    "# Calculate AUCROC\n",
    "auc_roc = roc_auc_score(y_test, y_score)  # y_score should be the predicted probabilities or decision function scores\n",
    "\n",
    "# Calculate AUCPR\n",
    "auc_pr = average_precision_score(y_test, y_score)  # y_score should be the predicted probabilities or decision function scores"
   ]
  },
  {
   "cell_type": "code",
   "execution_count": null,
   "metadata": {},
   "outputs": [],
   "source": [
    "# Print metrics\n",
    "print(\"AUCROC:\", auc_roc)\n",
    "print(\"AUCPR:\", auc_pr)"
   ]
  }
 ],
 "metadata": {
  "kernelspec": {
   "display_name": "ntu-ps-intro-ml-GyDE60mE-py3.11",
   "language": "python",
   "name": "python3"
  },
  "language_info": {
   "codemirror_mode": {
    "name": "ipython",
    "version": 3
   },
   "file_extension": ".py",
   "mimetype": "text/x-python",
   "name": "python",
   "nbconvert_exporter": "python",
   "pygments_lexer": "ipython3",
   "version": "3.11.0"
  }
 },
 "nbformat": 4,
 "nbformat_minor": 2
}
