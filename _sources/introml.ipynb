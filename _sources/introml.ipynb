{
 "cells": [
  {
   "cell_type": "markdown",
   "id": "2a30547f",
   "metadata": {},
   "source": [
    "# Introduction to machine learning\n",
    "\n",
    "以下幾份簡報介紹了：\n",
    "- [Part 1](https://www.canva.com/design/DAF-dcF-c-A/DWs8MLm-Bo5D06Su_6tXNA/view?utm_content=DAF-dcF-c-A&utm_campaign=designshare&utm_medium=link&utm_source=editor)\n",
    "    - machine learning 簡介\n",
    "    - Linear regression with gradient descent\n",
    "    - Lasso regression, Ridge regression, Elastic-Net\n",
    "- [Part 2](https://www.canva.com/design/DAF8RQ_SO-U/8S897MwxHqHAdAs0bZzHsQ/view?utm_content=DAF8RQ_SO-U&utm_campaign=designshare&utm_medium=link&utm_source=editor)\n",
    "    - hyperparameter tuning\n",
    "    - Decision tree\n",
    "    - Random forest\n",
    "    - Gradient boost tree\n",
    "- [Part 3](https://www.canva.com/design/DAF9JWxZL54/qYMGyu_nEtJmcHZFKvnriw/view?utm_content=DAF9JWxZL54&utm_campaign=designshare&utm_medium=link&utm_source=editor)\n",
    "    - machine learning project lifecycle"
   ]
  }
 ],
 "metadata": {
  "jupytext": {
   "formats": "md:myst",
   "text_representation": {
    "extension": ".md",
    "format_name": "myst",
    "format_version": 0.13,
    "jupytext_version": "1.16.0"
   }
  },
  "kernelspec": {
   "display_name": "Python 3",
   "language": "python",
   "name": "python3"
  },
  "language_info": {
   "codemirror_mode": {
    "name": "ipython",
    "version": 3
   },
   "file_extension": ".py",
   "mimetype": "text/x-python",
   "name": "python",
   "nbconvert_exporter": "python",
   "pygments_lexer": "ipython3",
   "version": "3.11.0"
  },
  "source_map": [
   13
  ]
 },
 "nbformat": 4,
 "nbformat_minor": 5
}