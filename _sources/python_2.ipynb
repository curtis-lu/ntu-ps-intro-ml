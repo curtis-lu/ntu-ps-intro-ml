{
 "cells": [
  {
   "cell_type": "markdown",
   "id": "f8886276",
   "metadata": {},
   "source": [
    "# 2.資料型態：dict與set\n",
    "\n",
    "## 群集資料型別：dict\n",
    "\n",
    "dict是dictionary的略稱，字典這種資料型態的組成是一群成對的key與value。\n",
    "\n",
    "key在字典裡不能重複，通常會使用字串或tuple來當作key。至於value則沒有什麼限制。\n",
    "\n",
    "dict跟後面等等會介紹的set一樣，都是沒有順序的，不能使用切片。\n",
    "\n",
    "**建立dict**\n",
    "\n",
    "以下兩種方法都可以建立dictionary。"
   ]
  },
  {
   "cell_type": "code",
   "execution_count": 1,
   "id": "bd26b14f",
   "metadata": {},
   "outputs": [],
   "source": [
    "# key: value\n",
    "a_dict = {'a': 1, 'b': 2, 'c':3}\n",
    "\n",
    "# key=value\n",
    "a_dict = dict(a=1, b=2, c=3)"
   ]
  },
  {
   "cell_type": "markdown",
   "id": "4213ea50",
   "metadata": {},
   "source": [
    "### dict的基本用法\n",
    "\n",
    " **dict的基本用法**\n",
    "\n",
    "利用key來取出value："
   ]
  },
  {
   "cell_type": "code",
   "execution_count": 2,
   "id": "f8519e02",
   "metadata": {},
   "outputs": [
    {
     "data": {
      "text/plain": [
       "1"
      ]
     },
     "execution_count": 2,
     "metadata": {},
     "output_type": "execute_result"
    }
   ],
   "source": [
    "a_dict['a']"
   ]
  },
  {
   "cell_type": "markdown",
   "id": "ce087a99",
   "metadata": {},
   "source": [
    "利用key來取出value的另一種方法："
   ]
  },
  {
   "cell_type": "code",
   "execution_count": 3,
   "id": "432db853",
   "metadata": {},
   "outputs": [
    {
     "data": {
      "text/plain": [
       "1"
      ]
     },
     "execution_count": 3,
     "metadata": {},
     "output_type": "execute_result"
    }
   ],
   "source": [
    "a_dict.get('a')"
   ]
  },
  {
   "cell_type": "markdown",
   "id": "062ef724",
   "metadata": {},
   "source": [
    "若key值不存在的話，用這個方法python會丟出錯誤。"
   ]
  },
  {
   "cell_type": "code",
   "execution_count": 4,
   "id": "af7298d2",
   "metadata": {},
   "outputs": [
    {
     "ename": "KeyError",
     "evalue": "'d'",
     "output_type": "error",
     "traceback": [
      "\u001b[0;31m---------------------------------------------------------------------------\u001b[0m",
      "\u001b[0;31mKeyError\u001b[0m                                  Traceback (most recent call last)",
      "Cell \u001b[0;32mIn[4], line 1\u001b[0m\n\u001b[0;32m----> 1\u001b[0m \u001b[43ma_dict\u001b[49m\u001b[43m[\u001b[49m\u001b[38;5;124;43m'\u001b[39;49m\u001b[38;5;124;43md\u001b[39;49m\u001b[38;5;124;43m'\u001b[39;49m\u001b[43m]\u001b[49m\n",
      "\u001b[0;31mKeyError\u001b[0m: 'd'"
     ]
    }
   ],
   "source": [
    "a_dict['d']"
   ]
  },
  {
   "cell_type": "markdown",
   "id": "fb0aef9d",
   "metadata": {},
   "source": [
    "若key值不存在的話，用```.get()```方法python不會丟出錯誤。"
   ]
  },
  {
   "cell_type": "code",
   "execution_count": 5,
   "id": "fba5035c",
   "metadata": {},
   "outputs": [],
   "source": [
    "a_dict.get('d') # 不會回傳任何東西"
   ]
  },
  {
   "cell_type": "markdown",
   "id": "ab088d78",
   "metadata": {},
   "source": [
    "```.get()```方法內的參數是當key值不存在時，預設的value。"
   ]
  },
  {
   "cell_type": "code",
   "execution_count": 6,
   "id": "a6213aa8",
   "metadata": {},
   "outputs": [
    {
     "data": {
      "text/plain": [
       "'missing'"
      ]
     },
     "execution_count": 6,
     "metadata": {},
     "output_type": "execute_result"
    }
   ],
   "source": [
    "a_dict.get('d', 'missing')"
   ]
  },
  {
   "cell_type": "markdown",
   "id": "4f7b3be3",
   "metadata": {},
   "source": [
    "### dict 新增與刪除項目\n",
    "\n",
    "**dict新增項目**\n",
    "\n",
    "新增項目的方法有兩種："
   ]
  },
  {
   "cell_type": "code",
   "execution_count": 7,
   "id": "67edc363",
   "metadata": {},
   "outputs": [
    {
     "name": "stdout",
     "output_type": "stream",
     "text": [
      "{'a': 1, 'b': 2, 'c': 3, 'd': 4}\n",
      "{'a': 1, 'b': 2, 'c': 3, 'd': 4, 'e': 5}\n"
     ]
    }
   ],
   "source": [
    "a_dict = {'a': 1, 'b': 2, 'c':3}\n",
    "\n",
    "# 第一種\n",
    "a_dict['d'] = 4\n",
    "print(a_dict)\n",
    "\n",
    "# 第二種\n",
    "a_dict.update({'e': 5})\n",
    "print(a_dict)"
   ]
  },
  {
   "cell_type": "markdown",
   "id": "4ef00831",
   "metadata": {},
   "source": [
    "**dict刪除項目**"
   ]
  },
  {
   "cell_type": "code",
   "execution_count": 8,
   "id": "ef5cb8df",
   "metadata": {},
   "outputs": [],
   "source": [
    "a_dict = {'a': 1, 'b': 2, 'c':3}"
   ]
  },
  {
   "cell_type": "markdown",
   "id": "4b7220b1",
   "metadata": {},
   "source": [
    "方法1"
   ]
  },
  {
   "cell_type": "code",
   "execution_count": 9,
   "id": "e2c74268",
   "metadata": {},
   "outputs": [
    {
     "data": {
      "text/plain": [
       "1"
      ]
     },
     "execution_count": 9,
     "metadata": {},
     "output_type": "execute_result"
    }
   ],
   "source": [
    "a_dict.pop('a')"
   ]
  },
  {
   "cell_type": "code",
   "execution_count": 10,
   "id": "6a26ea69",
   "metadata": {},
   "outputs": [
    {
     "name": "stdout",
     "output_type": "stream",
     "text": [
      "{'b': 2, 'c': 3}\n"
     ]
    }
   ],
   "source": [
    "print(a_dict)"
   ]
  },
  {
   "cell_type": "markdown",
   "id": "14cd6a4d",
   "metadata": {},
   "source": [
    "key值若不存在會拋錯。"
   ]
  },
  {
   "cell_type": "code",
   "execution_count": 11,
   "id": "5a6202e8",
   "metadata": {},
   "outputs": [
    {
     "ename": "KeyError",
     "evalue": "'d'",
     "output_type": "error",
     "traceback": [
      "\u001b[0;31m---------------------------------------------------------------------------\u001b[0m",
      "\u001b[0;31mKeyError\u001b[0m                                  Traceback (most recent call last)",
      "Cell \u001b[0;32mIn[11], line 1\u001b[0m\n\u001b[0;32m----> 1\u001b[0m \u001b[43ma_dict\u001b[49m\u001b[38;5;241;43m.\u001b[39;49m\u001b[43mpop\u001b[49m\u001b[43m(\u001b[49m\u001b[38;5;124;43m'\u001b[39;49m\u001b[38;5;124;43md\u001b[39;49m\u001b[38;5;124;43m'\u001b[39;49m\u001b[43m)\u001b[49m\n",
      "\u001b[0;31mKeyError\u001b[0m: 'd'"
     ]
    }
   ],
   "source": [
    "a_dict.pop('d')"
   ]
  },
  {
   "cell_type": "markdown",
   "id": "947e4622",
   "metadata": {},
   "source": [
    "```.pop()```方法中可以塞預設值。"
   ]
  },
  {
   "cell_type": "code",
   "execution_count": 12,
   "id": "98148c28",
   "metadata": {},
   "outputs": [
    {
     "data": {
      "text/plain": [
       "'Nothing happened'"
      ]
     },
     "execution_count": 12,
     "metadata": {},
     "output_type": "execute_result"
    }
   ],
   "source": [
    "a_dict.pop('d', 'Nothing happened')"
   ]
  },
  {
   "cell_type": "code",
   "execution_count": 13,
   "id": "00351c55",
   "metadata": {},
   "outputs": [
    {
     "name": "stdout",
     "output_type": "stream",
     "text": [
      "{'b': 2, 'c': 3}\n"
     ]
    }
   ],
   "source": [
    "print(a_dict)"
   ]
  },
  {
   "cell_type": "markdown",
   "id": "867518a7",
   "metadata": {},
   "source": [
    "方法2"
   ]
  },
  {
   "cell_type": "code",
   "execution_count": 14,
   "id": "c0b7fdb9",
   "metadata": {},
   "outputs": [
    {
     "name": "stdout",
     "output_type": "stream",
     "text": [
      "{'c': 3}\n"
     ]
    }
   ],
   "source": [
    "del a_dict['b']\n",
    "\n",
    "print(a_dict)"
   ]
  },
  {
   "cell_type": "markdown",
   "id": "365b4e77",
   "metadata": {},
   "source": [
    "**dict中的key值不能重複**\n",
    "\n",
    "當要新增項目時，dict中對應的key值若已經存在，會以新的為準。"
   ]
  },
  {
   "cell_type": "code",
   "execution_count": 15,
   "id": "97e9fd2e",
   "metadata": {},
   "outputs": [
    {
     "name": "stdout",
     "output_type": "stream",
     "text": [
      "{'a': 1, 'b': 'ni', 'c': 'san', 'd': 'shi'}\n"
     ]
    }
   ],
   "source": [
    "a_dict = {'a': 1, 'b': 2, 'c':3}\n",
    "b_dict = {'b': 'ni', 'c': 'san', 'd': 'shi'}\n",
    "\n",
    "a_dict.update(b_dict)\n",
    "print(a_dict)"
   ]
  },
  {
   "cell_type": "markdown",
   "id": "19f29018",
   "metadata": {},
   "source": [
    "### dict 操作\n",
    "\n",
    "**取得dict的內容**"
   ]
  },
  {
   "cell_type": "code",
   "execution_count": 16,
   "id": "d25b6fb7",
   "metadata": {},
   "outputs": [],
   "source": [
    "a_dict = {'a': 1, 'b': 2, 'c':3}"
   ]
  },
  {
   "cell_type": "code",
   "execution_count": 17,
   "id": "050d1d5d",
   "metadata": {},
   "outputs": [
    {
     "data": {
      "text/plain": [
       "['a', 'b', 'c']"
      ]
     },
     "execution_count": 17,
     "metadata": {},
     "output_type": "execute_result"
    }
   ],
   "source": [
    "# 取得key的list\n",
    "list(a_dict.keys())"
   ]
  },
  {
   "cell_type": "code",
   "execution_count": 18,
   "id": "79e3b851",
   "metadata": {},
   "outputs": [
    {
     "data": {
      "text/plain": [
       "[1, 2, 3]"
      ]
     },
     "execution_count": 18,
     "metadata": {},
     "output_type": "execute_result"
    }
   ],
   "source": [
    "# 取得value的list\n",
    "list(a_dict.values())"
   ]
  },
  {
   "cell_type": "code",
   "execution_count": 19,
   "id": "90c0f677",
   "metadata": {},
   "outputs": [
    {
     "data": {
      "text/plain": [
       "[('a', 1), ('b', 2), ('c', 3)]"
      ]
     },
     "execution_count": 19,
     "metadata": {},
     "output_type": "execute_result"
    }
   ],
   "source": [
    "# 取得key跟value的list，注意到其中是一個一個tuple\n",
    "list(a_dict.items())"
   ]
  },
  {
   "cell_type": "markdown",
   "id": "aaf1cf4a",
   "metadata": {},
   "source": [
    "**取得dict長度**"
   ]
  },
  {
   "cell_type": "code",
   "execution_count": 20,
   "id": "c59f126e",
   "metadata": {},
   "outputs": [
    {
     "data": {
      "text/plain": [
       "3"
      ]
     },
     "execution_count": 20,
     "metadata": {},
     "output_type": "execute_result"
    }
   ],
   "source": [
    "a_dict = {'a': 1, 'b': 2, 'c':3}\n",
    "\n",
    "# 長度指的是key的數量\n",
    "len(a_dict)"
   ]
  },
  {
   "cell_type": "markdown",
   "id": "f1d696be",
   "metadata": {},
   "source": [
    "**檢查key是否存在**"
   ]
  },
  {
   "cell_type": "code",
   "execution_count": 21,
   "id": "d3e3aa2b",
   "metadata": {},
   "outputs": [
    {
     "data": {
      "text/plain": [
       "True"
      ]
     },
     "execution_count": 21,
     "metadata": {},
     "output_type": "execute_result"
    }
   ],
   "source": [
    "a_dict = {'a': 1, 'b': 2, 'c':3}\n",
    "\n",
    "'c' in a_dict"
   ]
  },
  {
   "cell_type": "markdown",
   "id": "2298f316",
   "metadata": {},
   "source": [
    "**用{\\*\\*a, \\*\\*b}結合dict**"
   ]
  },
  {
   "cell_type": "code",
   "execution_count": 22,
   "id": "47962f35",
   "metadata": {},
   "outputs": [
    {
     "name": "stdout",
     "output_type": "stream",
     "text": [
      "{'a': 'apple', 'b': 'beach', 'c': 'cat', 'd': 'dog', 'e': 'egg', 'f': 'flower'}\n"
     ]
    }
   ],
   "source": [
    "dict_1 = {'a': 'apple', 'b': 'beach', 'c': 'cat'}\n",
    "dict_2 = {'d': 'dog', 'e': 'egg', 'f': 'flower'}\n",
    "\n",
    "dict_all = {**dict_1, **dict_2}\n",
    "print(dict_all)"
   ]
  },
  {
   "cell_type": "markdown",
   "id": "1a2525e1",
   "metadata": {},
   "source": [
    "## 群集資料型別：set\n",
    "\n",
    "set是具有不重複元素的一種資料型別。\n",
    "\n",
    "操作跟數學上的集合很像。\n",
    "\n",
    "set沒有順序的概念，因此不支援切片。\n",
    "\n",
    "**建立set**"
   ]
  },
  {
   "cell_type": "code",
   "execution_count": 23,
   "id": "ee408cbf",
   "metadata": {},
   "outputs": [],
   "source": [
    "a = {1,2,3}\n",
    "a = set([1,2,3])"
   ]
  },
  {
   "cell_type": "markdown",
   "id": "e3234819",
   "metadata": {},
   "source": [
    "### set元素操作\n",
    "\n",
    "**加入元素至set**"
   ]
  },
  {
   "cell_type": "code",
   "execution_count": 24,
   "id": "587a5cf2",
   "metadata": {},
   "outputs": [
    {
     "name": "stdout",
     "output_type": "stream",
     "text": [
      "{1, 2, 3, 4}\n"
     ]
    }
   ],
   "source": [
    "a = {1,2,3}\n",
    "a.add(4)\n",
    "print(a)"
   ]
  },
  {
   "cell_type": "markdown",
   "id": "10e6a4df",
   "metadata": {},
   "source": [
    ".add()已經存在的元素不會改變set。"
   ]
  },
  {
   "cell_type": "code",
   "execution_count": 25,
   "id": "4b3fc215",
   "metadata": {},
   "outputs": [
    {
     "name": "stdout",
     "output_type": "stream",
     "text": [
      "{1, 2, 3, 4}\n"
     ]
    }
   ],
   "source": [
    "a.add(1)\n",
    "print(a)"
   ]
  },
  {
   "cell_type": "markdown",
   "id": "6acfc28f",
   "metadata": {},
   "source": [
    "**刪除set中的元素**"
   ]
  },
  {
   "cell_type": "code",
   "execution_count": 26,
   "id": "4b51c3db",
   "metadata": {},
   "outputs": [
    {
     "name": "stdout",
     "output_type": "stream",
     "text": [
      "{2, 3}\n"
     ]
    }
   ],
   "source": [
    "a = {1,2,3}\n",
    "a.remove(1)\n",
    "\n",
    "print(a)"
   ]
  },
  {
   "cell_type": "markdown",
   "id": "d22dceff",
   "metadata": {},
   "source": [
    "### set 操作\n",
    "\n",
    "**取得set的長度**"
   ]
  },
  {
   "cell_type": "code",
   "execution_count": 27,
   "id": "e3447a53",
   "metadata": {},
   "outputs": [
    {
     "data": {
      "text/plain": [
       "3"
      ]
     },
     "execution_count": 27,
     "metadata": {},
     "output_type": "execute_result"
    }
   ],
   "source": [
    "a = {1,2,3}\n",
    "\n",
    "len(a)"
   ]
  },
  {
   "cell_type": "markdown",
   "id": "22611c1c",
   "metadata": {},
   "source": [
    "**set的運算**"
   ]
  },
  {
   "cell_type": "code",
   "execution_count": 28,
   "id": "abb84bcc",
   "metadata": {},
   "outputs": [],
   "source": [
    "a = {1,2,3}\n",
    "b = {3,4,5}\n",
    "c = {1,2,3,4,5}"
   ]
  },
  {
   "cell_type": "markdown",
   "id": "cf29fb32",
   "metadata": {},
   "source": [
    "交集"
   ]
  },
  {
   "cell_type": "code",
   "execution_count": 29,
   "id": "b40f289a",
   "metadata": {},
   "outputs": [
    {
     "data": {
      "text/plain": [
       "{3}"
      ]
     },
     "execution_count": 29,
     "metadata": {},
     "output_type": "execute_result"
    }
   ],
   "source": [
    "a & b"
   ]
  },
  {
   "cell_type": "code",
   "execution_count": 30,
   "id": "5d7f6403",
   "metadata": {},
   "outputs": [
    {
     "data": {
      "text/plain": [
       "{3}"
      ]
     },
     "execution_count": 30,
     "metadata": {},
     "output_type": "execute_result"
    }
   ],
   "source": [
    "a.intersection(b)"
   ]
  },
  {
   "cell_type": "markdown",
   "id": "e250f002",
   "metadata": {},
   "source": [
    "聯集"
   ]
  },
  {
   "cell_type": "code",
   "execution_count": 31,
   "id": "29e36ad9",
   "metadata": {},
   "outputs": [
    {
     "data": {
      "text/plain": [
       "{1, 2, 3, 4, 5}"
      ]
     },
     "execution_count": 31,
     "metadata": {},
     "output_type": "execute_result"
    }
   ],
   "source": [
    "a | b"
   ]
  },
  {
   "cell_type": "code",
   "execution_count": 32,
   "id": "58724eea",
   "metadata": {},
   "outputs": [
    {
     "data": {
      "text/plain": [
       "{1, 2, 3, 4, 5}"
      ]
     },
     "execution_count": 32,
     "metadata": {},
     "output_type": "execute_result"
    }
   ],
   "source": [
    "a.union(b)"
   ]
  },
  {
   "cell_type": "markdown",
   "id": "feb39840",
   "metadata": {},
   "source": [
    "差集\n",
    "\n",
    "取差集的順序會有影響。"
   ]
  },
  {
   "cell_type": "code",
   "execution_count": 33,
   "id": "7d445a58",
   "metadata": {},
   "outputs": [
    {
     "data": {
      "text/plain": [
       "{1, 2}"
      ]
     },
     "execution_count": 33,
     "metadata": {},
     "output_type": "execute_result"
    }
   ],
   "source": [
    "a - b"
   ]
  },
  {
   "cell_type": "code",
   "execution_count": 34,
   "id": "d10d372d",
   "metadata": {},
   "outputs": [
    {
     "data": {
      "text/plain": [
       "{1, 2}"
      ]
     },
     "execution_count": 34,
     "metadata": {},
     "output_type": "execute_result"
    }
   ],
   "source": [
    "a.difference(b)"
   ]
  },
  {
   "cell_type": "code",
   "execution_count": 35,
   "id": "c99e716c",
   "metadata": {},
   "outputs": [
    {
     "data": {
      "text/plain": [
       "{4, 5}"
      ]
     },
     "execution_count": 35,
     "metadata": {},
     "output_type": "execute_result"
    }
   ],
   "source": [
    "b - a"
   ]
  },
  {
   "cell_type": "code",
   "execution_count": 36,
   "id": "ed014de9",
   "metadata": {},
   "outputs": [
    {
     "data": {
      "text/plain": [
       "{4, 5}"
      ]
     },
     "execution_count": 36,
     "metadata": {},
     "output_type": "execute_result"
    }
   ],
   "source": [
    "b.difference(a)"
   ]
  },
  {
   "cell_type": "markdown",
   "id": "4e9d541f",
   "metadata": {},
   "source": [
    "取互斥的元素"
   ]
  },
  {
   "cell_type": "code",
   "execution_count": 37,
   "id": "24dc1cdd",
   "metadata": {},
   "outputs": [
    {
     "data": {
      "text/plain": [
       "{1, 2, 4, 5}"
      ]
     },
     "execution_count": 37,
     "metadata": {},
     "output_type": "execute_result"
    }
   ],
   "source": [
    "a ^ b"
   ]
  },
  {
   "cell_type": "code",
   "execution_count": 38,
   "id": "0cddd819",
   "metadata": {},
   "outputs": [
    {
     "data": {
      "text/plain": [
       "{1, 2, 4, 5}"
      ]
     },
     "execution_count": 38,
     "metadata": {},
     "output_type": "execute_result"
    }
   ],
   "source": [
    "a.symmetric_difference(b)"
   ]
  },
  {
   "cell_type": "markdown",
   "id": "63f61cbc",
   "metadata": {},
   "source": [
    "判斷是否為子集合"
   ]
  },
  {
   "cell_type": "code",
   "execution_count": 39,
   "id": "bfd328b6",
   "metadata": {},
   "outputs": [
    {
     "data": {
      "text/plain": [
       "False"
      ]
     },
     "execution_count": 39,
     "metadata": {},
     "output_type": "execute_result"
    }
   ],
   "source": [
    "a <= b"
   ]
  },
  {
   "cell_type": "code",
   "execution_count": 40,
   "id": "6c206843",
   "metadata": {},
   "outputs": [
    {
     "data": {
      "text/plain": [
       "False"
      ]
     },
     "execution_count": 40,
     "metadata": {},
     "output_type": "execute_result"
    }
   ],
   "source": [
    "a.issubset(b)"
   ]
  },
  {
   "cell_type": "markdown",
   "id": "bfd59c8d",
   "metadata": {},
   "source": [
    "判斷是否為真子集"
   ]
  },
  {
   "cell_type": "code",
   "execution_count": 41,
   "id": "8c13f40d",
   "metadata": {},
   "outputs": [
    {
     "data": {
      "text/plain": [
       "False"
      ]
     },
     "execution_count": 41,
     "metadata": {},
     "output_type": "execute_result"
    }
   ],
   "source": [
    "a < b"
   ]
  },
  {
   "cell_type": "markdown",
   "id": "a47309e6",
   "metadata": {},
   "source": [
    "判斷是否為超集合"
   ]
  },
  {
   "cell_type": "code",
   "execution_count": 42,
   "id": "09b908e7",
   "metadata": {},
   "outputs": [
    {
     "data": {
      "text/plain": [
       "False"
      ]
     },
     "execution_count": 42,
     "metadata": {},
     "output_type": "execute_result"
    }
   ],
   "source": [
    "a >= b"
   ]
  },
  {
   "cell_type": "code",
   "execution_count": 43,
   "id": "e5f41382",
   "metadata": {},
   "outputs": [
    {
     "data": {
      "text/plain": [
       "False"
      ]
     },
     "execution_count": 43,
     "metadata": {},
     "output_type": "execute_result"
    }
   ],
   "source": [
    "a.issuperset(b)"
   ]
  },
  {
   "cell_type": "markdown",
   "id": "7d05575c",
   "metadata": {},
   "source": [
    "判斷是否為真超集"
   ]
  },
  {
   "cell_type": "code",
   "execution_count": 44,
   "id": "07201128",
   "metadata": {},
   "outputs": [
    {
     "data": {
      "text/plain": [
       "False"
      ]
     },
     "execution_count": 44,
     "metadata": {},
     "output_type": "execute_result"
    }
   ],
   "source": [
    "a > b"
   ]
  }
 ],
 "metadata": {
  "jupytext": {
   "formats": "md:myst",
   "text_representation": {
    "extension": ".md",
    "format_name": "myst",
    "format_version": 0.13,
    "jupytext_version": "1.16.0"
   }
  },
  "kernelspec": {
   "display_name": "Python 3",
   "language": "python",
   "name": "python3"
  },
  "language_info": {
   "codemirror_mode": {
    "name": "ipython",
    "version": 3
   },
   "file_extension": ".py",
   "mimetype": "text/x-python",
   "name": "python",
   "nbconvert_exporter": "python",
   "pygments_lexer": "ipython3",
   "version": "3.11.0"
  },
  "source_map": [
   13,
   29,
   35,
   42,
   44,
   47,
   49,
   51,
   53,
   56,
   58,
   61,
   63,
   70,
   80,
   84,
   86,
   90,
   94,
   96,
   99,
   101,
   104,
   108,
   110,
   114,
   118,
   124,
   130,
   136,
   140,
   145,
   150,
   153,
   157,
   162,
   166,
   170,
   174,
   180,
   192,
   195,
   201,
   205,
   208,
   211,
   215,
   220,
   226,
   230,
   234,
   238,
   242,
   246,
   248,
   252,
   256,
   258,
   264,
   268,
   272,
   276,
   278,
   282,
   286,
   288,
   292,
   296,
   298,
   302,
   304,
   308,
   312,
   314,
   318
  ]
 },
 "nbformat": 4,
 "nbformat_minor": 5
}